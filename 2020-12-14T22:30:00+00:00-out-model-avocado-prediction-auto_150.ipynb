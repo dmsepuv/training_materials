{
 "cells": [
  {
   "cell_type": "code",
   "execution_count": 1,
   "metadata": {
    "_cell_guid": "79c7e3d0-c299-4dcb-8224-4455121ee9b0",
    "_uuid": "d629ff2d2480ee46fbb7e2d37f6b5fab8052498a",
    "execution": {
     "iopub.execute_input": "2020-12-14T22:40:51.834741Z",
     "iopub.status.busy": "2020-12-14T22:40:51.834135Z",
     "iopub.status.idle": "2020-12-14T22:40:52.423001Z",
     "shell.execute_reply": "2020-12-14T22:40:52.423318Z"
    },
    "jupyter": {
     "source_hidden": true
    },
    "papermill": {
     "duration": 0.607344,
     "end_time": "2020-12-14T22:40:52.423536",
     "exception": false,
     "start_time": "2020-12-14T22:40:51.816192",
     "status": "completed"
    },
    "tags": []
   },
   "outputs": [],
   "source": [
    "import pandas as pd\n",
    "import numpy as np\n",
    "from sqlalchemy import create_engine\n",
    "from datetime import date\n",
    "from sklearn.metrics import mean_squared_error"
   ]
  },
  {
   "cell_type": "code",
   "execution_count": 2,
   "metadata": {
    "execution": {
     "iopub.execute_input": "2020-12-14T22:40:52.441433Z",
     "iopub.status.busy": "2020-12-14T22:40:52.441039Z",
     "iopub.status.idle": "2020-12-14T22:40:52.494324Z",
     "shell.execute_reply": "2020-12-14T22:40:52.494754Z"
    },
    "jupyter": {
     "source_hidden": true
    },
    "papermill": {
     "duration": 0.063251,
     "end_time": "2020-12-14T22:40:52.494915",
     "exception": false,
     "start_time": "2020-12-14T22:40:52.431664",
     "status": "completed"
    },
    "tags": []
   },
   "outputs": [],
   "source": [
    "# THIS IS PURELY FOR TEST PURPOSE NEVER DO THAT IN PRODUCTION\n",
    "POSTGRES_ADDRESS='postgres'\n",
    "POSTGRES_PORT='5432'\n",
    "POSTGRES_USERNAME='postgres'\n",
    "POSTGRES_PASSWORD='postgres'\n",
    "\n",
    "postgres_conn = 'postgresql://{0}:{1}@{2}:{3}/'.format(POSTGRES_USERNAME, POSTGRES_PASSWORD, POSTGRES_ADDRESS, POSTGRES_PORT)\n",
    "\n",
    "# Create the connection\n",
    "cnx = create_engine(postgres_conn)\n"
   ]
  },
  {
   "cell_type": "markdown",
   "metadata": {
    "_uuid": "1998755ef10683262b29765345cff1c1c7d10b15",
    "papermill": {
     "duration": 0.00959,
     "end_time": "2020-12-14T22:40:52.515065",
     "exception": false,
     "start_time": "2020-12-14T22:40:52.505475",
     "status": "completed"
    },
    "tags": []
   },
   "source": [
    "Read in the Avocado Prices csv file as a DataFrame called df"
   ]
  },
  {
   "cell_type": "code",
   "execution_count": 3,
   "metadata": {
    "execution": {
     "iopub.execute_input": "2020-12-14T22:40:52.534130Z",
     "iopub.status.busy": "2020-12-14T22:40:52.533626Z",
     "iopub.status.idle": "2020-12-14T22:40:52.537149Z",
     "shell.execute_reply": "2020-12-14T22:40:52.537493Z"
    },
    "jupyter": {
     "source_hidden": true
    },
    "papermill": {
     "duration": 0.014224,
     "end_time": "2020-12-14T22:40:52.537625",
     "exception": false,
     "start_time": "2020-12-14T22:40:52.523401",
     "status": "completed"
    },
    "tags": [
     "parameters"
    ]
   },
   "outputs": [],
   "source": [
    "# Parameterized\n",
    "\n",
    "filepath='avocado.csv'\n",
    "ml_id='auto_100'\n",
    "ml_date=date.today()\n",
    "n_estimators = 100\n",
    "max_features = 'auto'"
   ]
  },
  {
   "cell_type": "code",
   "execution_count": 4,
   "metadata": {
    "execution": {
     "iopub.execute_input": "2020-12-14T22:40:52.556599Z",
     "iopub.status.busy": "2020-12-14T22:40:52.556220Z",
     "iopub.status.idle": "2020-12-14T22:40:52.559785Z",
     "shell.execute_reply": "2020-12-14T22:40:52.560220Z"
    },
    "jupyter": {
     "source_hidden": true
    },
    "papermill": {
     "duration": 0.014249,
     "end_time": "2020-12-14T22:40:52.560353",
     "exception": false,
     "start_time": "2020-12-14T22:40:52.546104",
     "status": "completed"
    },
    "tags": [
     "injected-parameters"
    ]
   },
   "outputs": [],
   "source": [
    "# Parameters\n",
    "filepath = \"/tmp/avocado.csv\"\n",
    "n_estimators = 150\n",
    "max_features = \"auto\"\n",
    "ml_id = \"auto_150\"\n"
   ]
  },
  {
   "cell_type": "code",
   "execution_count": 5,
   "metadata": {
    "_uuid": "55d0e719eb8b91d763c1eacaf0f51ee0586486fc",
    "execution": {
     "iopub.execute_input": "2020-12-14T22:40:52.579425Z",
     "iopub.status.busy": "2020-12-14T22:40:52.579042Z",
     "iopub.status.idle": "2020-12-14T22:40:52.603902Z",
     "shell.execute_reply": "2020-12-14T22:40:52.604304Z"
    },
    "jupyter": {
     "source_hidden": true
    },
    "papermill": {
     "duration": 0.035388,
     "end_time": "2020-12-14T22:40:52.604430",
     "exception": false,
     "start_time": "2020-12-14T22:40:52.569042",
     "status": "completed"
    },
    "tags": []
   },
   "outputs": [],
   "source": [
    "df= pd.read_csv(filepath)"
   ]
  },
  {
   "cell_type": "markdown",
   "metadata": {
    "_uuid": "434e0457f550e2200424e5ec26162e1aa5904005",
    "papermill": {
     "duration": 0.008268,
     "end_time": "2020-12-14T22:40:52.620799",
     "exception": false,
     "start_time": "2020-12-14T22:40:52.612531",
     "status": "completed"
    },
    "tags": []
   },
   "source": [
    "The Feature \"Unnamed:0\" is just a representation of the indexes, so it's useless to keep it, lets remove it !"
   ]
  },
  {
   "cell_type": "code",
   "execution_count": 6,
   "metadata": {
    "_uuid": "9875398e37728dc3141fed4228be337a4735beb6",
    "execution": {
     "iopub.execute_input": "2020-12-14T22:40:52.639247Z",
     "iopub.status.busy": "2020-12-14T22:40:52.638858Z",
     "iopub.status.idle": "2020-12-14T22:40:52.643997Z",
     "shell.execute_reply": "2020-12-14T22:40:52.644306Z"
    },
    "jupyter": {
     "source_hidden": true
    },
    "papermill": {
     "duration": 0.015687,
     "end_time": "2020-12-14T22:40:52.644430",
     "exception": false,
     "start_time": "2020-12-14T22:40:52.628743",
     "status": "completed"
    },
    "tags": []
   },
   "outputs": [],
   "source": [
    "df.drop('Unnamed: 0',axis=1,inplace=True)"
   ]
  },
  {
   "cell_type": "markdown",
   "metadata": {
    "_uuid": "12e94ad381e4cb8d2c8a9bbe08ce07ab5d49c040",
    "papermill": {
     "duration": 0.008505,
     "end_time": "2020-12-14T22:40:52.661495",
     "exception": false,
     "start_time": "2020-12-14T22:40:52.652990",
     "status": "completed"
    },
    "tags": []
   },
   "source": [
    "well as a first observation we can see that we are lucky, we dont have any missing values (18249 complete data) and 13 columns.\n",
    "Now let's do some Feature Engineering on the Date Feature so we can be able to use the day and the month columns in building our machine learning model later. ( I didn't mention the year because its already there in data frame)"
   ]
  },
  {
   "cell_type": "code",
   "execution_count": 7,
   "metadata": {
    "_uuid": "f031639ce794656e877484d1c9c356df7028177f",
    "execution": {
     "iopub.execute_input": "2020-12-14T22:40:52.680228Z",
     "iopub.status.busy": "2020-12-14T22:40:52.679844Z",
     "iopub.status.idle": "2020-12-14T22:40:52.786430Z",
     "shell.execute_reply": "2020-12-14T22:40:52.786736Z"
    },
    "jupyter": {
     "source_hidden": true
    },
    "papermill": {
     "duration": 0.117088,
     "end_time": "2020-12-14T22:40:52.786860",
     "exception": false,
     "start_time": "2020-12-14T22:40:52.669772",
     "status": "completed"
    },
    "tags": []
   },
   "outputs": [],
   "source": [
    "df['Date']=pd.to_datetime(df['Date'])\n",
    "df['Month']=df['Date'].apply(lambda x:x.month)\n",
    "df['Day']=df['Date'].apply(lambda x:x.day)"
   ]
  },
  {
   "cell_type": "markdown",
   "metadata": {
    "_uuid": "ebdcac9924ce3e366fd3a75170682f7113385b7a",
    "papermill": {
     "duration": 0.008375,
     "end_time": "2020-12-14T22:40:52.803961",
     "exception": false,
     "start_time": "2020-12-14T22:40:52.795586",
     "status": "completed"
    },
    "tags": []
   },
   "source": [
    "as we can see we have 54 regions and 2 unique types, so it's going to be easy to to transform the type feature to dummies, but for the region its going to be a bit complexe so I decided to drop the entire column.\n",
    "I will drop the Date Feature as well because I already have 3 other columns for the Year, Month and Day."
   ]
  },
  {
   "cell_type": "code",
   "execution_count": 8,
   "metadata": {
    "_uuid": "a798682da34327b731ef262985fd50ba68e06460",
    "execution": {
     "iopub.execute_input": "2020-12-14T22:40:52.822666Z",
     "iopub.status.busy": "2020-12-14T22:40:52.822294Z",
     "iopub.status.idle": "2020-12-14T22:40:52.831700Z",
     "shell.execute_reply": "2020-12-14T22:40:52.832125Z"
    },
    "jupyter": {
     "source_hidden": true
    },
    "papermill": {
     "duration": 0.020031,
     "end_time": "2020-12-14T22:40:52.832249",
     "exception": false,
     "start_time": "2020-12-14T22:40:52.812218",
     "status": "completed"
    },
    "tags": []
   },
   "outputs": [],
   "source": [
    "df_final=pd.get_dummies(df.drop(['region','Date'],axis=1),drop_first=True)"
   ]
  },
  {
   "cell_type": "markdown",
   "metadata": {
    "_uuid": "8b74a6b88cb3e9b3e1d1e987e061048f203c7364",
    "papermill": {
     "duration": 0.008805,
     "end_time": "2020-12-14T22:40:52.850825",
     "exception": false,
     "start_time": "2020-12-14T22:40:52.842020",
     "status": "completed"
    },
    "tags": []
   },
   "source": [
    "Now our data are ready! lets apply our model which is going to be the Linear Regression because our Target variable 'AveragePrice'is continuous.\n",
    "Let's now begin to train out regression model! We will need to first split up our data into an X array that contains the features to train on, and a y array with the target variable"
   ]
  },
  {
   "cell_type": "code",
   "execution_count": 9,
   "metadata": {
    "_uuid": "830591f99de9715241e688bf9ce265e979401ff5",
    "execution": {
     "iopub.execute_input": "2020-12-14T22:40:52.869148Z",
     "iopub.status.busy": "2020-12-14T22:40:52.868645Z",
     "iopub.status.idle": "2020-12-14T22:40:52.878471Z",
     "shell.execute_reply": "2020-12-14T22:40:52.878771Z"
    },
    "jupyter": {
     "source_hidden": true
    },
    "papermill": {
     "duration": 0.020209,
     "end_time": "2020-12-14T22:40:52.878885",
     "exception": false,
     "start_time": "2020-12-14T22:40:52.858676",
     "status": "completed"
    },
    "tags": []
   },
   "outputs": [],
   "source": [
    "X=df_final.iloc[:,1:14]\n",
    "y=df_final['AveragePrice']\n",
    "from sklearn.model_selection import train_test_split\n",
    "X_train,X_test,y_train,y_test=train_test_split(X,y,test_size=0.2,random_state=42)"
   ]
  },
  {
   "cell_type": "markdown",
   "metadata": {
    "_uuid": "ea730c77a31cde9de98263079a189accb8b5772b",
    "papermill": {
     "duration": 0.008488,
     "end_time": "2020-12-14T22:40:52.896087",
     "exception": false,
     "start_time": "2020-12-14T22:40:52.887599",
     "status": "completed"
    },
    "tags": []
   },
   "source": [
    "Creating and Training the Model"
   ]
  },
  {
   "cell_type": "code",
   "execution_count": 10,
   "metadata": {
    "_uuid": "eb37015e78974e5fd2ae7e13d065c8ab0a9c6948",
    "execution": {
     "iopub.execute_input": "2020-12-14T22:40:52.915241Z",
     "iopub.status.busy": "2020-12-14T22:40:52.914860Z",
     "iopub.status.idle": "2020-12-14T22:41:04.902112Z",
     "shell.execute_reply": "2020-12-14T22:41:04.901690Z"
    },
    "jupyter": {
     "source_hidden": true
    },
    "papermill": {
     "duration": 11.997745,
     "end_time": "2020-12-14T22:41:04.902225",
     "exception": false,
     "start_time": "2020-12-14T22:40:52.904480",
     "status": "completed"
    },
    "tags": []
   },
   "outputs": [],
   "source": [
    "from sklearn.ensemble import RandomForestRegressor\n",
    "rdr = RandomForestRegressor(\n",
    "    n_estimators=n_estimators,\n",
    "    max_features=max_features\n",
    ")\n",
    "rdr.fit(X_train,y_train)\n",
    "pred=rdr.predict(X_test)"
   ]
  },
  {
   "cell_type": "code",
   "execution_count": 11,
   "metadata": {
    "_uuid": "7ed5b8d4e8abb44a4b548c13ac9fb2d65227d1c5",
    "execution": {
     "iopub.execute_input": "2020-12-14T22:41:04.923787Z",
     "iopub.status.busy": "2020-12-14T22:41:04.923361Z",
     "iopub.status.idle": "2020-12-14T22:41:04.926319Z",
     "shell.execute_reply": "2020-12-14T22:41:04.925875Z"
    },
    "jupyter": {
     "source_hidden": true
    },
    "papermill": {
     "duration": 0.014716,
     "end_time": "2020-12-14T22:41:04.926417",
     "exception": false,
     "start_time": "2020-12-14T22:41:04.911701",
     "status": "completed"
    },
    "tags": []
   },
   "outputs": [],
   "source": [
    "#%%capture cap --no-stderr\n",
    "#print(np.sqrt(mean_squared_error(y_test, pred)))"
   ]
  },
  {
   "cell_type": "code",
   "execution_count": 12,
   "metadata": {
    "execution": {
     "iopub.execute_input": "2020-12-14T22:41:04.946529Z",
     "iopub.status.busy": "2020-12-14T22:41:04.946156Z",
     "iopub.status.idle": "2020-12-14T22:41:04.948977Z",
     "shell.execute_reply": "2020-12-14T22:41:04.948545Z"
    },
    "jupyter": {
     "source_hidden": true
    },
    "papermill": {
     "duration": 0.013941,
     "end_time": "2020-12-14T22:41:04.949060",
     "exception": false,
     "start_time": "2020-12-14T22:41:04.935119",
     "status": "completed"
    },
    "tags": []
   },
   "outputs": [],
   "source": [
    "#with open(output_rmse, 'w') as f:\n",
    "#    f.write(cap.stdout)"
   ]
  },
  {
   "cell_type": "code",
   "execution_count": 13,
   "metadata": {
    "execution": {
     "iopub.execute_input": "2020-12-14T22:41:04.970742Z",
     "iopub.status.busy": "2020-12-14T22:41:04.969859Z",
     "iopub.status.idle": "2020-12-14T22:41:04.986751Z",
     "shell.execute_reply": "2020-12-14T22:41:04.986406Z"
    },
    "jupyter": {
     "source_hidden": true
    },
    "papermill": {
     "duration": 0.029442,
     "end_time": "2020-12-14T22:41:04.986844",
     "exception": false,
     "start_time": "2020-12-14T22:41:04.957402",
     "status": "completed"
    },
    "tags": []
   },
   "outputs": [
    {
     "data": {
      "text/plain": [
       "<sqlalchemy.engine.result.ResultProxy at 0x7f4a1ffa09d0>"
      ]
     },
     "execution_count": 13,
     "metadata": {},
     "output_type": "execute_result"
    }
   ],
   "source": [
    "cnx.execute(\"\"\"\n",
    "    INSERT INTO ml.accuracies (ml_id, ml_date, accuracy) VALUES ('{0}', '{1}', {2}) \n",
    "    ON CONFLICT (ml_id, ml_date) \n",
    "    DO\n",
    "        UPDATE SET accuracy = {2};\n",
    "    \"\"\".format(ml_id, ml_date, np.sqrt(mean_squared_error(y_test, pred))))"
   ]
  }
 ],
 "metadata": {
  "kernelspec": {
   "display_name": "Python 3",
   "language": "python",
   "name": "python3"
  },
  "language_info": {
   "codemirror_mode": {
    "name": "ipython",
    "version": 3
   },
   "file_extension": ".py",
   "mimetype": "text/x-python",
   "name": "python",
   "nbconvert_exporter": "python",
   "pygments_lexer": "ipython3",
   "version": "3.7.9"
  },
  "papermill": {
   "duration": 14.590187,
   "end_time": "2020-12-14T22:41:05.404874",
   "environment_variables": {},
   "exception": null,
   "input_path": "/usr/local/airflow/include/notebooks/avocado_prediction.ipynb",
   "output_path": "/tmp/out-model-avocado-prediction-auto_150.ipynb",
   "parameters": {
    "filepath": "/tmp/avocado.csv",
    "max_features": "auto",
    "ml_id": "auto_150",
    "n_estimators": 150
   },
   "start_time": "2020-12-14T22:40:50.814687",
   "version": "2.1.2"
  }
 },
 "nbformat": 4,
 "nbformat_minor": 4
}