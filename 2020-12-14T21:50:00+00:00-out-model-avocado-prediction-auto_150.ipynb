{
 "cells": [
  {
   "cell_type": "code",
   "execution_count": 1,
   "metadata": {
    "_cell_guid": "79c7e3d0-c299-4dcb-8224-4455121ee9b0",
    "_uuid": "d629ff2d2480ee46fbb7e2d37f6b5fab8052498a",
    "execution": {
     "iopub.execute_input": "2020-12-14T22:00:54.249475Z",
     "iopub.status.busy": "2020-12-14T22:00:54.248857Z",
     "iopub.status.idle": "2020-12-14T22:00:54.826799Z",
     "shell.execute_reply": "2020-12-14T22:00:54.826363Z"
    },
    "jupyter": {
     "source_hidden": true
    },
    "papermill": {
     "duration": 0.595035,
     "end_time": "2020-12-14T22:00:54.826940",
     "exception": false,
     "start_time": "2020-12-14T22:00:54.231905",
     "status": "completed"
    },
    "tags": []
   },
   "outputs": [],
   "source": [
    "import pandas as pd\n",
    "import numpy as np\n",
    "from sqlalchemy import create_engine\n",
    "from datetime import date\n",
    "from sklearn.metrics import mean_squared_error"
   ]
  },
  {
   "cell_type": "code",
   "execution_count": 2,
   "metadata": {
    "execution": {
     "iopub.execute_input": "2020-12-14T22:00:54.848551Z",
     "iopub.status.busy": "2020-12-14T22:00:54.847889Z",
     "iopub.status.idle": "2020-12-14T22:00:54.908236Z",
     "shell.execute_reply": "2020-12-14T22:00:54.907721Z"
    },
    "jupyter": {
     "source_hidden": true
    },
    "papermill": {
     "duration": 0.073292,
     "end_time": "2020-12-14T22:00:54.908345",
     "exception": false,
     "start_time": "2020-12-14T22:00:54.835053",
     "status": "completed"
    },
    "tags": []
   },
   "outputs": [],
   "source": [
    "# THIS IS PURELY FOR TEST PURPOSE NEVER DO THAT IN PRODUCTION\n",
    "POSTGRES_ADDRESS='postgres'\n",
    "POSTGRES_PORT='5432'\n",
    "POSTGRES_USERNAME='postgres'\n",
    "POSTGRES_PASSWORD='postgres'\n",
    "\n",
    "postgres_conn = 'postgresql://{0}:{1}@{2}:{3}/'.format(POSTGRES_USERNAME, POSTGRES_PASSWORD, POSTGRES_ADDRESS, POSTGRES_PORT)\n",
    "\n",
    "# Create the connection\n",
    "cnx = create_engine(postgres_conn)\n"
   ]
  },
  {
   "cell_type": "markdown",
   "metadata": {
    "_uuid": "1998755ef10683262b29765345cff1c1c7d10b15",
    "papermill": {
     "duration": 0.011359,
     "end_time": "2020-12-14T22:00:54.929822",
     "exception": false,
     "start_time": "2020-12-14T22:00:54.918463",
     "status": "completed"
    },
    "tags": []
   },
   "source": [
    "Read in the Avocado Prices csv file as a DataFrame called df"
   ]
  },
  {
   "cell_type": "code",
   "execution_count": 3,
   "metadata": {
    "execution": {
     "iopub.execute_input": "2020-12-14T22:00:54.953790Z",
     "iopub.status.busy": "2020-12-14T22:00:54.953354Z",
     "iopub.status.idle": "2020-12-14T22:00:54.956326Z",
     "shell.execute_reply": "2020-12-14T22:00:54.955940Z"
    },
    "jupyter": {
     "source_hidden": true
    },
    "papermill": {
     "duration": 0.015001,
     "end_time": "2020-12-14T22:00:54.956426",
     "exception": false,
     "start_time": "2020-12-14T22:00:54.941425",
     "status": "completed"
    },
    "tags": [
     "parameters"
    ]
   },
   "outputs": [],
   "source": [
    "# Parameterized\n",
    "\n",
    "filepath='avocado.csv'\n",
    "ml_id='auto_100'\n",
    "ml_date=date.today()\n",
    "n_estimators = 100\n",
    "max_features = 'auto'"
   ]
  },
  {
   "cell_type": "code",
   "execution_count": 4,
   "metadata": {
    "execution": {
     "iopub.execute_input": "2020-12-14T22:00:54.975737Z",
     "iopub.status.busy": "2020-12-14T22:00:54.975325Z",
     "iopub.status.idle": "2020-12-14T22:00:54.978308Z",
     "shell.execute_reply": "2020-12-14T22:00:54.977920Z"
    },
    "jupyter": {
     "source_hidden": true
    },
    "papermill": {
     "duration": 0.013617,
     "end_time": "2020-12-14T22:00:54.978391",
     "exception": false,
     "start_time": "2020-12-14T22:00:54.964774",
     "status": "completed"
    },
    "tags": [
     "injected-parameters"
    ]
   },
   "outputs": [],
   "source": [
    "# Parameters\n",
    "filepath = \"/tmp/avocado.csv\"\n",
    "n_estimators = 150\n",
    "max_features = \"auto\"\n",
    "ml_id = \"auto_150\"\n"
   ]
  },
  {
   "cell_type": "code",
   "execution_count": 5,
   "metadata": {
    "_uuid": "55d0e719eb8b91d763c1eacaf0f51ee0586486fc",
    "execution": {
     "iopub.execute_input": "2020-12-14T22:00:54.997894Z",
     "iopub.status.busy": "2020-12-14T22:00:54.997515Z",
     "iopub.status.idle": "2020-12-14T22:00:55.022155Z",
     "shell.execute_reply": "2020-12-14T22:00:55.022457Z"
    },
    "jupyter": {
     "source_hidden": true
    },
    "papermill": {
     "duration": 0.03601,
     "end_time": "2020-12-14T22:00:55.022576",
     "exception": false,
     "start_time": "2020-12-14T22:00:54.986566",
     "status": "completed"
    },
    "tags": []
   },
   "outputs": [],
   "source": [
    "df= pd.read_csv(filepath)"
   ]
  },
  {
   "cell_type": "markdown",
   "metadata": {
    "_uuid": "434e0457f550e2200424e5ec26162e1aa5904005",
    "papermill": {
     "duration": 0.008102,
     "end_time": "2020-12-14T22:00:55.038833",
     "exception": false,
     "start_time": "2020-12-14T22:00:55.030731",
     "status": "completed"
    },
    "tags": []
   },
   "source": [
    "The Feature \"Unnamed:0\" is just a representation of the indexes, so it's useless to keep it, lets remove it !"
   ]
  },
  {
   "cell_type": "code",
   "execution_count": 6,
   "metadata": {
    "_uuid": "9875398e37728dc3141fed4228be337a4735beb6",
    "execution": {
     "iopub.execute_input": "2020-12-14T22:00:55.059681Z",
     "iopub.status.busy": "2020-12-14T22:00:55.059299Z",
     "iopub.status.idle": "2020-12-14T22:00:55.062230Z",
     "shell.execute_reply": "2020-12-14T22:00:55.061818Z"
    },
    "jupyter": {
     "source_hidden": true
    },
    "papermill": {
     "duration": 0.015553,
     "end_time": "2020-12-14T22:00:55.062324",
     "exception": false,
     "start_time": "2020-12-14T22:00:55.046771",
     "status": "completed"
    },
    "tags": []
   },
   "outputs": [],
   "source": [
    "df.drop('Unnamed: 0',axis=1,inplace=True)"
   ]
  },
  {
   "cell_type": "markdown",
   "metadata": {
    "_uuid": "12e94ad381e4cb8d2c8a9bbe08ce07ab5d49c040",
    "papermill": {
     "duration": 0.00826,
     "end_time": "2020-12-14T22:00:55.078785",
     "exception": false,
     "start_time": "2020-12-14T22:00:55.070525",
     "status": "completed"
    },
    "tags": []
   },
   "source": [
    "well as a first observation we can see that we are lucky, we dont have any missing values (18249 complete data) and 13 columns.\n",
    "Now let's do some Feature Engineering on the Date Feature so we can be able to use the day and the month columns in building our machine learning model later. ( I didn't mention the year because its already there in data frame)"
   ]
  },
  {
   "cell_type": "code",
   "execution_count": 7,
   "metadata": {
    "_uuid": "f031639ce794656e877484d1c9c356df7028177f",
    "execution": {
     "iopub.execute_input": "2020-12-14T22:00:55.099527Z",
     "iopub.status.busy": "2020-12-14T22:00:55.099136Z",
     "iopub.status.idle": "2020-12-14T22:00:55.208436Z",
     "shell.execute_reply": "2020-12-14T22:00:55.208736Z"
    },
    "jupyter": {
     "source_hidden": true
    },
    "papermill": {
     "duration": 0.121889,
     "end_time": "2020-12-14T22:00:55.208856",
     "exception": false,
     "start_time": "2020-12-14T22:00:55.086967",
     "status": "completed"
    },
    "tags": []
   },
   "outputs": [],
   "source": [
    "df['Date']=pd.to_datetime(df['Date'])\n",
    "df['Month']=df['Date'].apply(lambda x:x.month)\n",
    "df['Day']=df['Date'].apply(lambda x:x.day)"
   ]
  },
  {
   "cell_type": "markdown",
   "metadata": {
    "_uuid": "ebdcac9924ce3e366fd3a75170682f7113385b7a",
    "papermill": {
     "duration": 0.00839,
     "end_time": "2020-12-14T22:00:55.225633",
     "exception": false,
     "start_time": "2020-12-14T22:00:55.217243",
     "status": "completed"
    },
    "tags": []
   },
   "source": [
    "as we can see we have 54 regions and 2 unique types, so it's going to be easy to to transform the type feature to dummies, but for the region its going to be a bit complexe so I decided to drop the entire column.\n",
    "I will drop the Date Feature as well because I already have 3 other columns for the Year, Month and Day."
   ]
  },
  {
   "cell_type": "code",
   "execution_count": 8,
   "metadata": {
    "_uuid": "a798682da34327b731ef262985fd50ba68e06460",
    "execution": {
     "iopub.execute_input": "2020-12-14T22:00:55.245877Z",
     "iopub.status.busy": "2020-12-14T22:00:55.245411Z",
     "iopub.status.idle": "2020-12-14T22:00:55.254191Z",
     "shell.execute_reply": "2020-12-14T22:00:55.253769Z"
    },
    "jupyter": {
     "source_hidden": true
    },
    "papermill": {
     "duration": 0.020441,
     "end_time": "2020-12-14T22:00:55.254281",
     "exception": false,
     "start_time": "2020-12-14T22:00:55.233840",
     "status": "completed"
    },
    "tags": []
   },
   "outputs": [],
   "source": [
    "df_final=pd.get_dummies(df.drop(['region','Date'],axis=1),drop_first=True)"
   ]
  },
  {
   "cell_type": "markdown",
   "metadata": {
    "_uuid": "8b74a6b88cb3e9b3e1d1e987e061048f203c7364",
    "papermill": {
     "duration": 0.00903,
     "end_time": "2020-12-14T22:00:55.271544",
     "exception": false,
     "start_time": "2020-12-14T22:00:55.262514",
     "status": "completed"
    },
    "tags": []
   },
   "source": [
    "Now our data are ready! lets apply our model which is going to be the Linear Regression because our Target variable 'AveragePrice'is continuous.\n",
    "Let's now begin to train out regression model! We will need to first split up our data into an X array that contains the features to train on, and a y array with the target variable"
   ]
  },
  {
   "cell_type": "code",
   "execution_count": 9,
   "metadata": {
    "_uuid": "830591f99de9715241e688bf9ce265e979401ff5",
    "execution": {
     "iopub.execute_input": "2020-12-14T22:00:55.293010Z",
     "iopub.status.busy": "2020-12-14T22:00:55.292624Z",
     "iopub.status.idle": "2020-12-14T22:00:55.301875Z",
     "shell.execute_reply": "2020-12-14T22:00:55.301524Z"
    },
    "jupyter": {
     "source_hidden": true
    },
    "papermill": {
     "duration": 0.021888,
     "end_time": "2020-12-14T22:00:55.301970",
     "exception": false,
     "start_time": "2020-12-14T22:00:55.280082",
     "status": "completed"
    },
    "tags": []
   },
   "outputs": [],
   "source": [
    "X=df_final.iloc[:,1:14]\n",
    "y=df_final['AveragePrice']\n",
    "from sklearn.model_selection import train_test_split\n",
    "X_train,X_test,y_train,y_test=train_test_split(X,y,test_size=0.2,random_state=42)"
   ]
  },
  {
   "cell_type": "markdown",
   "metadata": {
    "_uuid": "ea730c77a31cde9de98263079a189accb8b5772b",
    "papermill": {
     "duration": 0.00868,
     "end_time": "2020-12-14T22:00:55.319351",
     "exception": false,
     "start_time": "2020-12-14T22:00:55.310671",
     "status": "completed"
    },
    "tags": []
   },
   "source": [
    "Creating and Training the Model"
   ]
  },
  {
   "cell_type": "code",
   "execution_count": 10,
   "metadata": {
    "_uuid": "eb37015e78974e5fd2ae7e13d065c8ab0a9c6948",
    "execution": {
     "iopub.execute_input": "2020-12-14T22:00:55.340252Z",
     "iopub.status.busy": "2020-12-14T22:00:55.339780Z",
     "iopub.status.idle": "2020-12-14T22:01:07.287331Z",
     "shell.execute_reply": "2020-12-14T22:01:07.286945Z"
    },
    "jupyter": {
     "source_hidden": true
    },
    "papermill": {
     "duration": 11.959617,
     "end_time": "2020-12-14T22:01:07.287441",
     "exception": false,
     "start_time": "2020-12-14T22:00:55.327824",
     "status": "completed"
    },
    "tags": []
   },
   "outputs": [],
   "source": [
    "from sklearn.ensemble import RandomForestRegressor\n",
    "rdr = RandomForestRegressor(\n",
    "    n_estimators=n_estimators,\n",
    "    max_features=max_features\n",
    ")\n",
    "rdr.fit(X_train,y_train)\n",
    "pred=rdr.predict(X_test)"
   ]
  },
  {
   "cell_type": "code",
   "execution_count": 11,
   "metadata": {
    "_uuid": "7ed5b8d4e8abb44a4b548c13ac9fb2d65227d1c5",
    "execution": {
     "iopub.execute_input": "2020-12-14T22:01:07.308700Z",
     "iopub.status.busy": "2020-12-14T22:01:07.308238Z",
     "iopub.status.idle": "2020-12-14T22:01:07.311088Z",
     "shell.execute_reply": "2020-12-14T22:01:07.310726Z"
    },
    "jupyter": {
     "source_hidden": true
    },
    "papermill": {
     "duration": 0.014432,
     "end_time": "2020-12-14T22:01:07.311179",
     "exception": false,
     "start_time": "2020-12-14T22:01:07.296747",
     "status": "completed"
    },
    "tags": []
   },
   "outputs": [],
   "source": [
    "#%%capture cap --no-stderr\n",
    "#print(np.sqrt(mean_squared_error(y_test, pred)))"
   ]
  },
  {
   "cell_type": "code",
   "execution_count": 12,
   "metadata": {
    "execution": {
     "iopub.execute_input": "2020-12-14T22:01:07.331401Z",
     "iopub.status.busy": "2020-12-14T22:01:07.331021Z",
     "iopub.status.idle": "2020-12-14T22:01:07.333825Z",
     "shell.execute_reply": "2020-12-14T22:01:07.333306Z"
    },
    "jupyter": {
     "source_hidden": true
    },
    "papermill": {
     "duration": 0.014162,
     "end_time": "2020-12-14T22:01:07.333910",
     "exception": false,
     "start_time": "2020-12-14T22:01:07.319748",
     "status": "completed"
    },
    "tags": []
   },
   "outputs": [],
   "source": [
    "#with open(output_rmse, 'w') as f:\n",
    "#    f.write(cap.stdout)"
   ]
  },
  {
   "cell_type": "code",
   "execution_count": 13,
   "metadata": {
    "execution": {
     "iopub.execute_input": "2020-12-14T22:01:07.355968Z",
     "iopub.status.busy": "2020-12-14T22:01:07.355381Z",
     "iopub.status.idle": "2020-12-14T22:01:07.371358Z",
     "shell.execute_reply": "2020-12-14T22:01:07.371720Z"
    },
    "jupyter": {
     "source_hidden": true
    },
    "papermill": {
     "duration": 0.029405,
     "end_time": "2020-12-14T22:01:07.371912",
     "exception": false,
     "start_time": "2020-12-14T22:01:07.342507",
     "status": "completed"
    },
    "tags": []
   },
   "outputs": [
    {
     "data": {
      "text/plain": [
       "<sqlalchemy.engine.result.ResultProxy at 0x7fb87e867910>"
      ]
     },
     "execution_count": 13,
     "metadata": {},
     "output_type": "execute_result"
    }
   ],
   "source": [
    "cnx.execute(\"\"\"\n",
    "    INSERT INTO ml.accuracies (ml_id, ml_date, accuracy) VALUES ('{0}', '{1}', {2}) \n",
    "    ON CONFLICT (ml_id, ml_date) \n",
    "    DO\n",
    "        UPDATE SET accuracy = {2};\n",
    "    \"\"\".format(ml_id, ml_date, np.sqrt(mean_squared_error(y_test, pred))))"
   ]
  }
 ],
 "metadata": {
  "kernelspec": {
   "display_name": "Python 3",
   "language": "python",
   "name": "python3"
  },
  "language_info": {
   "codemirror_mode": {
    "name": "ipython",
    "version": 3
   },
   "file_extension": ".py",
   "mimetype": "text/x-python",
   "name": "python",
   "nbconvert_exporter": "python",
   "pygments_lexer": "ipython3",
   "version": "3.7.9"
  },
  "papermill": {
   "duration": 14.563324,
   "end_time": "2020-12-14T22:01:07.792810",
   "environment_variables": {},
   "exception": null,
   "input_path": "/usr/local/airflow/include/notebooks/avocado_prediction.ipynb",
   "output_path": "/tmp/out-model-avocado-prediction-auto_150.ipynb",
   "parameters": {
    "filepath": "/tmp/avocado.csv",
    "max_features": "auto",
    "ml_id": "auto_150",
    "n_estimators": 150
   },
   "start_time": "2020-12-14T22:00:53.229486",
   "version": "2.1.2"
  }
 },
 "nbformat": 4,
 "nbformat_minor": 4
}