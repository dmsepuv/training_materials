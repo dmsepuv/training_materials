{
 "cells": [
  {
   "cell_type": "code",
   "execution_count": 1,
   "metadata": {
    "_cell_guid": "79c7e3d0-c299-4dcb-8224-4455121ee9b0",
    "_uuid": "d629ff2d2480ee46fbb7e2d37f6b5fab8052498a",
    "execution": {
     "iopub.execute_input": "2020-12-15T05:00:42.084353Z",
     "iopub.status.busy": "2020-12-15T05:00:42.083653Z",
     "iopub.status.idle": "2020-12-15T05:00:42.657001Z",
     "shell.execute_reply": "2020-12-15T05:00:42.656505Z"
    },
    "jupyter": {
     "source_hidden": true
    },
    "papermill": {
     "duration": 0.591106,
     "end_time": "2020-12-15T05:00:42.657142",
     "exception": false,
     "start_time": "2020-12-15T05:00:42.066036",
     "status": "completed"
    },
    "tags": []
   },
   "outputs": [],
   "source": [
    "import pandas as pd\n",
    "import numpy as np\n",
    "from sqlalchemy import create_engine\n",
    "from datetime import date\n",
    "from sklearn.metrics import mean_squared_error"
   ]
  },
  {
   "cell_type": "code",
   "execution_count": 2,
   "metadata": {
    "execution": {
     "iopub.execute_input": "2020-12-15T05:00:42.680526Z",
     "iopub.status.busy": "2020-12-15T05:00:42.679307Z",
     "iopub.status.idle": "2020-12-15T05:00:42.730919Z",
     "shell.execute_reply": "2020-12-15T05:00:42.731392Z"
    },
    "jupyter": {
     "source_hidden": true
    },
    "papermill": {
     "duration": 0.066563,
     "end_time": "2020-12-15T05:00:42.731548",
     "exception": false,
     "start_time": "2020-12-15T05:00:42.664985",
     "status": "completed"
    },
    "tags": []
   },
   "outputs": [],
   "source": [
    "# THIS IS PURELY FOR TEST PURPOSE NEVER DO THAT IN PRODUCTION\n",
    "POSTGRES_ADDRESS='postgres'\n",
    "POSTGRES_PORT='5432'\n",
    "POSTGRES_USERNAME='postgres'\n",
    "POSTGRES_PASSWORD='postgres'\n",
    "\n",
    "postgres_conn = 'postgresql://{0}:{1}@{2}:{3}/'.format(POSTGRES_USERNAME, POSTGRES_PASSWORD, POSTGRES_ADDRESS, POSTGRES_PORT)\n",
    "\n",
    "# Create the connection\n",
    "cnx = create_engine(postgres_conn)\n"
   ]
  },
  {
   "cell_type": "markdown",
   "metadata": {
    "_uuid": "1998755ef10683262b29765345cff1c1c7d10b15",
    "papermill": {
     "duration": 0.008735,
     "end_time": "2020-12-15T05:00:42.750522",
     "exception": false,
     "start_time": "2020-12-15T05:00:42.741787",
     "status": "completed"
    },
    "tags": []
   },
   "source": [
    "Read in the Avocado Prices csv file as a DataFrame called df"
   ]
  },
  {
   "cell_type": "code",
   "execution_count": 3,
   "metadata": {
    "execution": {
     "iopub.execute_input": "2020-12-15T05:00:42.770718Z",
     "iopub.status.busy": "2020-12-15T05:00:42.770285Z",
     "iopub.status.idle": "2020-12-15T05:00:42.774023Z",
     "shell.execute_reply": "2020-12-15T05:00:42.773626Z"
    },
    "jupyter": {
     "source_hidden": true
    },
    "papermill": {
     "duration": 0.015326,
     "end_time": "2020-12-15T05:00:42.774165",
     "exception": false,
     "start_time": "2020-12-15T05:00:42.758839",
     "status": "completed"
    },
    "tags": [
     "parameters"
    ]
   },
   "outputs": [],
   "source": [
    "# Parameterized\n",
    "\n",
    "filepath='avocado.csv'\n",
    "ml_id='auto_100'\n",
    "ml_date=date.today()\n",
    "n_estimators = 100\n",
    "max_features = 'auto'"
   ]
  },
  {
   "cell_type": "code",
   "execution_count": 4,
   "metadata": {
    "execution": {
     "iopub.execute_input": "2020-12-15T05:00:42.793759Z",
     "iopub.status.busy": "2020-12-15T05:00:42.793381Z",
     "iopub.status.idle": "2020-12-15T05:00:42.796358Z",
     "shell.execute_reply": "2020-12-15T05:00:42.796015Z"
    },
    "jupyter": {
     "source_hidden": true
    },
    "papermill": {
     "duration": 0.013903,
     "end_time": "2020-12-15T05:00:42.796444",
     "exception": false,
     "start_time": "2020-12-15T05:00:42.782541",
     "status": "completed"
    },
    "tags": [
     "injected-parameters"
    ]
   },
   "outputs": [],
   "source": [
    "# Parameters\n",
    "filepath = \"/tmp/avocado.csv\"\n",
    "n_estimators = 100\n",
    "max_features = \"auto\"\n",
    "ml_id = \"auto_100\"\n"
   ]
  },
  {
   "cell_type": "code",
   "execution_count": 5,
   "metadata": {
    "_uuid": "55d0e719eb8b91d763c1eacaf0f51ee0586486fc",
    "execution": {
     "iopub.execute_input": "2020-12-15T05:00:42.816225Z",
     "iopub.status.busy": "2020-12-15T05:00:42.815767Z",
     "iopub.status.idle": "2020-12-15T05:00:42.844614Z",
     "shell.execute_reply": "2020-12-15T05:00:42.844206Z"
    },
    "jupyter": {
     "source_hidden": true
    },
    "papermill": {
     "duration": 0.040248,
     "end_time": "2020-12-15T05:00:42.844769",
     "exception": false,
     "start_time": "2020-12-15T05:00:42.804521",
     "status": "completed"
    },
    "tags": []
   },
   "outputs": [],
   "source": [
    "df= pd.read_csv(filepath)"
   ]
  },
  {
   "cell_type": "markdown",
   "metadata": {
    "_uuid": "434e0457f550e2200424e5ec26162e1aa5904005",
    "papermill": {
     "duration": 0.008543,
     "end_time": "2020-12-15T05:00:42.864420",
     "exception": false,
     "start_time": "2020-12-15T05:00:42.855877",
     "status": "completed"
    },
    "tags": []
   },
   "source": [
    "The Feature \"Unnamed:0\" is just a representation of the indexes, so it's useless to keep it, lets remove it !"
   ]
  },
  {
   "cell_type": "code",
   "execution_count": 6,
   "metadata": {
    "_uuid": "9875398e37728dc3141fed4228be337a4735beb6",
    "execution": {
     "iopub.execute_input": "2020-12-15T05:00:42.887323Z",
     "iopub.status.busy": "2020-12-15T05:00:42.886053Z",
     "iopub.status.idle": "2020-12-15T05:00:42.890570Z",
     "shell.execute_reply": "2020-12-15T05:00:42.890193Z"
    },
    "jupyter": {
     "source_hidden": true
    },
    "papermill": {
     "duration": 0.01738,
     "end_time": "2020-12-15T05:00:42.890678",
     "exception": false,
     "start_time": "2020-12-15T05:00:42.873298",
     "status": "completed"
    },
    "tags": []
   },
   "outputs": [],
   "source": [
    "df.drop('Unnamed: 0',axis=1,inplace=True)"
   ]
  },
  {
   "cell_type": "markdown",
   "metadata": {
    "_uuid": "12e94ad381e4cb8d2c8a9bbe08ce07ab5d49c040",
    "papermill": {
     "duration": 0.008746,
     "end_time": "2020-12-15T05:00:42.908291",
     "exception": false,
     "start_time": "2020-12-15T05:00:42.899545",
     "status": "completed"
    },
    "tags": []
   },
   "source": [
    "well as a first observation we can see that we are lucky, we dont have any missing values (18249 complete data) and 13 columns.\n",
    "Now let's do some Feature Engineering on the Date Feature so we can be able to use the day and the month columns in building our machine learning model later. ( I didn't mention the year because its already there in data frame)"
   ]
  },
  {
   "cell_type": "code",
   "execution_count": 7,
   "metadata": {
    "_uuid": "f031639ce794656e877484d1c9c356df7028177f",
    "execution": {
     "iopub.execute_input": "2020-12-15T05:00:42.929543Z",
     "iopub.status.busy": "2020-12-15T05:00:42.929151Z",
     "iopub.status.idle": "2020-12-15T05:00:43.041519Z",
     "shell.execute_reply": "2020-12-15T05:00:43.041101Z"
    },
    "jupyter": {
     "source_hidden": true
    },
    "papermill": {
     "duration": 0.125211,
     "end_time": "2020-12-15T05:00:43.041615",
     "exception": false,
     "start_time": "2020-12-15T05:00:42.916404",
     "status": "completed"
    },
    "tags": []
   },
   "outputs": [],
   "source": [
    "df['Date']=pd.to_datetime(df['Date'])\n",
    "df['Month']=df['Date'].apply(lambda x:x.month)\n",
    "df['Day']=df['Date'].apply(lambda x:x.day)"
   ]
  },
  {
   "cell_type": "markdown",
   "metadata": {
    "_uuid": "ebdcac9924ce3e366fd3a75170682f7113385b7a",
    "papermill": {
     "duration": 0.008881,
     "end_time": "2020-12-15T05:00:43.059004",
     "exception": false,
     "start_time": "2020-12-15T05:00:43.050123",
     "status": "completed"
    },
    "tags": []
   },
   "source": [
    "as we can see we have 54 regions and 2 unique types, so it's going to be easy to to transform the type feature to dummies, but for the region its going to be a bit complexe so I decided to drop the entire column.\n",
    "I will drop the Date Feature as well because I already have 3 other columns for the Year, Month and Day."
   ]
  },
  {
   "cell_type": "code",
   "execution_count": 8,
   "metadata": {
    "_uuid": "a798682da34327b731ef262985fd50ba68e06460",
    "execution": {
     "iopub.execute_input": "2020-12-15T05:00:43.079483Z",
     "iopub.status.busy": "2020-12-15T05:00:43.078959Z",
     "iopub.status.idle": "2020-12-15T05:00:43.088003Z",
     "shell.execute_reply": "2020-12-15T05:00:43.087653Z"
    },
    "jupyter": {
     "source_hidden": true
    },
    "papermill": {
     "duration": 0.020996,
     "end_time": "2020-12-15T05:00:43.088099",
     "exception": false,
     "start_time": "2020-12-15T05:00:43.067103",
     "status": "completed"
    },
    "tags": []
   },
   "outputs": [],
   "source": [
    "df_final=pd.get_dummies(df.drop(['region','Date'],axis=1),drop_first=True)"
   ]
  },
  {
   "cell_type": "markdown",
   "metadata": {
    "_uuid": "8b74a6b88cb3e9b3e1d1e987e061048f203c7364",
    "papermill": {
     "duration": 0.009494,
     "end_time": "2020-12-15T05:00:43.106244",
     "exception": false,
     "start_time": "2020-12-15T05:00:43.096750",
     "status": "completed"
    },
    "tags": []
   },
   "source": [
    "Now our data are ready! lets apply our model which is going to be the Linear Regression because our Target variable 'AveragePrice'is continuous.\n",
    "Let's now begin to train out regression model! We will need to first split up our data into an X array that contains the features to train on, and a y array with the target variable"
   ]
  },
  {
   "cell_type": "code",
   "execution_count": 9,
   "metadata": {
    "_uuid": "830591f99de9715241e688bf9ce265e979401ff5",
    "execution": {
     "iopub.execute_input": "2020-12-15T05:00:43.126778Z",
     "iopub.status.busy": "2020-12-15T05:00:43.126401Z",
     "iopub.status.idle": "2020-12-15T05:00:43.136765Z",
     "shell.execute_reply": "2020-12-15T05:00:43.136364Z"
    },
    "jupyter": {
     "source_hidden": true
    },
    "papermill": {
     "duration": 0.022211,
     "end_time": "2020-12-15T05:00:43.136857",
     "exception": false,
     "start_time": "2020-12-15T05:00:43.114646",
     "status": "completed"
    },
    "tags": []
   },
   "outputs": [],
   "source": [
    "X=df_final.iloc[:,1:14]\n",
    "y=df_final['AveragePrice']\n",
    "from sklearn.model_selection import train_test_split\n",
    "X_train,X_test,y_train,y_test=train_test_split(X,y,test_size=0.2,random_state=42)"
   ]
  },
  {
   "cell_type": "markdown",
   "metadata": {
    "_uuid": "ea730c77a31cde9de98263079a189accb8b5772b",
    "papermill": {
     "duration": 0.008391,
     "end_time": "2020-12-15T05:00:43.153729",
     "exception": false,
     "start_time": "2020-12-15T05:00:43.145338",
     "status": "completed"
    },
    "tags": []
   },
   "source": [
    "Creating and Training the Model"
   ]
  },
  {
   "cell_type": "code",
   "execution_count": 10,
   "metadata": {
    "_uuid": "eb37015e78974e5fd2ae7e13d065c8ab0a9c6948",
    "execution": {
     "iopub.execute_input": "2020-12-15T05:00:43.173907Z",
     "iopub.status.busy": "2020-12-15T05:00:43.173521Z",
     "iopub.status.idle": "2020-12-15T05:00:51.113453Z",
     "shell.execute_reply": "2020-12-15T05:00:51.113801Z"
    },
    "jupyter": {
     "source_hidden": true
    },
    "papermill": {
     "duration": 7.951903,
     "end_time": "2020-12-15T05:00:51.113933",
     "exception": false,
     "start_time": "2020-12-15T05:00:43.162030",
     "status": "completed"
    },
    "tags": []
   },
   "outputs": [],
   "source": [
    "from sklearn.ensemble import RandomForestRegressor\n",
    "rdr = RandomForestRegressor(\n",
    "    n_estimators=n_estimators,\n",
    "    max_features=max_features\n",
    ")\n",
    "rdr.fit(X_train,y_train)\n",
    "pred=rdr.predict(X_test)"
   ]
  },
  {
   "cell_type": "code",
   "execution_count": 11,
   "metadata": {
    "_uuid": "7ed5b8d4e8abb44a4b548c13ac9fb2d65227d1c5",
    "execution": {
     "iopub.execute_input": "2020-12-15T05:00:51.134505Z",
     "iopub.status.busy": "2020-12-15T05:00:51.134024Z",
     "iopub.status.idle": "2020-12-15T05:00:51.137757Z",
     "shell.execute_reply": "2020-12-15T05:00:51.137306Z"
    },
    "jupyter": {
     "source_hidden": true
    },
    "papermill": {
     "duration": 0.014668,
     "end_time": "2020-12-15T05:00:51.137860",
     "exception": false,
     "start_time": "2020-12-15T05:00:51.123192",
     "status": "completed"
    },
    "tags": []
   },
   "outputs": [],
   "source": [
    "#%%capture cap --no-stderr\n",
    "#print(np.sqrt(mean_squared_error(y_test, pred)))"
   ]
  },
  {
   "cell_type": "code",
   "execution_count": 12,
   "metadata": {
    "execution": {
     "iopub.execute_input": "2020-12-15T05:00:51.158591Z",
     "iopub.status.busy": "2020-12-15T05:00:51.158189Z",
     "iopub.status.idle": "2020-12-15T05:00:51.160766Z",
     "shell.execute_reply": "2020-12-15T05:00:51.161075Z"
    },
    "jupyter": {
     "source_hidden": true
    },
    "papermill": {
     "duration": 0.014767,
     "end_time": "2020-12-15T05:00:51.161427",
     "exception": false,
     "start_time": "2020-12-15T05:00:51.146660",
     "status": "completed"
    },
    "tags": []
   },
   "outputs": [],
   "source": [
    "#with open(output_rmse, 'w') as f:\n",
    "#    f.write(cap.stdout)"
   ]
  },
  {
   "cell_type": "code",
   "execution_count": 13,
   "metadata": {
    "execution": {
     "iopub.execute_input": "2020-12-15T05:00:51.183562Z",
     "iopub.status.busy": "2020-12-15T05:00:51.182788Z",
     "iopub.status.idle": "2020-12-15T05:00:51.199954Z",
     "shell.execute_reply": "2020-12-15T05:00:51.199550Z"
    },
    "jupyter": {
     "source_hidden": true
    },
    "papermill": {
     "duration": 0.029789,
     "end_time": "2020-12-15T05:00:51.200051",
     "exception": false,
     "start_time": "2020-12-15T05:00:51.170262",
     "status": "completed"
    },
    "tags": []
   },
   "outputs": [
    {
     "data": {
      "text/plain": [
       "<sqlalchemy.engine.result.ResultProxy at 0x7f8df5bfe710>"
      ]
     },
     "execution_count": 13,
     "metadata": {},
     "output_type": "execute_result"
    }
   ],
   "source": [
    "cnx.execute(\"\"\"\n",
    "    INSERT INTO ml.accuracies (ml_id, ml_date, accuracy) VALUES ('{0}', '{1}', {2}) \n",
    "    ON CONFLICT (ml_id, ml_date) \n",
    "    DO\n",
    "        UPDATE SET accuracy = {2};\n",
    "    \"\"\".format(ml_id, ml_date, np.sqrt(mean_squared_error(y_test, pred))))"
   ]
  }
 ],
 "metadata": {
  "kernelspec": {
   "display_name": "Python 3",
   "language": "python",
   "name": "python3"
  },
  "language_info": {
   "codemirror_mode": {
    "name": "ipython",
    "version": 3
   },
   "file_extension": ".py",
   "mimetype": "text/x-python",
   "name": "python",
   "nbconvert_exporter": "python",
   "pygments_lexer": "ipython3",
   "version": "3.7.9"
  },
  "papermill": {
   "duration": 10.5673,
   "end_time": "2020-12-15T05:00:51.623358",
   "environment_variables": {},
   "exception": null,
   "input_path": "/usr/local/airflow/include/notebooks/avocado_prediction.ipynb",
   "output_path": "/tmp/out-model-avocado-prediction-auto_100.ipynb",
   "parameters": {
    "filepath": "/tmp/avocado.csv",
    "max_features": "auto",
    "ml_id": "auto_100",
    "n_estimators": 100
   },
   "start_time": "2020-12-15T05:00:41.056058",
   "version": "2.1.2"
  }
 },
 "nbformat": 4,
 "nbformat_minor": 4
}