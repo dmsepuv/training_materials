{
 "cells": [
  {
   "cell_type": "code",
   "execution_count": 1,
   "metadata": {
    "_cell_guid": "79c7e3d0-c299-4dcb-8224-4455121ee9b0",
    "_uuid": "d629ff2d2480ee46fbb7e2d37f6b5fab8052498a",
    "execution": {
     "iopub.execute_input": "2020-12-15T01:11:00.924300Z",
     "iopub.status.busy": "2020-12-15T01:11:00.923750Z",
     "iopub.status.idle": "2020-12-15T01:11:01.537703Z",
     "shell.execute_reply": "2020-12-15T01:11:01.538080Z"
    },
    "jupyter": {
     "source_hidden": true
    },
    "papermill": {
     "duration": 0.632246,
     "end_time": "2020-12-15T01:11:01.538390",
     "exception": false,
     "start_time": "2020-12-15T01:11:00.906144",
     "status": "completed"
    },
    "tags": []
   },
   "outputs": [],
   "source": [
    "import pandas as pd\n",
    "import numpy as np\n",
    "from sqlalchemy import create_engine\n",
    "from datetime import date\n",
    "from sklearn.metrics import mean_squared_error"
   ]
  },
  {
   "cell_type": "code",
   "execution_count": 2,
   "metadata": {
    "execution": {
     "iopub.execute_input": "2020-12-15T01:11:01.559537Z",
     "iopub.status.busy": "2020-12-15T01:11:01.559034Z",
     "iopub.status.idle": "2020-12-15T01:11:01.613993Z",
     "shell.execute_reply": "2020-12-15T01:11:01.613505Z"
    },
    "jupyter": {
     "source_hidden": true
    },
    "papermill": {
     "duration": 0.067232,
     "end_time": "2020-12-15T01:11:01.614123",
     "exception": false,
     "start_time": "2020-12-15T01:11:01.546891",
     "status": "completed"
    },
    "tags": []
   },
   "outputs": [],
   "source": [
    "# THIS IS PURELY FOR TEST PURPOSE NEVER DO THAT IN PRODUCTION\n",
    "POSTGRES_ADDRESS='postgres'\n",
    "POSTGRES_PORT='5432'\n",
    "POSTGRES_USERNAME='postgres'\n",
    "POSTGRES_PASSWORD='postgres'\n",
    "\n",
    "postgres_conn = 'postgresql://{0}:{1}@{2}:{3}/'.format(POSTGRES_USERNAME, POSTGRES_PASSWORD, POSTGRES_ADDRESS, POSTGRES_PORT)\n",
    "\n",
    "# Create the connection\n",
    "cnx = create_engine(postgres_conn)\n"
   ]
  },
  {
   "cell_type": "markdown",
   "metadata": {
    "_uuid": "1998755ef10683262b29765345cff1c1c7d10b15",
    "papermill": {
     "duration": 0.008412,
     "end_time": "2020-12-15T01:11:01.632305",
     "exception": false,
     "start_time": "2020-12-15T01:11:01.623893",
     "status": "completed"
    },
    "tags": []
   },
   "source": [
    "Read in the Avocado Prices csv file as a DataFrame called df"
   ]
  },
  {
   "cell_type": "code",
   "execution_count": 3,
   "metadata": {
    "execution": {
     "iopub.execute_input": "2020-12-15T01:11:01.652420Z",
     "iopub.status.busy": "2020-12-15T01:11:01.651954Z",
     "iopub.status.idle": "2020-12-15T01:11:01.655766Z",
     "shell.execute_reply": "2020-12-15T01:11:01.655382Z"
    },
    "jupyter": {
     "source_hidden": true
    },
    "papermill": {
     "duration": 0.015281,
     "end_time": "2020-12-15T01:11:01.655878",
     "exception": false,
     "start_time": "2020-12-15T01:11:01.640597",
     "status": "completed"
    },
    "tags": [
     "parameters"
    ]
   },
   "outputs": [],
   "source": [
    "# Parameterized\n",
    "\n",
    "filepath='avocado.csv'\n",
    "ml_id='auto_100'\n",
    "ml_date=date.today()\n",
    "n_estimators = 100\n",
    "max_features = 'auto'"
   ]
  },
  {
   "cell_type": "code",
   "execution_count": 4,
   "metadata": {
    "execution": {
     "iopub.execute_input": "2020-12-15T01:11:01.675639Z",
     "iopub.status.busy": "2020-12-15T01:11:01.675152Z",
     "iopub.status.idle": "2020-12-15T01:11:01.678667Z",
     "shell.execute_reply": "2020-12-15T01:11:01.678147Z"
    },
    "jupyter": {
     "source_hidden": true
    },
    "papermill": {
     "duration": 0.014422,
     "end_time": "2020-12-15T01:11:01.678768",
     "exception": false,
     "start_time": "2020-12-15T01:11:01.664346",
     "status": "completed"
    },
    "tags": [
     "injected-parameters"
    ]
   },
   "outputs": [],
   "source": [
    "# Parameters\n",
    "filepath = \"/tmp/avocado.csv\"\n",
    "n_estimators = 150\n",
    "max_features = \"auto\"\n",
    "ml_id = \"auto_150\"\n"
   ]
  },
  {
   "cell_type": "code",
   "execution_count": 5,
   "metadata": {
    "_uuid": "55d0e719eb8b91d763c1eacaf0f51ee0586486fc",
    "execution": {
     "iopub.execute_input": "2020-12-15T01:11:01.699585Z",
     "iopub.status.busy": "2020-12-15T01:11:01.699045Z",
     "iopub.status.idle": "2020-12-15T01:11:01.723824Z",
     "shell.execute_reply": "2020-12-15T01:11:01.723472Z"
    },
    "jupyter": {
     "source_hidden": true
    },
    "papermill": {
     "duration": 0.036907,
     "end_time": "2020-12-15T01:11:01.723922",
     "exception": false,
     "start_time": "2020-12-15T01:11:01.687015",
     "status": "completed"
    },
    "tags": []
   },
   "outputs": [],
   "source": [
    "df= pd.read_csv(filepath)"
   ]
  },
  {
   "cell_type": "markdown",
   "metadata": {
    "_uuid": "434e0457f550e2200424e5ec26162e1aa5904005",
    "papermill": {
     "duration": 0.008115,
     "end_time": "2020-12-15T01:11:01.740209",
     "exception": false,
     "start_time": "2020-12-15T01:11:01.732094",
     "status": "completed"
    },
    "tags": []
   },
   "source": [
    "The Feature \"Unnamed:0\" is just a representation of the indexes, so it's useless to keep it, lets remove it !"
   ]
  },
  {
   "cell_type": "code",
   "execution_count": 6,
   "metadata": {
    "_uuid": "9875398e37728dc3141fed4228be337a4735beb6",
    "execution": {
     "iopub.execute_input": "2020-12-15T01:11:01.761590Z",
     "iopub.status.busy": "2020-12-15T01:11:01.761167Z",
     "iopub.status.idle": "2020-12-15T01:11:01.764078Z",
     "shell.execute_reply": "2020-12-15T01:11:01.763693Z"
    },
    "jupyter": {
     "source_hidden": true
    },
    "papermill": {
     "duration": 0.015987,
     "end_time": "2020-12-15T01:11:01.764161",
     "exception": false,
     "start_time": "2020-12-15T01:11:01.748174",
     "status": "completed"
    },
    "tags": []
   },
   "outputs": [],
   "source": [
    "df.drop('Unnamed: 0',axis=1,inplace=True)"
   ]
  },
  {
   "cell_type": "markdown",
   "metadata": {
    "_uuid": "12e94ad381e4cb8d2c8a9bbe08ce07ab5d49c040",
    "papermill": {
     "duration": 0.007933,
     "end_time": "2020-12-15T01:11:01.781126",
     "exception": false,
     "start_time": "2020-12-15T01:11:01.773193",
     "status": "completed"
    },
    "tags": []
   },
   "source": [
    "well as a first observation we can see that we are lucky, we dont have any missing values (18249 complete data) and 13 columns.\n",
    "Now let's do some Feature Engineering on the Date Feature so we can be able to use the day and the month columns in building our machine learning model later. ( I didn't mention the year because its already there in data frame)"
   ]
  },
  {
   "cell_type": "code",
   "execution_count": 7,
   "metadata": {
    "_uuid": "f031639ce794656e877484d1c9c356df7028177f",
    "execution": {
     "iopub.execute_input": "2020-12-15T01:11:01.801542Z",
     "iopub.status.busy": "2020-12-15T01:11:01.801068Z",
     "iopub.status.idle": "2020-12-15T01:11:01.907740Z",
     "shell.execute_reply": "2020-12-15T01:11:01.907399Z"
    },
    "jupyter": {
     "source_hidden": true
    },
    "papermill": {
     "duration": 0.118775,
     "end_time": "2020-12-15T01:11:01.907841",
     "exception": false,
     "start_time": "2020-12-15T01:11:01.789066",
     "status": "completed"
    },
    "tags": []
   },
   "outputs": [],
   "source": [
    "df['Date']=pd.to_datetime(df['Date'])\n",
    "df['Month']=df['Date'].apply(lambda x:x.month)\n",
    "df['Day']=df['Date'].apply(lambda x:x.day)"
   ]
  },
  {
   "cell_type": "markdown",
   "metadata": {
    "_uuid": "ebdcac9924ce3e366fd3a75170682f7113385b7a",
    "papermill": {
     "duration": 0.008476,
     "end_time": "2020-12-15T01:11:01.924792",
     "exception": false,
     "start_time": "2020-12-15T01:11:01.916316",
     "status": "completed"
    },
    "tags": []
   },
   "source": [
    "as we can see we have 54 regions and 2 unique types, so it's going to be easy to to transform the type feature to dummies, but for the region its going to be a bit complexe so I decided to drop the entire column.\n",
    "I will drop the Date Feature as well because I already have 3 other columns for the Year, Month and Day."
   ]
  },
  {
   "cell_type": "code",
   "execution_count": 8,
   "metadata": {
    "_uuid": "a798682da34327b731ef262985fd50ba68e06460",
    "execution": {
     "iopub.execute_input": "2020-12-15T01:11:01.945097Z",
     "iopub.status.busy": "2020-12-15T01:11:01.944719Z",
     "iopub.status.idle": "2020-12-15T01:11:01.954138Z",
     "shell.execute_reply": "2020-12-15T01:11:01.953795Z"
    },
    "jupyter": {
     "source_hidden": true
    },
    "papermill": {
     "duration": 0.021256,
     "end_time": "2020-12-15T01:11:01.954340",
     "exception": false,
     "start_time": "2020-12-15T01:11:01.933084",
     "status": "completed"
    },
    "tags": []
   },
   "outputs": [],
   "source": [
    "df_final=pd.get_dummies(df.drop(['region','Date'],axis=1),drop_first=True)"
   ]
  },
  {
   "cell_type": "markdown",
   "metadata": {
    "_uuid": "8b74a6b88cb3e9b3e1d1e987e061048f203c7364",
    "papermill": {
     "duration": 0.008393,
     "end_time": "2020-12-15T01:11:01.971365",
     "exception": false,
     "start_time": "2020-12-15T01:11:01.962972",
     "status": "completed"
    },
    "tags": []
   },
   "source": [
    "Now our data are ready! lets apply our model which is going to be the Linear Regression because our Target variable 'AveragePrice'is continuous.\n",
    "Let's now begin to train out regression model! We will need to first split up our data into an X array that contains the features to train on, and a y array with the target variable"
   ]
  },
  {
   "cell_type": "code",
   "execution_count": 9,
   "metadata": {
    "_uuid": "830591f99de9715241e688bf9ce265e979401ff5",
    "execution": {
     "iopub.execute_input": "2020-12-15T01:11:01.992318Z",
     "iopub.status.busy": "2020-12-15T01:11:01.991848Z",
     "iopub.status.idle": "2020-12-15T01:11:02.001589Z",
     "shell.execute_reply": "2020-12-15T01:11:02.001147Z"
    },
    "jupyter": {
     "source_hidden": true
    },
    "papermill": {
     "duration": 0.021952,
     "end_time": "2020-12-15T01:11:02.001690",
     "exception": false,
     "start_time": "2020-12-15T01:11:01.979738",
     "status": "completed"
    },
    "tags": []
   },
   "outputs": [],
   "source": [
    "X=df_final.iloc[:,1:14]\n",
    "y=df_final['AveragePrice']\n",
    "from sklearn.model_selection import train_test_split\n",
    "X_train,X_test,y_train,y_test=train_test_split(X,y,test_size=0.2,random_state=42)"
   ]
  },
  {
   "cell_type": "markdown",
   "metadata": {
    "_uuid": "ea730c77a31cde9de98263079a189accb8b5772b",
    "papermill": {
     "duration": 0.008461,
     "end_time": "2020-12-15T01:11:02.018742",
     "exception": false,
     "start_time": "2020-12-15T01:11:02.010281",
     "status": "completed"
    },
    "tags": []
   },
   "source": [
    "Creating and Training the Model"
   ]
  },
  {
   "cell_type": "code",
   "execution_count": 10,
   "metadata": {
    "_uuid": "eb37015e78974e5fd2ae7e13d065c8ab0a9c6948",
    "execution": {
     "iopub.execute_input": "2020-12-15T01:11:02.039368Z",
     "iopub.status.busy": "2020-12-15T01:11:02.038979Z",
     "iopub.status.idle": "2020-12-15T01:11:14.061604Z",
     "shell.execute_reply": "2020-12-15T01:11:14.061223Z"
    },
    "jupyter": {
     "source_hidden": true
    },
    "papermill": {
     "duration": 12.034515,
     "end_time": "2020-12-15T01:11:14.061715",
     "exception": false,
     "start_time": "2020-12-15T01:11:02.027200",
     "status": "completed"
    },
    "tags": []
   },
   "outputs": [],
   "source": [
    "from sklearn.ensemble import RandomForestRegressor\n",
    "rdr = RandomForestRegressor(\n",
    "    n_estimators=n_estimators,\n",
    "    max_features=max_features\n",
    ")\n",
    "rdr.fit(X_train,y_train)\n",
    "pred=rdr.predict(X_test)"
   ]
  },
  {
   "cell_type": "code",
   "execution_count": 11,
   "metadata": {
    "_uuid": "7ed5b8d4e8abb44a4b548c13ac9fb2d65227d1c5",
    "execution": {
     "iopub.execute_input": "2020-12-15T01:11:14.083283Z",
     "iopub.status.busy": "2020-12-15T01:11:14.082782Z",
     "iopub.status.idle": "2020-12-15T01:11:14.086585Z",
     "shell.execute_reply": "2020-12-15T01:11:14.086203Z"
    },
    "jupyter": {
     "source_hidden": true
    },
    "papermill": {
     "duration": 0.015609,
     "end_time": "2020-12-15T01:11:14.086695",
     "exception": false,
     "start_time": "2020-12-15T01:11:14.071086",
     "status": "completed"
    },
    "tags": []
   },
   "outputs": [],
   "source": [
    "#%%capture cap --no-stderr\n",
    "#print(np.sqrt(mean_squared_error(y_test, pred)))"
   ]
  },
  {
   "cell_type": "code",
   "execution_count": 12,
   "metadata": {
    "execution": {
     "iopub.execute_input": "2020-12-15T01:11:14.107682Z",
     "iopub.status.busy": "2020-12-15T01:11:14.107304Z",
     "iopub.status.idle": "2020-12-15T01:11:14.109937Z",
     "shell.execute_reply": "2020-12-15T01:11:14.109587Z"
    },
    "jupyter": {
     "source_hidden": true
    },
    "papermill": {
     "duration": 0.014187,
     "end_time": "2020-12-15T01:11:14.110124",
     "exception": false,
     "start_time": "2020-12-15T01:11:14.095937",
     "status": "completed"
    },
    "tags": []
   },
   "outputs": [],
   "source": [
    "#with open(output_rmse, 'w') as f:\n",
    "#    f.write(cap.stdout)"
   ]
  },
  {
   "cell_type": "code",
   "execution_count": 13,
   "metadata": {
    "execution": {
     "iopub.execute_input": "2020-12-15T01:11:14.132456Z",
     "iopub.status.busy": "2020-12-15T01:11:14.131792Z",
     "iopub.status.idle": "2020-12-15T01:11:14.148191Z",
     "shell.execute_reply": "2020-12-15T01:11:14.147601Z"
    },
    "jupyter": {
     "source_hidden": true
    },
    "papermill": {
     "duration": 0.029625,
     "end_time": "2020-12-15T01:11:14.148288",
     "exception": false,
     "start_time": "2020-12-15T01:11:14.118663",
     "status": "completed"
    },
    "tags": []
   },
   "outputs": [
    {
     "data": {
      "text/plain": [
       "<sqlalchemy.engine.result.ResultProxy at 0x7f4a3d267790>"
      ]
     },
     "execution_count": 13,
     "metadata": {},
     "output_type": "execute_result"
    }
   ],
   "source": [
    "cnx.execute(\"\"\"\n",
    "    INSERT INTO ml.accuracies (ml_id, ml_date, accuracy) VALUES ('{0}', '{1}', {2}) \n",
    "    ON CONFLICT (ml_id, ml_date) \n",
    "    DO\n",
    "        UPDATE SET accuracy = {2};\n",
    "    \"\"\".format(ml_id, ml_date, np.sqrt(mean_squared_error(y_test, pred))))"
   ]
  }
 ],
 "metadata": {
  "kernelspec": {
   "display_name": "Python 3",
   "language": "python",
   "name": "python3"
  },
  "language_info": {
   "codemirror_mode": {
    "name": "ipython",
    "version": 3
   },
   "file_extension": ".py",
   "mimetype": "text/x-python",
   "name": "python",
   "nbconvert_exporter": "python",
   "pygments_lexer": "ipython3",
   "version": "3.7.9"
  },
  "papermill": {
   "duration": 14.677898,
   "end_time": "2020-12-15T01:11:14.573877",
   "environment_variables": {},
   "exception": null,
   "input_path": "/usr/local/airflow/include/notebooks/avocado_prediction.ipynb",
   "output_path": "/tmp/out-model-avocado-prediction-auto_150.ipynb",
   "parameters": {
    "filepath": "/tmp/avocado.csv",
    "max_features": "auto",
    "ml_id": "auto_150",
    "n_estimators": 150
   },
   "start_time": "2020-12-15T01:10:59.895979",
   "version": "2.1.2"
  }
 },
 "nbformat": 4,
 "nbformat_minor": 4
}