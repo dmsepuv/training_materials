{
 "cells": [
  {
   "cell_type": "code",
   "execution_count": 1,
   "metadata": {
    "_cell_guid": "79c7e3d0-c299-4dcb-8224-4455121ee9b0",
    "_uuid": "d629ff2d2480ee46fbb7e2d37f6b5fab8052498a",
    "execution": {
     "iopub.execute_input": "2020-12-15T05:11:00.850718Z",
     "iopub.status.busy": "2020-12-15T05:11:00.850162Z",
     "iopub.status.idle": "2020-12-15T05:11:01.424850Z",
     "shell.execute_reply": "2020-12-15T05:11:01.424383Z"
    },
    "jupyter": {
     "source_hidden": true
    },
    "papermill": {
     "duration": 0.592198,
     "end_time": "2020-12-15T05:11:01.424982",
     "exception": false,
     "start_time": "2020-12-15T05:11:00.832784",
     "status": "completed"
    },
    "tags": []
   },
   "outputs": [],
   "source": [
    "import pandas as pd\n",
    "import numpy as np\n",
    "from sqlalchemy import create_engine\n",
    "from datetime import date\n",
    "from sklearn.metrics import mean_squared_error"
   ]
  },
  {
   "cell_type": "code",
   "execution_count": 2,
   "metadata": {
    "execution": {
     "iopub.execute_input": "2020-12-15T05:11:01.444590Z",
     "iopub.status.busy": "2020-12-15T05:11:01.444212Z",
     "iopub.status.idle": "2020-12-15T05:11:01.494477Z",
     "shell.execute_reply": "2020-12-15T05:11:01.494897Z"
    },
    "jupyter": {
     "source_hidden": true
    },
    "papermill": {
     "duration": 0.06201,
     "end_time": "2020-12-15T05:11:01.495049",
     "exception": false,
     "start_time": "2020-12-15T05:11:01.433039",
     "status": "completed"
    },
    "tags": []
   },
   "outputs": [],
   "source": [
    "# THIS IS PURELY FOR TEST PURPOSE NEVER DO THAT IN PRODUCTION\n",
    "POSTGRES_ADDRESS='postgres'\n",
    "POSTGRES_PORT='5432'\n",
    "POSTGRES_USERNAME='postgres'\n",
    "POSTGRES_PASSWORD='postgres'\n",
    "\n",
    "postgres_conn = 'postgresql://{0}:{1}@{2}:{3}/'.format(POSTGRES_USERNAME, POSTGRES_PASSWORD, POSTGRES_ADDRESS, POSTGRES_PORT)\n",
    "\n",
    "# Create the connection\n",
    "cnx = create_engine(postgres_conn)\n"
   ]
  },
  {
   "cell_type": "markdown",
   "metadata": {
    "_uuid": "1998755ef10683262b29765345cff1c1c7d10b15",
    "papermill": {
     "duration": 0.009109,
     "end_time": "2020-12-15T05:11:01.514564",
     "exception": false,
     "start_time": "2020-12-15T05:11:01.505455",
     "status": "completed"
    },
    "tags": []
   },
   "source": [
    "Read in the Avocado Prices csv file as a DataFrame called df"
   ]
  },
  {
   "cell_type": "code",
   "execution_count": 3,
   "metadata": {
    "execution": {
     "iopub.execute_input": "2020-12-15T05:11:01.535054Z",
     "iopub.status.busy": "2020-12-15T05:11:01.534561Z",
     "iopub.status.idle": "2020-12-15T05:11:01.537475Z",
     "shell.execute_reply": "2020-12-15T05:11:01.537035Z"
    },
    "jupyter": {
     "source_hidden": true
    },
    "papermill": {
     "duration": 0.014572,
     "end_time": "2020-12-15T05:11:01.537567",
     "exception": false,
     "start_time": "2020-12-15T05:11:01.522995",
     "status": "completed"
    },
    "tags": [
     "parameters"
    ]
   },
   "outputs": [],
   "source": [
    "# Parameterized\n",
    "\n",
    "filepath='avocado.csv'\n",
    "ml_id='auto_100'\n",
    "ml_date=date.today()\n",
    "n_estimators = 100\n",
    "max_features = 'auto'"
   ]
  },
  {
   "cell_type": "code",
   "execution_count": 4,
   "metadata": {
    "execution": {
     "iopub.execute_input": "2020-12-15T05:11:01.558006Z",
     "iopub.status.busy": "2020-12-15T05:11:01.557486Z",
     "iopub.status.idle": "2020-12-15T05:11:01.559753Z",
     "shell.execute_reply": "2020-12-15T05:11:01.560069Z"
    },
    "jupyter": {
     "source_hidden": true
    },
    "papermill": {
     "duration": 0.014382,
     "end_time": "2020-12-15T05:11:01.560253",
     "exception": false,
     "start_time": "2020-12-15T05:11:01.545871",
     "status": "completed"
    },
    "tags": [
     "injected-parameters"
    ]
   },
   "outputs": [],
   "source": [
    "# Parameters\n",
    "filepath = \"/tmp/avocado.csv\"\n",
    "n_estimators = 150\n",
    "max_features = \"auto\"\n",
    "ml_id = \"auto_150\"\n"
   ]
  },
  {
   "cell_type": "code",
   "execution_count": 5,
   "metadata": {
    "_uuid": "55d0e719eb8b91d763c1eacaf0f51ee0586486fc",
    "execution": {
     "iopub.execute_input": "2020-12-15T05:11:01.584883Z",
     "iopub.status.busy": "2020-12-15T05:11:01.584385Z",
     "iopub.status.idle": "2020-12-15T05:11:01.611479Z",
     "shell.execute_reply": "2020-12-15T05:11:01.610967Z"
    },
    "jupyter": {
     "source_hidden": true
    },
    "papermill": {
     "duration": 0.041156,
     "end_time": "2020-12-15T05:11:01.611577",
     "exception": false,
     "start_time": "2020-12-15T05:11:01.570421",
     "status": "completed"
    },
    "tags": []
   },
   "outputs": [],
   "source": [
    "df= pd.read_csv(filepath)"
   ]
  },
  {
   "cell_type": "markdown",
   "metadata": {
    "_uuid": "434e0457f550e2200424e5ec26162e1aa5904005",
    "papermill": {
     "duration": 0.008618,
     "end_time": "2020-12-15T05:11:01.628677",
     "exception": false,
     "start_time": "2020-12-15T05:11:01.620059",
     "status": "completed"
    },
    "tags": []
   },
   "source": [
    "The Feature \"Unnamed:0\" is just a representation of the indexes, so it's useless to keep it, lets remove it !"
   ]
  },
  {
   "cell_type": "code",
   "execution_count": 6,
   "metadata": {
    "_uuid": "9875398e37728dc3141fed4228be337a4735beb6",
    "execution": {
     "iopub.execute_input": "2020-12-15T05:11:01.650525Z",
     "iopub.status.busy": "2020-12-15T05:11:01.650132Z",
     "iopub.status.idle": "2020-12-15T05:11:01.652660Z",
     "shell.execute_reply": "2020-12-15T05:11:01.652338Z"
    },
    "jupyter": {
     "source_hidden": true
    },
    "papermill": {
     "duration": 0.015942,
     "end_time": "2020-12-15T05:11:01.652754",
     "exception": false,
     "start_time": "2020-12-15T05:11:01.636812",
     "status": "completed"
    },
    "tags": []
   },
   "outputs": [],
   "source": [
    "df.drop('Unnamed: 0',axis=1,inplace=True)"
   ]
  },
  {
   "cell_type": "markdown",
   "metadata": {
    "_uuid": "12e94ad381e4cb8d2c8a9bbe08ce07ab5d49c040",
    "papermill": {
     "duration": 0.009798,
     "end_time": "2020-12-15T05:11:01.671116",
     "exception": false,
     "start_time": "2020-12-15T05:11:01.661318",
     "status": "completed"
    },
    "tags": []
   },
   "source": [
    "well as a first observation we can see that we are lucky, we dont have any missing values (18249 complete data) and 13 columns.\n",
    "Now let's do some Feature Engineering on the Date Feature so we can be able to use the day and the month columns in building our machine learning model later. ( I didn't mention the year because its already there in data frame)"
   ]
  },
  {
   "cell_type": "code",
   "execution_count": 7,
   "metadata": {
    "_uuid": "f031639ce794656e877484d1c9c356df7028177f",
    "execution": {
     "iopub.execute_input": "2020-12-15T05:11:01.692626Z",
     "iopub.status.busy": "2020-12-15T05:11:01.692250Z",
     "iopub.status.idle": "2020-12-15T05:11:01.807376Z",
     "shell.execute_reply": "2020-12-15T05:11:01.807037Z"
    },
    "jupyter": {
     "source_hidden": true
    },
    "papermill": {
     "duration": 0.127992,
     "end_time": "2020-12-15T05:11:01.807473",
     "exception": false,
     "start_time": "2020-12-15T05:11:01.679481",
     "status": "completed"
    },
    "tags": []
   },
   "outputs": [],
   "source": [
    "df['Date']=pd.to_datetime(df['Date'])\n",
    "df['Month']=df['Date'].apply(lambda x:x.month)\n",
    "df['Day']=df['Date'].apply(lambda x:x.day)"
   ]
  },
  {
   "cell_type": "markdown",
   "metadata": {
    "_uuid": "ebdcac9924ce3e366fd3a75170682f7113385b7a",
    "papermill": {
     "duration": 0.008819,
     "end_time": "2020-12-15T05:11:01.824872",
     "exception": false,
     "start_time": "2020-12-15T05:11:01.816053",
     "status": "completed"
    },
    "tags": []
   },
   "source": [
    "as we can see we have 54 regions and 2 unique types, so it's going to be easy to to transform the type feature to dummies, but for the region its going to be a bit complexe so I decided to drop the entire column.\n",
    "I will drop the Date Feature as well because I already have 3 other columns for the Year, Month and Day."
   ]
  },
  {
   "cell_type": "code",
   "execution_count": 8,
   "metadata": {
    "_uuid": "a798682da34327b731ef262985fd50ba68e06460",
    "execution": {
     "iopub.execute_input": "2020-12-15T05:11:01.846184Z",
     "iopub.status.busy": "2020-12-15T05:11:01.845705Z",
     "iopub.status.idle": "2020-12-15T05:11:01.854633Z",
     "shell.execute_reply": "2020-12-15T05:11:01.854302Z"
    },
    "jupyter": {
     "source_hidden": true
    },
    "papermill": {
     "duration": 0.021012,
     "end_time": "2020-12-15T05:11:01.854730",
     "exception": false,
     "start_time": "2020-12-15T05:11:01.833718",
     "status": "completed"
    },
    "tags": []
   },
   "outputs": [],
   "source": [
    "df_final=pd.get_dummies(df.drop(['region','Date'],axis=1),drop_first=True)"
   ]
  },
  {
   "cell_type": "markdown",
   "metadata": {
    "_uuid": "8b74a6b88cb3e9b3e1d1e987e061048f203c7364",
    "papermill": {
     "duration": 0.00833,
     "end_time": "2020-12-15T05:11:01.871702",
     "exception": false,
     "start_time": "2020-12-15T05:11:01.863372",
     "status": "completed"
    },
    "tags": []
   },
   "source": [
    "Now our data are ready! lets apply our model which is going to be the Linear Regression because our Target variable 'AveragePrice'is continuous.\n",
    "Let's now begin to train out regression model! We will need to first split up our data into an X array that contains the features to train on, and a y array with the target variable"
   ]
  },
  {
   "cell_type": "code",
   "execution_count": 9,
   "metadata": {
    "_uuid": "830591f99de9715241e688bf9ce265e979401ff5",
    "execution": {
     "iopub.execute_input": "2020-12-15T05:11:01.892494Z",
     "iopub.status.busy": "2020-12-15T05:11:01.892119Z",
     "iopub.status.idle": "2020-12-15T05:11:01.901613Z",
     "shell.execute_reply": "2020-12-15T05:11:01.901203Z"
    },
    "jupyter": {
     "source_hidden": true
    },
    "papermill": {
     "duration": 0.021636,
     "end_time": "2020-12-15T05:11:01.901707",
     "exception": false,
     "start_time": "2020-12-15T05:11:01.880071",
     "status": "completed"
    },
    "tags": []
   },
   "outputs": [],
   "source": [
    "X=df_final.iloc[:,1:14]\n",
    "y=df_final['AveragePrice']\n",
    "from sklearn.model_selection import train_test_split\n",
    "X_train,X_test,y_train,y_test=train_test_split(X,y,test_size=0.2,random_state=42)"
   ]
  },
  {
   "cell_type": "markdown",
   "metadata": {
    "_uuid": "ea730c77a31cde9de98263079a189accb8b5772b",
    "papermill": {
     "duration": 0.008797,
     "end_time": "2020-12-15T05:11:01.919175",
     "exception": false,
     "start_time": "2020-12-15T05:11:01.910378",
     "status": "completed"
    },
    "tags": []
   },
   "source": [
    "Creating and Training the Model"
   ]
  },
  {
   "cell_type": "code",
   "execution_count": 10,
   "metadata": {
    "_uuid": "eb37015e78974e5fd2ae7e13d065c8ab0a9c6948",
    "execution": {
     "iopub.execute_input": "2020-12-15T05:11:01.939951Z",
     "iopub.status.busy": "2020-12-15T05:11:01.939577Z",
     "iopub.status.idle": "2020-12-15T05:11:13.831117Z",
     "shell.execute_reply": "2020-12-15T05:11:13.830599Z"
    },
    "jupyter": {
     "source_hidden": true
    },
    "papermill": {
     "duration": 11.903607,
     "end_time": "2020-12-15T05:11:13.831227",
     "exception": false,
     "start_time": "2020-12-15T05:11:01.927620",
     "status": "completed"
    },
    "tags": []
   },
   "outputs": [],
   "source": [
    "from sklearn.ensemble import RandomForestRegressor\n",
    "rdr = RandomForestRegressor(\n",
    "    n_estimators=n_estimators,\n",
    "    max_features=max_features\n",
    ")\n",
    "rdr.fit(X_train,y_train)\n",
    "pred=rdr.predict(X_test)"
   ]
  },
  {
   "cell_type": "code",
   "execution_count": 11,
   "metadata": {
    "_uuid": "7ed5b8d4e8abb44a4b548c13ac9fb2d65227d1c5",
    "execution": {
     "iopub.execute_input": "2020-12-15T05:11:13.853375Z",
     "iopub.status.busy": "2020-12-15T05:11:13.852862Z",
     "iopub.status.idle": "2020-12-15T05:11:13.855516Z",
     "shell.execute_reply": "2020-12-15T05:11:13.855041Z"
    },
    "jupyter": {
     "source_hidden": true
    },
    "papermill": {
     "duration": 0.0149,
     "end_time": "2020-12-15T05:11:13.855622",
     "exception": false,
     "start_time": "2020-12-15T05:11:13.840722",
     "status": "completed"
    },
    "tags": []
   },
   "outputs": [],
   "source": [
    "#%%capture cap --no-stderr\n",
    "#print(np.sqrt(mean_squared_error(y_test, pred)))"
   ]
  },
  {
   "cell_type": "code",
   "execution_count": 12,
   "metadata": {
    "execution": {
     "iopub.execute_input": "2020-12-15T05:11:13.877556Z",
     "iopub.status.busy": "2020-12-15T05:11:13.877060Z",
     "iopub.status.idle": "2020-12-15T05:11:13.879286Z",
     "shell.execute_reply": "2020-12-15T05:11:13.878800Z"
    },
    "jupyter": {
     "source_hidden": true
    },
    "papermill": {
     "duration": 0.014454,
     "end_time": "2020-12-15T05:11:13.879392",
     "exception": false,
     "start_time": "2020-12-15T05:11:13.864938",
     "status": "completed"
    },
    "tags": []
   },
   "outputs": [],
   "source": [
    "#with open(output_rmse, 'w') as f:\n",
    "#    f.write(cap.stdout)"
   ]
  },
  {
   "cell_type": "code",
   "execution_count": 13,
   "metadata": {
    "execution": {
     "iopub.execute_input": "2020-12-15T05:11:13.902834Z",
     "iopub.status.busy": "2020-12-15T05:11:13.902269Z",
     "iopub.status.idle": "2020-12-15T05:11:13.919076Z",
     "shell.execute_reply": "2020-12-15T05:11:13.919578Z"
    },
    "jupyter": {
     "source_hidden": true
    },
    "papermill": {
     "duration": 0.030931,
     "end_time": "2020-12-15T05:11:13.919713",
     "exception": false,
     "start_time": "2020-12-15T05:11:13.888782",
     "status": "completed"
    },
    "tags": []
   },
   "outputs": [
    {
     "data": {
      "text/plain": [
       "<sqlalchemy.engine.result.ResultProxy at 0x7f6a7b531750>"
      ]
     },
     "execution_count": 13,
     "metadata": {},
     "output_type": "execute_result"
    }
   ],
   "source": [
    "cnx.execute(\"\"\"\n",
    "    INSERT INTO ml.accuracies (ml_id, ml_date, accuracy) VALUES ('{0}', '{1}', {2}) \n",
    "    ON CONFLICT (ml_id, ml_date) \n",
    "    DO\n",
    "        UPDATE SET accuracy = {2};\n",
    "    \"\"\".format(ml_id, ml_date, np.sqrt(mean_squared_error(y_test, pred))))"
   ]
  }
 ],
 "metadata": {
  "kernelspec": {
   "display_name": "Python 3",
   "language": "python",
   "name": "python3"
  },
  "language_info": {
   "codemirror_mode": {
    "name": "ipython",
    "version": 3
   },
   "file_extension": ".py",
   "mimetype": "text/x-python",
   "name": "python",
   "nbconvert_exporter": "python",
   "pygments_lexer": "ipython3",
   "version": "3.7.9"
  },
  "papermill": {
   "duration": 14.515476,
   "end_time": "2020-12-15T05:11:14.340779",
   "environment_variables": {},
   "exception": null,
   "input_path": "/usr/local/airflow/include/notebooks/avocado_prediction.ipynb",
   "output_path": "/tmp/out-model-avocado-prediction-auto_150.ipynb",
   "parameters": {
    "filepath": "/tmp/avocado.csv",
    "max_features": "auto",
    "ml_id": "auto_150",
    "n_estimators": 150
   },
   "start_time": "2020-12-15T05:10:59.825303",
   "version": "2.1.2"
  }
 },
 "nbformat": 4,
 "nbformat_minor": 4
}