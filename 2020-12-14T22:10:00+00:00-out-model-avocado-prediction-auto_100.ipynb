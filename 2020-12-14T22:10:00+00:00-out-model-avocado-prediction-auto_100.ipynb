{
 "cells": [
  {
   "cell_type": "code",
   "execution_count": 1,
   "metadata": {
    "_cell_guid": "79c7e3d0-c299-4dcb-8224-4455121ee9b0",
    "_uuid": "d629ff2d2480ee46fbb7e2d37f6b5fab8052498a",
    "execution": {
     "iopub.execute_input": "2020-12-14T22:20:41.368399Z",
     "iopub.status.busy": "2020-12-14T22:20:41.367902Z",
     "iopub.status.idle": "2020-12-14T22:20:41.965939Z",
     "shell.execute_reply": "2020-12-14T22:20:41.965547Z"
    },
    "jupyter": {
     "source_hidden": true
    },
    "papermill": {
     "duration": 0.61463,
     "end_time": "2020-12-14T22:20:41.966071",
     "exception": false,
     "start_time": "2020-12-14T22:20:41.351441",
     "status": "completed"
    },
    "tags": []
   },
   "outputs": [],
   "source": [
    "import pandas as pd\n",
    "import numpy as np\n",
    "from sqlalchemy import create_engine\n",
    "from datetime import date\n",
    "from sklearn.metrics import mean_squared_error"
   ]
  },
  {
   "cell_type": "code",
   "execution_count": 2,
   "metadata": {
    "execution": {
     "iopub.execute_input": "2020-12-14T22:20:41.985929Z",
     "iopub.status.busy": "2020-12-14T22:20:41.985555Z",
     "iopub.status.idle": "2020-12-14T22:20:42.037471Z",
     "shell.execute_reply": "2020-12-14T22:20:42.036960Z"
    },
    "jupyter": {
     "source_hidden": true
    },
    "papermill": {
     "duration": 0.063682,
     "end_time": "2020-12-14T22:20:42.037599",
     "exception": false,
     "start_time": "2020-12-14T22:20:41.973917",
     "status": "completed"
    },
    "tags": []
   },
   "outputs": [],
   "source": [
    "# THIS IS PURELY FOR TEST PURPOSE NEVER DO THAT IN PRODUCTION\n",
    "POSTGRES_ADDRESS='postgres'\n",
    "POSTGRES_PORT='5432'\n",
    "POSTGRES_USERNAME='postgres'\n",
    "POSTGRES_PASSWORD='postgres'\n",
    "\n",
    "postgres_conn = 'postgresql://{0}:{1}@{2}:{3}/'.format(POSTGRES_USERNAME, POSTGRES_PASSWORD, POSTGRES_ADDRESS, POSTGRES_PORT)\n",
    "\n",
    "# Create the connection\n",
    "cnx = create_engine(postgres_conn)\n"
   ]
  },
  {
   "cell_type": "markdown",
   "metadata": {
    "_uuid": "1998755ef10683262b29765345cff1c1c7d10b15",
    "papermill": {
     "duration": 0.008367,
     "end_time": "2020-12-14T22:20:42.055951",
     "exception": false,
     "start_time": "2020-12-14T22:20:42.047584",
     "status": "completed"
    },
    "tags": []
   },
   "source": [
    "Read in the Avocado Prices csv file as a DataFrame called df"
   ]
  },
  {
   "cell_type": "code",
   "execution_count": 3,
   "metadata": {
    "execution": {
     "iopub.execute_input": "2020-12-14T22:20:42.075925Z",
     "iopub.status.busy": "2020-12-14T22:20:42.075494Z",
     "iopub.status.idle": "2020-12-14T22:20:42.078251Z",
     "shell.execute_reply": "2020-12-14T22:20:42.077865Z"
    },
    "jupyter": {
     "source_hidden": true
    },
    "papermill": {
     "duration": 0.014257,
     "end_time": "2020-12-14T22:20:42.078379",
     "exception": false,
     "start_time": "2020-12-14T22:20:42.064122",
     "status": "completed"
    },
    "tags": [
     "parameters"
    ]
   },
   "outputs": [],
   "source": [
    "# Parameterized\n",
    "\n",
    "filepath='avocado.csv'\n",
    "ml_id='auto_100'\n",
    "ml_date=date.today()\n",
    "n_estimators = 100\n",
    "max_features = 'auto'"
   ]
  },
  {
   "cell_type": "code",
   "execution_count": 4,
   "metadata": {
    "execution": {
     "iopub.execute_input": "2020-12-14T22:20:42.097193Z",
     "iopub.status.busy": "2020-12-14T22:20:42.096617Z",
     "iopub.status.idle": "2020-12-14T22:20:42.099265Z",
     "shell.execute_reply": "2020-12-14T22:20:42.098821Z"
    },
    "jupyter": {
     "source_hidden": true
    },
    "papermill": {
     "duration": 0.013096,
     "end_time": "2020-12-14T22:20:42.099348",
     "exception": false,
     "start_time": "2020-12-14T22:20:42.086252",
     "status": "completed"
    },
    "tags": [
     "injected-parameters"
    ]
   },
   "outputs": [],
   "source": [
    "# Parameters\n",
    "filepath = \"/tmp/avocado.csv\"\n",
    "n_estimators = 100\n",
    "max_features = \"auto\"\n",
    "ml_id = \"auto_100\"\n"
   ]
  },
  {
   "cell_type": "code",
   "execution_count": 5,
   "metadata": {
    "_uuid": "55d0e719eb8b91d763c1eacaf0f51ee0586486fc",
    "execution": {
     "iopub.execute_input": "2020-12-14T22:20:42.118497Z",
     "iopub.status.busy": "2020-12-14T22:20:42.118105Z",
     "iopub.status.idle": "2020-12-14T22:20:42.142412Z",
     "shell.execute_reply": "2020-12-14T22:20:42.141980Z"
    },
    "jupyter": {
     "source_hidden": true
    },
    "papermill": {
     "duration": 0.035403,
     "end_time": "2020-12-14T22:20:42.142508",
     "exception": false,
     "start_time": "2020-12-14T22:20:42.107105",
     "status": "completed"
    },
    "tags": []
   },
   "outputs": [],
   "source": [
    "df= pd.read_csv(filepath)"
   ]
  },
  {
   "cell_type": "markdown",
   "metadata": {
    "_uuid": "434e0457f550e2200424e5ec26162e1aa5904005",
    "papermill": {
     "duration": 0.007923,
     "end_time": "2020-12-14T22:20:42.158500",
     "exception": false,
     "start_time": "2020-12-14T22:20:42.150577",
     "status": "completed"
    },
    "tags": []
   },
   "source": [
    "The Feature \"Unnamed:0\" is just a representation of the indexes, so it's useless to keep it, lets remove it !"
   ]
  },
  {
   "cell_type": "code",
   "execution_count": 6,
   "metadata": {
    "_uuid": "9875398e37728dc3141fed4228be337a4735beb6",
    "execution": {
     "iopub.execute_input": "2020-12-14T22:20:42.179263Z",
     "iopub.status.busy": "2020-12-14T22:20:42.178850Z",
     "iopub.status.idle": "2020-12-14T22:20:42.181561Z",
     "shell.execute_reply": "2020-12-14T22:20:42.181231Z"
    },
    "jupyter": {
     "source_hidden": true
    },
    "papermill": {
     "duration": 0.015265,
     "end_time": "2020-12-14T22:20:42.181644",
     "exception": false,
     "start_time": "2020-12-14T22:20:42.166379",
     "status": "completed"
    },
    "tags": []
   },
   "outputs": [],
   "source": [
    "df.drop('Unnamed: 0',axis=1,inplace=True)"
   ]
  },
  {
   "cell_type": "markdown",
   "metadata": {
    "_uuid": "12e94ad381e4cb8d2c8a9bbe08ce07ab5d49c040",
    "papermill": {
     "duration": 0.008111,
     "end_time": "2020-12-14T22:20:42.197854",
     "exception": false,
     "start_time": "2020-12-14T22:20:42.189743",
     "status": "completed"
    },
    "tags": []
   },
   "source": [
    "well as a first observation we can see that we are lucky, we dont have any missing values (18249 complete data) and 13 columns.\n",
    "Now let's do some Feature Engineering on the Date Feature so we can be able to use the day and the month columns in building our machine learning model later. ( I didn't mention the year because its already there in data frame)"
   ]
  },
  {
   "cell_type": "code",
   "execution_count": 7,
   "metadata": {
    "_uuid": "f031639ce794656e877484d1c9c356df7028177f",
    "execution": {
     "iopub.execute_input": "2020-12-14T22:20:42.218312Z",
     "iopub.status.busy": "2020-12-14T22:20:42.217839Z",
     "iopub.status.idle": "2020-12-14T22:20:42.324855Z",
     "shell.execute_reply": "2020-12-14T22:20:42.324453Z"
    },
    "jupyter": {
     "source_hidden": true
    },
    "papermill": {
     "duration": 0.119053,
     "end_time": "2020-12-14T22:20:42.324961",
     "exception": false,
     "start_time": "2020-12-14T22:20:42.205908",
     "status": "completed"
    },
    "tags": []
   },
   "outputs": [],
   "source": [
    "df['Date']=pd.to_datetime(df['Date'])\n",
    "df['Month']=df['Date'].apply(lambda x:x.month)\n",
    "df['Day']=df['Date'].apply(lambda x:x.day)"
   ]
  },
  {
   "cell_type": "markdown",
   "metadata": {
    "_uuid": "ebdcac9924ce3e366fd3a75170682f7113385b7a",
    "papermill": {
     "duration": 0.008556,
     "end_time": "2020-12-14T22:20:42.342323",
     "exception": false,
     "start_time": "2020-12-14T22:20:42.333767",
     "status": "completed"
    },
    "tags": []
   },
   "source": [
    "as we can see we have 54 regions and 2 unique types, so it's going to be easy to to transform the type feature to dummies, but for the region its going to be a bit complexe so I decided to drop the entire column.\n",
    "I will drop the Date Feature as well because I already have 3 other columns for the Year, Month and Day."
   ]
  },
  {
   "cell_type": "code",
   "execution_count": 8,
   "metadata": {
    "_uuid": "a798682da34327b731ef262985fd50ba68e06460",
    "execution": {
     "iopub.execute_input": "2020-12-14T22:20:42.364196Z",
     "iopub.status.busy": "2020-12-14T22:20:42.362171Z",
     "iopub.status.idle": "2020-12-14T22:20:42.371569Z",
     "shell.execute_reply": "2020-12-14T22:20:42.371213Z"
    },
    "jupyter": {
     "source_hidden": true
    },
    "papermill": {
     "duration": 0.021108,
     "end_time": "2020-12-14T22:20:42.371664",
     "exception": false,
     "start_time": "2020-12-14T22:20:42.350556",
     "status": "completed"
    },
    "tags": []
   },
   "outputs": [],
   "source": [
    "df_final=pd.get_dummies(df.drop(['region','Date'],axis=1),drop_first=True)"
   ]
  },
  {
   "cell_type": "markdown",
   "metadata": {
    "_uuid": "8b74a6b88cb3e9b3e1d1e987e061048f203c7364",
    "papermill": {
     "duration": 0.008969,
     "end_time": "2020-12-14T22:20:42.389284",
     "exception": false,
     "start_time": "2020-12-14T22:20:42.380315",
     "status": "completed"
    },
    "tags": []
   },
   "source": [
    "Now our data are ready! lets apply our model which is going to be the Linear Regression because our Target variable 'AveragePrice'is continuous.\n",
    "Let's now begin to train out regression model! We will need to first split up our data into an X array that contains the features to train on, and a y array with the target variable"
   ]
  },
  {
   "cell_type": "code",
   "execution_count": 9,
   "metadata": {
    "_uuid": "830591f99de9715241e688bf9ce265e979401ff5",
    "execution": {
     "iopub.execute_input": "2020-12-14T22:20:42.409847Z",
     "iopub.status.busy": "2020-12-14T22:20:42.409470Z",
     "iopub.status.idle": "2020-12-14T22:20:42.419592Z",
     "shell.execute_reply": "2020-12-14T22:20:42.419236Z"
    },
    "jupyter": {
     "source_hidden": true
    },
    "papermill": {
     "duration": 0.022036,
     "end_time": "2020-12-14T22:20:42.419687",
     "exception": false,
     "start_time": "2020-12-14T22:20:42.397651",
     "status": "completed"
    },
    "tags": []
   },
   "outputs": [],
   "source": [
    "X=df_final.iloc[:,1:14]\n",
    "y=df_final['AveragePrice']\n",
    "from sklearn.model_selection import train_test_split\n",
    "X_train,X_test,y_train,y_test=train_test_split(X,y,test_size=0.2,random_state=42)"
   ]
  },
  {
   "cell_type": "markdown",
   "metadata": {
    "_uuid": "ea730c77a31cde9de98263079a189accb8b5772b",
    "papermill": {
     "duration": 0.00847,
     "end_time": "2020-12-14T22:20:42.436884",
     "exception": false,
     "start_time": "2020-12-14T22:20:42.428414",
     "status": "completed"
    },
    "tags": []
   },
   "source": [
    "Creating and Training the Model"
   ]
  },
  {
   "cell_type": "code",
   "execution_count": 10,
   "metadata": {
    "_uuid": "eb37015e78974e5fd2ae7e13d065c8ab0a9c6948",
    "execution": {
     "iopub.execute_input": "2020-12-14T22:20:42.459092Z",
     "iopub.status.busy": "2020-12-14T22:20:42.458646Z",
     "iopub.status.idle": "2020-12-14T22:20:50.441725Z",
     "shell.execute_reply": "2020-12-14T22:20:50.441255Z"
    },
    "jupyter": {
     "source_hidden": true
    },
    "papermill": {
     "duration": 7.996405,
     "end_time": "2020-12-14T22:20:50.441832",
     "exception": false,
     "start_time": "2020-12-14T22:20:42.445427",
     "status": "completed"
    },
    "tags": []
   },
   "outputs": [],
   "source": [
    "from sklearn.ensemble import RandomForestRegressor\n",
    "rdr = RandomForestRegressor(\n",
    "    n_estimators=n_estimators,\n",
    "    max_features=max_features\n",
    ")\n",
    "rdr.fit(X_train,y_train)\n",
    "pred=rdr.predict(X_test)"
   ]
  },
  {
   "cell_type": "code",
   "execution_count": 11,
   "metadata": {
    "_uuid": "7ed5b8d4e8abb44a4b548c13ac9fb2d65227d1c5",
    "execution": {
     "iopub.execute_input": "2020-12-14T22:20:50.463221Z",
     "iopub.status.busy": "2020-12-14T22:20:50.462725Z",
     "iopub.status.idle": "2020-12-14T22:20:50.465524Z",
     "shell.execute_reply": "2020-12-14T22:20:50.465165Z"
    },
    "jupyter": {
     "source_hidden": true
    },
    "papermill": {
     "duration": 0.014453,
     "end_time": "2020-12-14T22:20:50.465608",
     "exception": false,
     "start_time": "2020-12-14T22:20:50.451155",
     "status": "completed"
    },
    "tags": []
   },
   "outputs": [],
   "source": [
    "#%%capture cap --no-stderr\n",
    "#print(np.sqrt(mean_squared_error(y_test, pred)))"
   ]
  },
  {
   "cell_type": "code",
   "execution_count": 12,
   "metadata": {
    "execution": {
     "iopub.execute_input": "2020-12-14T22:20:50.486835Z",
     "iopub.status.busy": "2020-12-14T22:20:50.486449Z",
     "iopub.status.idle": "2020-12-14T22:20:50.488965Z",
     "shell.execute_reply": "2020-12-14T22:20:50.488654Z"
    },
    "jupyter": {
     "source_hidden": true
    },
    "papermill": {
     "duration": 0.015033,
     "end_time": "2020-12-14T22:20:50.489053",
     "exception": false,
     "start_time": "2020-12-14T22:20:50.474020",
     "status": "completed"
    },
    "tags": []
   },
   "outputs": [],
   "source": [
    "#with open(output_rmse, 'w') as f:\n",
    "#    f.write(cap.stdout)"
   ]
  },
  {
   "cell_type": "code",
   "execution_count": 13,
   "metadata": {
    "execution": {
     "iopub.execute_input": "2020-12-14T22:20:50.513655Z",
     "iopub.status.busy": "2020-12-14T22:20:50.513053Z",
     "iopub.status.idle": "2020-12-14T22:20:50.530042Z",
     "shell.execute_reply": "2020-12-14T22:20:50.529546Z"
    },
    "jupyter": {
     "source_hidden": true
    },
    "papermill": {
     "duration": 0.032525,
     "end_time": "2020-12-14T22:20:50.530152",
     "exception": false,
     "start_time": "2020-12-14T22:20:50.497627",
     "status": "completed"
    },
    "tags": []
   },
   "outputs": [
    {
     "data": {
      "text/plain": [
       "<sqlalchemy.engine.result.ResultProxy at 0x7f4dc0969d50>"
      ]
     },
     "execution_count": 13,
     "metadata": {},
     "output_type": "execute_result"
    }
   ],
   "source": [
    "cnx.execute(\"\"\"\n",
    "    INSERT INTO ml.accuracies (ml_id, ml_date, accuracy) VALUES ('{0}', '{1}', {2}) \n",
    "    ON CONFLICT (ml_id, ml_date) \n",
    "    DO\n",
    "        UPDATE SET accuracy = {2};\n",
    "    \"\"\".format(ml_id, ml_date, np.sqrt(mean_squared_error(y_test, pred))))"
   ]
  }
 ],
 "metadata": {
  "kernelspec": {
   "display_name": "Python 3",
   "language": "python",
   "name": "python3"
  },
  "language_info": {
   "codemirror_mode": {
    "name": "ipython",
    "version": 3
   },
   "file_extension": ".py",
   "mimetype": "text/x-python",
   "name": "python",
   "nbconvert_exporter": "python",
   "pygments_lexer": "ipython3",
   "version": "3.7.9"
  },
  "papermill": {
   "duration": 10.533484,
   "end_time": "2020-12-14T22:20:50.847921",
   "environment_variables": {},
   "exception": null,
   "input_path": "/usr/local/airflow/include/notebooks/avocado_prediction.ipynb",
   "output_path": "/tmp/out-model-avocado-prediction-auto_100.ipynb",
   "parameters": {
    "filepath": "/tmp/avocado.csv",
    "max_features": "auto",
    "ml_id": "auto_100",
    "n_estimators": 100
   },
   "start_time": "2020-12-14T22:20:40.314437",
   "version": "2.1.2"
  }
 },
 "nbformat": 4,
 "nbformat_minor": 4
}