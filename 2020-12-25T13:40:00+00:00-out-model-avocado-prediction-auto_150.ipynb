{
 "cells": [
  {
   "cell_type": "code",
   "execution_count": 1,
   "metadata": {
    "_cell_guid": "79c7e3d0-c299-4dcb-8224-4455121ee9b0",
    "_uuid": "d629ff2d2480ee46fbb7e2d37f6b5fab8052498a",
    "execution": {
     "iopub.execute_input": "2020-12-25T13:54:24.084600Z",
     "iopub.status.busy": "2020-12-25T13:54:24.083756Z",
     "iopub.status.idle": "2020-12-25T13:54:25.566238Z",
     "shell.execute_reply": "2020-12-25T13:54:25.566782Z"
    },
    "jupyter": {
     "source_hidden": true
    },
    "papermill": {
     "duration": 1.514563,
     "end_time": "2020-12-25T13:54:25.567185",
     "exception": false,
     "start_time": "2020-12-25T13:54:24.052622",
     "status": "completed"
    },
    "tags": []
   },
   "outputs": [],
   "source": [
    "import pandas as pd\n",
    "import numpy as np\n",
    "from sqlalchemy import create_engine\n",
    "from datetime import date\n",
    "from sklearn.metrics import mean_squared_error"
   ]
  },
  {
   "cell_type": "code",
   "execution_count": 2,
   "metadata": {
    "execution": {
     "iopub.execute_input": "2020-12-25T13:54:25.606294Z",
     "iopub.status.busy": "2020-12-25T13:54:25.605534Z",
     "iopub.status.idle": "2020-12-25T13:54:25.687657Z",
     "shell.execute_reply": "2020-12-25T13:54:25.688372Z"
    },
    "jupyter": {
     "source_hidden": true
    },
    "papermill": {
     "duration": 0.104417,
     "end_time": "2020-12-25T13:54:25.688584",
     "exception": false,
     "start_time": "2020-12-25T13:54:25.584167",
     "status": "completed"
    },
    "tags": []
   },
   "outputs": [],
   "source": [
    "# THIS IS PURELY FOR TEST PURPOSE NEVER DO THAT IN PRODUCTION\n",
    "POSTGRES_ADDRESS='postgres'\n",
    "POSTGRES_PORT='5432'\n",
    "POSTGRES_USERNAME='postgres'\n",
    "POSTGRES_PASSWORD='postgres'\n",
    "\n",
    "postgres_conn = 'postgresql://{0}:{1}@{2}:{3}/'.format(POSTGRES_USERNAME, POSTGRES_PASSWORD, POSTGRES_ADDRESS, POSTGRES_PORT)\n",
    "\n",
    "# Create the connection\n",
    "cnx = create_engine(postgres_conn)\n"
   ]
  },
  {
   "cell_type": "markdown",
   "metadata": {
    "_uuid": "1998755ef10683262b29765345cff1c1c7d10b15",
    "papermill": {
     "duration": 0.020433,
     "end_time": "2020-12-25T13:54:25.729284",
     "exception": false,
     "start_time": "2020-12-25T13:54:25.708851",
     "status": "completed"
    },
    "tags": []
   },
   "source": [
    "Read in the Avocado Prices csv file as a DataFrame called df"
   ]
  },
  {
   "cell_type": "code",
   "execution_count": 3,
   "metadata": {
    "execution": {
     "iopub.execute_input": "2020-12-25T13:54:25.775830Z",
     "iopub.status.busy": "2020-12-25T13:54:25.774576Z",
     "iopub.status.idle": "2020-12-25T13:54:25.778954Z",
     "shell.execute_reply": "2020-12-25T13:54:25.779504Z"
    },
    "jupyter": {
     "source_hidden": true
    },
    "papermill": {
     "duration": 0.030317,
     "end_time": "2020-12-25T13:54:25.779765",
     "exception": false,
     "start_time": "2020-12-25T13:54:25.749448",
     "status": "completed"
    },
    "tags": [
     "parameters"
    ]
   },
   "outputs": [],
   "source": [
    "# Parameterized\n",
    "\n",
    "filepath='avocado.csv'\n",
    "ml_id='auto_100'\n",
    "ml_date=date.today()\n",
    "n_estimators = 100\n",
    "max_features = 'auto'"
   ]
  },
  {
   "cell_type": "code",
   "execution_count": 4,
   "metadata": {
    "execution": {
     "iopub.execute_input": "2020-12-25T13:54:25.825572Z",
     "iopub.status.busy": "2020-12-25T13:54:25.823923Z",
     "iopub.status.idle": "2020-12-25T13:54:25.827567Z",
     "shell.execute_reply": "2020-12-25T13:54:25.828225Z"
    },
    "jupyter": {
     "source_hidden": true
    },
    "papermill": {
     "duration": 0.030078,
     "end_time": "2020-12-25T13:54:25.828402",
     "exception": false,
     "start_time": "2020-12-25T13:54:25.798324",
     "status": "completed"
    },
    "tags": [
     "injected-parameters"
    ]
   },
   "outputs": [],
   "source": [
    "# Parameters\n",
    "filepath = \"/usr/local/airflow/include/tmp/avocado.csv\"\n",
    "n_estimators = 150\n",
    "max_features = \"auto\"\n",
    "ml_id = \"auto_150\"\n"
   ]
  },
  {
   "cell_type": "code",
   "execution_count": 5,
   "metadata": {
    "_uuid": "55d0e719eb8b91d763c1eacaf0f51ee0586486fc",
    "execution": {
     "iopub.execute_input": "2020-12-25T13:54:25.888815Z",
     "iopub.status.busy": "2020-12-25T13:54:25.884029Z",
     "iopub.status.idle": "2020-12-25T13:54:25.960301Z",
     "shell.execute_reply": "2020-12-25T13:54:25.960802Z"
    },
    "jupyter": {
     "source_hidden": true
    },
    "papermill": {
     "duration": 0.113805,
     "end_time": "2020-12-25T13:54:25.961045",
     "exception": false,
     "start_time": "2020-12-25T13:54:25.847240",
     "status": "completed"
    },
    "tags": []
   },
   "outputs": [],
   "source": [
    "df= pd.read_csv(filepath)"
   ]
  },
  {
   "cell_type": "markdown",
   "metadata": {
    "_uuid": "434e0457f550e2200424e5ec26162e1aa5904005",
    "papermill": {
     "duration": 0.023247,
     "end_time": "2020-12-25T13:54:26.003869",
     "exception": false,
     "start_time": "2020-12-25T13:54:25.980622",
     "status": "completed"
    },
    "tags": []
   },
   "source": [
    "The Feature \"Unnamed:0\" is just a representation of the indexes, so it's useless to keep it, lets remove it !"
   ]
  },
  {
   "cell_type": "code",
   "execution_count": 6,
   "metadata": {
    "_uuid": "9875398e37728dc3141fed4228be337a4735beb6",
    "execution": {
     "iopub.execute_input": "2020-12-25T13:54:26.062160Z",
     "iopub.status.busy": "2020-12-25T13:54:26.060408Z",
     "iopub.status.idle": "2020-12-25T13:54:26.062900Z",
     "shell.execute_reply": "2020-12-25T13:54:26.063376Z"
    },
    "jupyter": {
     "source_hidden": true
    },
    "papermill": {
     "duration": 0.036568,
     "end_time": "2020-12-25T13:54:26.063547",
     "exception": false,
     "start_time": "2020-12-25T13:54:26.026979",
     "status": "completed"
    },
    "tags": []
   },
   "outputs": [],
   "source": [
    "df.drop('Unnamed: 0',axis=1,inplace=True)"
   ]
  },
  {
   "cell_type": "markdown",
   "metadata": {
    "_uuid": "12e94ad381e4cb8d2c8a9bbe08ce07ab5d49c040",
    "papermill": {
     "duration": 0.026254,
     "end_time": "2020-12-25T13:54:26.109170",
     "exception": false,
     "start_time": "2020-12-25T13:54:26.082916",
     "status": "completed"
    },
    "tags": []
   },
   "source": [
    "well as a first observation we can see that we are lucky, we dont have any missing values (18249 complete data) and 13 columns.\n",
    "Now let's do some Feature Engineering on the Date Feature so we can be able to use the day and the month columns in building our machine learning model later. ( I didn't mention the year because its already there in data frame)"
   ]
  },
  {
   "cell_type": "code",
   "execution_count": 7,
   "metadata": {
    "_uuid": "f031639ce794656e877484d1c9c356df7028177f",
    "execution": {
     "iopub.execute_input": "2020-12-25T13:54:26.167957Z",
     "iopub.status.busy": "2020-12-25T13:54:26.164999Z",
     "iopub.status.idle": "2020-12-25T13:54:26.441005Z",
     "shell.execute_reply": "2020-12-25T13:54:26.440015Z"
    },
    "jupyter": {
     "source_hidden": true
    },
    "papermill": {
     "duration": 0.3079,
     "end_time": "2020-12-25T13:54:26.441179",
     "exception": false,
     "start_time": "2020-12-25T13:54:26.133279",
     "status": "completed"
    },
    "tags": []
   },
   "outputs": [],
   "source": [
    "df['Date']=pd.to_datetime(df['Date'])\n",
    "df['Month']=df['Date'].apply(lambda x:x.month)\n",
    "df['Day']=df['Date'].apply(lambda x:x.day)"
   ]
  },
  {
   "cell_type": "markdown",
   "metadata": {
    "_uuid": "ebdcac9924ce3e366fd3a75170682f7113385b7a",
    "papermill": {
     "duration": 0.022514,
     "end_time": "2020-12-25T13:54:26.486058",
     "exception": false,
     "start_time": "2020-12-25T13:54:26.463544",
     "status": "completed"
    },
    "tags": []
   },
   "source": [
    "as we can see we have 54 regions and 2 unique types, so it's going to be easy to to transform the type feature to dummies, but for the region its going to be a bit complexe so I decided to drop the entire column.\n",
    "I will drop the Date Feature as well because I already have 3 other columns for the Year, Month and Day."
   ]
  },
  {
   "cell_type": "code",
   "execution_count": 8,
   "metadata": {
    "_uuid": "a798682da34327b731ef262985fd50ba68e06460",
    "execution": {
     "iopub.execute_input": "2020-12-25T13:54:26.541693Z",
     "iopub.status.busy": "2020-12-25T13:54:26.540789Z",
     "iopub.status.idle": "2020-12-25T13:54:26.556984Z",
     "shell.execute_reply": "2020-12-25T13:54:26.557988Z"
    },
    "jupyter": {
     "source_hidden": true
    },
    "papermill": {
     "duration": 0.050718,
     "end_time": "2020-12-25T13:54:26.558199",
     "exception": false,
     "start_time": "2020-12-25T13:54:26.507481",
     "status": "completed"
    },
    "tags": []
   },
   "outputs": [],
   "source": [
    "df_final=pd.get_dummies(df.drop(['region','Date'],axis=1),drop_first=True)"
   ]
  },
  {
   "cell_type": "markdown",
   "metadata": {
    "_uuid": "8b74a6b88cb3e9b3e1d1e987e061048f203c7364",
    "papermill": {
     "duration": 0.025534,
     "end_time": "2020-12-25T13:54:26.606781",
     "exception": false,
     "start_time": "2020-12-25T13:54:26.581247",
     "status": "completed"
    },
    "tags": []
   },
   "source": [
    "Now our data are ready! lets apply our model which is going to be the Linear Regression because our Target variable 'AveragePrice'is continuous.\n",
    "Let's now begin to train out regression model! We will need to first split up our data into an X array that contains the features to train on, and a y array with the target variable"
   ]
  },
  {
   "cell_type": "code",
   "execution_count": 9,
   "metadata": {
    "_uuid": "830591f99de9715241e688bf9ce265e979401ff5",
    "execution": {
     "iopub.execute_input": "2020-12-25T13:54:26.660702Z",
     "iopub.status.busy": "2020-12-25T13:54:26.659601Z",
     "iopub.status.idle": "2020-12-25T13:54:26.685614Z",
     "shell.execute_reply": "2020-12-25T13:54:26.684989Z"
    },
    "jupyter": {
     "source_hidden": true
    },
    "papermill": {
     "duration": 0.054895,
     "end_time": "2020-12-25T13:54:26.685881",
     "exception": false,
     "start_time": "2020-12-25T13:54:26.630986",
     "status": "completed"
    },
    "tags": []
   },
   "outputs": [],
   "source": [
    "X=df_final.iloc[:,1:14]\n",
    "y=df_final['AveragePrice']\n",
    "from sklearn.model_selection import train_test_split\n",
    "X_train,X_test,y_train,y_test=train_test_split(X,y,test_size=0.2,random_state=42)"
   ]
  },
  {
   "cell_type": "markdown",
   "metadata": {
    "_uuid": "ea730c77a31cde9de98263079a189accb8b5772b",
    "papermill": {
     "duration": 0.034179,
     "end_time": "2020-12-25T13:54:26.759015",
     "exception": false,
     "start_time": "2020-12-25T13:54:26.724836",
     "status": "completed"
    },
    "tags": []
   },
   "source": [
    "Creating and Training the Model"
   ]
  },
  {
   "cell_type": "code",
   "execution_count": 10,
   "metadata": {
    "_uuid": "eb37015e78974e5fd2ae7e13d065c8ab0a9c6948",
    "execution": {
     "iopub.execute_input": "2020-12-25T13:54:26.847367Z",
     "iopub.status.busy": "2020-12-25T13:54:26.844217Z",
     "iopub.status.idle": "2020-12-25T13:54:47.537181Z",
     "shell.execute_reply": "2020-12-25T13:54:47.538456Z"
    },
    "jupyter": {
     "source_hidden": true
    },
    "papermill": {
     "duration": 20.7301,
     "end_time": "2020-12-25T13:54:47.539043",
     "exception": false,
     "start_time": "2020-12-25T13:54:26.808943",
     "status": "completed"
    },
    "tags": []
   },
   "outputs": [],
   "source": [
    "from sklearn.ensemble import RandomForestRegressor\n",
    "rdr = RandomForestRegressor(\n",
    "    n_estimators=n_estimators,\n",
    "    max_features=max_features\n",
    ")\n",
    "rdr.fit(X_train,y_train)\n",
    "pred=rdr.predict(X_test)"
   ]
  },
  {
   "cell_type": "code",
   "execution_count": 11,
   "metadata": {
    "_uuid": "7ed5b8d4e8abb44a4b548c13ac9fb2d65227d1c5",
    "execution": {
     "iopub.execute_input": "2020-12-25T13:54:47.612121Z",
     "iopub.status.busy": "2020-12-25T13:54:47.610133Z",
     "iopub.status.idle": "2020-12-25T13:54:47.613698Z",
     "shell.execute_reply": "2020-12-25T13:54:47.612830Z"
    },
    "jupyter": {
     "source_hidden": true
    },
    "papermill": {
     "duration": 0.044503,
     "end_time": "2020-12-25T13:54:47.613959",
     "exception": false,
     "start_time": "2020-12-25T13:54:47.569456",
     "status": "completed"
    },
    "tags": []
   },
   "outputs": [],
   "source": [
    "#%%capture cap --no-stderr\n",
    "#print(np.sqrt(mean_squared_error(y_test, pred)))"
   ]
  },
  {
   "cell_type": "code",
   "execution_count": 12,
   "metadata": {
    "execution": {
     "iopub.execute_input": "2020-12-25T13:54:47.672110Z",
     "iopub.status.busy": "2020-12-25T13:54:47.670055Z",
     "iopub.status.idle": "2020-12-25T13:54:47.674617Z",
     "shell.execute_reply": "2020-12-25T13:54:47.674112Z"
    },
    "jupyter": {
     "source_hidden": true
    },
    "papermill": {
     "duration": 0.035647,
     "end_time": "2020-12-25T13:54:47.674760",
     "exception": false,
     "start_time": "2020-12-25T13:54:47.639113",
     "status": "completed"
    },
    "tags": []
   },
   "outputs": [],
   "source": [
    "#with open(output_rmse, 'w') as f:\n",
    "#    f.write(cap.stdout)"
   ]
  },
  {
   "cell_type": "code",
   "execution_count": 13,
   "metadata": {
    "execution": {
     "iopub.execute_input": "2020-12-25T13:54:47.724446Z",
     "iopub.status.busy": "2020-12-25T13:54:47.723172Z",
     "iopub.status.idle": "2020-12-25T13:54:47.751647Z",
     "shell.execute_reply": "2020-12-25T13:54:47.752226Z"
    },
    "jupyter": {
     "source_hidden": true
    },
    "papermill": {
     "duration": 0.057728,
     "end_time": "2020-12-25T13:54:47.752415",
     "exception": false,
     "start_time": "2020-12-25T13:54:47.694687",
     "status": "completed"
    },
    "tags": []
   },
   "outputs": [
    {
     "data": {
      "text/plain": [
       "<sqlalchemy.engine.result.ResultProxy at 0x7f9fcac3d190>"
      ]
     },
     "execution_count": 13,
     "metadata": {},
     "output_type": "execute_result"
    }
   ],
   "source": [
    "cnx.execute(\"\"\"\n",
    "    INSERT INTO ml.accuracies (ml_id, ml_date, accuracy) VALUES ('{0}', '{1}', {2}) \n",
    "    ON CONFLICT (ml_id, ml_date) \n",
    "    DO\n",
    "        UPDATE SET accuracy = {2};\n",
    "    \"\"\".format(ml_id, ml_date, np.sqrt(mean_squared_error(y_test, pred))))"
   ]
  }
 ],
 "metadata": {
  "kernelspec": {
   "display_name": "Python 3",
   "language": "python",
   "name": "python3"
  },
  "language_info": {
   "codemirror_mode": {
    "name": "ipython",
    "version": 3
   },
   "file_extension": ".py",
   "mimetype": "text/x-python",
   "name": "python",
   "nbconvert_exporter": "python",
   "pygments_lexer": "ipython3",
   "version": "3.7.9"
  },
  "papermill": {
   "duration": 26.077126,
   "end_time": "2020-12-25T13:54:48.392145",
   "environment_variables": {},
   "exception": null,
   "input_path": "/usr/local/airflow/include/notebooks/avocado_prediction.ipynb",
   "output_path": "/usr/local/airflow/include/tmp/out-model-avocado-prediction-auto_150.ipynb",
   "parameters": {
    "filepath": "/usr/local/airflow/include/tmp/avocado.csv",
    "max_features": "auto",
    "ml_id": "auto_150",
    "n_estimators": 150
   },
   "start_time": "2020-12-25T13:54:22.315019",
   "version": "2.1.2"
  }
 },
 "nbformat": 4,
 "nbformat_minor": 4
}