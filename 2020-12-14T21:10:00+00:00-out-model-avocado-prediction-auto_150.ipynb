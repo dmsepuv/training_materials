{
 "cells": [
  {
   "cell_type": "code",
   "execution_count": 1,
   "metadata": {
    "_cell_guid": "79c7e3d0-c299-4dcb-8224-4455121ee9b0",
    "_uuid": "d629ff2d2480ee46fbb7e2d37f6b5fab8052498a",
    "execution": {
     "iopub.execute_input": "2020-12-14T21:20:57.103457Z",
     "iopub.status.busy": "2020-12-14T21:20:57.103000Z",
     "iopub.status.idle": "2020-12-14T21:20:57.689673Z",
     "shell.execute_reply": "2020-12-14T21:20:57.689242Z"
    },
    "jupyter": {
     "source_hidden": true
    },
    "papermill": {
     "duration": 0.60319,
     "end_time": "2020-12-14T21:20:57.689794",
     "exception": false,
     "start_time": "2020-12-14T21:20:57.086604",
     "status": "completed"
    },
    "tags": []
   },
   "outputs": [],
   "source": [
    "import pandas as pd\n",
    "import numpy as np\n",
    "from sqlalchemy import create_engine\n",
    "from datetime import date\n",
    "from sklearn.metrics import mean_squared_error"
   ]
  },
  {
   "cell_type": "code",
   "execution_count": 2,
   "metadata": {
    "execution": {
     "iopub.execute_input": "2020-12-14T21:20:57.709810Z",
     "iopub.status.busy": "2020-12-14T21:20:57.709255Z",
     "iopub.status.idle": "2020-12-14T21:20:57.760359Z",
     "shell.execute_reply": "2020-12-14T21:20:57.760802Z"
    },
    "jupyter": {
     "source_hidden": true
    },
    "papermill": {
     "duration": 0.063478,
     "end_time": "2020-12-14T21:20:57.760949",
     "exception": false,
     "start_time": "2020-12-14T21:20:57.697471",
     "status": "completed"
    },
    "tags": []
   },
   "outputs": [],
   "source": [
    "# THIS IS PURELY FOR TEST PURPOSE NEVER DO THAT IN PRODUCTION\n",
    "POSTGRES_ADDRESS='postgres'\n",
    "POSTGRES_PORT='5432'\n",
    "POSTGRES_USERNAME='postgres'\n",
    "POSTGRES_PASSWORD='postgres'\n",
    "\n",
    "postgres_conn = 'postgresql://{0}:{1}@{2}:{3}/'.format(POSTGRES_USERNAME, POSTGRES_PASSWORD, POSTGRES_ADDRESS, POSTGRES_PORT)\n",
    "\n",
    "# Create the connection\n",
    "cnx = create_engine(postgres_conn)\n"
   ]
  },
  {
   "cell_type": "markdown",
   "metadata": {
    "_uuid": "1998755ef10683262b29765345cff1c1c7d10b15",
    "papermill": {
     "duration": 0.00875,
     "end_time": "2020-12-14T21:20:57.779743",
     "exception": false,
     "start_time": "2020-12-14T21:20:57.770993",
     "status": "completed"
    },
    "tags": []
   },
   "source": [
    "Read in the Avocado Prices csv file as a DataFrame called df"
   ]
  },
  {
   "cell_type": "code",
   "execution_count": 3,
   "metadata": {
    "execution": {
     "iopub.execute_input": "2020-12-14T21:20:57.799826Z",
     "iopub.status.busy": "2020-12-14T21:20:57.799399Z",
     "iopub.status.idle": "2020-12-14T21:20:57.802222Z",
     "shell.execute_reply": "2020-12-14T21:20:57.801861Z"
    },
    "jupyter": {
     "source_hidden": true
    },
    "papermill": {
     "duration": 0.014254,
     "end_time": "2020-12-14T21:20:57.802318",
     "exception": false,
     "start_time": "2020-12-14T21:20:57.788064",
     "status": "completed"
    },
    "tags": [
     "parameters"
    ]
   },
   "outputs": [],
   "source": [
    "# Parameterized\n",
    "\n",
    "filepath='avocado.csv'\n",
    "ml_id='auto_100'\n",
    "ml_date=date.today()\n",
    "n_estimators = 100\n",
    "max_features = 'auto'"
   ]
  },
  {
   "cell_type": "code",
   "execution_count": 4,
   "metadata": {
    "execution": {
     "iopub.execute_input": "2020-12-14T21:20:57.821507Z",
     "iopub.status.busy": "2020-12-14T21:20:57.821123Z",
     "iopub.status.idle": "2020-12-14T21:20:57.824333Z",
     "shell.execute_reply": "2020-12-14T21:20:57.824637Z"
    },
    "jupyter": {
     "source_hidden": true
    },
    "papermill": {
     "duration": 0.014324,
     "end_time": "2020-12-14T21:20:57.824757",
     "exception": false,
     "start_time": "2020-12-14T21:20:57.810433",
     "status": "completed"
    },
    "tags": [
     "injected-parameters"
    ]
   },
   "outputs": [],
   "source": [
    "# Parameters\n",
    "filepath = \"/tmp/avocado.csv\"\n",
    "n_estimators = 150\n",
    "max_features = \"auto\"\n",
    "ml_id = \"auto_150\"\n"
   ]
  },
  {
   "cell_type": "code",
   "execution_count": 5,
   "metadata": {
    "_uuid": "55d0e719eb8b91d763c1eacaf0f51ee0586486fc",
    "execution": {
     "iopub.execute_input": "2020-12-14T21:20:57.844221Z",
     "iopub.status.busy": "2020-12-14T21:20:57.843731Z",
     "iopub.status.idle": "2020-12-14T21:20:57.868409Z",
     "shell.execute_reply": "2020-12-14T21:20:57.868706Z"
    },
    "jupyter": {
     "source_hidden": true
    },
    "papermill": {
     "duration": 0.035955,
     "end_time": "2020-12-14T21:20:57.868823",
     "exception": false,
     "start_time": "2020-12-14T21:20:57.832868",
     "status": "completed"
    },
    "tags": []
   },
   "outputs": [],
   "source": [
    "df= pd.read_csv(filepath)"
   ]
  },
  {
   "cell_type": "markdown",
   "metadata": {
    "_uuid": "434e0457f550e2200424e5ec26162e1aa5904005",
    "papermill": {
     "duration": 0.008248,
     "end_time": "2020-12-14T21:20:57.885078",
     "exception": false,
     "start_time": "2020-12-14T21:20:57.876830",
     "status": "completed"
    },
    "tags": []
   },
   "source": [
    "The Feature \"Unnamed:0\" is just a representation of the indexes, so it's useless to keep it, lets remove it !"
   ]
  },
  {
   "cell_type": "code",
   "execution_count": 6,
   "metadata": {
    "_uuid": "9875398e37728dc3141fed4228be337a4735beb6",
    "execution": {
     "iopub.execute_input": "2020-12-14T21:20:57.905805Z",
     "iopub.status.busy": "2020-12-14T21:20:57.905434Z",
     "iopub.status.idle": "2020-12-14T21:20:57.908205Z",
     "shell.execute_reply": "2020-12-14T21:20:57.907795Z"
    },
    "jupyter": {
     "source_hidden": true
    },
    "papermill": {
     "duration": 0.015261,
     "end_time": "2020-12-14T21:20:57.908287",
     "exception": false,
     "start_time": "2020-12-14T21:20:57.893026",
     "status": "completed"
    },
    "tags": []
   },
   "outputs": [],
   "source": [
    "df.drop('Unnamed: 0',axis=1,inplace=True)"
   ]
  },
  {
   "cell_type": "markdown",
   "metadata": {
    "_uuid": "12e94ad381e4cb8d2c8a9bbe08ce07ab5d49c040",
    "papermill": {
     "duration": 0.008492,
     "end_time": "2020-12-14T21:20:57.924813",
     "exception": false,
     "start_time": "2020-12-14T21:20:57.916321",
     "status": "completed"
    },
    "tags": []
   },
   "source": [
    "well as a first observation we can see that we are lucky, we dont have any missing values (18249 complete data) and 13 columns.\n",
    "Now let's do some Feature Engineering on the Date Feature so we can be able to use the day and the month columns in building our machine learning model later. ( I didn't mention the year because its already there in data frame)"
   ]
  },
  {
   "cell_type": "code",
   "execution_count": 7,
   "metadata": {
    "_uuid": "f031639ce794656e877484d1c9c356df7028177f",
    "execution": {
     "iopub.execute_input": "2020-12-14T21:20:57.945739Z",
     "iopub.status.busy": "2020-12-14T21:20:57.945361Z",
     "iopub.status.idle": "2020-12-14T21:20:58.052367Z",
     "shell.execute_reply": "2020-12-14T21:20:58.051572Z"
    },
    "jupyter": {
     "source_hidden": true
    },
    "papermill": {
     "duration": 0.119758,
     "end_time": "2020-12-14T21:20:58.052581",
     "exception": false,
     "start_time": "2020-12-14T21:20:57.932823",
     "status": "completed"
    },
    "tags": []
   },
   "outputs": [],
   "source": [
    "df['Date']=pd.to_datetime(df['Date'])\n",
    "df['Month']=df['Date'].apply(lambda x:x.month)\n",
    "df['Day']=df['Date'].apply(lambda x:x.day)"
   ]
  },
  {
   "cell_type": "markdown",
   "metadata": {
    "_uuid": "ebdcac9924ce3e366fd3a75170682f7113385b7a",
    "papermill": {
     "duration": 0.007897,
     "end_time": "2020-12-14T21:20:58.068691",
     "exception": false,
     "start_time": "2020-12-14T21:20:58.060794",
     "status": "completed"
    },
    "tags": []
   },
   "source": [
    "as we can see we have 54 regions and 2 unique types, so it's going to be easy to to transform the type feature to dummies, but for the region its going to be a bit complexe so I decided to drop the entire column.\n",
    "I will drop the Date Feature as well because I already have 3 other columns for the Year, Month and Day."
   ]
  },
  {
   "cell_type": "code",
   "execution_count": 8,
   "metadata": {
    "_uuid": "a798682da34327b731ef262985fd50ba68e06460",
    "execution": {
     "iopub.execute_input": "2020-12-14T21:20:58.092851Z",
     "iopub.status.busy": "2020-12-14T21:20:58.092469Z",
     "iopub.status.idle": "2020-12-14T21:20:58.097626Z",
     "shell.execute_reply": "2020-12-14T21:20:58.097224Z"
    },
    "jupyter": {
     "source_hidden": true
    },
    "papermill": {
     "duration": 0.020956,
     "end_time": "2020-12-14T21:20:58.097722",
     "exception": false,
     "start_time": "2020-12-14T21:20:58.076766",
     "status": "completed"
    },
    "tags": []
   },
   "outputs": [],
   "source": [
    "df_final=pd.get_dummies(df.drop(['region','Date'],axis=1),drop_first=True)"
   ]
  },
  {
   "cell_type": "markdown",
   "metadata": {
    "_uuid": "8b74a6b88cb3e9b3e1d1e987e061048f203c7364",
    "papermill": {
     "duration": 0.008988,
     "end_time": "2020-12-14T21:20:58.115348",
     "exception": false,
     "start_time": "2020-12-14T21:20:58.106360",
     "status": "completed"
    },
    "tags": []
   },
   "source": [
    "Now our data are ready! lets apply our model which is going to be the Linear Regression because our Target variable 'AveragePrice'is continuous.\n",
    "Let's now begin to train out regression model! We will need to first split up our data into an X array that contains the features to train on, and a y array with the target variable"
   ]
  },
  {
   "cell_type": "code",
   "execution_count": 9,
   "metadata": {
    "_uuid": "830591f99de9715241e688bf9ce265e979401ff5",
    "execution": {
     "iopub.execute_input": "2020-12-14T21:20:58.136221Z",
     "iopub.status.busy": "2020-12-14T21:20:58.135734Z",
     "iopub.status.idle": "2020-12-14T21:20:58.145274Z",
     "shell.execute_reply": "2020-12-14T21:20:58.145572Z"
    },
    "jupyter": {
     "source_hidden": true
    },
    "papermill": {
     "duration": 0.022019,
     "end_time": "2020-12-14T21:20:58.145687",
     "exception": false,
     "start_time": "2020-12-14T21:20:58.123668",
     "status": "completed"
    },
    "tags": []
   },
   "outputs": [],
   "source": [
    "X=df_final.iloc[:,1:14]\n",
    "y=df_final['AveragePrice']\n",
    "from sklearn.model_selection import train_test_split\n",
    "X_train,X_test,y_train,y_test=train_test_split(X,y,test_size=0.2,random_state=42)"
   ]
  },
  {
   "cell_type": "markdown",
   "metadata": {
    "_uuid": "ea730c77a31cde9de98263079a189accb8b5772b",
    "papermill": {
     "duration": 0.008453,
     "end_time": "2020-12-14T21:20:58.162575",
     "exception": false,
     "start_time": "2020-12-14T21:20:58.154122",
     "status": "completed"
    },
    "tags": []
   },
   "source": [
    "Creating and Training the Model"
   ]
  },
  {
   "cell_type": "code",
   "execution_count": 10,
   "metadata": {
    "_uuid": "eb37015e78974e5fd2ae7e13d065c8ab0a9c6948",
    "execution": {
     "iopub.execute_input": "2020-12-14T21:20:58.184164Z",
     "iopub.status.busy": "2020-12-14T21:20:58.183666Z",
     "iopub.status.idle": "2020-12-14T21:21:10.172927Z",
     "shell.execute_reply": "2020-12-14T21:21:10.172507Z"
    },
    "jupyter": {
     "source_hidden": true
    },
    "papermill": {
     "duration": 12.001687,
     "end_time": "2020-12-14T21:21:10.173035",
     "exception": false,
     "start_time": "2020-12-14T21:20:58.171348",
     "status": "completed"
    },
    "tags": []
   },
   "outputs": [],
   "source": [
    "from sklearn.ensemble import RandomForestRegressor\n",
    "rdr = RandomForestRegressor(\n",
    "    n_estimators=n_estimators,\n",
    "    max_features=max_features\n",
    ")\n",
    "rdr.fit(X_train,y_train)\n",
    "pred=rdr.predict(X_test)"
   ]
  },
  {
   "cell_type": "code",
   "execution_count": 11,
   "metadata": {
    "_uuid": "7ed5b8d4e8abb44a4b548c13ac9fb2d65227d1c5",
    "execution": {
     "iopub.execute_input": "2020-12-14T21:21:10.194575Z",
     "iopub.status.busy": "2020-12-14T21:21:10.194080Z",
     "iopub.status.idle": "2020-12-14T21:21:10.196988Z",
     "shell.execute_reply": "2020-12-14T21:21:10.196557Z"
    },
    "jupyter": {
     "source_hidden": true
    },
    "papermill": {
     "duration": 0.014575,
     "end_time": "2020-12-14T21:21:10.197091",
     "exception": false,
     "start_time": "2020-12-14T21:21:10.182516",
     "status": "completed"
    },
    "tags": []
   },
   "outputs": [],
   "source": [
    "#%%capture cap --no-stderr\n",
    "#print(np.sqrt(mean_squared_error(y_test, pred)))"
   ]
  },
  {
   "cell_type": "code",
   "execution_count": 12,
   "metadata": {
    "execution": {
     "iopub.execute_input": "2020-12-14T21:21:10.217196Z",
     "iopub.status.busy": "2020-12-14T21:21:10.216823Z",
     "iopub.status.idle": "2020-12-14T21:21:10.219801Z",
     "shell.execute_reply": "2020-12-14T21:21:10.219345Z"
    },
    "jupyter": {
     "source_hidden": true
    },
    "papermill": {
     "duration": 0.014302,
     "end_time": "2020-12-14T21:21:10.219882",
     "exception": false,
     "start_time": "2020-12-14T21:21:10.205580",
     "status": "completed"
    },
    "tags": []
   },
   "outputs": [],
   "source": [
    "#with open(output_rmse, 'w') as f:\n",
    "#    f.write(cap.stdout)"
   ]
  },
  {
   "cell_type": "code",
   "execution_count": 13,
   "metadata": {
    "execution": {
     "iopub.execute_input": "2020-12-14T21:21:10.240864Z",
     "iopub.status.busy": "2020-12-14T21:21:10.240109Z",
     "iopub.status.idle": "2020-12-14T21:21:10.257821Z",
     "shell.execute_reply": "2020-12-14T21:21:10.257423Z"
    },
    "jupyter": {
     "source_hidden": true
    },
    "papermill": {
     "duration": 0.029661,
     "end_time": "2020-12-14T21:21:10.257914",
     "exception": false,
     "start_time": "2020-12-14T21:21:10.228253",
     "status": "completed"
    },
    "tags": []
   },
   "outputs": [
    {
     "data": {
      "text/plain": [
       "<sqlalchemy.engine.result.ResultProxy at 0x7f26ac66f390>"
      ]
     },
     "execution_count": 13,
     "metadata": {},
     "output_type": "execute_result"
    }
   ],
   "source": [
    "cnx.execute(\"\"\"\n",
    "    INSERT INTO ml.accuracies (ml_id, ml_date, accuracy) VALUES ('{0}', '{1}', {2}) \n",
    "    ON CONFLICT (ml_id, ml_date) \n",
    "    DO\n",
    "        UPDATE SET accuracy = {2};\n",
    "    \"\"\".format(ml_id, ml_date, np.sqrt(mean_squared_error(y_test, pred))))"
   ]
  }
 ],
 "metadata": {
  "kernelspec": {
   "display_name": "Python 3",
   "language": "python",
   "name": "python3"
  },
  "language_info": {
   "codemirror_mode": {
    "name": "ipython",
    "version": 3
   },
   "file_extension": ".py",
   "mimetype": "text/x-python",
   "name": "python",
   "nbconvert_exporter": "python",
   "pygments_lexer": "ipython3",
   "version": "3.7.9"
  },
  "papermill": {
   "duration": 14.598024,
   "end_time": "2020-12-14T21:21:10.675058",
   "environment_variables": {},
   "exception": null,
   "input_path": "/usr/local/airflow/include/notebooks/avocado_prediction.ipynb",
   "output_path": "/tmp/out-model-avocado-prediction-auto_150.ipynb",
   "parameters": {
    "filepath": "/tmp/avocado.csv",
    "max_features": "auto",
    "ml_id": "auto_150",
    "n_estimators": 150
   },
   "start_time": "2020-12-14T21:20:56.077034",
   "version": "2.1.2"
  }
 },
 "nbformat": 4,
 "nbformat_minor": 4
}