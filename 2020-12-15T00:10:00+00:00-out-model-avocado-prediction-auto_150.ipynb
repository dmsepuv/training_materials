{
 "cells": [
  {
   "cell_type": "code",
   "execution_count": 1,
   "metadata": {
    "_cell_guid": "79c7e3d0-c299-4dcb-8224-4455121ee9b0",
    "_uuid": "d629ff2d2480ee46fbb7e2d37f6b5fab8052498a",
    "execution": {
     "iopub.execute_input": "2020-12-15T00:20:55.661878Z",
     "iopub.status.busy": "2020-12-15T00:20:55.661379Z",
     "iopub.status.idle": "2020-12-15T00:20:56.254465Z",
     "shell.execute_reply": "2020-12-15T00:20:56.254898Z"
    },
    "jupyter": {
     "source_hidden": true
    },
    "papermill": {
     "duration": 0.610412,
     "end_time": "2020-12-15T00:20:56.255125",
     "exception": false,
     "start_time": "2020-12-15T00:20:55.644713",
     "status": "completed"
    },
    "tags": []
   },
   "outputs": [],
   "source": [
    "import pandas as pd\n",
    "import numpy as np\n",
    "from sqlalchemy import create_engine\n",
    "from datetime import date\n",
    "from sklearn.metrics import mean_squared_error"
   ]
  },
  {
   "cell_type": "code",
   "execution_count": 2,
   "metadata": {
    "execution": {
     "iopub.execute_input": "2020-12-15T00:20:56.275524Z",
     "iopub.status.busy": "2020-12-15T00:20:56.275144Z",
     "iopub.status.idle": "2020-12-15T00:20:56.326433Z",
     "shell.execute_reply": "2020-12-15T00:20:56.326848Z"
    },
    "jupyter": {
     "source_hidden": true
    },
    "papermill": {
     "duration": 0.063551,
     "end_time": "2020-12-15T00:20:56.327025",
     "exception": false,
     "start_time": "2020-12-15T00:20:56.263474",
     "status": "completed"
    },
    "tags": []
   },
   "outputs": [],
   "source": [
    "# THIS IS PURELY FOR TEST PURPOSE NEVER DO THAT IN PRODUCTION\n",
    "POSTGRES_ADDRESS='postgres'\n",
    "POSTGRES_PORT='5432'\n",
    "POSTGRES_USERNAME='postgres'\n",
    "POSTGRES_PASSWORD='postgres'\n",
    "\n",
    "postgres_conn = 'postgresql://{0}:{1}@{2}:{3}/'.format(POSTGRES_USERNAME, POSTGRES_PASSWORD, POSTGRES_ADDRESS, POSTGRES_PORT)\n",
    "\n",
    "# Create the connection\n",
    "cnx = create_engine(postgres_conn)\n"
   ]
  },
  {
   "cell_type": "markdown",
   "metadata": {
    "_uuid": "1998755ef10683262b29765345cff1c1c7d10b15",
    "papermill": {
     "duration": 0.009502,
     "end_time": "2020-12-15T00:20:56.346946",
     "exception": false,
     "start_time": "2020-12-15T00:20:56.337444",
     "status": "completed"
    },
    "tags": []
   },
   "source": [
    "Read in the Avocado Prices csv file as a DataFrame called df"
   ]
  },
  {
   "cell_type": "code",
   "execution_count": 3,
   "metadata": {
    "execution": {
     "iopub.execute_input": "2020-12-15T00:20:56.367304Z",
     "iopub.status.busy": "2020-12-15T00:20:56.366860Z",
     "iopub.status.idle": "2020-12-15T00:20:56.370547Z",
     "shell.execute_reply": "2020-12-15T00:20:56.370054Z"
    },
    "jupyter": {
     "source_hidden": true
    },
    "papermill": {
     "duration": 0.015274,
     "end_time": "2020-12-15T00:20:56.370656",
     "exception": false,
     "start_time": "2020-12-15T00:20:56.355382",
     "status": "completed"
    },
    "tags": [
     "parameters"
    ]
   },
   "outputs": [],
   "source": [
    "# Parameterized\n",
    "\n",
    "filepath='avocado.csv'\n",
    "ml_id='auto_100'\n",
    "ml_date=date.today()\n",
    "n_estimators = 100\n",
    "max_features = 'auto'"
   ]
  },
  {
   "cell_type": "code",
   "execution_count": 4,
   "metadata": {
    "execution": {
     "iopub.execute_input": "2020-12-15T00:20:56.391240Z",
     "iopub.status.busy": "2020-12-15T00:20:56.390739Z",
     "iopub.status.idle": "2020-12-15T00:20:56.394274Z",
     "shell.execute_reply": "2020-12-15T00:20:56.393836Z"
    },
    "jupyter": {
     "source_hidden": true
    },
    "papermill": {
     "duration": 0.014899,
     "end_time": "2020-12-15T00:20:56.394373",
     "exception": false,
     "start_time": "2020-12-15T00:20:56.379474",
     "status": "completed"
    },
    "tags": [
     "injected-parameters"
    ]
   },
   "outputs": [],
   "source": [
    "# Parameters\n",
    "filepath = \"/tmp/avocado.csv\"\n",
    "n_estimators = 150\n",
    "max_features = \"auto\"\n",
    "ml_id = \"auto_150\"\n"
   ]
  },
  {
   "cell_type": "code",
   "execution_count": 5,
   "metadata": {
    "_uuid": "55d0e719eb8b91d763c1eacaf0f51ee0586486fc",
    "execution": {
     "iopub.execute_input": "2020-12-15T00:20:56.414155Z",
     "iopub.status.busy": "2020-12-15T00:20:56.413644Z",
     "iopub.status.idle": "2020-12-15T00:20:56.438052Z",
     "shell.execute_reply": "2020-12-15T00:20:56.437554Z"
    },
    "jupyter": {
     "source_hidden": true
    },
    "papermill": {
     "duration": 0.035565,
     "end_time": "2020-12-15T00:20:56.438148",
     "exception": false,
     "start_time": "2020-12-15T00:20:56.402583",
     "status": "completed"
    },
    "tags": []
   },
   "outputs": [],
   "source": [
    "df= pd.read_csv(filepath)"
   ]
  },
  {
   "cell_type": "markdown",
   "metadata": {
    "_uuid": "434e0457f550e2200424e5ec26162e1aa5904005",
    "papermill": {
     "duration": 0.008207,
     "end_time": "2020-12-15T00:20:56.454608",
     "exception": false,
     "start_time": "2020-12-15T00:20:56.446401",
     "status": "completed"
    },
    "tags": []
   },
   "source": [
    "The Feature \"Unnamed:0\" is just a representation of the indexes, so it's useless to keep it, lets remove it !"
   ]
  },
  {
   "cell_type": "code",
   "execution_count": 6,
   "metadata": {
    "_uuid": "9875398e37728dc3141fed4228be337a4735beb6",
    "execution": {
     "iopub.execute_input": "2020-12-15T00:20:56.476284Z",
     "iopub.status.busy": "2020-12-15T00:20:56.475895Z",
     "iopub.status.idle": "2020-12-15T00:20:56.479340Z",
     "shell.execute_reply": "2020-12-15T00:20:56.478936Z"
    },
    "jupyter": {
     "source_hidden": true
    },
    "papermill": {
     "duration": 0.016566,
     "end_time": "2020-12-15T00:20:56.479437",
     "exception": false,
     "start_time": "2020-12-15T00:20:56.462871",
     "status": "completed"
    },
    "tags": []
   },
   "outputs": [],
   "source": [
    "df.drop('Unnamed: 0',axis=1,inplace=True)"
   ]
  },
  {
   "cell_type": "markdown",
   "metadata": {
    "_uuid": "12e94ad381e4cb8d2c8a9bbe08ce07ab5d49c040",
    "papermill": {
     "duration": 0.008909,
     "end_time": "2020-12-15T00:20:56.496820",
     "exception": false,
     "start_time": "2020-12-15T00:20:56.487911",
     "status": "completed"
    },
    "tags": []
   },
   "source": [
    "well as a first observation we can see that we are lucky, we dont have any missing values (18249 complete data) and 13 columns.\n",
    "Now let's do some Feature Engineering on the Date Feature so we can be able to use the day and the month columns in building our machine learning model later. ( I didn't mention the year because its already there in data frame)"
   ]
  },
  {
   "cell_type": "code",
   "execution_count": 7,
   "metadata": {
    "_uuid": "f031639ce794656e877484d1c9c356df7028177f",
    "execution": {
     "iopub.execute_input": "2020-12-15T00:20:56.521092Z",
     "iopub.status.busy": "2020-12-15T00:20:56.520510Z",
     "iopub.status.idle": "2020-12-15T00:20:56.647881Z",
     "shell.execute_reply": "2020-12-15T00:20:56.647325Z"
    },
    "jupyter": {
     "source_hidden": true
    },
    "papermill": {
     "duration": 0.142216,
     "end_time": "2020-12-15T00:20:56.647988",
     "exception": false,
     "start_time": "2020-12-15T00:20:56.505772",
     "status": "completed"
    },
    "tags": []
   },
   "outputs": [],
   "source": [
    "df['Date']=pd.to_datetime(df['Date'])\n",
    "df['Month']=df['Date'].apply(lambda x:x.month)\n",
    "df['Day']=df['Date'].apply(lambda x:x.day)"
   ]
  },
  {
   "cell_type": "markdown",
   "metadata": {
    "_uuid": "ebdcac9924ce3e366fd3a75170682f7113385b7a",
    "papermill": {
     "duration": 0.008082,
     "end_time": "2020-12-15T00:20:56.664928",
     "exception": false,
     "start_time": "2020-12-15T00:20:56.656846",
     "status": "completed"
    },
    "tags": []
   },
   "source": [
    "as we can see we have 54 regions and 2 unique types, so it's going to be easy to to transform the type feature to dummies, but for the region its going to be a bit complexe so I decided to drop the entire column.\n",
    "I will drop the Date Feature as well because I already have 3 other columns for the Year, Month and Day."
   ]
  },
  {
   "cell_type": "code",
   "execution_count": 8,
   "metadata": {
    "_uuid": "a798682da34327b731ef262985fd50ba68e06460",
    "execution": {
     "iopub.execute_input": "2020-12-15T00:20:56.685761Z",
     "iopub.status.busy": "2020-12-15T00:20:56.685218Z",
     "iopub.status.idle": "2020-12-15T00:20:56.694215Z",
     "shell.execute_reply": "2020-12-15T00:20:56.694528Z"
    },
    "jupyter": {
     "source_hidden": true
    },
    "papermill": {
     "duration": 0.021512,
     "end_time": "2020-12-15T00:20:56.694638",
     "exception": false,
     "start_time": "2020-12-15T00:20:56.673126",
     "status": "completed"
    },
    "tags": []
   },
   "outputs": [],
   "source": [
    "df_final=pd.get_dummies(df.drop(['region','Date'],axis=1),drop_first=True)"
   ]
  },
  {
   "cell_type": "markdown",
   "metadata": {
    "_uuid": "8b74a6b88cb3e9b3e1d1e987e061048f203c7364",
    "papermill": {
     "duration": 0.008925,
     "end_time": "2020-12-15T00:20:56.712220",
     "exception": false,
     "start_time": "2020-12-15T00:20:56.703295",
     "status": "completed"
    },
    "tags": []
   },
   "source": [
    "Now our data are ready! lets apply our model which is going to be the Linear Regression because our Target variable 'AveragePrice'is continuous.\n",
    "Let's now begin to train out regression model! We will need to first split up our data into an X array that contains the features to train on, and a y array with the target variable"
   ]
  },
  {
   "cell_type": "code",
   "execution_count": 9,
   "metadata": {
    "_uuid": "830591f99de9715241e688bf9ce265e979401ff5",
    "execution": {
     "iopub.execute_input": "2020-12-15T00:20:56.733594Z",
     "iopub.status.busy": "2020-12-15T00:20:56.733217Z",
     "iopub.status.idle": "2020-12-15T00:20:56.741843Z",
     "shell.execute_reply": "2020-12-15T00:20:56.742166Z"
    },
    "jupyter": {
     "source_hidden": true
    },
    "papermill": {
     "duration": 0.021746,
     "end_time": "2020-12-15T00:20:56.742276",
     "exception": false,
     "start_time": "2020-12-15T00:20:56.720530",
     "status": "completed"
    },
    "tags": []
   },
   "outputs": [],
   "source": [
    "X=df_final.iloc[:,1:14]\n",
    "y=df_final['AveragePrice']\n",
    "from sklearn.model_selection import train_test_split\n",
    "X_train,X_test,y_train,y_test=train_test_split(X,y,test_size=0.2,random_state=42)"
   ]
  },
  {
   "cell_type": "markdown",
   "metadata": {
    "_uuid": "ea730c77a31cde9de98263079a189accb8b5772b",
    "papermill": {
     "duration": 0.008393,
     "end_time": "2020-12-15T00:20:56.759461",
     "exception": false,
     "start_time": "2020-12-15T00:20:56.751068",
     "status": "completed"
    },
    "tags": []
   },
   "source": [
    "Creating and Training the Model"
   ]
  },
  {
   "cell_type": "code",
   "execution_count": 10,
   "metadata": {
    "_uuid": "eb37015e78974e5fd2ae7e13d065c8ab0a9c6948",
    "execution": {
     "iopub.execute_input": "2020-12-15T00:20:56.779724Z",
     "iopub.status.busy": "2020-12-15T00:20:56.779347Z",
     "iopub.status.idle": "2020-12-15T00:21:08.725027Z",
     "shell.execute_reply": "2020-12-15T00:21:08.724587Z"
    },
    "jupyter": {
     "source_hidden": true
    },
    "papermill": {
     "duration": 11.957354,
     "end_time": "2020-12-15T00:21:08.725143",
     "exception": false,
     "start_time": "2020-12-15T00:20:56.767789",
     "status": "completed"
    },
    "tags": []
   },
   "outputs": [],
   "source": [
    "from sklearn.ensemble import RandomForestRegressor\n",
    "rdr = RandomForestRegressor(\n",
    "    n_estimators=n_estimators,\n",
    "    max_features=max_features\n",
    ")\n",
    "rdr.fit(X_train,y_train)\n",
    "pred=rdr.predict(X_test)"
   ]
  },
  {
   "cell_type": "code",
   "execution_count": 11,
   "metadata": {
    "_uuid": "7ed5b8d4e8abb44a4b548c13ac9fb2d65227d1c5",
    "execution": {
     "iopub.execute_input": "2020-12-15T00:21:08.746676Z",
     "iopub.status.busy": "2020-12-15T00:21:08.746169Z",
     "iopub.status.idle": "2020-12-15T00:21:08.749343Z",
     "shell.execute_reply": "2020-12-15T00:21:08.749001Z"
    },
    "jupyter": {
     "source_hidden": true
    },
    "papermill": {
     "duration": 0.01489,
     "end_time": "2020-12-15T00:21:08.749459",
     "exception": false,
     "start_time": "2020-12-15T00:21:08.734569",
     "status": "completed"
    },
    "tags": []
   },
   "outputs": [],
   "source": [
    "#%%capture cap --no-stderr\n",
    "#print(np.sqrt(mean_squared_error(y_test, pred)))"
   ]
  },
  {
   "cell_type": "code",
   "execution_count": 12,
   "metadata": {
    "execution": {
     "iopub.execute_input": "2020-12-15T00:21:08.770147Z",
     "iopub.status.busy": "2020-12-15T00:21:08.769767Z",
     "iopub.status.idle": "2020-12-15T00:21:08.772470Z",
     "shell.execute_reply": "2020-12-15T00:21:08.772150Z"
    },
    "jupyter": {
     "source_hidden": true
    },
    "papermill": {
     "duration": 0.013857,
     "end_time": "2020-12-15T00:21:08.772642",
     "exception": false,
     "start_time": "2020-12-15T00:21:08.758785",
     "status": "completed"
    },
    "tags": []
   },
   "outputs": [],
   "source": [
    "#with open(output_rmse, 'w') as f:\n",
    "#    f.write(cap.stdout)"
   ]
  },
  {
   "cell_type": "code",
   "execution_count": 13,
   "metadata": {
    "execution": {
     "iopub.execute_input": "2020-12-15T00:21:08.794908Z",
     "iopub.status.busy": "2020-12-15T00:21:08.794524Z",
     "iopub.status.idle": "2020-12-15T00:21:08.810738Z",
     "shell.execute_reply": "2020-12-15T00:21:08.810345Z"
    },
    "jupyter": {
     "source_hidden": true
    },
    "papermill": {
     "duration": 0.029671,
     "end_time": "2020-12-15T00:21:08.810831",
     "exception": false,
     "start_time": "2020-12-15T00:21:08.781160",
     "status": "completed"
    },
    "tags": []
   },
   "outputs": [
    {
     "data": {
      "text/plain": [
       "<sqlalchemy.engine.result.ResultProxy at 0x7fe1243fc610>"
      ]
     },
     "execution_count": 13,
     "metadata": {},
     "output_type": "execute_result"
    }
   ],
   "source": [
    "cnx.execute(\"\"\"\n",
    "    INSERT INTO ml.accuracies (ml_id, ml_date, accuracy) VALUES ('{0}', '{1}', {2}) \n",
    "    ON CONFLICT (ml_id, ml_date) \n",
    "    DO\n",
    "        UPDATE SET accuracy = {2};\n",
    "    \"\"\".format(ml_id, ml_date, np.sqrt(mean_squared_error(y_test, pred))))"
   ]
  }
 ],
 "metadata": {
  "kernelspec": {
   "display_name": "Python 3",
   "language": "python",
   "name": "python3"
  },
  "language_info": {
   "codemirror_mode": {
    "name": "ipython",
    "version": 3
   },
   "file_extension": ".py",
   "mimetype": "text/x-python",
   "name": "python",
   "nbconvert_exporter": "python",
   "pygments_lexer": "ipython3",
   "version": "3.7.9"
  },
  "papermill": {
   "duration": 14.589093,
   "end_time": "2020-12-15T00:21:09.227190",
   "environment_variables": {},
   "exception": null,
   "input_path": "/usr/local/airflow/include/notebooks/avocado_prediction.ipynb",
   "output_path": "/tmp/out-model-avocado-prediction-auto_150.ipynb",
   "parameters": {
    "filepath": "/tmp/avocado.csv",
    "max_features": "auto",
    "ml_id": "auto_150",
    "n_estimators": 150
   },
   "start_time": "2020-12-15T00:20:54.638097",
   "version": "2.1.2"
  }
 },
 "nbformat": 4,
 "nbformat_minor": 4
}