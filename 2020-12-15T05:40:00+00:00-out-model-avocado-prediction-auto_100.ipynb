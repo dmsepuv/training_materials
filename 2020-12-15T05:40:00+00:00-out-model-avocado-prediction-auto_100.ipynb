{
 "cells": [
  {
   "cell_type": "code",
   "execution_count": 1,
   "metadata": {
    "_cell_guid": "79c7e3d0-c299-4dcb-8224-4455121ee9b0",
    "_uuid": "d629ff2d2480ee46fbb7e2d37f6b5fab8052498a",
    "execution": {
     "iopub.execute_input": "2020-12-15T05:50:39.909171Z",
     "iopub.status.busy": "2020-12-15T05:50:39.908645Z",
     "iopub.status.idle": "2020-12-15T05:50:40.522512Z",
     "shell.execute_reply": "2020-12-15T05:50:40.522101Z"
    },
    "jupyter": {
     "source_hidden": true
    },
    "papermill": {
     "duration": 0.631646,
     "end_time": "2020-12-15T05:50:40.522649",
     "exception": false,
     "start_time": "2020-12-15T05:50:39.891003",
     "status": "completed"
    },
    "tags": []
   },
   "outputs": [],
   "source": [
    "import pandas as pd\n",
    "import numpy as np\n",
    "from sqlalchemy import create_engine\n",
    "from datetime import date\n",
    "from sklearn.metrics import mean_squared_error"
   ]
  },
  {
   "cell_type": "code",
   "execution_count": 2,
   "metadata": {
    "execution": {
     "iopub.execute_input": "2020-12-15T05:50:40.543444Z",
     "iopub.status.busy": "2020-12-15T05:50:40.542976Z",
     "iopub.status.idle": "2020-12-15T05:50:40.596136Z",
     "shell.execute_reply": "2020-12-15T05:50:40.596746Z"
    },
    "jupyter": {
     "source_hidden": true
    },
    "papermill": {
     "duration": 0.066025,
     "end_time": "2020-12-15T05:50:40.596918",
     "exception": false,
     "start_time": "2020-12-15T05:50:40.530893",
     "status": "completed"
    },
    "tags": []
   },
   "outputs": [],
   "source": [
    "# THIS IS PURELY FOR TEST PURPOSE NEVER DO THAT IN PRODUCTION\n",
    "POSTGRES_ADDRESS='postgres'\n",
    "POSTGRES_PORT='5432'\n",
    "POSTGRES_USERNAME='postgres'\n",
    "POSTGRES_PASSWORD='postgres'\n",
    "\n",
    "postgres_conn = 'postgresql://{0}:{1}@{2}:{3}/'.format(POSTGRES_USERNAME, POSTGRES_PASSWORD, POSTGRES_ADDRESS, POSTGRES_PORT)\n",
    "\n",
    "# Create the connection\n",
    "cnx = create_engine(postgres_conn)\n"
   ]
  },
  {
   "cell_type": "markdown",
   "metadata": {
    "_uuid": "1998755ef10683262b29765345cff1c1c7d10b15",
    "papermill": {
     "duration": 0.009224,
     "end_time": "2020-12-15T05:50:40.616489",
     "exception": false,
     "start_time": "2020-12-15T05:50:40.607265",
     "status": "completed"
    },
    "tags": []
   },
   "source": [
    "Read in the Avocado Prices csv file as a DataFrame called df"
   ]
  },
  {
   "cell_type": "code",
   "execution_count": 3,
   "metadata": {
    "execution": {
     "iopub.execute_input": "2020-12-15T05:50:40.636961Z",
     "iopub.status.busy": "2020-12-15T05:50:40.636281Z",
     "iopub.status.idle": "2020-12-15T05:50:40.640029Z",
     "shell.execute_reply": "2020-12-15T05:50:40.639666Z"
    },
    "jupyter": {
     "source_hidden": true
    },
    "papermill": {
     "duration": 0.015331,
     "end_time": "2020-12-15T05:50:40.640132",
     "exception": false,
     "start_time": "2020-12-15T05:50:40.624801",
     "status": "completed"
    },
    "tags": [
     "parameters"
    ]
   },
   "outputs": [],
   "source": [
    "# Parameterized\n",
    "\n",
    "filepath='avocado.csv'\n",
    "ml_id='auto_100'\n",
    "ml_date=date.today()\n",
    "n_estimators = 100\n",
    "max_features = 'auto'"
   ]
  },
  {
   "cell_type": "code",
   "execution_count": 4,
   "metadata": {
    "execution": {
     "iopub.execute_input": "2020-12-15T05:50:40.660222Z",
     "iopub.status.busy": "2020-12-15T05:50:40.659849Z",
     "iopub.status.idle": "2020-12-15T05:50:40.662329Z",
     "shell.execute_reply": "2020-12-15T05:50:40.662734Z"
    },
    "jupyter": {
     "source_hidden": true
    },
    "papermill": {
     "duration": 0.014205,
     "end_time": "2020-12-15T05:50:40.662836",
     "exception": false,
     "start_time": "2020-12-15T05:50:40.648631",
     "status": "completed"
    },
    "tags": [
     "injected-parameters"
    ]
   },
   "outputs": [],
   "source": [
    "# Parameters\n",
    "filepath = \"/tmp/avocado.csv\"\n",
    "n_estimators = 100\n",
    "max_features = \"auto\"\n",
    "ml_id = \"auto_100\"\n"
   ]
  },
  {
   "cell_type": "code",
   "execution_count": 5,
   "metadata": {
    "_uuid": "55d0e719eb8b91d763c1eacaf0f51ee0586486fc",
    "execution": {
     "iopub.execute_input": "2020-12-15T05:50:40.683625Z",
     "iopub.status.busy": "2020-12-15T05:50:40.682201Z",
     "iopub.status.idle": "2020-12-15T05:50:40.707313Z",
     "shell.execute_reply": "2020-12-15T05:50:40.706979Z"
    },
    "jupyter": {
     "source_hidden": true
    },
    "papermill": {
     "duration": 0.03641,
     "end_time": "2020-12-15T05:50:40.707412",
     "exception": false,
     "start_time": "2020-12-15T05:50:40.671002",
     "status": "completed"
    },
    "tags": []
   },
   "outputs": [],
   "source": [
    "df= pd.read_csv(filepath)"
   ]
  },
  {
   "cell_type": "markdown",
   "metadata": {
    "_uuid": "434e0457f550e2200424e5ec26162e1aa5904005",
    "papermill": {
     "duration": 0.008207,
     "end_time": "2020-12-15T05:50:40.723895",
     "exception": false,
     "start_time": "2020-12-15T05:50:40.715688",
     "status": "completed"
    },
    "tags": []
   },
   "source": [
    "The Feature \"Unnamed:0\" is just a representation of the indexes, so it's useless to keep it, lets remove it !"
   ]
  },
  {
   "cell_type": "code",
   "execution_count": 6,
   "metadata": {
    "_uuid": "9875398e37728dc3141fed4228be337a4735beb6",
    "execution": {
     "iopub.execute_input": "2020-12-15T05:50:40.745697Z",
     "iopub.status.busy": "2020-12-15T05:50:40.745220Z",
     "iopub.status.idle": "2020-12-15T05:50:40.747858Z",
     "shell.execute_reply": "2020-12-15T05:50:40.747368Z"
    },
    "jupyter": {
     "source_hidden": true
    },
    "papermill": {
     "duration": 0.015876,
     "end_time": "2020-12-15T05:50:40.747943",
     "exception": false,
     "start_time": "2020-12-15T05:50:40.732067",
     "status": "completed"
    },
    "tags": []
   },
   "outputs": [],
   "source": [
    "df.drop('Unnamed: 0',axis=1,inplace=True)"
   ]
  },
  {
   "cell_type": "markdown",
   "metadata": {
    "_uuid": "12e94ad381e4cb8d2c8a9bbe08ce07ab5d49c040",
    "papermill": {
     "duration": 0.008111,
     "end_time": "2020-12-15T05:50:40.764279",
     "exception": false,
     "start_time": "2020-12-15T05:50:40.756168",
     "status": "completed"
    },
    "tags": []
   },
   "source": [
    "well as a first observation we can see that we are lucky, we dont have any missing values (18249 complete data) and 13 columns.\n",
    "Now let's do some Feature Engineering on the Date Feature so we can be able to use the day and the month columns in building our machine learning model later. ( I didn't mention the year because its already there in data frame)"
   ]
  },
  {
   "cell_type": "code",
   "execution_count": 7,
   "metadata": {
    "_uuid": "f031639ce794656e877484d1c9c356df7028177f",
    "execution": {
     "iopub.execute_input": "2020-12-15T05:50:40.785338Z",
     "iopub.status.busy": "2020-12-15T05:50:40.784961Z",
     "iopub.status.idle": "2020-12-15T05:50:40.896577Z",
     "shell.execute_reply": "2020-12-15T05:50:40.897252Z"
    },
    "jupyter": {
     "source_hidden": true
    },
    "papermill": {
     "duration": 0.124949,
     "end_time": "2020-12-15T05:50:40.897372",
     "exception": false,
     "start_time": "2020-12-15T05:50:40.772423",
     "status": "completed"
    },
    "tags": []
   },
   "outputs": [],
   "source": [
    "df['Date']=pd.to_datetime(df['Date'])\n",
    "df['Month']=df['Date'].apply(lambda x:x.month)\n",
    "df['Day']=df['Date'].apply(lambda x:x.day)"
   ]
  },
  {
   "cell_type": "markdown",
   "metadata": {
    "_uuid": "ebdcac9924ce3e366fd3a75170682f7113385b7a",
    "papermill": {
     "duration": 0.009049,
     "end_time": "2020-12-15T05:50:40.916698",
     "exception": false,
     "start_time": "2020-12-15T05:50:40.907649",
     "status": "completed"
    },
    "tags": []
   },
   "source": [
    "as we can see we have 54 regions and 2 unique types, so it's going to be easy to to transform the type feature to dummies, but for the region its going to be a bit complexe so I decided to drop the entire column.\n",
    "I will drop the Date Feature as well because I already have 3 other columns for the Year, Month and Day."
   ]
  },
  {
   "cell_type": "code",
   "execution_count": 8,
   "metadata": {
    "_uuid": "a798682da34327b731ef262985fd50ba68e06460",
    "execution": {
     "iopub.execute_input": "2020-12-15T05:50:40.940291Z",
     "iopub.status.busy": "2020-12-15T05:50:40.939427Z",
     "iopub.status.idle": "2020-12-15T05:50:40.949267Z",
     "shell.execute_reply": "2020-12-15T05:50:40.948804Z"
    },
    "jupyter": {
     "source_hidden": true
    },
    "papermill": {
     "duration": 0.02414,
     "end_time": "2020-12-15T05:50:40.949389",
     "exception": false,
     "start_time": "2020-12-15T05:50:40.925249",
     "status": "completed"
    },
    "tags": []
   },
   "outputs": [],
   "source": [
    "df_final=pd.get_dummies(df.drop(['region','Date'],axis=1),drop_first=True)"
   ]
  },
  {
   "cell_type": "markdown",
   "metadata": {
    "_uuid": "8b74a6b88cb3e9b3e1d1e987e061048f203c7364",
    "papermill": {
     "duration": 0.009167,
     "end_time": "2020-12-15T05:50:40.967553",
     "exception": false,
     "start_time": "2020-12-15T05:50:40.958386",
     "status": "completed"
    },
    "tags": []
   },
   "source": [
    "Now our data are ready! lets apply our model which is going to be the Linear Regression because our Target variable 'AveragePrice'is continuous.\n",
    "Let's now begin to train out regression model! We will need to first split up our data into an X array that contains the features to train on, and a y array with the target variable"
   ]
  },
  {
   "cell_type": "code",
   "execution_count": 9,
   "metadata": {
    "_uuid": "830591f99de9715241e688bf9ce265e979401ff5",
    "execution": {
     "iopub.execute_input": "2020-12-15T05:50:40.988419Z",
     "iopub.status.busy": "2020-12-15T05:50:40.987772Z",
     "iopub.status.idle": "2020-12-15T05:50:40.997305Z",
     "shell.execute_reply": "2020-12-15T05:50:40.996970Z"
    },
    "jupyter": {
     "source_hidden": true
    },
    "papermill": {
     "duration": 0.021577,
     "end_time": "2020-12-15T05:50:40.997405",
     "exception": false,
     "start_time": "2020-12-15T05:50:40.975828",
     "status": "completed"
    },
    "tags": []
   },
   "outputs": [],
   "source": [
    "X=df_final.iloc[:,1:14]\n",
    "y=df_final['AveragePrice']\n",
    "from sklearn.model_selection import train_test_split\n",
    "X_train,X_test,y_train,y_test=train_test_split(X,y,test_size=0.2,random_state=42)"
   ]
  },
  {
   "cell_type": "markdown",
   "metadata": {
    "_uuid": "ea730c77a31cde9de98263079a189accb8b5772b",
    "papermill": {
     "duration": 0.008559,
     "end_time": "2020-12-15T05:50:41.014822",
     "exception": false,
     "start_time": "2020-12-15T05:50:41.006263",
     "status": "completed"
    },
    "tags": []
   },
   "source": [
    "Creating and Training the Model"
   ]
  },
  {
   "cell_type": "code",
   "execution_count": 10,
   "metadata": {
    "_uuid": "eb37015e78974e5fd2ae7e13d065c8ab0a9c6948",
    "execution": {
     "iopub.execute_input": "2020-12-15T05:50:41.036339Z",
     "iopub.status.busy": "2020-12-15T05:50:41.035960Z",
     "iopub.status.idle": "2020-12-15T05:50:49.090281Z",
     "shell.execute_reply": "2020-12-15T05:50:49.089144Z"
    },
    "jupyter": {
     "source_hidden": true
    },
    "papermill": {
     "duration": 8.066748,
     "end_time": "2020-12-15T05:50:49.090396",
     "exception": false,
     "start_time": "2020-12-15T05:50:41.023648",
     "status": "completed"
    },
    "tags": []
   },
   "outputs": [],
   "source": [
    "from sklearn.ensemble import RandomForestRegressor\n",
    "rdr = RandomForestRegressor(\n",
    "    n_estimators=n_estimators,\n",
    "    max_features=max_features\n",
    ")\n",
    "rdr.fit(X_train,y_train)\n",
    "pred=rdr.predict(X_test)"
   ]
  },
  {
   "cell_type": "code",
   "execution_count": 11,
   "metadata": {
    "_uuid": "7ed5b8d4e8abb44a4b548c13ac9fb2d65227d1c5",
    "execution": {
     "iopub.execute_input": "2020-12-15T05:50:49.115244Z",
     "iopub.status.busy": "2020-12-15T05:50:49.114721Z",
     "iopub.status.idle": "2020-12-15T05:50:49.118906Z",
     "shell.execute_reply": "2020-12-15T05:50:49.118399Z"
    },
    "jupyter": {
     "source_hidden": true
    },
    "papermill": {
     "duration": 0.018245,
     "end_time": "2020-12-15T05:50:49.119033",
     "exception": false,
     "start_time": "2020-12-15T05:50:49.100788",
     "status": "completed"
    },
    "tags": []
   },
   "outputs": [],
   "source": [
    "#%%capture cap --no-stderr\n",
    "#print(np.sqrt(mean_squared_error(y_test, pred)))"
   ]
  },
  {
   "cell_type": "code",
   "execution_count": 12,
   "metadata": {
    "execution": {
     "iopub.execute_input": "2020-12-15T05:50:49.143307Z",
     "iopub.status.busy": "2020-12-15T05:50:49.141992Z",
     "iopub.status.idle": "2020-12-15T05:50:49.143870Z",
     "shell.execute_reply": "2020-12-15T05:50:49.144229Z"
    },
    "jupyter": {
     "source_hidden": true
    },
    "papermill": {
     "duration": 0.015594,
     "end_time": "2020-12-15T05:50:49.144360",
     "exception": false,
     "start_time": "2020-12-15T05:50:49.128766",
     "status": "completed"
    },
    "tags": []
   },
   "outputs": [],
   "source": [
    "#with open(output_rmse, 'w') as f:\n",
    "#    f.write(cap.stdout)"
   ]
  },
  {
   "cell_type": "code",
   "execution_count": 13,
   "metadata": {
    "execution": {
     "iopub.execute_input": "2020-12-15T05:50:49.167868Z",
     "iopub.status.busy": "2020-12-15T05:50:49.167405Z",
     "iopub.status.idle": "2020-12-15T05:50:49.184768Z",
     "shell.execute_reply": "2020-12-15T05:50:49.185129Z"
    },
    "jupyter": {
     "source_hidden": true
    },
    "papermill": {
     "duration": 0.031307,
     "end_time": "2020-12-15T05:50:49.185266",
     "exception": false,
     "start_time": "2020-12-15T05:50:49.153959",
     "status": "completed"
    },
    "tags": []
   },
   "outputs": [
    {
     "data": {
      "text/plain": [
       "<sqlalchemy.engine.result.ResultProxy at 0x7fc05d050790>"
      ]
     },
     "execution_count": 13,
     "metadata": {},
     "output_type": "execute_result"
    }
   ],
   "source": [
    "cnx.execute(\"\"\"\n",
    "    INSERT INTO ml.accuracies (ml_id, ml_date, accuracy) VALUES ('{0}', '{1}', {2}) \n",
    "    ON CONFLICT (ml_id, ml_date) \n",
    "    DO\n",
    "        UPDATE SET accuracy = {2};\n",
    "    \"\"\".format(ml_id, ml_date, np.sqrt(mean_squared_error(y_test, pred))))"
   ]
  }
 ],
 "metadata": {
  "kernelspec": {
   "display_name": "Python 3",
   "language": "python",
   "name": "python3"
  },
  "language_info": {
   "codemirror_mode": {
    "name": "ipython",
    "version": 3
   },
   "file_extension": ".py",
   "mimetype": "text/x-python",
   "name": "python",
   "nbconvert_exporter": "python",
   "pygments_lexer": "ipython3",
   "version": "3.7.9"
  },
  "papermill": {
   "duration": 10.741026,
   "end_time": "2020-12-15T05:50:49.613062",
   "environment_variables": {},
   "exception": null,
   "input_path": "/usr/local/airflow/include/notebooks/avocado_prediction.ipynb",
   "output_path": "/tmp/out-model-avocado-prediction-auto_100.ipynb",
   "parameters": {
    "filepath": "/tmp/avocado.csv",
    "max_features": "auto",
    "ml_id": "auto_100",
    "n_estimators": 100
   },
   "start_time": "2020-12-15T05:50:38.872036",
   "version": "2.1.2"
  }
 },
 "nbformat": 4,
 "nbformat_minor": 4
}