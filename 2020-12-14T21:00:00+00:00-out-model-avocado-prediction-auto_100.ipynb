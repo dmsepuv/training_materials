{
 "cells": [
  {
   "cell_type": "code",
   "execution_count": 1,
   "metadata": {
    "_cell_guid": "79c7e3d0-c299-4dcb-8224-4455121ee9b0",
    "_uuid": "d629ff2d2480ee46fbb7e2d37f6b5fab8052498a",
    "execution": {
     "iopub.execute_input": "2020-12-14T21:10:42.322125Z",
     "iopub.status.busy": "2020-12-14T21:10:42.321578Z",
     "iopub.status.idle": "2020-12-14T21:10:42.897710Z",
     "shell.execute_reply": "2020-12-14T21:10:42.897338Z"
    },
    "jupyter": {
     "source_hidden": true
    },
    "papermill": {
     "duration": 0.589527,
     "end_time": "2020-12-14T21:10:42.897842",
     "exception": false,
     "start_time": "2020-12-14T21:10:42.308315",
     "status": "completed"
    },
    "tags": []
   },
   "outputs": [],
   "source": [
    "import pandas as pd\n",
    "import numpy as np\n",
    "from sqlalchemy import create_engine\n",
    "from datetime import date\n",
    "from sklearn.metrics import mean_squared_error"
   ]
  },
  {
   "cell_type": "code",
   "execution_count": 2,
   "metadata": {
    "execution": {
     "iopub.execute_input": "2020-12-14T21:10:42.918648Z",
     "iopub.status.busy": "2020-12-14T21:10:42.918252Z",
     "iopub.status.idle": "2020-12-14T21:10:42.974334Z",
     "shell.execute_reply": "2020-12-14T21:10:42.973814Z"
    },
    "jupyter": {
     "source_hidden": true
    },
    "papermill": {
     "duration": 0.068511,
     "end_time": "2020-12-14T21:10:42.974461",
     "exception": false,
     "start_time": "2020-12-14T21:10:42.905950",
     "status": "completed"
    },
    "tags": []
   },
   "outputs": [],
   "source": [
    "# THIS IS PURELY FOR TEST PURPOSE NEVER DO THAT IN PRODUCTION\n",
    "POSTGRES_ADDRESS='postgres'\n",
    "POSTGRES_PORT='5432'\n",
    "POSTGRES_USERNAME='postgres'\n",
    "POSTGRES_PASSWORD='postgres'\n",
    "\n",
    "postgres_conn = 'postgresql://{0}:{1}@{2}:{3}/'.format(POSTGRES_USERNAME, POSTGRES_PASSWORD, POSTGRES_ADDRESS, POSTGRES_PORT)\n",
    "\n",
    "# Create the connection\n",
    "cnx = create_engine(postgres_conn)\n"
   ]
  },
  {
   "cell_type": "markdown",
   "metadata": {
    "_uuid": "1998755ef10683262b29765345cff1c1c7d10b15",
    "papermill": {
     "duration": 0.008517,
     "end_time": "2020-12-14T21:10:42.992160",
     "exception": false,
     "start_time": "2020-12-14T21:10:42.983643",
     "status": "completed"
    },
    "tags": []
   },
   "source": [
    "Read in the Avocado Prices csv file as a DataFrame called df"
   ]
  },
  {
   "cell_type": "code",
   "execution_count": 3,
   "metadata": {
    "execution": {
     "iopub.execute_input": "2020-12-14T21:10:43.012608Z",
     "iopub.status.busy": "2020-12-14T21:10:43.012218Z",
     "iopub.status.idle": "2020-12-14T21:10:43.014762Z",
     "shell.execute_reply": "2020-12-14T21:10:43.015179Z"
    },
    "jupyter": {
     "source_hidden": true
    },
    "papermill": {
     "duration": 0.014793,
     "end_time": "2020-12-14T21:10:43.015289",
     "exception": false,
     "start_time": "2020-12-14T21:10:43.000496",
     "status": "completed"
    },
    "tags": [
     "parameters"
    ]
   },
   "outputs": [],
   "source": [
    "# Parameterized\n",
    "\n",
    "filepath='avocado.csv'\n",
    "ml_id='auto_100'\n",
    "ml_date=date.today()\n",
    "n_estimators = 100\n",
    "max_features = 'auto'"
   ]
  },
  {
   "cell_type": "code",
   "execution_count": 4,
   "metadata": {
    "execution": {
     "iopub.execute_input": "2020-12-14T21:10:43.034427Z",
     "iopub.status.busy": "2020-12-14T21:10:43.034040Z",
     "iopub.status.idle": "2020-12-14T21:10:43.036660Z",
     "shell.execute_reply": "2020-12-14T21:10:43.036345Z"
    },
    "jupyter": {
     "source_hidden": true
    },
    "papermill": {
     "duration": 0.013299,
     "end_time": "2020-12-14T21:10:43.036747",
     "exception": false,
     "start_time": "2020-12-14T21:10:43.023448",
     "status": "completed"
    },
    "tags": [
     "injected-parameters"
    ]
   },
   "outputs": [],
   "source": [
    "# Parameters\n",
    "filepath = \"/tmp/avocado.csv\"\n",
    "n_estimators = 100\n",
    "max_features = \"auto\"\n",
    "ml_id = \"auto_100\"\n"
   ]
  },
  {
   "cell_type": "code",
   "execution_count": 5,
   "metadata": {
    "_uuid": "55d0e719eb8b91d763c1eacaf0f51ee0586486fc",
    "execution": {
     "iopub.execute_input": "2020-12-14T21:10:43.059878Z",
     "iopub.status.busy": "2020-12-14T21:10:43.059384Z",
     "iopub.status.idle": "2020-12-14T21:10:43.090449Z",
     "shell.execute_reply": "2020-12-14T21:10:43.089880Z"
    },
    "jupyter": {
     "source_hidden": true
    },
    "papermill": {
     "duration": 0.045154,
     "end_time": "2020-12-14T21:10:43.090593",
     "exception": false,
     "start_time": "2020-12-14T21:10:43.045439",
     "status": "completed"
    },
    "tags": []
   },
   "outputs": [],
   "source": [
    "df= pd.read_csv(filepath)"
   ]
  },
  {
   "cell_type": "markdown",
   "metadata": {
    "_uuid": "434e0457f550e2200424e5ec26162e1aa5904005",
    "papermill": {
     "duration": 0.008782,
     "end_time": "2020-12-14T21:10:43.108500",
     "exception": false,
     "start_time": "2020-12-14T21:10:43.099718",
     "status": "completed"
    },
    "tags": []
   },
   "source": [
    "The Feature \"Unnamed:0\" is just a representation of the indexes, so it's useless to keep it, lets remove it !"
   ]
  },
  {
   "cell_type": "code",
   "execution_count": 6,
   "metadata": {
    "_uuid": "9875398e37728dc3141fed4228be337a4735beb6",
    "execution": {
     "iopub.execute_input": "2020-12-14T21:10:43.131410Z",
     "iopub.status.busy": "2020-12-14T21:10:43.130987Z",
     "iopub.status.idle": "2020-12-14T21:10:43.133761Z",
     "shell.execute_reply": "2020-12-14T21:10:43.133416Z"
    },
    "jupyter": {
     "source_hidden": true
    },
    "papermill": {
     "duration": 0.016769,
     "end_time": "2020-12-14T21:10:43.133856",
     "exception": false,
     "start_time": "2020-12-14T21:10:43.117087",
     "status": "completed"
    },
    "tags": []
   },
   "outputs": [],
   "source": [
    "df.drop('Unnamed: 0',axis=1,inplace=True)"
   ]
  },
  {
   "cell_type": "markdown",
   "metadata": {
    "_uuid": "12e94ad381e4cb8d2c8a9bbe08ce07ab5d49c040",
    "papermill": {
     "duration": 0.008396,
     "end_time": "2020-12-14T21:10:43.150779",
     "exception": false,
     "start_time": "2020-12-14T21:10:43.142383",
     "status": "completed"
    },
    "tags": []
   },
   "source": [
    "well as a first observation we can see that we are lucky, we dont have any missing values (18249 complete data) and 13 columns.\n",
    "Now let's do some Feature Engineering on the Date Feature so we can be able to use the day and the month columns in building our machine learning model later. ( I didn't mention the year because its already there in data frame)"
   ]
  },
  {
   "cell_type": "code",
   "execution_count": 7,
   "metadata": {
    "_uuid": "f031639ce794656e877484d1c9c356df7028177f",
    "execution": {
     "iopub.execute_input": "2020-12-14T21:10:43.171897Z",
     "iopub.status.busy": "2020-12-14T21:10:43.171428Z",
     "iopub.status.idle": "2020-12-14T21:10:43.279172Z",
     "shell.execute_reply": "2020-12-14T21:10:43.278659Z"
    },
    "jupyter": {
     "source_hidden": true
    },
    "papermill": {
     "duration": 0.120529,
     "end_time": "2020-12-14T21:10:43.279268",
     "exception": false,
     "start_time": "2020-12-14T21:10:43.158739",
     "status": "completed"
    },
    "tags": []
   },
   "outputs": [],
   "source": [
    "df['Date']=pd.to_datetime(df['Date'])\n",
    "df['Month']=df['Date'].apply(lambda x:x.month)\n",
    "df['Day']=df['Date'].apply(lambda x:x.day)"
   ]
  },
  {
   "cell_type": "markdown",
   "metadata": {
    "_uuid": "ebdcac9924ce3e366fd3a75170682f7113385b7a",
    "papermill": {
     "duration": 0.008004,
     "end_time": "2020-12-14T21:10:43.295698",
     "exception": false,
     "start_time": "2020-12-14T21:10:43.287694",
     "status": "completed"
    },
    "tags": []
   },
   "source": [
    "as we can see we have 54 regions and 2 unique types, so it's going to be easy to to transform the type feature to dummies, but for the region its going to be a bit complexe so I decided to drop the entire column.\n",
    "I will drop the Date Feature as well because I already have 3 other columns for the Year, Month and Day."
   ]
  },
  {
   "cell_type": "code",
   "execution_count": 8,
   "metadata": {
    "_uuid": "a798682da34327b731ef262985fd50ba68e06460",
    "execution": {
     "iopub.execute_input": "2020-12-14T21:10:43.315428Z",
     "iopub.status.busy": "2020-12-14T21:10:43.315046Z",
     "iopub.status.idle": "2020-12-14T21:10:43.324270Z",
     "shell.execute_reply": "2020-12-14T21:10:43.323832Z"
    },
    "jupyter": {
     "source_hidden": true
    },
    "papermill": {
     "duration": 0.020531,
     "end_time": "2020-12-14T21:10:43.324359",
     "exception": false,
     "start_time": "2020-12-14T21:10:43.303828",
     "status": "completed"
    },
    "tags": []
   },
   "outputs": [],
   "source": [
    "df_final=pd.get_dummies(df.drop(['region','Date'],axis=1),drop_first=True)"
   ]
  },
  {
   "cell_type": "markdown",
   "metadata": {
    "_uuid": "8b74a6b88cb3e9b3e1d1e987e061048f203c7364",
    "papermill": {
     "duration": 0.008861,
     "end_time": "2020-12-14T21:10:43.341328",
     "exception": false,
     "start_time": "2020-12-14T21:10:43.332467",
     "status": "completed"
    },
    "tags": []
   },
   "source": [
    "Now our data are ready! lets apply our model which is going to be the Linear Regression because our Target variable 'AveragePrice'is continuous.\n",
    "Let's now begin to train out regression model! We will need to first split up our data into an X array that contains the features to train on, and a y array with the target variable"
   ]
  },
  {
   "cell_type": "code",
   "execution_count": 9,
   "metadata": {
    "_uuid": "830591f99de9715241e688bf9ce265e979401ff5",
    "execution": {
     "iopub.execute_input": "2020-12-14T21:10:43.363115Z",
     "iopub.status.busy": "2020-12-14T21:10:43.361301Z",
     "iopub.status.idle": "2020-12-14T21:10:43.370525Z",
     "shell.execute_reply": "2020-12-14T21:10:43.370191Z"
    },
    "jupyter": {
     "source_hidden": true
    },
    "papermill": {
     "duration": 0.021036,
     "end_time": "2020-12-14T21:10:43.370622",
     "exception": false,
     "start_time": "2020-12-14T21:10:43.349586",
     "status": "completed"
    },
    "tags": []
   },
   "outputs": [],
   "source": [
    "X=df_final.iloc[:,1:14]\n",
    "y=df_final['AveragePrice']\n",
    "from sklearn.model_selection import train_test_split\n",
    "X_train,X_test,y_train,y_test=train_test_split(X,y,test_size=0.2,random_state=42)"
   ]
  },
  {
   "cell_type": "markdown",
   "metadata": {
    "_uuid": "ea730c77a31cde9de98263079a189accb8b5772b",
    "papermill": {
     "duration": 0.008404,
     "end_time": "2020-12-14T21:10:43.387379",
     "exception": false,
     "start_time": "2020-12-14T21:10:43.378975",
     "status": "completed"
    },
    "tags": []
   },
   "source": [
    "Creating and Training the Model"
   ]
  },
  {
   "cell_type": "code",
   "execution_count": 10,
   "metadata": {
    "_uuid": "eb37015e78974e5fd2ae7e13d065c8ab0a9c6948",
    "execution": {
     "iopub.execute_input": "2020-12-14T21:10:43.407890Z",
     "iopub.status.busy": "2020-12-14T21:10:43.407140Z",
     "iopub.status.idle": "2020-12-14T21:10:51.393405Z",
     "shell.execute_reply": "2020-12-14T21:10:51.393012Z"
    },
    "jupyter": {
     "source_hidden": true
    },
    "papermill": {
     "duration": 7.997794,
     "end_time": "2020-12-14T21:10:51.393517",
     "exception": false,
     "start_time": "2020-12-14T21:10:43.395723",
     "status": "completed"
    },
    "tags": []
   },
   "outputs": [],
   "source": [
    "from sklearn.ensemble import RandomForestRegressor\n",
    "rdr = RandomForestRegressor(\n",
    "    n_estimators=n_estimators,\n",
    "    max_features=max_features\n",
    ")\n",
    "rdr.fit(X_train,y_train)\n",
    "pred=rdr.predict(X_test)"
   ]
  },
  {
   "cell_type": "code",
   "execution_count": 11,
   "metadata": {
    "_uuid": "7ed5b8d4e8abb44a4b548c13ac9fb2d65227d1c5",
    "execution": {
     "iopub.execute_input": "2020-12-14T21:10:51.415020Z",
     "iopub.status.busy": "2020-12-14T21:10:51.414547Z",
     "iopub.status.idle": "2020-12-14T21:10:51.417518Z",
     "shell.execute_reply": "2020-12-14T21:10:51.417079Z"
    },
    "jupyter": {
     "source_hidden": true
    },
    "papermill": {
     "duration": 0.014645,
     "end_time": "2020-12-14T21:10:51.417612",
     "exception": false,
     "start_time": "2020-12-14T21:10:51.402967",
     "status": "completed"
    },
    "tags": []
   },
   "outputs": [],
   "source": [
    "#%%capture cap --no-stderr\n",
    "#print(np.sqrt(mean_squared_error(y_test, pred)))"
   ]
  },
  {
   "cell_type": "code",
   "execution_count": 12,
   "metadata": {
    "execution": {
     "iopub.execute_input": "2020-12-14T21:10:51.437477Z",
     "iopub.status.busy": "2020-12-14T21:10:51.437104Z",
     "iopub.status.idle": "2020-12-14T21:10:51.440184Z",
     "shell.execute_reply": "2020-12-14T21:10:51.439843Z"
    },
    "jupyter": {
     "source_hidden": true
    },
    "papermill": {
     "duration": 0.013954,
     "end_time": "2020-12-14T21:10:51.440269",
     "exception": false,
     "start_time": "2020-12-14T21:10:51.426315",
     "status": "completed"
    },
    "tags": []
   },
   "outputs": [],
   "source": [
    "#with open(output_rmse, 'w') as f:\n",
    "#    f.write(cap.stdout)"
   ]
  },
  {
   "cell_type": "code",
   "execution_count": 13,
   "metadata": {
    "execution": {
     "iopub.execute_input": "2020-12-14T21:10:51.462126Z",
     "iopub.status.busy": "2020-12-14T21:10:51.461520Z",
     "iopub.status.idle": "2020-12-14T21:10:51.478143Z",
     "shell.execute_reply": "2020-12-14T21:10:51.477722Z"
    },
    "jupyter": {
     "source_hidden": true
    },
    "papermill": {
     "duration": 0.029465,
     "end_time": "2020-12-14T21:10:51.478237",
     "exception": false,
     "start_time": "2020-12-14T21:10:51.448772",
     "status": "completed"
    },
    "tags": []
   },
   "outputs": [
    {
     "data": {
      "text/plain": [
       "<sqlalchemy.engine.result.ResultProxy at 0x7f40ac4fd290>"
      ]
     },
     "execution_count": 13,
     "metadata": {},
     "output_type": "execute_result"
    }
   ],
   "source": [
    "cnx.execute(\"\"\"\n",
    "    INSERT INTO ml.accuracies (ml_id, ml_date, accuracy) VALUES ('{0}', '{1}', {2}) \n",
    "    ON CONFLICT (ml_id, ml_date) \n",
    "    DO\n",
    "        UPDATE SET accuracy = {2};\n",
    "    \"\"\".format(ml_id, ml_date, np.sqrt(mean_squared_error(y_test, pred))))"
   ]
  }
 ],
 "metadata": {
  "kernelspec": {
   "display_name": "Python 3",
   "language": "python",
   "name": "python3"
  },
  "language_info": {
   "codemirror_mode": {
    "name": "ipython",
    "version": 3
   },
   "file_extension": ".py",
   "mimetype": "text/x-python",
   "name": "python",
   "nbconvert_exporter": "python",
   "pygments_lexer": "ipython3",
   "version": "3.7.9"
  },
  "papermill": {
   "duration": 10.595021,
   "end_time": "2020-12-14T21:10:51.904539",
   "environment_variables": {},
   "exception": null,
   "input_path": "/usr/local/airflow/include/notebooks/avocado_prediction.ipynb",
   "output_path": "/tmp/out-model-avocado-prediction-auto_100.ipynb",
   "parameters": {
    "filepath": "/tmp/avocado.csv",
    "max_features": "auto",
    "ml_id": "auto_100",
    "n_estimators": 100
   },
   "start_time": "2020-12-14T21:10:41.309518",
   "version": "2.1.2"
  }
 },
 "nbformat": 4,
 "nbformat_minor": 4
}