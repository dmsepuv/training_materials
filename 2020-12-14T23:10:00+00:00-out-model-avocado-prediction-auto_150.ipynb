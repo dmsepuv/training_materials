{
 "cells": [
  {
   "cell_type": "code",
   "execution_count": 1,
   "metadata": {
    "_cell_guid": "79c7e3d0-c299-4dcb-8224-4455121ee9b0",
    "_uuid": "d629ff2d2480ee46fbb7e2d37f6b5fab8052498a",
    "execution": {
     "iopub.execute_input": "2020-12-14T23:21:00.656201Z",
     "iopub.status.busy": "2020-12-14T23:21:00.655653Z",
     "iopub.status.idle": "2020-12-14T23:21:01.282871Z",
     "shell.execute_reply": "2020-12-14T23:21:01.282348Z"
    },
    "jupyter": {
     "source_hidden": true
    },
    "papermill": {
     "duration": 0.645166,
     "end_time": "2020-12-14T23:21:01.283015",
     "exception": false,
     "start_time": "2020-12-14T23:21:00.637849",
     "status": "completed"
    },
    "tags": []
   },
   "outputs": [],
   "source": [
    "import pandas as pd\n",
    "import numpy as np\n",
    "from sqlalchemy import create_engine\n",
    "from datetime import date\n",
    "from sklearn.metrics import mean_squared_error"
   ]
  },
  {
   "cell_type": "code",
   "execution_count": 2,
   "metadata": {
    "execution": {
     "iopub.execute_input": "2020-12-14T23:21:01.303143Z",
     "iopub.status.busy": "2020-12-14T23:21:01.302757Z",
     "iopub.status.idle": "2020-12-14T23:21:01.354294Z",
     "shell.execute_reply": "2020-12-14T23:21:01.353794Z"
    },
    "jupyter": {
     "source_hidden": true
    },
    "papermill": {
     "duration": 0.063305,
     "end_time": "2020-12-14T23:21:01.354428",
     "exception": false,
     "start_time": "2020-12-14T23:21:01.291123",
     "status": "completed"
    },
    "tags": []
   },
   "outputs": [],
   "source": [
    "# THIS IS PURELY FOR TEST PURPOSE NEVER DO THAT IN PRODUCTION\n",
    "POSTGRES_ADDRESS='postgres'\n",
    "POSTGRES_PORT='5432'\n",
    "POSTGRES_USERNAME='postgres'\n",
    "POSTGRES_PASSWORD='postgres'\n",
    "\n",
    "postgres_conn = 'postgresql://{0}:{1}@{2}:{3}/'.format(POSTGRES_USERNAME, POSTGRES_PASSWORD, POSTGRES_ADDRESS, POSTGRES_PORT)\n",
    "\n",
    "# Create the connection\n",
    "cnx = create_engine(postgres_conn)\n"
   ]
  },
  {
   "cell_type": "markdown",
   "metadata": {
    "_uuid": "1998755ef10683262b29765345cff1c1c7d10b15",
    "papermill": {
     "duration": 0.009205,
     "end_time": "2020-12-14T23:21:01.373975",
     "exception": false,
     "start_time": "2020-12-14T23:21:01.364770",
     "status": "completed"
    },
    "tags": []
   },
   "source": [
    "Read in the Avocado Prices csv file as a DataFrame called df"
   ]
  },
  {
   "cell_type": "code",
   "execution_count": 3,
   "metadata": {
    "execution": {
     "iopub.execute_input": "2020-12-14T23:21:01.394318Z",
     "iopub.status.busy": "2020-12-14T23:21:01.393890Z",
     "iopub.status.idle": "2020-12-14T23:21:01.396929Z",
     "shell.execute_reply": "2020-12-14T23:21:01.396538Z"
    },
    "jupyter": {
     "source_hidden": true
    },
    "papermill": {
     "duration": 0.014714,
     "end_time": "2020-12-14T23:21:01.397027",
     "exception": false,
     "start_time": "2020-12-14T23:21:01.382313",
     "status": "completed"
    },
    "tags": [
     "parameters"
    ]
   },
   "outputs": [],
   "source": [
    "# Parameterized\n",
    "\n",
    "filepath='avocado.csv'\n",
    "ml_id='auto_100'\n",
    "ml_date=date.today()\n",
    "n_estimators = 100\n",
    "max_features = 'auto'"
   ]
  },
  {
   "cell_type": "code",
   "execution_count": 4,
   "metadata": {
    "execution": {
     "iopub.execute_input": "2020-12-14T23:21:01.419032Z",
     "iopub.status.busy": "2020-12-14T23:21:01.418595Z",
     "iopub.status.idle": "2020-12-14T23:21:01.421047Z",
     "shell.execute_reply": "2020-12-14T23:21:01.420655Z"
    },
    "jupyter": {
     "source_hidden": true
    },
    "papermill": {
     "duration": 0.015681,
     "end_time": "2020-12-14T23:21:01.421146",
     "exception": false,
     "start_time": "2020-12-14T23:21:01.405465",
     "status": "completed"
    },
    "tags": [
     "injected-parameters"
    ]
   },
   "outputs": [],
   "source": [
    "# Parameters\n",
    "filepath = \"/tmp/avocado.csv\"\n",
    "n_estimators = 150\n",
    "max_features = \"auto\"\n",
    "ml_id = \"auto_150\"\n"
   ]
  },
  {
   "cell_type": "code",
   "execution_count": 5,
   "metadata": {
    "_uuid": "55d0e719eb8b91d763c1eacaf0f51ee0586486fc",
    "execution": {
     "iopub.execute_input": "2020-12-14T23:21:01.441046Z",
     "iopub.status.busy": "2020-12-14T23:21:01.440657Z",
     "iopub.status.idle": "2020-12-14T23:21:01.465092Z",
     "shell.execute_reply": "2020-12-14T23:21:01.464744Z"
    },
    "jupyter": {
     "source_hidden": true
    },
    "papermill": {
     "duration": 0.035443,
     "end_time": "2020-12-14T23:21:01.465186",
     "exception": false,
     "start_time": "2020-12-14T23:21:01.429743",
     "status": "completed"
    },
    "tags": []
   },
   "outputs": [],
   "source": [
    "df= pd.read_csv(filepath)"
   ]
  },
  {
   "cell_type": "markdown",
   "metadata": {
    "_uuid": "434e0457f550e2200424e5ec26162e1aa5904005",
    "papermill": {
     "duration": 0.008394,
     "end_time": "2020-12-14T23:21:01.481656",
     "exception": false,
     "start_time": "2020-12-14T23:21:01.473262",
     "status": "completed"
    },
    "tags": []
   },
   "source": [
    "The Feature \"Unnamed:0\" is just a representation of the indexes, so it's useless to keep it, lets remove it !"
   ]
  },
  {
   "cell_type": "code",
   "execution_count": 6,
   "metadata": {
    "_uuid": "9875398e37728dc3141fed4228be337a4735beb6",
    "execution": {
     "iopub.execute_input": "2020-12-14T23:21:01.502463Z",
     "iopub.status.busy": "2020-12-14T23:21:01.502093Z",
     "iopub.status.idle": "2020-12-14T23:21:01.504772Z",
     "shell.execute_reply": "2020-12-14T23:21:01.504359Z"
    },
    "jupyter": {
     "source_hidden": true
    },
    "papermill": {
     "duration": 0.015337,
     "end_time": "2020-12-14T23:21:01.504858",
     "exception": false,
     "start_time": "2020-12-14T23:21:01.489521",
     "status": "completed"
    },
    "tags": []
   },
   "outputs": [],
   "source": [
    "df.drop('Unnamed: 0',axis=1,inplace=True)"
   ]
  },
  {
   "cell_type": "markdown",
   "metadata": {
    "_uuid": "12e94ad381e4cb8d2c8a9bbe08ce07ab5d49c040",
    "papermill": {
     "duration": 0.008045,
     "end_time": "2020-12-14T23:21:01.521053",
     "exception": false,
     "start_time": "2020-12-14T23:21:01.513008",
     "status": "completed"
    },
    "tags": []
   },
   "source": [
    "well as a first observation we can see that we are lucky, we dont have any missing values (18249 complete data) and 13 columns.\n",
    "Now let's do some Feature Engineering on the Date Feature so we can be able to use the day and the month columns in building our machine learning model later. ( I didn't mention the year because its already there in data frame)"
   ]
  },
  {
   "cell_type": "code",
   "execution_count": 7,
   "metadata": {
    "_uuid": "f031639ce794656e877484d1c9c356df7028177f",
    "execution": {
     "iopub.execute_input": "2020-12-14T23:21:01.542778Z",
     "iopub.status.busy": "2020-12-14T23:21:01.542283Z",
     "iopub.status.idle": "2020-12-14T23:21:01.647321Z",
     "shell.execute_reply": "2020-12-14T23:21:01.646985Z"
    },
    "jupyter": {
     "source_hidden": true
    },
    "papermill": {
     "duration": 0.118248,
     "end_time": "2020-12-14T23:21:01.647418",
     "exception": false,
     "start_time": "2020-12-14T23:21:01.529170",
     "status": "completed"
    },
    "tags": []
   },
   "outputs": [],
   "source": [
    "df['Date']=pd.to_datetime(df['Date'])\n",
    "df['Month']=df['Date'].apply(lambda x:x.month)\n",
    "df['Day']=df['Date'].apply(lambda x:x.day)"
   ]
  },
  {
   "cell_type": "markdown",
   "metadata": {
    "_uuid": "ebdcac9924ce3e366fd3a75170682f7113385b7a",
    "papermill": {
     "duration": 0.008352,
     "end_time": "2020-12-14T23:21:01.664451",
     "exception": false,
     "start_time": "2020-12-14T23:21:01.656099",
     "status": "completed"
    },
    "tags": []
   },
   "source": [
    "as we can see we have 54 regions and 2 unique types, so it's going to be easy to to transform the type feature to dummies, but for the region its going to be a bit complexe so I decided to drop the entire column.\n",
    "I will drop the Date Feature as well because I already have 3 other columns for the Year, Month and Day."
   ]
  },
  {
   "cell_type": "code",
   "execution_count": 8,
   "metadata": {
    "_uuid": "a798682da34327b731ef262985fd50ba68e06460",
    "execution": {
     "iopub.execute_input": "2020-12-14T23:21:01.689086Z",
     "iopub.status.busy": "2020-12-14T23:21:01.686506Z",
     "iopub.status.idle": "2020-12-14T23:21:01.693666Z",
     "shell.execute_reply": "2020-12-14T23:21:01.693264Z"
    },
    "jupyter": {
     "source_hidden": true
    },
    "papermill": {
     "duration": 0.021156,
     "end_time": "2020-12-14T23:21:01.693855",
     "exception": false,
     "start_time": "2020-12-14T23:21:01.672699",
     "status": "completed"
    },
    "tags": []
   },
   "outputs": [],
   "source": [
    "df_final=pd.get_dummies(df.drop(['region','Date'],axis=1),drop_first=True)"
   ]
  },
  {
   "cell_type": "markdown",
   "metadata": {
    "_uuid": "8b74a6b88cb3e9b3e1d1e987e061048f203c7364",
    "papermill": {
     "duration": 0.009016,
     "end_time": "2020-12-14T23:21:01.711308",
     "exception": false,
     "start_time": "2020-12-14T23:21:01.702292",
     "status": "completed"
    },
    "tags": []
   },
   "source": [
    "Now our data are ready! lets apply our model which is going to be the Linear Regression because our Target variable 'AveragePrice'is continuous.\n",
    "Let's now begin to train out regression model! We will need to first split up our data into an X array that contains the features to train on, and a y array with the target variable"
   ]
  },
  {
   "cell_type": "code",
   "execution_count": 9,
   "metadata": {
    "_uuid": "830591f99de9715241e688bf9ce265e979401ff5",
    "execution": {
     "iopub.execute_input": "2020-12-14T23:21:01.732247Z",
     "iopub.status.busy": "2020-12-14T23:21:01.731870Z",
     "iopub.status.idle": "2020-12-14T23:21:01.741395Z",
     "shell.execute_reply": "2020-12-14T23:21:01.740987Z"
    },
    "jupyter": {
     "source_hidden": true
    },
    "papermill": {
     "duration": 0.02155,
     "end_time": "2020-12-14T23:21:01.741491",
     "exception": false,
     "start_time": "2020-12-14T23:21:01.719941",
     "status": "completed"
    },
    "tags": []
   },
   "outputs": [],
   "source": [
    "X=df_final.iloc[:,1:14]\n",
    "y=df_final['AveragePrice']\n",
    "from sklearn.model_selection import train_test_split\n",
    "X_train,X_test,y_train,y_test=train_test_split(X,y,test_size=0.2,random_state=42)"
   ]
  },
  {
   "cell_type": "markdown",
   "metadata": {
    "_uuid": "ea730c77a31cde9de98263079a189accb8b5772b",
    "papermill": {
     "duration": 0.008341,
     "end_time": "2020-12-14T23:21:01.758619",
     "exception": false,
     "start_time": "2020-12-14T23:21:01.750278",
     "status": "completed"
    },
    "tags": []
   },
   "source": [
    "Creating and Training the Model"
   ]
  },
  {
   "cell_type": "code",
   "execution_count": 10,
   "metadata": {
    "_uuid": "eb37015e78974e5fd2ae7e13d065c8ab0a9c6948",
    "execution": {
     "iopub.execute_input": "2020-12-14T23:21:01.779560Z",
     "iopub.status.busy": "2020-12-14T23:21:01.779184Z",
     "iopub.status.idle": "2020-12-14T23:21:13.723157Z",
     "shell.execute_reply": "2020-12-14T23:21:13.722781Z"
    },
    "jupyter": {
     "source_hidden": true
    },
    "papermill": {
     "duration": 11.956188,
     "end_time": "2020-12-14T23:21:13.723265",
     "exception": false,
     "start_time": "2020-12-14T23:21:01.767077",
     "status": "completed"
    },
    "tags": []
   },
   "outputs": [],
   "source": [
    "from sklearn.ensemble import RandomForestRegressor\n",
    "rdr = RandomForestRegressor(\n",
    "    n_estimators=n_estimators,\n",
    "    max_features=max_features\n",
    ")\n",
    "rdr.fit(X_train,y_train)\n",
    "pred=rdr.predict(X_test)"
   ]
  },
  {
   "cell_type": "code",
   "execution_count": 11,
   "metadata": {
    "_uuid": "7ed5b8d4e8abb44a4b548c13ac9fb2d65227d1c5",
    "execution": {
     "iopub.execute_input": "2020-12-14T23:21:13.744230Z",
     "iopub.status.busy": "2020-12-14T23:21:13.743819Z",
     "iopub.status.idle": "2020-12-14T23:21:13.747415Z",
     "shell.execute_reply": "2020-12-14T23:21:13.747036Z"
    },
    "jupyter": {
     "source_hidden": true
    },
    "papermill": {
     "duration": 0.015156,
     "end_time": "2020-12-14T23:21:13.747525",
     "exception": false,
     "start_time": "2020-12-14T23:21:13.732369",
     "status": "completed"
    },
    "tags": []
   },
   "outputs": [],
   "source": [
    "#%%capture cap --no-stderr\n",
    "#print(np.sqrt(mean_squared_error(y_test, pred)))"
   ]
  },
  {
   "cell_type": "code",
   "execution_count": 12,
   "metadata": {
    "execution": {
     "iopub.execute_input": "2020-12-14T23:21:13.768255Z",
     "iopub.status.busy": "2020-12-14T23:21:13.767884Z",
     "iopub.status.idle": "2020-12-14T23:21:13.771401Z",
     "shell.execute_reply": "2020-12-14T23:21:13.771068Z"
    },
    "jupyter": {
     "source_hidden": true
    },
    "papermill": {
     "duration": 0.014773,
     "end_time": "2020-12-14T23:21:13.771497",
     "exception": false,
     "start_time": "2020-12-14T23:21:13.756724",
     "status": "completed"
    },
    "tags": []
   },
   "outputs": [],
   "source": [
    "#with open(output_rmse, 'w') as f:\n",
    "#    f.write(cap.stdout)"
   ]
  },
  {
   "cell_type": "code",
   "execution_count": 13,
   "metadata": {
    "execution": {
     "iopub.execute_input": "2020-12-14T23:21:13.793245Z",
     "iopub.status.busy": "2020-12-14T23:21:13.792375Z",
     "iopub.status.idle": "2020-12-14T23:21:13.809663Z",
     "shell.execute_reply": "2020-12-14T23:21:13.809350Z"
    },
    "jupyter": {
     "source_hidden": true
    },
    "papermill": {
     "duration": 0.029285,
     "end_time": "2020-12-14T23:21:13.809830",
     "exception": false,
     "start_time": "2020-12-14T23:21:13.780545",
     "status": "completed"
    },
    "tags": []
   },
   "outputs": [
    {
     "data": {
      "text/plain": [
       "<sqlalchemy.engine.result.ResultProxy at 0x7fd8e10e7350>"
      ]
     },
     "execution_count": 13,
     "metadata": {},
     "output_type": "execute_result"
    }
   ],
   "source": [
    "cnx.execute(\"\"\"\n",
    "    INSERT INTO ml.accuracies (ml_id, ml_date, accuracy) VALUES ('{0}', '{1}', {2}) \n",
    "    ON CONFLICT (ml_id, ml_date) \n",
    "    DO\n",
    "        UPDATE SET accuracy = {2};\n",
    "    \"\"\".format(ml_id, ml_date, np.sqrt(mean_squared_error(y_test, pred))))"
   ]
  }
 ],
 "metadata": {
  "kernelspec": {
   "display_name": "Python 3",
   "language": "python",
   "name": "python3"
  },
  "language_info": {
   "codemirror_mode": {
    "name": "ipython",
    "version": 3
   },
   "file_extension": ".py",
   "mimetype": "text/x-python",
   "name": "python",
   "nbconvert_exporter": "python",
   "pygments_lexer": "ipython3",
   "version": "3.7.9"
  },
  "papermill": {
   "duration": 14.613114,
   "end_time": "2020-12-14T23:21:14.229296",
   "environment_variables": {},
   "exception": null,
   "input_path": "/usr/local/airflow/include/notebooks/avocado_prediction.ipynb",
   "output_path": "/tmp/out-model-avocado-prediction-auto_150.ipynb",
   "parameters": {
    "filepath": "/tmp/avocado.csv",
    "max_features": "auto",
    "ml_id": "auto_150",
    "n_estimators": 150
   },
   "start_time": "2020-12-14T23:20:59.616182",
   "version": "2.1.2"
  }
 },
 "nbformat": 4,
 "nbformat_minor": 4
}