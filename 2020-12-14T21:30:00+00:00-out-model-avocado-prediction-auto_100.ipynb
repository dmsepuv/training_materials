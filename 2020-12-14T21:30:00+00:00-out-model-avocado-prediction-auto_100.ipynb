{
 "cells": [
  {
   "cell_type": "code",
   "execution_count": 1,
   "metadata": {
    "_cell_guid": "79c7e3d0-c299-4dcb-8224-4455121ee9b0",
    "_uuid": "d629ff2d2480ee46fbb7e2d37f6b5fab8052498a",
    "execution": {
     "iopub.execute_input": "2020-12-14T21:40:41.841876Z",
     "iopub.status.busy": "2020-12-14T21:40:41.841316Z",
     "iopub.status.idle": "2020-12-14T21:40:42.426646Z",
     "shell.execute_reply": "2020-12-14T21:40:42.426234Z"
    },
    "jupyter": {
     "source_hidden": true
    },
    "papermill": {
     "duration": 0.603389,
     "end_time": "2020-12-14T21:40:42.426785",
     "exception": false,
     "start_time": "2020-12-14T21:40:41.823396",
     "status": "completed"
    },
    "tags": []
   },
   "outputs": [],
   "source": [
    "import pandas as pd\n",
    "import numpy as np\n",
    "from sqlalchemy import create_engine\n",
    "from datetime import date\n",
    "from sklearn.metrics import mean_squared_error"
   ]
  },
  {
   "cell_type": "code",
   "execution_count": 2,
   "metadata": {
    "execution": {
     "iopub.execute_input": "2020-12-14T21:40:42.447287Z",
     "iopub.status.busy": "2020-12-14T21:40:42.446913Z",
     "iopub.status.idle": "2020-12-14T21:40:42.499053Z",
     "shell.execute_reply": "2020-12-14T21:40:42.498550Z"
    },
    "jupyter": {
     "source_hidden": true
    },
    "papermill": {
     "duration": 0.063943,
     "end_time": "2020-12-14T21:40:42.499186",
     "exception": false,
     "start_time": "2020-12-14T21:40:42.435243",
     "status": "completed"
    },
    "tags": []
   },
   "outputs": [],
   "source": [
    "# THIS IS PURELY FOR TEST PURPOSE NEVER DO THAT IN PRODUCTION\n",
    "POSTGRES_ADDRESS='postgres'\n",
    "POSTGRES_PORT='5432'\n",
    "POSTGRES_USERNAME='postgres'\n",
    "POSTGRES_PASSWORD='postgres'\n",
    "\n",
    "postgres_conn = 'postgresql://{0}:{1}@{2}:{3}/'.format(POSTGRES_USERNAME, POSTGRES_PASSWORD, POSTGRES_ADDRESS, POSTGRES_PORT)\n",
    "\n",
    "# Create the connection\n",
    "cnx = create_engine(postgres_conn)\n"
   ]
  },
  {
   "cell_type": "markdown",
   "metadata": {
    "_uuid": "1998755ef10683262b29765345cff1c1c7d10b15",
    "papermill": {
     "duration": 0.008614,
     "end_time": "2020-12-14T21:40:42.517974",
     "exception": false,
     "start_time": "2020-12-14T21:40:42.509360",
     "status": "completed"
    },
    "tags": []
   },
   "source": [
    "Read in the Avocado Prices csv file as a DataFrame called df"
   ]
  },
  {
   "cell_type": "code",
   "execution_count": 3,
   "metadata": {
    "execution": {
     "iopub.execute_input": "2020-12-14T21:40:42.538817Z",
     "iopub.status.busy": "2020-12-14T21:40:42.538327Z",
     "iopub.status.idle": "2020-12-14T21:40:42.541142Z",
     "shell.execute_reply": "2020-12-14T21:40:42.540786Z"
    },
    "jupyter": {
     "source_hidden": true
    },
    "papermill": {
     "duration": 0.015014,
     "end_time": "2020-12-14T21:40:42.541239",
     "exception": false,
     "start_time": "2020-12-14T21:40:42.526225",
     "status": "completed"
    },
    "tags": [
     "parameters"
    ]
   },
   "outputs": [],
   "source": [
    "# Parameterized\n",
    "\n",
    "filepath='avocado.csv'\n",
    "ml_id='auto_100'\n",
    "ml_date=date.today()\n",
    "n_estimators = 100\n",
    "max_features = 'auto'"
   ]
  },
  {
   "cell_type": "code",
   "execution_count": 4,
   "metadata": {
    "execution": {
     "iopub.execute_input": "2020-12-14T21:40:42.560885Z",
     "iopub.status.busy": "2020-12-14T21:40:42.560416Z",
     "iopub.status.idle": "2020-12-14T21:40:42.562560Z",
     "shell.execute_reply": "2020-12-14T21:40:42.562958Z"
    },
    "jupyter": {
     "source_hidden": true
    },
    "papermill": {
     "duration": 0.013685,
     "end_time": "2020-12-14T21:40:42.563065",
     "exception": false,
     "start_time": "2020-12-14T21:40:42.549380",
     "status": "completed"
    },
    "tags": [
     "injected-parameters"
    ]
   },
   "outputs": [],
   "source": [
    "# Parameters\n",
    "filepath = \"/tmp/avocado.csv\"\n",
    "n_estimators = 100\n",
    "max_features = \"auto\"\n",
    "ml_id = \"auto_100\"\n"
   ]
  },
  {
   "cell_type": "code",
   "execution_count": 5,
   "metadata": {
    "_uuid": "55d0e719eb8b91d763c1eacaf0f51ee0586486fc",
    "execution": {
     "iopub.execute_input": "2020-12-14T21:40:42.582272Z",
     "iopub.status.busy": "2020-12-14T21:40:42.581900Z",
     "iopub.status.idle": "2020-12-14T21:40:42.606597Z",
     "shell.execute_reply": "2020-12-14T21:40:42.606195Z"
    },
    "jupyter": {
     "source_hidden": true
    },
    "papermill": {
     "duration": 0.035588,
     "end_time": "2020-12-14T21:40:42.606710",
     "exception": false,
     "start_time": "2020-12-14T21:40:42.571122",
     "status": "completed"
    },
    "tags": []
   },
   "outputs": [],
   "source": [
    "df= pd.read_csv(filepath)"
   ]
  },
  {
   "cell_type": "markdown",
   "metadata": {
    "_uuid": "434e0457f550e2200424e5ec26162e1aa5904005",
    "papermill": {
     "duration": 0.007993,
     "end_time": "2020-12-14T21:40:42.623001",
     "exception": false,
     "start_time": "2020-12-14T21:40:42.615008",
     "status": "completed"
    },
    "tags": []
   },
   "source": [
    "The Feature \"Unnamed:0\" is just a representation of the indexes, so it's useless to keep it, lets remove it !"
   ]
  },
  {
   "cell_type": "code",
   "execution_count": 6,
   "metadata": {
    "_uuid": "9875398e37728dc3141fed4228be337a4735beb6",
    "execution": {
     "iopub.execute_input": "2020-12-14T21:40:42.643900Z",
     "iopub.status.busy": "2020-12-14T21:40:42.643430Z",
     "iopub.status.idle": "2020-12-14T21:40:42.647121Z",
     "shell.execute_reply": "2020-12-14T21:40:42.646691Z"
    },
    "jupyter": {
     "source_hidden": true
    },
    "papermill": {
     "duration": 0.016415,
     "end_time": "2020-12-14T21:40:42.647220",
     "exception": false,
     "start_time": "2020-12-14T21:40:42.630805",
     "status": "completed"
    },
    "tags": []
   },
   "outputs": [],
   "source": [
    "df.drop('Unnamed: 0',axis=1,inplace=True)"
   ]
  },
  {
   "cell_type": "markdown",
   "metadata": {
    "_uuid": "12e94ad381e4cb8d2c8a9bbe08ce07ab5d49c040",
    "papermill": {
     "duration": 0.008162,
     "end_time": "2020-12-14T21:40:42.663561",
     "exception": false,
     "start_time": "2020-12-14T21:40:42.655399",
     "status": "completed"
    },
    "tags": []
   },
   "source": [
    "well as a first observation we can see that we are lucky, we dont have any missing values (18249 complete data) and 13 columns.\n",
    "Now let's do some Feature Engineering on the Date Feature so we can be able to use the day and the month columns in building our machine learning model later. ( I didn't mention the year because its already there in data frame)"
   ]
  },
  {
   "cell_type": "code",
   "execution_count": 7,
   "metadata": {
    "_uuid": "f031639ce794656e877484d1c9c356df7028177f",
    "execution": {
     "iopub.execute_input": "2020-12-14T21:40:42.684236Z",
     "iopub.status.busy": "2020-12-14T21:40:42.683859Z",
     "iopub.status.idle": "2020-12-14T21:40:42.791314Z",
     "shell.execute_reply": "2020-12-14T21:40:42.790978Z"
    },
    "jupyter": {
     "source_hidden": true
    },
    "papermill": {
     "duration": 0.119828,
     "end_time": "2020-12-14T21:40:42.791411",
     "exception": false,
     "start_time": "2020-12-14T21:40:42.671583",
     "status": "completed"
    },
    "tags": []
   },
   "outputs": [],
   "source": [
    "df['Date']=pd.to_datetime(df['Date'])\n",
    "df['Month']=df['Date'].apply(lambda x:x.month)\n",
    "df['Day']=df['Date'].apply(lambda x:x.day)"
   ]
  },
  {
   "cell_type": "markdown",
   "metadata": {
    "_uuid": "ebdcac9924ce3e366fd3a75170682f7113385b7a",
    "papermill": {
     "duration": 0.008325,
     "end_time": "2020-12-14T21:40:42.808151",
     "exception": false,
     "start_time": "2020-12-14T21:40:42.799826",
     "status": "completed"
    },
    "tags": []
   },
   "source": [
    "as we can see we have 54 regions and 2 unique types, so it's going to be easy to to transform the type feature to dummies, but for the region its going to be a bit complexe so I decided to drop the entire column.\n",
    "I will drop the Date Feature as well because I already have 3 other columns for the Year, Month and Day."
   ]
  },
  {
   "cell_type": "code",
   "execution_count": 8,
   "metadata": {
    "_uuid": "a798682da34327b731ef262985fd50ba68e06460",
    "execution": {
     "iopub.execute_input": "2020-12-14T21:40:42.829951Z",
     "iopub.status.busy": "2020-12-14T21:40:42.827925Z",
     "iopub.status.idle": "2020-12-14T21:40:42.836738Z",
     "shell.execute_reply": "2020-12-14T21:40:42.836350Z"
    },
    "jupyter": {
     "source_hidden": true
    },
    "papermill": {
     "duration": 0.020473,
     "end_time": "2020-12-14T21:40:42.836839",
     "exception": false,
     "start_time": "2020-12-14T21:40:42.816366",
     "status": "completed"
    },
    "tags": []
   },
   "outputs": [],
   "source": [
    "df_final=pd.get_dummies(df.drop(['region','Date'],axis=1),drop_first=True)"
   ]
  },
  {
   "cell_type": "markdown",
   "metadata": {
    "_uuid": "8b74a6b88cb3e9b3e1d1e987e061048f203c7364",
    "papermill": {
     "duration": 0.00887,
     "end_time": "2020-12-14T21:40:42.853953",
     "exception": false,
     "start_time": "2020-12-14T21:40:42.845083",
     "status": "completed"
    },
    "tags": []
   },
   "source": [
    "Now our data are ready! lets apply our model which is going to be the Linear Regression because our Target variable 'AveragePrice'is continuous.\n",
    "Let's now begin to train out regression model! We will need to first split up our data into an X array that contains the features to train on, and a y array with the target variable"
   ]
  },
  {
   "cell_type": "code",
   "execution_count": 9,
   "metadata": {
    "_uuid": "830591f99de9715241e688bf9ce265e979401ff5",
    "execution": {
     "iopub.execute_input": "2020-12-14T21:40:42.875002Z",
     "iopub.status.busy": "2020-12-14T21:40:42.874305Z",
     "iopub.status.idle": "2020-12-14T21:40:42.883367Z",
     "shell.execute_reply": "2020-12-14T21:40:42.883037Z"
    },
    "jupyter": {
     "source_hidden": true
    },
    "papermill": {
     "duration": 0.021202,
     "end_time": "2020-12-14T21:40:42.883453",
     "exception": false,
     "start_time": "2020-12-14T21:40:42.862251",
     "status": "completed"
    },
    "tags": []
   },
   "outputs": [],
   "source": [
    "X=df_final.iloc[:,1:14]\n",
    "y=df_final['AveragePrice']\n",
    "from sklearn.model_selection import train_test_split\n",
    "X_train,X_test,y_train,y_test=train_test_split(X,y,test_size=0.2,random_state=42)"
   ]
  },
  {
   "cell_type": "markdown",
   "metadata": {
    "_uuid": "ea730c77a31cde9de98263079a189accb8b5772b",
    "papermill": {
     "duration": 0.008428,
     "end_time": "2020-12-14T21:40:42.900077",
     "exception": false,
     "start_time": "2020-12-14T21:40:42.891649",
     "status": "completed"
    },
    "tags": []
   },
   "source": [
    "Creating and Training the Model"
   ]
  },
  {
   "cell_type": "code",
   "execution_count": 10,
   "metadata": {
    "_uuid": "eb37015e78974e5fd2ae7e13d065c8ab0a9c6948",
    "execution": {
     "iopub.execute_input": "2020-12-14T21:40:42.920173Z",
     "iopub.status.busy": "2020-12-14T21:40:42.919798Z",
     "iopub.status.idle": "2020-12-14T21:40:50.884150Z",
     "shell.execute_reply": "2020-12-14T21:40:50.884499Z"
    },
    "jupyter": {
     "source_hidden": true
    },
    "papermill": {
     "duration": 7.976276,
     "end_time": "2020-12-14T21:40:50.884632",
     "exception": false,
     "start_time": "2020-12-14T21:40:42.908356",
     "status": "completed"
    },
    "tags": []
   },
   "outputs": [],
   "source": [
    "from sklearn.ensemble import RandomForestRegressor\n",
    "rdr = RandomForestRegressor(\n",
    "    n_estimators=n_estimators,\n",
    "    max_features=max_features\n",
    ")\n",
    "rdr.fit(X_train,y_train)\n",
    "pred=rdr.predict(X_test)"
   ]
  },
  {
   "cell_type": "code",
   "execution_count": 11,
   "metadata": {
    "_uuid": "7ed5b8d4e8abb44a4b548c13ac9fb2d65227d1c5",
    "execution": {
     "iopub.execute_input": "2020-12-14T21:40:50.906161Z",
     "iopub.status.busy": "2020-12-14T21:40:50.905727Z",
     "iopub.status.idle": "2020-12-14T21:40:50.908467Z",
     "shell.execute_reply": "2020-12-14T21:40:50.908092Z"
    },
    "jupyter": {
     "source_hidden": true
    },
    "papermill": {
     "duration": 0.014624,
     "end_time": "2020-12-14T21:40:50.908564",
     "exception": false,
     "start_time": "2020-12-14T21:40:50.893940",
     "status": "completed"
    },
    "tags": []
   },
   "outputs": [],
   "source": [
    "#%%capture cap --no-stderr\n",
    "#print(np.sqrt(mean_squared_error(y_test, pred)))"
   ]
  },
  {
   "cell_type": "code",
   "execution_count": 12,
   "metadata": {
    "execution": {
     "iopub.execute_input": "2020-12-14T21:40:50.928627Z",
     "iopub.status.busy": "2020-12-14T21:40:50.928259Z",
     "iopub.status.idle": "2020-12-14T21:40:50.930900Z",
     "shell.execute_reply": "2020-12-14T21:40:50.930420Z"
    },
    "jupyter": {
     "source_hidden": true
    },
    "papermill": {
     "duration": 0.013653,
     "end_time": "2020-12-14T21:40:50.930982",
     "exception": false,
     "start_time": "2020-12-14T21:40:50.917329",
     "status": "completed"
    },
    "tags": []
   },
   "outputs": [],
   "source": [
    "#with open(output_rmse, 'w') as f:\n",
    "#    f.write(cap.stdout)"
   ]
  },
  {
   "cell_type": "code",
   "execution_count": 13,
   "metadata": {
    "execution": {
     "iopub.execute_input": "2020-12-14T21:40:50.951724Z",
     "iopub.status.busy": "2020-12-14T21:40:50.951006Z",
     "iopub.status.idle": "2020-12-14T21:40:50.968068Z",
     "shell.execute_reply": "2020-12-14T21:40:50.967671Z"
    },
    "jupyter": {
     "source_hidden": true
    },
    "papermill": {
     "duration": 0.028668,
     "end_time": "2020-12-14T21:40:50.968159",
     "exception": false,
     "start_time": "2020-12-14T21:40:50.939491",
     "status": "completed"
    },
    "tags": []
   },
   "outputs": [
    {
     "data": {
      "text/plain": [
       "<sqlalchemy.engine.result.ResultProxy at 0x7f27bd899250>"
      ]
     },
     "execution_count": 13,
     "metadata": {},
     "output_type": "execute_result"
    }
   ],
   "source": [
    "cnx.execute(\"\"\"\n",
    "    INSERT INTO ml.accuracies (ml_id, ml_date, accuracy) VALUES ('{0}', '{1}', {2}) \n",
    "    ON CONFLICT (ml_id, ml_date) \n",
    "    DO\n",
    "        UPDATE SET accuracy = {2};\n",
    "    \"\"\".format(ml_id, ml_date, np.sqrt(mean_squared_error(y_test, pred))))"
   ]
  }
 ],
 "metadata": {
  "kernelspec": {
   "display_name": "Python 3",
   "language": "python",
   "name": "python3"
  },
  "language_info": {
   "codemirror_mode": {
    "name": "ipython",
    "version": 3
   },
   "file_extension": ".py",
   "mimetype": "text/x-python",
   "name": "python",
   "nbconvert_exporter": "python",
   "pygments_lexer": "ipython3",
   "version": "3.7.9"
  },
  "papermill": {
   "duration": 10.578933,
   "end_time": "2020-12-14T21:40:51.389982",
   "environment_variables": {},
   "exception": null,
   "input_path": "/usr/local/airflow/include/notebooks/avocado_prediction.ipynb",
   "output_path": "/tmp/out-model-avocado-prediction-auto_100.ipynb",
   "parameters": {
    "filepath": "/tmp/avocado.csv",
    "max_features": "auto",
    "ml_id": "auto_100",
    "n_estimators": 100
   },
   "start_time": "2020-12-14T21:40:40.811049",
   "version": "2.1.2"
  }
 },
 "nbformat": 4,
 "nbformat_minor": 4
}