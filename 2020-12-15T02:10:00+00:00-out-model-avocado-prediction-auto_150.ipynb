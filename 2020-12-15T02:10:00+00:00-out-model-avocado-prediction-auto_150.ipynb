{
 "cells": [
  {
   "cell_type": "code",
   "execution_count": 1,
   "metadata": {
    "_cell_guid": "79c7e3d0-c299-4dcb-8224-4455121ee9b0",
    "_uuid": "d629ff2d2480ee46fbb7e2d37f6b5fab8052498a",
    "execution": {
     "iopub.execute_input": "2020-12-15T02:21:02.179871Z",
     "iopub.status.busy": "2020-12-15T02:21:02.179316Z",
     "iopub.status.idle": "2020-12-15T02:21:02.784462Z",
     "shell.execute_reply": "2020-12-15T02:21:02.784773Z"
    },
    "jupyter": {
     "source_hidden": true
    },
    "papermill": {
     "duration": 0.622179,
     "end_time": "2020-12-15T02:21:02.784985",
     "exception": false,
     "start_time": "2020-12-15T02:21:02.162806",
     "status": "completed"
    },
    "tags": []
   },
   "outputs": [],
   "source": [
    "import pandas as pd\n",
    "import numpy as np\n",
    "from sqlalchemy import create_engine\n",
    "from datetime import date\n",
    "from sklearn.metrics import mean_squared_error"
   ]
  },
  {
   "cell_type": "code",
   "execution_count": 2,
   "metadata": {
    "execution": {
     "iopub.execute_input": "2020-12-15T02:21:02.805361Z",
     "iopub.status.busy": "2020-12-15T02:21:02.804870Z",
     "iopub.status.idle": "2020-12-15T02:21:02.856433Z",
     "shell.execute_reply": "2020-12-15T02:21:02.855809Z"
    },
    "jupyter": {
     "source_hidden": true
    },
    "papermill": {
     "duration": 0.063317,
     "end_time": "2020-12-15T02:21:02.856562",
     "exception": false,
     "start_time": "2020-12-15T02:21:02.793245",
     "status": "completed"
    },
    "tags": []
   },
   "outputs": [],
   "source": [
    "# THIS IS PURELY FOR TEST PURPOSE NEVER DO THAT IN PRODUCTION\n",
    "POSTGRES_ADDRESS='postgres'\n",
    "POSTGRES_PORT='5432'\n",
    "POSTGRES_USERNAME='postgres'\n",
    "POSTGRES_PASSWORD='postgres'\n",
    "\n",
    "postgres_conn = 'postgresql://{0}:{1}@{2}:{3}/'.format(POSTGRES_USERNAME, POSTGRES_PASSWORD, POSTGRES_ADDRESS, POSTGRES_PORT)\n",
    "\n",
    "# Create the connection\n",
    "cnx = create_engine(postgres_conn)\n"
   ]
  },
  {
   "cell_type": "markdown",
   "metadata": {
    "_uuid": "1998755ef10683262b29765345cff1c1c7d10b15",
    "papermill": {
     "duration": 0.008735,
     "end_time": "2020-12-15T02:21:02.875591",
     "exception": false,
     "start_time": "2020-12-15T02:21:02.866856",
     "status": "completed"
    },
    "tags": []
   },
   "source": [
    "Read in the Avocado Prices csv file as a DataFrame called df"
   ]
  },
  {
   "cell_type": "code",
   "execution_count": 3,
   "metadata": {
    "execution": {
     "iopub.execute_input": "2020-12-15T02:21:02.895946Z",
     "iopub.status.busy": "2020-12-15T02:21:02.895514Z",
     "iopub.status.idle": "2020-12-15T02:21:02.898162Z",
     "shell.execute_reply": "2020-12-15T02:21:02.898503Z"
    },
    "jupyter": {
     "source_hidden": true
    },
    "papermill": {
     "duration": 0.014576,
     "end_time": "2020-12-15T02:21:02.898616",
     "exception": false,
     "start_time": "2020-12-15T02:21:02.884040",
     "status": "completed"
    },
    "tags": [
     "parameters"
    ]
   },
   "outputs": [],
   "source": [
    "# Parameterized\n",
    "\n",
    "filepath='avocado.csv'\n",
    "ml_id='auto_100'\n",
    "ml_date=date.today()\n",
    "n_estimators = 100\n",
    "max_features = 'auto'"
   ]
  },
  {
   "cell_type": "code",
   "execution_count": 4,
   "metadata": {
    "execution": {
     "iopub.execute_input": "2020-12-15T02:21:02.917919Z",
     "iopub.status.busy": "2020-12-15T02:21:02.917542Z",
     "iopub.status.idle": "2020-12-15T02:21:02.920158Z",
     "shell.execute_reply": "2020-12-15T02:21:02.919762Z"
    },
    "jupyter": {
     "source_hidden": true
    },
    "papermill": {
     "duration": 0.013375,
     "end_time": "2020-12-15T02:21:02.920243",
     "exception": false,
     "start_time": "2020-12-15T02:21:02.906868",
     "status": "completed"
    },
    "tags": [
     "injected-parameters"
    ]
   },
   "outputs": [],
   "source": [
    "# Parameters\n",
    "filepath = \"/tmp/avocado.csv\"\n",
    "n_estimators = 150\n",
    "max_features = \"auto\"\n",
    "ml_id = \"auto_150\"\n"
   ]
  },
  {
   "cell_type": "code",
   "execution_count": 5,
   "metadata": {
    "_uuid": "55d0e719eb8b91d763c1eacaf0f51ee0586486fc",
    "execution": {
     "iopub.execute_input": "2020-12-15T02:21:02.939489Z",
     "iopub.status.busy": "2020-12-15T02:21:02.939010Z",
     "iopub.status.idle": "2020-12-15T02:21:02.963968Z",
     "shell.execute_reply": "2020-12-15T02:21:02.963616Z"
    },
    "jupyter": {
     "source_hidden": true
    },
    "papermill": {
     "duration": 0.03571,
     "end_time": "2020-12-15T02:21:02.964063",
     "exception": false,
     "start_time": "2020-12-15T02:21:02.928353",
     "status": "completed"
    },
    "tags": []
   },
   "outputs": [],
   "source": [
    "df= pd.read_csv(filepath)"
   ]
  },
  {
   "cell_type": "markdown",
   "metadata": {
    "_uuid": "434e0457f550e2200424e5ec26162e1aa5904005",
    "papermill": {
     "duration": 0.008121,
     "end_time": "2020-12-15T02:21:02.980598",
     "exception": false,
     "start_time": "2020-12-15T02:21:02.972477",
     "status": "completed"
    },
    "tags": []
   },
   "source": [
    "The Feature \"Unnamed:0\" is just a representation of the indexes, so it's useless to keep it, lets remove it !"
   ]
  },
  {
   "cell_type": "code",
   "execution_count": 6,
   "metadata": {
    "_uuid": "9875398e37728dc3141fed4228be337a4735beb6",
    "execution": {
     "iopub.execute_input": "2020-12-15T02:21:03.001839Z",
     "iopub.status.busy": "2020-12-15T02:21:03.001461Z",
     "iopub.status.idle": "2020-12-15T02:21:03.004136Z",
     "shell.execute_reply": "2020-12-15T02:21:03.003606Z"
    },
    "jupyter": {
     "source_hidden": true
    },
    "papermill": {
     "duration": 0.015575,
     "end_time": "2020-12-15T02:21:03.004230",
     "exception": false,
     "start_time": "2020-12-15T02:21:02.988655",
     "status": "completed"
    },
    "tags": []
   },
   "outputs": [],
   "source": [
    "df.drop('Unnamed: 0',axis=1,inplace=True)"
   ]
  },
  {
   "cell_type": "markdown",
   "metadata": {
    "_uuid": "12e94ad381e4cb8d2c8a9bbe08ce07ab5d49c040",
    "papermill": {
     "duration": 0.00819,
     "end_time": "2020-12-15T02:21:03.020517",
     "exception": false,
     "start_time": "2020-12-15T02:21:03.012327",
     "status": "completed"
    },
    "tags": []
   },
   "source": [
    "well as a first observation we can see that we are lucky, we dont have any missing values (18249 complete data) and 13 columns.\n",
    "Now let's do some Feature Engineering on the Date Feature so we can be able to use the day and the month columns in building our machine learning model later. ( I didn't mention the year because its already there in data frame)"
   ]
  },
  {
   "cell_type": "code",
   "execution_count": 7,
   "metadata": {
    "_uuid": "f031639ce794656e877484d1c9c356df7028177f",
    "execution": {
     "iopub.execute_input": "2020-12-15T02:21:03.045242Z",
     "iopub.status.busy": "2020-12-15T02:21:03.044742Z",
     "iopub.status.idle": "2020-12-15T02:21:03.169525Z",
     "shell.execute_reply": "2020-12-15T02:21:03.170076Z"
    },
    "jupyter": {
     "source_hidden": true
    },
    "papermill": {
     "duration": 0.141634,
     "end_time": "2020-12-15T02:21:03.170226",
     "exception": false,
     "start_time": "2020-12-15T02:21:03.028592",
     "status": "completed"
    },
    "tags": []
   },
   "outputs": [],
   "source": [
    "df['Date']=pd.to_datetime(df['Date'])\n",
    "df['Month']=df['Date'].apply(lambda x:x.month)\n",
    "df['Day']=df['Date'].apply(lambda x:x.day)"
   ]
  },
  {
   "cell_type": "markdown",
   "metadata": {
    "_uuid": "ebdcac9924ce3e366fd3a75170682f7113385b7a",
    "papermill": {
     "duration": 0.00885,
     "end_time": "2020-12-15T02:21:03.188796",
     "exception": false,
     "start_time": "2020-12-15T02:21:03.179946",
     "status": "completed"
    },
    "tags": []
   },
   "source": [
    "as we can see we have 54 regions and 2 unique types, so it's going to be easy to to transform the type feature to dummies, but for the region its going to be a bit complexe so I decided to drop the entire column.\n",
    "I will drop the Date Feature as well because I already have 3 other columns for the Year, Month and Day."
   ]
  },
  {
   "cell_type": "code",
   "execution_count": 8,
   "metadata": {
    "_uuid": "a798682da34327b731ef262985fd50ba68e06460",
    "execution": {
     "iopub.execute_input": "2020-12-15T02:21:03.210837Z",
     "iopub.status.busy": "2020-12-15T02:21:03.210403Z",
     "iopub.status.idle": "2020-12-15T02:21:03.219593Z",
     "shell.execute_reply": "2020-12-15T02:21:03.219966Z"
    },
    "jupyter": {
     "source_hidden": true
    },
    "papermill": {
     "duration": 0.022456,
     "end_time": "2020-12-15T02:21:03.220099",
     "exception": false,
     "start_time": "2020-12-15T02:21:03.197643",
     "status": "completed"
    },
    "tags": []
   },
   "outputs": [],
   "source": [
    "df_final=pd.get_dummies(df.drop(['region','Date'],axis=1),drop_first=True)"
   ]
  },
  {
   "cell_type": "markdown",
   "metadata": {
    "_uuid": "8b74a6b88cb3e9b3e1d1e987e061048f203c7364",
    "papermill": {
     "duration": 0.00892,
     "end_time": "2020-12-15T02:21:03.238104",
     "exception": false,
     "start_time": "2020-12-15T02:21:03.229184",
     "status": "completed"
    },
    "tags": []
   },
   "source": [
    "Now our data are ready! lets apply our model which is going to be the Linear Regression because our Target variable 'AveragePrice'is continuous.\n",
    "Let's now begin to train out regression model! We will need to first split up our data into an X array that contains the features to train on, and a y array with the target variable"
   ]
  },
  {
   "cell_type": "code",
   "execution_count": 9,
   "metadata": {
    "_uuid": "830591f99de9715241e688bf9ce265e979401ff5",
    "execution": {
     "iopub.execute_input": "2020-12-15T02:21:03.259021Z",
     "iopub.status.busy": "2020-12-15T02:21:03.258636Z",
     "iopub.status.idle": "2020-12-15T02:21:03.267975Z",
     "shell.execute_reply": "2020-12-15T02:21:03.267613Z"
    },
    "jupyter": {
     "source_hidden": true
    },
    "papermill": {
     "duration": 0.021557,
     "end_time": "2020-12-15T02:21:03.268073",
     "exception": false,
     "start_time": "2020-12-15T02:21:03.246516",
     "status": "completed"
    },
    "tags": []
   },
   "outputs": [],
   "source": [
    "X=df_final.iloc[:,1:14]\n",
    "y=df_final['AveragePrice']\n",
    "from sklearn.model_selection import train_test_split\n",
    "X_train,X_test,y_train,y_test=train_test_split(X,y,test_size=0.2,random_state=42)"
   ]
  },
  {
   "cell_type": "markdown",
   "metadata": {
    "_uuid": "ea730c77a31cde9de98263079a189accb8b5772b",
    "papermill": {
     "duration": 0.008482,
     "end_time": "2020-12-15T02:21:03.286100",
     "exception": false,
     "start_time": "2020-12-15T02:21:03.277618",
     "status": "completed"
    },
    "tags": []
   },
   "source": [
    "Creating and Training the Model"
   ]
  },
  {
   "cell_type": "code",
   "execution_count": 10,
   "metadata": {
    "_uuid": "eb37015e78974e5fd2ae7e13d065c8ab0a9c6948",
    "execution": {
     "iopub.execute_input": "2020-12-15T02:21:03.307169Z",
     "iopub.status.busy": "2020-12-15T02:21:03.306695Z",
     "iopub.status.idle": "2020-12-15T02:21:15.359557Z",
     "shell.execute_reply": "2020-12-15T02:21:15.359170Z"
    },
    "jupyter": {
     "source_hidden": true
    },
    "papermill": {
     "duration": 12.06513,
     "end_time": "2020-12-15T02:21:15.359668",
     "exception": false,
     "start_time": "2020-12-15T02:21:03.294538",
     "status": "completed"
    },
    "tags": []
   },
   "outputs": [],
   "source": [
    "from sklearn.ensemble import RandomForestRegressor\n",
    "rdr = RandomForestRegressor(\n",
    "    n_estimators=n_estimators,\n",
    "    max_features=max_features\n",
    ")\n",
    "rdr.fit(X_train,y_train)\n",
    "pred=rdr.predict(X_test)"
   ]
  },
  {
   "cell_type": "code",
   "execution_count": 11,
   "metadata": {
    "_uuid": "7ed5b8d4e8abb44a4b548c13ac9fb2d65227d1c5",
    "execution": {
     "iopub.execute_input": "2020-12-15T02:21:15.381157Z",
     "iopub.status.busy": "2020-12-15T02:21:15.380665Z",
     "iopub.status.idle": "2020-12-15T02:21:15.384255Z",
     "shell.execute_reply": "2020-12-15T02:21:15.384603Z"
    },
    "jupyter": {
     "source_hidden": true
    },
    "papermill": {
     "duration": 0.015756,
     "end_time": "2020-12-15T02:21:15.384735",
     "exception": false,
     "start_time": "2020-12-15T02:21:15.368979",
     "status": "completed"
    },
    "tags": []
   },
   "outputs": [],
   "source": [
    "#%%capture cap --no-stderr\n",
    "#print(np.sqrt(mean_squared_error(y_test, pred)))"
   ]
  },
  {
   "cell_type": "code",
   "execution_count": 12,
   "metadata": {
    "execution": {
     "iopub.execute_input": "2020-12-15T02:21:15.406027Z",
     "iopub.status.busy": "2020-12-15T02:21:15.405540Z",
     "iopub.status.idle": "2020-12-15T02:21:15.408682Z",
     "shell.execute_reply": "2020-12-15T02:21:15.408340Z"
    },
    "jupyter": {
     "source_hidden": true
    },
    "papermill": {
     "duration": 0.01478,
     "end_time": "2020-12-15T02:21:15.408767",
     "exception": false,
     "start_time": "2020-12-15T02:21:15.393987",
     "status": "completed"
    },
    "tags": []
   },
   "outputs": [],
   "source": [
    "#with open(output_rmse, 'w') as f:\n",
    "#    f.write(cap.stdout)"
   ]
  },
  {
   "cell_type": "code",
   "execution_count": 13,
   "metadata": {
    "execution": {
     "iopub.execute_input": "2020-12-15T02:21:15.430992Z",
     "iopub.status.busy": "2020-12-15T02:21:15.429687Z",
     "iopub.status.idle": "2020-12-15T02:21:15.448651Z",
     "shell.execute_reply": "2020-12-15T02:21:15.448245Z"
    },
    "jupyter": {
     "source_hidden": true
    },
    "papermill": {
     "duration": 0.031019,
     "end_time": "2020-12-15T02:21:15.448745",
     "exception": false,
     "start_time": "2020-12-15T02:21:15.417726",
     "status": "completed"
    },
    "tags": []
   },
   "outputs": [
    {
     "data": {
      "text/plain": [
       "<sqlalchemy.engine.result.ResultProxy at 0x7f8fa4033390>"
      ]
     },
     "execution_count": 13,
     "metadata": {},
     "output_type": "execute_result"
    }
   ],
   "source": [
    "cnx.execute(\"\"\"\n",
    "    INSERT INTO ml.accuracies (ml_id, ml_date, accuracy) VALUES ('{0}', '{1}', {2}) \n",
    "    ON CONFLICT (ml_id, ml_date) \n",
    "    DO\n",
    "        UPDATE SET accuracy = {2};\n",
    "    \"\"\".format(ml_id, ml_date, np.sqrt(mean_squared_error(y_test, pred))))"
   ]
  }
 ],
 "metadata": {
  "kernelspec": {
   "display_name": "Python 3",
   "language": "python",
   "name": "python3"
  },
  "language_info": {
   "codemirror_mode": {
    "name": "ipython",
    "version": 3
   },
   "file_extension": ".py",
   "mimetype": "text/x-python",
   "name": "python",
   "nbconvert_exporter": "python",
   "pygments_lexer": "ipython3",
   "version": "3.7.9"
  },
  "papermill": {
   "duration": 14.729889,
   "end_time": "2020-12-15T02:21:15.875073",
   "environment_variables": {},
   "exception": null,
   "input_path": "/usr/local/airflow/include/notebooks/avocado_prediction.ipynb",
   "output_path": "/tmp/out-model-avocado-prediction-auto_150.ipynb",
   "parameters": {
    "filepath": "/tmp/avocado.csv",
    "max_features": "auto",
    "ml_id": "auto_150",
    "n_estimators": 150
   },
   "start_time": "2020-12-15T02:21:01.145184",
   "version": "2.1.2"
  }
 },
 "nbformat": 4,
 "nbformat_minor": 4
}