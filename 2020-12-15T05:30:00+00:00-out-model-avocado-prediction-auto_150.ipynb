{
 "cells": [
  {
   "cell_type": "code",
   "execution_count": 1,
   "metadata": {
    "_cell_guid": "79c7e3d0-c299-4dcb-8224-4455121ee9b0",
    "_uuid": "d629ff2d2480ee46fbb7e2d37f6b5fab8052498a",
    "execution": {
     "iopub.execute_input": "2020-12-15T05:40:53.046403Z",
     "iopub.status.busy": "2020-12-15T05:40:53.045813Z",
     "iopub.status.idle": "2020-12-15T05:40:53.611408Z",
     "shell.execute_reply": "2020-12-15T05:40:53.610845Z"
    },
    "jupyter": {
     "source_hidden": true
    },
    "papermill": {
     "duration": 0.583109,
     "end_time": "2020-12-15T05:40:53.611545",
     "exception": false,
     "start_time": "2020-12-15T05:40:53.028436",
     "status": "completed"
    },
    "tags": []
   },
   "outputs": [],
   "source": [
    "import pandas as pd\n",
    "import numpy as np\n",
    "from sqlalchemy import create_engine\n",
    "from datetime import date\n",
    "from sklearn.metrics import mean_squared_error"
   ]
  },
  {
   "cell_type": "code",
   "execution_count": 2,
   "metadata": {
    "execution": {
     "iopub.execute_input": "2020-12-15T05:40:53.636910Z",
     "iopub.status.busy": "2020-12-15T05:40:53.636175Z",
     "iopub.status.idle": "2020-12-15T05:40:53.689493Z",
     "shell.execute_reply": "2020-12-15T05:40:53.689850Z"
    },
    "jupyter": {
     "source_hidden": true
    },
    "papermill": {
     "duration": 0.07031,
     "end_time": "2020-12-15T05:40:53.689989",
     "exception": false,
     "start_time": "2020-12-15T05:40:53.619679",
     "status": "completed"
    },
    "tags": []
   },
   "outputs": [],
   "source": [
    "# THIS IS PURELY FOR TEST PURPOSE NEVER DO THAT IN PRODUCTION\n",
    "POSTGRES_ADDRESS='postgres'\n",
    "POSTGRES_PORT='5432'\n",
    "POSTGRES_USERNAME='postgres'\n",
    "POSTGRES_PASSWORD='postgres'\n",
    "\n",
    "postgres_conn = 'postgresql://{0}:{1}@{2}:{3}/'.format(POSTGRES_USERNAME, POSTGRES_PASSWORD, POSTGRES_ADDRESS, POSTGRES_PORT)\n",
    "\n",
    "# Create the connection\n",
    "cnx = create_engine(postgres_conn)\n"
   ]
  },
  {
   "cell_type": "markdown",
   "metadata": {
    "_uuid": "1998755ef10683262b29765345cff1c1c7d10b15",
    "papermill": {
     "duration": 0.008482,
     "end_time": "2020-12-15T05:40:53.706866",
     "exception": false,
     "start_time": "2020-12-15T05:40:53.698384",
     "status": "completed"
    },
    "tags": []
   },
   "source": [
    "Read in the Avocado Prices csv file as a DataFrame called df"
   ]
  },
  {
   "cell_type": "code",
   "execution_count": 3,
   "metadata": {
    "execution": {
     "iopub.execute_input": "2020-12-15T05:40:53.727137Z",
     "iopub.status.busy": "2020-12-15T05:40:53.726685Z",
     "iopub.status.idle": "2020-12-15T05:40:53.729555Z",
     "shell.execute_reply": "2020-12-15T05:40:53.729054Z"
    },
    "jupyter": {
     "source_hidden": true
    },
    "papermill": {
     "duration": 0.014569,
     "end_time": "2020-12-15T05:40:53.729670",
     "exception": false,
     "start_time": "2020-12-15T05:40:53.715101",
     "status": "completed"
    },
    "tags": [
     "parameters"
    ]
   },
   "outputs": [],
   "source": [
    "# Parameterized\n",
    "\n",
    "filepath='avocado.csv'\n",
    "ml_id='auto_100'\n",
    "ml_date=date.today()\n",
    "n_estimators = 100\n",
    "max_features = 'auto'"
   ]
  },
  {
   "cell_type": "code",
   "execution_count": 4,
   "metadata": {
    "execution": {
     "iopub.execute_input": "2020-12-15T05:40:53.749743Z",
     "iopub.status.busy": "2020-12-15T05:40:53.749367Z",
     "iopub.status.idle": "2020-12-15T05:40:53.752981Z",
     "shell.execute_reply": "2020-12-15T05:40:53.752637Z"
    },
    "jupyter": {
     "source_hidden": true
    },
    "papermill": {
     "duration": 0.014893,
     "end_time": "2020-12-15T05:40:53.753079",
     "exception": false,
     "start_time": "2020-12-15T05:40:53.738186",
     "status": "completed"
    },
    "tags": [
     "injected-parameters"
    ]
   },
   "outputs": [],
   "source": [
    "# Parameters\n",
    "filepath = \"/tmp/avocado.csv\"\n",
    "n_estimators = 150\n",
    "max_features = \"auto\"\n",
    "ml_id = \"auto_150\"\n"
   ]
  },
  {
   "cell_type": "code",
   "execution_count": 5,
   "metadata": {
    "_uuid": "55d0e719eb8b91d763c1eacaf0f51ee0586486fc",
    "execution": {
     "iopub.execute_input": "2020-12-15T05:40:53.772877Z",
     "iopub.status.busy": "2020-12-15T05:40:53.772511Z",
     "iopub.status.idle": "2020-12-15T05:40:53.797856Z",
     "shell.execute_reply": "2020-12-15T05:40:53.797521Z"
    },
    "jupyter": {
     "source_hidden": true
    },
    "papermill": {
     "duration": 0.036467,
     "end_time": "2020-12-15T05:40:53.797953",
     "exception": false,
     "start_time": "2020-12-15T05:40:53.761486",
     "status": "completed"
    },
    "tags": []
   },
   "outputs": [],
   "source": [
    "df= pd.read_csv(filepath)"
   ]
  },
  {
   "cell_type": "markdown",
   "metadata": {
    "_uuid": "434e0457f550e2200424e5ec26162e1aa5904005",
    "papermill": {
     "duration": 0.008116,
     "end_time": "2020-12-15T05:40:53.814046",
     "exception": false,
     "start_time": "2020-12-15T05:40:53.805930",
     "status": "completed"
    },
    "tags": []
   },
   "source": [
    "The Feature \"Unnamed:0\" is just a representation of the indexes, so it's useless to keep it, lets remove it !"
   ]
  },
  {
   "cell_type": "code",
   "execution_count": 6,
   "metadata": {
    "_uuid": "9875398e37728dc3141fed4228be337a4735beb6",
    "execution": {
     "iopub.execute_input": "2020-12-15T05:40:53.834988Z",
     "iopub.status.busy": "2020-12-15T05:40:53.834605Z",
     "iopub.status.idle": "2020-12-15T05:40:53.837536Z",
     "shell.execute_reply": "2020-12-15T05:40:53.837093Z"
    },
    "jupyter": {
     "source_hidden": true
    },
    "papermill": {
     "duration": 0.015705,
     "end_time": "2020-12-15T05:40:53.837620",
     "exception": false,
     "start_time": "2020-12-15T05:40:53.821915",
     "status": "completed"
    },
    "tags": []
   },
   "outputs": [],
   "source": [
    "df.drop('Unnamed: 0',axis=1,inplace=True)"
   ]
  },
  {
   "cell_type": "markdown",
   "metadata": {
    "_uuid": "12e94ad381e4cb8d2c8a9bbe08ce07ab5d49c040",
    "papermill": {
     "duration": 0.00807,
     "end_time": "2020-12-15T05:40:53.853805",
     "exception": false,
     "start_time": "2020-12-15T05:40:53.845735",
     "status": "completed"
    },
    "tags": []
   },
   "source": [
    "well as a first observation we can see that we are lucky, we dont have any missing values (18249 complete data) and 13 columns.\n",
    "Now let's do some Feature Engineering on the Date Feature so we can be able to use the day and the month columns in building our machine learning model later. ( I didn't mention the year because its already there in data frame)"
   ]
  },
  {
   "cell_type": "code",
   "execution_count": 7,
   "metadata": {
    "_uuid": "f031639ce794656e877484d1c9c356df7028177f",
    "execution": {
     "iopub.execute_input": "2020-12-15T05:40:53.874800Z",
     "iopub.status.busy": "2020-12-15T05:40:53.874402Z",
     "iopub.status.idle": "2020-12-15T05:40:53.980459Z",
     "shell.execute_reply": "2020-12-15T05:40:53.980009Z"
    },
    "jupyter": {
     "source_hidden": true
    },
    "papermill": {
     "duration": 0.118622,
     "end_time": "2020-12-15T05:40:53.980560",
     "exception": false,
     "start_time": "2020-12-15T05:40:53.861938",
     "status": "completed"
    },
    "tags": []
   },
   "outputs": [],
   "source": [
    "df['Date']=pd.to_datetime(df['Date'])\n",
    "df['Month']=df['Date'].apply(lambda x:x.month)\n",
    "df['Day']=df['Date'].apply(lambda x:x.day)"
   ]
  },
  {
   "cell_type": "markdown",
   "metadata": {
    "_uuid": "ebdcac9924ce3e366fd3a75170682f7113385b7a",
    "papermill": {
     "duration": 0.008642,
     "end_time": "2020-12-15T05:40:53.997614",
     "exception": false,
     "start_time": "2020-12-15T05:40:53.988972",
     "status": "completed"
    },
    "tags": []
   },
   "source": [
    "as we can see we have 54 regions and 2 unique types, so it's going to be easy to to transform the type feature to dummies, but for the region its going to be a bit complexe so I decided to drop the entire column.\n",
    "I will drop the Date Feature as well because I already have 3 other columns for the Year, Month and Day."
   ]
  },
  {
   "cell_type": "code",
   "execution_count": 8,
   "metadata": {
    "_uuid": "a798682da34327b731ef262985fd50ba68e06460",
    "execution": {
     "iopub.execute_input": "2020-12-15T05:40:54.017828Z",
     "iopub.status.busy": "2020-12-15T05:40:54.017446Z",
     "iopub.status.idle": "2020-12-15T05:40:54.026941Z",
     "shell.execute_reply": "2020-12-15T05:40:54.026604Z"
    },
    "jupyter": {
     "source_hidden": true
    },
    "papermill": {
     "duration": 0.021224,
     "end_time": "2020-12-15T05:40:54.027038",
     "exception": false,
     "start_time": "2020-12-15T05:40:54.005814",
     "status": "completed"
    },
    "tags": []
   },
   "outputs": [],
   "source": [
    "df_final=pd.get_dummies(df.drop(['region','Date'],axis=1),drop_first=True)"
   ]
  },
  {
   "cell_type": "markdown",
   "metadata": {
    "_uuid": "8b74a6b88cb3e9b3e1d1e987e061048f203c7364",
    "papermill": {
     "duration": 0.008877,
     "end_time": "2020-12-15T05:40:54.044330",
     "exception": false,
     "start_time": "2020-12-15T05:40:54.035453",
     "status": "completed"
    },
    "tags": []
   },
   "source": [
    "Now our data are ready! lets apply our model which is going to be the Linear Regression because our Target variable 'AveragePrice'is continuous.\n",
    "Let's now begin to train out regression model! We will need to first split up our data into an X array that contains the features to train on, and a y array with the target variable"
   ]
  },
  {
   "cell_type": "code",
   "execution_count": 9,
   "metadata": {
    "_uuid": "830591f99de9715241e688bf9ce265e979401ff5",
    "execution": {
     "iopub.execute_input": "2020-12-15T05:40:54.066417Z",
     "iopub.status.busy": "2020-12-15T05:40:54.065928Z",
     "iopub.status.idle": "2020-12-15T05:40:54.075152Z",
     "shell.execute_reply": "2020-12-15T05:40:54.074811Z"
    },
    "jupyter": {
     "source_hidden": true
    },
    "papermill": {
     "duration": 0.022449,
     "end_time": "2020-12-15T05:40:54.075250",
     "exception": false,
     "start_time": "2020-12-15T05:40:54.052801",
     "status": "completed"
    },
    "tags": []
   },
   "outputs": [],
   "source": [
    "X=df_final.iloc[:,1:14]\n",
    "y=df_final['AveragePrice']\n",
    "from sklearn.model_selection import train_test_split\n",
    "X_train,X_test,y_train,y_test=train_test_split(X,y,test_size=0.2,random_state=42)"
   ]
  },
  {
   "cell_type": "markdown",
   "metadata": {
    "_uuid": "ea730c77a31cde9de98263079a189accb8b5772b",
    "papermill": {
     "duration": 0.00834,
     "end_time": "2020-12-15T05:40:54.092260",
     "exception": false,
     "start_time": "2020-12-15T05:40:54.083920",
     "status": "completed"
    },
    "tags": []
   },
   "source": [
    "Creating and Training the Model"
   ]
  },
  {
   "cell_type": "code",
   "execution_count": 10,
   "metadata": {
    "_uuid": "eb37015e78974e5fd2ae7e13d065c8ab0a9c6948",
    "execution": {
     "iopub.execute_input": "2020-12-15T05:40:54.113104Z",
     "iopub.status.busy": "2020-12-15T05:40:54.112725Z",
     "iopub.status.idle": "2020-12-15T05:41:06.096440Z",
     "shell.execute_reply": "2020-12-15T05:41:06.096783Z"
    },
    "jupyter": {
     "source_hidden": true
    },
    "papermill": {
     "duration": 11.995917,
     "end_time": "2020-12-15T05:41:06.096917",
     "exception": false,
     "start_time": "2020-12-15T05:40:54.101000",
     "status": "completed"
    },
    "tags": []
   },
   "outputs": [],
   "source": [
    "from sklearn.ensemble import RandomForestRegressor\n",
    "rdr = RandomForestRegressor(\n",
    "    n_estimators=n_estimators,\n",
    "    max_features=max_features\n",
    ")\n",
    "rdr.fit(X_train,y_train)\n",
    "pred=rdr.predict(X_test)"
   ]
  },
  {
   "cell_type": "code",
   "execution_count": 11,
   "metadata": {
    "_uuid": "7ed5b8d4e8abb44a4b548c13ac9fb2d65227d1c5",
    "execution": {
     "iopub.execute_input": "2020-12-15T05:41:06.118113Z",
     "iopub.status.busy": "2020-12-15T05:41:06.117685Z",
     "iopub.status.idle": "2020-12-15T05:41:06.120730Z",
     "shell.execute_reply": "2020-12-15T05:41:06.120376Z"
    },
    "jupyter": {
     "source_hidden": true
    },
    "papermill": {
     "duration": 0.014817,
     "end_time": "2020-12-15T05:41:06.120821",
     "exception": false,
     "start_time": "2020-12-15T05:41:06.106004",
     "status": "completed"
    },
    "tags": []
   },
   "outputs": [],
   "source": [
    "#%%capture cap --no-stderr\n",
    "#print(np.sqrt(mean_squared_error(y_test, pred)))"
   ]
  },
  {
   "cell_type": "code",
   "execution_count": 12,
   "metadata": {
    "execution": {
     "iopub.execute_input": "2020-12-15T05:41:06.140687Z",
     "iopub.status.busy": "2020-12-15T05:41:06.140313Z",
     "iopub.status.idle": "2020-12-15T05:41:06.143813Z",
     "shell.execute_reply": "2020-12-15T05:41:06.143479Z"
    },
    "jupyter": {
     "source_hidden": true
    },
    "papermill": {
     "duration": 0.014455,
     "end_time": "2020-12-15T05:41:06.143909",
     "exception": false,
     "start_time": "2020-12-15T05:41:06.129454",
     "status": "completed"
    },
    "tags": []
   },
   "outputs": [],
   "source": [
    "#with open(output_rmse, 'w') as f:\n",
    "#    f.write(cap.stdout)"
   ]
  },
  {
   "cell_type": "code",
   "execution_count": 13,
   "metadata": {
    "execution": {
     "iopub.execute_input": "2020-12-15T05:41:06.166727Z",
     "iopub.status.busy": "2020-12-15T05:41:06.165671Z",
     "iopub.status.idle": "2020-12-15T05:41:06.182668Z",
     "shell.execute_reply": "2020-12-15T05:41:06.182263Z"
    },
    "jupyter": {
     "source_hidden": true
    },
    "papermill": {
     "duration": 0.030163,
     "end_time": "2020-12-15T05:41:06.182762",
     "exception": false,
     "start_time": "2020-12-15T05:41:06.152599",
     "status": "completed"
    },
    "tags": []
   },
   "outputs": [
    {
     "data": {
      "text/plain": [
       "<sqlalchemy.engine.result.ResultProxy at 0x7f993d231b50>"
      ]
     },
     "execution_count": 13,
     "metadata": {},
     "output_type": "execute_result"
    }
   ],
   "source": [
    "cnx.execute(\"\"\"\n",
    "    INSERT INTO ml.accuracies (ml_id, ml_date, accuracy) VALUES ('{0}', '{1}', {2}) \n",
    "    ON CONFLICT (ml_id, ml_date) \n",
    "    DO\n",
    "        UPDATE SET accuracy = {2};\n",
    "    \"\"\".format(ml_id, ml_date, np.sqrt(mean_squared_error(y_test, pred))))"
   ]
  }
 ],
 "metadata": {
  "kernelspec": {
   "display_name": "Python 3",
   "language": "python",
   "name": "python3"
  },
  "language_info": {
   "codemirror_mode": {
    "name": "ipython",
    "version": 3
   },
   "file_extension": ".py",
   "mimetype": "text/x-python",
   "name": "python",
   "nbconvert_exporter": "python",
   "pygments_lexer": "ipython3",
   "version": "3.7.9"
  },
  "papermill": {
   "duration": 14.582562,
   "end_time": "2020-12-15T05:41:06.604264",
   "environment_variables": {},
   "exception": null,
   "input_path": "/usr/local/airflow/include/notebooks/avocado_prediction.ipynb",
   "output_path": "/tmp/out-model-avocado-prediction-auto_150.ipynb",
   "parameters": {
    "filepath": "/tmp/avocado.csv",
    "max_features": "auto",
    "ml_id": "auto_150",
    "n_estimators": 150
   },
   "start_time": "2020-12-15T05:40:52.021702",
   "version": "2.1.2"
  }
 },
 "nbformat": 4,
 "nbformat_minor": 4
}