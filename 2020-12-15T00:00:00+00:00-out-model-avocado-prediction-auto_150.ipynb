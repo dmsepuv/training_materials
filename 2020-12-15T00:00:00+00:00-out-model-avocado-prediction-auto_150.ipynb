{
 "cells": [
  {
   "cell_type": "code",
   "execution_count": 1,
   "metadata": {
    "_cell_guid": "79c7e3d0-c299-4dcb-8224-4455121ee9b0",
    "_uuid": "d629ff2d2480ee46fbb7e2d37f6b5fab8052498a",
    "execution": {
     "iopub.execute_input": "2020-12-15T00:10:57.826442Z",
     "iopub.status.busy": "2020-12-15T00:10:57.825875Z",
     "iopub.status.idle": "2020-12-15T00:10:58.403996Z",
     "shell.execute_reply": "2020-12-15T00:10:58.403471Z"
    },
    "jupyter": {
     "source_hidden": true
    },
    "papermill": {
     "duration": 0.59448,
     "end_time": "2020-12-15T00:10:58.404119",
     "exception": false,
     "start_time": "2020-12-15T00:10:57.809639",
     "status": "completed"
    },
    "tags": []
   },
   "outputs": [],
   "source": [
    "import pandas as pd\n",
    "import numpy as np\n",
    "from sqlalchemy import create_engine\n",
    "from datetime import date\n",
    "from sklearn.metrics import mean_squared_error"
   ]
  },
  {
   "cell_type": "code",
   "execution_count": 2,
   "metadata": {
    "execution": {
     "iopub.execute_input": "2020-12-15T00:10:58.423861Z",
     "iopub.status.busy": "2020-12-15T00:10:58.423360Z",
     "iopub.status.idle": "2020-12-15T00:10:58.475040Z",
     "shell.execute_reply": "2020-12-15T00:10:58.474507Z"
    },
    "jupyter": {
     "source_hidden": true
    },
    "papermill": {
     "duration": 0.06368,
     "end_time": "2020-12-15T00:10:58.475173",
     "exception": false,
     "start_time": "2020-12-15T00:10:58.411493",
     "status": "completed"
    },
    "tags": []
   },
   "outputs": [],
   "source": [
    "# THIS IS PURELY FOR TEST PURPOSE NEVER DO THAT IN PRODUCTION\n",
    "POSTGRES_ADDRESS='postgres'\n",
    "POSTGRES_PORT='5432'\n",
    "POSTGRES_USERNAME='postgres'\n",
    "POSTGRES_PASSWORD='postgres'\n",
    "\n",
    "postgres_conn = 'postgresql://{0}:{1}@{2}:{3}/'.format(POSTGRES_USERNAME, POSTGRES_PASSWORD, POSTGRES_ADDRESS, POSTGRES_PORT)\n",
    "\n",
    "# Create the connection\n",
    "cnx = create_engine(postgres_conn)\n"
   ]
  },
  {
   "cell_type": "markdown",
   "metadata": {
    "_uuid": "1998755ef10683262b29765345cff1c1c7d10b15",
    "papermill": {
     "duration": 0.009266,
     "end_time": "2020-12-15T00:10:58.494455",
     "exception": false,
     "start_time": "2020-12-15T00:10:58.485189",
     "status": "completed"
    },
    "tags": []
   },
   "source": [
    "Read in the Avocado Prices csv file as a DataFrame called df"
   ]
  },
  {
   "cell_type": "code",
   "execution_count": 3,
   "metadata": {
    "execution": {
     "iopub.execute_input": "2020-12-15T00:10:58.514295Z",
     "iopub.status.busy": "2020-12-15T00:10:58.513836Z",
     "iopub.status.idle": "2020-12-15T00:10:58.516719Z",
     "shell.execute_reply": "2020-12-15T00:10:58.516278Z"
    },
    "jupyter": {
     "source_hidden": true
    },
    "papermill": {
     "duration": 0.014304,
     "end_time": "2020-12-15T00:10:58.516813",
     "exception": false,
     "start_time": "2020-12-15T00:10:58.502509",
     "status": "completed"
    },
    "tags": [
     "parameters"
    ]
   },
   "outputs": [],
   "source": [
    "# Parameterized\n",
    "\n",
    "filepath='avocado.csv'\n",
    "ml_id='auto_100'\n",
    "ml_date=date.today()\n",
    "n_estimators = 100\n",
    "max_features = 'auto'"
   ]
  },
  {
   "cell_type": "code",
   "execution_count": 4,
   "metadata": {
    "execution": {
     "iopub.execute_input": "2020-12-15T00:10:58.537548Z",
     "iopub.status.busy": "2020-12-15T00:10:58.537071Z",
     "iopub.status.idle": "2020-12-15T00:10:58.540213Z",
     "shell.execute_reply": "2020-12-15T00:10:58.539749Z"
    },
    "jupyter": {
     "source_hidden": true
    },
    "papermill": {
     "duration": 0.015218,
     "end_time": "2020-12-15T00:10:58.540317",
     "exception": false,
     "start_time": "2020-12-15T00:10:58.525099",
     "status": "completed"
    },
    "tags": [
     "injected-parameters"
    ]
   },
   "outputs": [],
   "source": [
    "# Parameters\n",
    "filepath = \"/tmp/avocado.csv\"\n",
    "n_estimators = 150\n",
    "max_features = \"auto\"\n",
    "ml_id = \"auto_150\"\n"
   ]
  },
  {
   "cell_type": "code",
   "execution_count": 5,
   "metadata": {
    "_uuid": "55d0e719eb8b91d763c1eacaf0f51ee0586486fc",
    "execution": {
     "iopub.execute_input": "2020-12-15T00:10:58.561795Z",
     "iopub.status.busy": "2020-12-15T00:10:58.561209Z",
     "iopub.status.idle": "2020-12-15T00:10:58.587604Z",
     "shell.execute_reply": "2020-12-15T00:10:58.587961Z"
    },
    "jupyter": {
     "source_hidden": true
    },
    "papermill": {
     "duration": 0.039236,
     "end_time": "2020-12-15T00:10:58.588097",
     "exception": false,
     "start_time": "2020-12-15T00:10:58.548861",
     "status": "completed"
    },
    "tags": []
   },
   "outputs": [],
   "source": [
    "df= pd.read_csv(filepath)"
   ]
  },
  {
   "cell_type": "markdown",
   "metadata": {
    "_uuid": "434e0457f550e2200424e5ec26162e1aa5904005",
    "papermill": {
     "duration": 0.00875,
     "end_time": "2020-12-15T00:10:58.605533",
     "exception": false,
     "start_time": "2020-12-15T00:10:58.596783",
     "status": "completed"
    },
    "tags": []
   },
   "source": [
    "The Feature \"Unnamed:0\" is just a representation of the indexes, so it's useless to keep it, lets remove it !"
   ]
  },
  {
   "cell_type": "code",
   "execution_count": 6,
   "metadata": {
    "_uuid": "9875398e37728dc3141fed4228be337a4735beb6",
    "execution": {
     "iopub.execute_input": "2020-12-15T00:10:58.627009Z",
     "iopub.status.busy": "2020-12-15T00:10:58.626628Z",
     "iopub.status.idle": "2020-12-15T00:10:58.629638Z",
     "shell.execute_reply": "2020-12-15T00:10:58.630011Z"
    },
    "jupyter": {
     "source_hidden": true
    },
    "papermill": {
     "duration": 0.016375,
     "end_time": "2020-12-15T00:10:58.630125",
     "exception": false,
     "start_time": "2020-12-15T00:10:58.613750",
     "status": "completed"
    },
    "tags": []
   },
   "outputs": [],
   "source": [
    "df.drop('Unnamed: 0',axis=1,inplace=True)"
   ]
  },
  {
   "cell_type": "markdown",
   "metadata": {
    "_uuid": "12e94ad381e4cb8d2c8a9bbe08ce07ab5d49c040",
    "papermill": {
     "duration": 0.008293,
     "end_time": "2020-12-15T00:10:58.647068",
     "exception": false,
     "start_time": "2020-12-15T00:10:58.638775",
     "status": "completed"
    },
    "tags": []
   },
   "source": [
    "well as a first observation we can see that we are lucky, we dont have any missing values (18249 complete data) and 13 columns.\n",
    "Now let's do some Feature Engineering on the Date Feature so we can be able to use the day and the month columns in building our machine learning model later. ( I didn't mention the year because its already there in data frame)"
   ]
  },
  {
   "cell_type": "code",
   "execution_count": 7,
   "metadata": {
    "_uuid": "f031639ce794656e877484d1c9c356df7028177f",
    "execution": {
     "iopub.execute_input": "2020-12-15T00:10:58.668303Z",
     "iopub.status.busy": "2020-12-15T00:10:58.667921Z",
     "iopub.status.idle": "2020-12-15T00:10:58.785918Z",
     "shell.execute_reply": "2020-12-15T00:10:58.786276Z"
    },
    "jupyter": {
     "source_hidden": true
    },
    "papermill": {
     "duration": 0.130934,
     "end_time": "2020-12-15T00:10:58.786415",
     "exception": false,
     "start_time": "2020-12-15T00:10:58.655481",
     "status": "completed"
    },
    "tags": []
   },
   "outputs": [],
   "source": [
    "df['Date']=pd.to_datetime(df['Date'])\n",
    "df['Month']=df['Date'].apply(lambda x:x.month)\n",
    "df['Day']=df['Date'].apply(lambda x:x.day)"
   ]
  },
  {
   "cell_type": "markdown",
   "metadata": {
    "_uuid": "ebdcac9924ce3e366fd3a75170682f7113385b7a",
    "papermill": {
     "duration": 0.009698,
     "end_time": "2020-12-15T00:10:58.806012",
     "exception": false,
     "start_time": "2020-12-15T00:10:58.796314",
     "status": "completed"
    },
    "tags": []
   },
   "source": [
    "as we can see we have 54 regions and 2 unique types, so it's going to be easy to to transform the type feature to dummies, but for the region its going to be a bit complexe so I decided to drop the entire column.\n",
    "I will drop the Date Feature as well because I already have 3 other columns for the Year, Month and Day."
   ]
  },
  {
   "cell_type": "code",
   "execution_count": 8,
   "metadata": {
    "_uuid": "a798682da34327b731ef262985fd50ba68e06460",
    "execution": {
     "iopub.execute_input": "2020-12-15T00:10:58.827730Z",
     "iopub.status.busy": "2020-12-15T00:10:58.827224Z",
     "iopub.status.idle": "2020-12-15T00:10:58.836428Z",
     "shell.execute_reply": "2020-12-15T00:10:58.836015Z"
    },
    "jupyter": {
     "source_hidden": true
    },
    "papermill": {
     "duration": 0.021783,
     "end_time": "2020-12-15T00:10:58.836538",
     "exception": false,
     "start_time": "2020-12-15T00:10:58.814755",
     "status": "completed"
    },
    "tags": []
   },
   "outputs": [],
   "source": [
    "df_final=pd.get_dummies(df.drop(['region','Date'],axis=1),drop_first=True)"
   ]
  },
  {
   "cell_type": "markdown",
   "metadata": {
    "_uuid": "8b74a6b88cb3e9b3e1d1e987e061048f203c7364",
    "papermill": {
     "duration": 0.009119,
     "end_time": "2020-12-15T00:10:58.854549",
     "exception": false,
     "start_time": "2020-12-15T00:10:58.845430",
     "status": "completed"
    },
    "tags": []
   },
   "source": [
    "Now our data are ready! lets apply our model which is going to be the Linear Regression because our Target variable 'AveragePrice'is continuous.\n",
    "Let's now begin to train out regression model! We will need to first split up our data into an X array that contains the features to train on, and a y array with the target variable"
   ]
  },
  {
   "cell_type": "code",
   "execution_count": 9,
   "metadata": {
    "_uuid": "830591f99de9715241e688bf9ce265e979401ff5",
    "execution": {
     "iopub.execute_input": "2020-12-15T00:10:58.875957Z",
     "iopub.status.busy": "2020-12-15T00:10:58.875556Z",
     "iopub.status.idle": "2020-12-15T00:10:58.884246Z",
     "shell.execute_reply": "2020-12-15T00:10:58.884695Z"
    },
    "jupyter": {
     "source_hidden": true
    },
    "papermill": {
     "duration": 0.022116,
     "end_time": "2020-12-15T00:10:58.884810",
     "exception": false,
     "start_time": "2020-12-15T00:10:58.862694",
     "status": "completed"
    },
    "tags": []
   },
   "outputs": [],
   "source": [
    "X=df_final.iloc[:,1:14]\n",
    "y=df_final['AveragePrice']\n",
    "from sklearn.model_selection import train_test_split\n",
    "X_train,X_test,y_train,y_test=train_test_split(X,y,test_size=0.2,random_state=42)"
   ]
  },
  {
   "cell_type": "markdown",
   "metadata": {
    "_uuid": "ea730c77a31cde9de98263079a189accb8b5772b",
    "papermill": {
     "duration": 0.009126,
     "end_time": "2020-12-15T00:10:58.902217",
     "exception": false,
     "start_time": "2020-12-15T00:10:58.893091",
     "status": "completed"
    },
    "tags": []
   },
   "source": [
    "Creating and Training the Model"
   ]
  },
  {
   "cell_type": "code",
   "execution_count": 10,
   "metadata": {
    "_uuid": "eb37015e78974e5fd2ae7e13d065c8ab0a9c6948",
    "execution": {
     "iopub.execute_input": "2020-12-15T00:10:58.923739Z",
     "iopub.status.busy": "2020-12-15T00:10:58.923097Z",
     "iopub.status.idle": "2020-12-15T00:11:10.885355Z",
     "shell.execute_reply": "2020-12-15T00:11:10.884894Z"
    },
    "jupyter": {
     "source_hidden": true
    },
    "papermill": {
     "duration": 11.974601,
     "end_time": "2020-12-15T00:11:10.885487",
     "exception": false,
     "start_time": "2020-12-15T00:10:58.910886",
     "status": "completed"
    },
    "tags": []
   },
   "outputs": [],
   "source": [
    "from sklearn.ensemble import RandomForestRegressor\n",
    "rdr = RandomForestRegressor(\n",
    "    n_estimators=n_estimators,\n",
    "    max_features=max_features\n",
    ")\n",
    "rdr.fit(X_train,y_train)\n",
    "pred=rdr.predict(X_test)"
   ]
  },
  {
   "cell_type": "code",
   "execution_count": 11,
   "metadata": {
    "_uuid": "7ed5b8d4e8abb44a4b548c13ac9fb2d65227d1c5",
    "execution": {
     "iopub.execute_input": "2020-12-15T00:11:10.908537Z",
     "iopub.status.busy": "2020-12-15T00:11:10.908041Z",
     "iopub.status.idle": "2020-12-15T00:11:10.910504Z",
     "shell.execute_reply": "2020-12-15T00:11:10.910096Z"
    },
    "jupyter": {
     "source_hidden": true
    },
    "papermill": {
     "duration": 0.014633,
     "end_time": "2020-12-15T00:11:10.910611",
     "exception": false,
     "start_time": "2020-12-15T00:11:10.895978",
     "status": "completed"
    },
    "tags": []
   },
   "outputs": [],
   "source": [
    "#%%capture cap --no-stderr\n",
    "#print(np.sqrt(mean_squared_error(y_test, pred)))"
   ]
  },
  {
   "cell_type": "code",
   "execution_count": 12,
   "metadata": {
    "execution": {
     "iopub.execute_input": "2020-12-15T00:11:10.932265Z",
     "iopub.status.busy": "2020-12-15T00:11:10.931822Z",
     "iopub.status.idle": "2020-12-15T00:11:10.934662Z",
     "shell.execute_reply": "2020-12-15T00:11:10.934287Z"
    },
    "jupyter": {
     "source_hidden": true
    },
    "papermill": {
     "duration": 0.015046,
     "end_time": "2020-12-15T00:11:10.934768",
     "exception": false,
     "start_time": "2020-12-15T00:11:10.919722",
     "status": "completed"
    },
    "tags": []
   },
   "outputs": [],
   "source": [
    "#with open(output_rmse, 'w') as f:\n",
    "#    f.write(cap.stdout)"
   ]
  },
  {
   "cell_type": "code",
   "execution_count": 13,
   "metadata": {
    "execution": {
     "iopub.execute_input": "2020-12-15T00:11:10.959322Z",
     "iopub.status.busy": "2020-12-15T00:11:10.957851Z",
     "iopub.status.idle": "2020-12-15T00:11:10.975901Z",
     "shell.execute_reply": "2020-12-15T00:11:10.975473Z"
    },
    "jupyter": {
     "source_hidden": true
    },
    "papermill": {
     "duration": 0.032128,
     "end_time": "2020-12-15T00:11:10.975993",
     "exception": false,
     "start_time": "2020-12-15T00:11:10.943865",
     "status": "completed"
    },
    "tags": []
   },
   "outputs": [
    {
     "data": {
      "text/plain": [
       "<sqlalchemy.engine.result.ResultProxy at 0x7fc83df7f8d0>"
      ]
     },
     "execution_count": 13,
     "metadata": {},
     "output_type": "execute_result"
    }
   ],
   "source": [
    "cnx.execute(\"\"\"\n",
    "    INSERT INTO ml.accuracies (ml_id, ml_date, accuracy) VALUES ('{0}', '{1}', {2}) \n",
    "    ON CONFLICT (ml_id, ml_date) \n",
    "    DO\n",
    "        UPDATE SET accuracy = {2};\n",
    "    \"\"\".format(ml_id, ml_date, np.sqrt(mean_squared_error(y_test, pred))))"
   ]
  }
 ],
 "metadata": {
  "kernelspec": {
   "display_name": "Python 3",
   "language": "python",
   "name": "python3"
  },
  "language_info": {
   "codemirror_mode": {
    "name": "ipython",
    "version": 3
   },
   "file_extension": ".py",
   "mimetype": "text/x-python",
   "name": "python",
   "nbconvert_exporter": "python",
   "pygments_lexer": "ipython3",
   "version": "3.7.9"
  },
  "papermill": {
   "duration": 14.609212,
   "end_time": "2020-12-15T00:11:11.394088",
   "environment_variables": {},
   "exception": null,
   "input_path": "/usr/local/airflow/include/notebooks/avocado_prediction.ipynb",
   "output_path": "/tmp/out-model-avocado-prediction-auto_150.ipynb",
   "parameters": {
    "filepath": "/tmp/avocado.csv",
    "max_features": "auto",
    "ml_id": "auto_150",
    "n_estimators": 150
   },
   "start_time": "2020-12-15T00:10:56.784876",
   "version": "2.1.2"
  }
 },
 "nbformat": 4,
 "nbformat_minor": 4
}