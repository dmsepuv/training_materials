{
 "cells": [
  {
   "cell_type": "code",
   "execution_count": 1,
   "metadata": {
    "_cell_guid": "79c7e3d0-c299-4dcb-8224-4455121ee9b0",
    "_uuid": "d629ff2d2480ee46fbb7e2d37f6b5fab8052498a",
    "execution": {
     "iopub.execute_input": "2020-12-25T14:01:33.619034Z",
     "iopub.status.busy": "2020-12-25T14:01:33.618129Z",
     "iopub.status.idle": "2020-12-25T14:01:34.875859Z",
     "shell.execute_reply": "2020-12-25T14:01:34.876414Z"
    },
    "jupyter": {
     "source_hidden": true
    },
    "papermill": {
     "duration": 1.296039,
     "end_time": "2020-12-25T14:01:34.876864",
     "exception": false,
     "start_time": "2020-12-25T14:01:33.580825",
     "status": "completed"
    },
    "tags": []
   },
   "outputs": [],
   "source": [
    "import pandas as pd\n",
    "import numpy as np\n",
    "from sqlalchemy import create_engine\n",
    "from datetime import date\n",
    "from sklearn.metrics import mean_squared_error"
   ]
  },
  {
   "cell_type": "code",
   "execution_count": 2,
   "metadata": {
    "execution": {
     "iopub.execute_input": "2020-12-25T14:01:34.921000Z",
     "iopub.status.busy": "2020-12-25T14:01:34.919739Z",
     "iopub.status.idle": "2020-12-25T14:01:35.003215Z",
     "shell.execute_reply": "2020-12-25T14:01:35.003917Z"
    },
    "jupyter": {
     "source_hidden": true
    },
    "papermill": {
     "duration": 0.109747,
     "end_time": "2020-12-25T14:01:35.004152",
     "exception": false,
     "start_time": "2020-12-25T14:01:34.894405",
     "status": "completed"
    },
    "tags": []
   },
   "outputs": [],
   "source": [
    "# THIS IS PURELY FOR TEST PURPOSE NEVER DO THAT IN PRODUCTION\n",
    "POSTGRES_ADDRESS='postgres'\n",
    "POSTGRES_PORT='5432'\n",
    "POSTGRES_USERNAME='postgres'\n",
    "POSTGRES_PASSWORD='postgres'\n",
    "\n",
    "postgres_conn = 'postgresql://{0}:{1}@{2}:{3}/'.format(POSTGRES_USERNAME, POSTGRES_PASSWORD, POSTGRES_ADDRESS, POSTGRES_PORT)\n",
    "\n",
    "# Create the connection\n",
    "cnx = create_engine(postgres_conn)\n"
   ]
  },
  {
   "cell_type": "markdown",
   "metadata": {
    "_uuid": "1998755ef10683262b29765345cff1c1c7d10b15",
    "papermill": {
     "duration": 0.025331,
     "end_time": "2020-12-25T14:01:35.051180",
     "exception": false,
     "start_time": "2020-12-25T14:01:35.025849",
     "status": "completed"
    },
    "tags": []
   },
   "source": [
    "Read in the Avocado Prices csv file as a DataFrame called df"
   ]
  },
  {
   "cell_type": "code",
   "execution_count": 3,
   "metadata": {
    "execution": {
     "iopub.execute_input": "2020-12-25T14:01:35.108285Z",
     "iopub.status.busy": "2020-12-25T14:01:35.107409Z",
     "iopub.status.idle": "2020-12-25T14:01:35.111255Z",
     "shell.execute_reply": "2020-12-25T14:01:35.111941Z"
    },
    "jupyter": {
     "source_hidden": true
    },
    "papermill": {
     "duration": 0.039545,
     "end_time": "2020-12-25T14:01:35.112143",
     "exception": false,
     "start_time": "2020-12-25T14:01:35.072598",
     "status": "completed"
    },
    "tags": [
     "parameters"
    ]
   },
   "outputs": [],
   "source": [
    "# Parameterized\n",
    "\n",
    "filepath='avocado.csv'\n",
    "ml_id='auto_100'\n",
    "ml_date=date.today()\n",
    "n_estimators = 100\n",
    "max_features = 'auto'"
   ]
  },
  {
   "cell_type": "code",
   "execution_count": 4,
   "metadata": {
    "execution": {
     "iopub.execute_input": "2020-12-25T14:01:35.174210Z",
     "iopub.status.busy": "2020-12-25T14:01:35.171227Z",
     "iopub.status.idle": "2020-12-25T14:01:35.176941Z",
     "shell.execute_reply": "2020-12-25T14:01:35.176048Z"
    },
    "jupyter": {
     "source_hidden": true
    },
    "papermill": {
     "duration": 0.045387,
     "end_time": "2020-12-25T14:01:35.177140",
     "exception": false,
     "start_time": "2020-12-25T14:01:35.131753",
     "status": "completed"
    },
    "tags": [
     "injected-parameters"
    ]
   },
   "outputs": [],
   "source": [
    "# Parameters\n",
    "filepath = \"/usr/local/airflow/include/tmp/avocado.csv\"\n",
    "n_estimators = 150\n",
    "max_features = \"auto\"\n",
    "ml_id = \"auto_150\"\n"
   ]
  },
  {
   "cell_type": "code",
   "execution_count": 5,
   "metadata": {
    "_uuid": "55d0e719eb8b91d763c1eacaf0f51ee0586486fc",
    "execution": {
     "iopub.execute_input": "2020-12-25T14:01:35.258522Z",
     "iopub.status.busy": "2020-12-25T14:01:35.257742Z",
     "iopub.status.idle": "2020-12-25T14:01:35.373951Z",
     "shell.execute_reply": "2020-12-25T14:01:35.374758Z"
    },
    "jupyter": {
     "source_hidden": true
    },
    "papermill": {
     "duration": 0.169881,
     "end_time": "2020-12-25T14:01:35.374991",
     "exception": false,
     "start_time": "2020-12-25T14:01:35.205110",
     "status": "completed"
    },
    "tags": []
   },
   "outputs": [],
   "source": [
    "df= pd.read_csv(filepath)"
   ]
  },
  {
   "cell_type": "markdown",
   "metadata": {
    "_uuid": "434e0457f550e2200424e5ec26162e1aa5904005",
    "papermill": {
     "duration": 0.027094,
     "end_time": "2020-12-25T14:01:35.423638",
     "exception": false,
     "start_time": "2020-12-25T14:01:35.396544",
     "status": "completed"
    },
    "tags": []
   },
   "source": [
    "The Feature \"Unnamed:0\" is just a representation of the indexes, so it's useless to keep it, lets remove it !"
   ]
  },
  {
   "cell_type": "code",
   "execution_count": 6,
   "metadata": {
    "_uuid": "9875398e37728dc3141fed4228be337a4735beb6",
    "execution": {
     "iopub.execute_input": "2020-12-25T14:01:35.477710Z",
     "iopub.status.busy": "2020-12-25T14:01:35.477043Z",
     "iopub.status.idle": "2020-12-25T14:01:35.482632Z",
     "shell.execute_reply": "2020-12-25T14:01:35.483909Z"
    },
    "jupyter": {
     "source_hidden": true
    },
    "papermill": {
     "duration": 0.03708,
     "end_time": "2020-12-25T14:01:35.484104",
     "exception": false,
     "start_time": "2020-12-25T14:01:35.447024",
     "status": "completed"
    },
    "tags": []
   },
   "outputs": [],
   "source": [
    "df.drop('Unnamed: 0',axis=1,inplace=True)"
   ]
  },
  {
   "cell_type": "markdown",
   "metadata": {
    "_uuid": "12e94ad381e4cb8d2c8a9bbe08ce07ab5d49c040",
    "papermill": {
     "duration": 0.020299,
     "end_time": "2020-12-25T14:01:35.522051",
     "exception": false,
     "start_time": "2020-12-25T14:01:35.501752",
     "status": "completed"
    },
    "tags": []
   },
   "source": [
    "well as a first observation we can see that we are lucky, we dont have any missing values (18249 complete data) and 13 columns.\n",
    "Now let's do some Feature Engineering on the Date Feature so we can be able to use the day and the month columns in building our machine learning model later. ( I didn't mention the year because its already there in data frame)"
   ]
  },
  {
   "cell_type": "code",
   "execution_count": 7,
   "metadata": {
    "_uuid": "f031639ce794656e877484d1c9c356df7028177f",
    "execution": {
     "iopub.execute_input": "2020-12-25T14:01:35.576315Z",
     "iopub.status.busy": "2020-12-25T14:01:35.575315Z",
     "iopub.status.idle": "2020-12-25T14:01:35.752163Z",
     "shell.execute_reply": "2020-12-25T14:01:35.752791Z"
    },
    "jupyter": {
     "source_hidden": true
    },
    "papermill": {
     "duration": 0.206505,
     "end_time": "2020-12-25T14:01:35.752973",
     "exception": false,
     "start_time": "2020-12-25T14:01:35.546468",
     "status": "completed"
    },
    "tags": []
   },
   "outputs": [],
   "source": [
    "df['Date']=pd.to_datetime(df['Date'])\n",
    "df['Month']=df['Date'].apply(lambda x:x.month)\n",
    "df['Day']=df['Date'].apply(lambda x:x.day)"
   ]
  },
  {
   "cell_type": "markdown",
   "metadata": {
    "_uuid": "ebdcac9924ce3e366fd3a75170682f7113385b7a",
    "papermill": {
     "duration": 0.021713,
     "end_time": "2020-12-25T14:01:35.791668",
     "exception": false,
     "start_time": "2020-12-25T14:01:35.769955",
     "status": "completed"
    },
    "tags": []
   },
   "source": [
    "as we can see we have 54 regions and 2 unique types, so it's going to be easy to to transform the type feature to dummies, but for the region its going to be a bit complexe so I decided to drop the entire column.\n",
    "I will drop the Date Feature as well because I already have 3 other columns for the Year, Month and Day."
   ]
  },
  {
   "cell_type": "code",
   "execution_count": 8,
   "metadata": {
    "_uuid": "a798682da34327b731ef262985fd50ba68e06460",
    "execution": {
     "iopub.execute_input": "2020-12-25T14:01:35.839631Z",
     "iopub.status.busy": "2020-12-25T14:01:35.837932Z",
     "iopub.status.idle": "2020-12-25T14:01:35.849881Z",
     "shell.execute_reply": "2020-12-25T14:01:35.849305Z"
    },
    "jupyter": {
     "source_hidden": true
    },
    "papermill": {
     "duration": 0.039979,
     "end_time": "2020-12-25T14:01:35.850014",
     "exception": false,
     "start_time": "2020-12-25T14:01:35.810035",
     "status": "completed"
    },
    "tags": []
   },
   "outputs": [],
   "source": [
    "df_final=pd.get_dummies(df.drop(['region','Date'],axis=1),drop_first=True)"
   ]
  },
  {
   "cell_type": "markdown",
   "metadata": {
    "_uuid": "8b74a6b88cb3e9b3e1d1e987e061048f203c7364",
    "papermill": {
     "duration": 0.025175,
     "end_time": "2020-12-25T14:01:35.894948",
     "exception": false,
     "start_time": "2020-12-25T14:01:35.869773",
     "status": "completed"
    },
    "tags": []
   },
   "source": [
    "Now our data are ready! lets apply our model which is going to be the Linear Regression because our Target variable 'AveragePrice'is continuous.\n",
    "Let's now begin to train out regression model! We will need to first split up our data into an X array that contains the features to train on, and a y array with the target variable"
   ]
  },
  {
   "cell_type": "code",
   "execution_count": 9,
   "metadata": {
    "_uuid": "830591f99de9715241e688bf9ce265e979401ff5",
    "execution": {
     "iopub.execute_input": "2020-12-25T14:01:35.952191Z",
     "iopub.status.busy": "2020-12-25T14:01:35.951324Z",
     "iopub.status.idle": "2020-12-25T14:01:35.966761Z",
     "shell.execute_reply": "2020-12-25T14:01:35.967289Z"
    },
    "jupyter": {
     "source_hidden": true
    },
    "papermill": {
     "duration": 0.050668,
     "end_time": "2020-12-25T14:01:35.967530",
     "exception": false,
     "start_time": "2020-12-25T14:01:35.916862",
     "status": "completed"
    },
    "tags": []
   },
   "outputs": [],
   "source": [
    "X=df_final.iloc[:,1:14]\n",
    "y=df_final['AveragePrice']\n",
    "from sklearn.model_selection import train_test_split\n",
    "X_train,X_test,y_train,y_test=train_test_split(X,y,test_size=0.2,random_state=42)"
   ]
  },
  {
   "cell_type": "markdown",
   "metadata": {
    "_uuid": "ea730c77a31cde9de98263079a189accb8b5772b",
    "papermill": {
     "duration": 0.025323,
     "end_time": "2020-12-25T14:01:36.012920",
     "exception": false,
     "start_time": "2020-12-25T14:01:35.987597",
     "status": "completed"
    },
    "tags": []
   },
   "source": [
    "Creating and Training the Model"
   ]
  },
  {
   "cell_type": "code",
   "execution_count": 10,
   "metadata": {
    "_uuid": "eb37015e78974e5fd2ae7e13d065c8ab0a9c6948",
    "execution": {
     "iopub.execute_input": "2020-12-25T14:01:36.065949Z",
     "iopub.status.busy": "2020-12-25T14:01:36.065210Z",
     "iopub.status.idle": "2020-12-25T14:01:56.006056Z",
     "shell.execute_reply": "2020-12-25T14:01:56.006755Z"
    },
    "jupyter": {
     "source_hidden": true
    },
    "papermill": {
     "duration": 19.970429,
     "end_time": "2020-12-25T14:01:56.006968",
     "exception": false,
     "start_time": "2020-12-25T14:01:36.036539",
     "status": "completed"
    },
    "tags": []
   },
   "outputs": [],
   "source": [
    "from sklearn.ensemble import RandomForestRegressor\n",
    "rdr = RandomForestRegressor(\n",
    "    n_estimators=n_estimators,\n",
    "    max_features=max_features\n",
    ")\n",
    "rdr.fit(X_train,y_train)\n",
    "pred=rdr.predict(X_test)"
   ]
  },
  {
   "cell_type": "code",
   "execution_count": 11,
   "metadata": {
    "_uuid": "7ed5b8d4e8abb44a4b548c13ac9fb2d65227d1c5",
    "execution": {
     "iopub.execute_input": "2020-12-25T14:01:56.056967Z",
     "iopub.status.busy": "2020-12-25T14:01:56.055751Z",
     "iopub.status.idle": "2020-12-25T14:01:56.059466Z",
     "shell.execute_reply": "2020-12-25T14:01:56.060052Z"
    },
    "jupyter": {
     "source_hidden": true
    },
    "papermill": {
     "duration": 0.03178,
     "end_time": "2020-12-25T14:01:56.060272",
     "exception": false,
     "start_time": "2020-12-25T14:01:56.028492",
     "status": "completed"
    },
    "tags": []
   },
   "outputs": [],
   "source": [
    "#%%capture cap --no-stderr\n",
    "#print(np.sqrt(mean_squared_error(y_test, pred)))"
   ]
  },
  {
   "cell_type": "code",
   "execution_count": 12,
   "metadata": {
    "execution": {
     "iopub.execute_input": "2020-12-25T14:01:56.110485Z",
     "iopub.status.busy": "2020-12-25T14:01:56.109240Z",
     "iopub.status.idle": "2020-12-25T14:01:56.111848Z",
     "shell.execute_reply": "2020-12-25T14:01:56.112489Z"
    },
    "jupyter": {
     "source_hidden": true
    },
    "papermill": {
     "duration": 0.032327,
     "end_time": "2020-12-25T14:01:56.112665",
     "exception": false,
     "start_time": "2020-12-25T14:01:56.080338",
     "status": "completed"
    },
    "tags": []
   },
   "outputs": [],
   "source": [
    "#with open(output_rmse, 'w') as f:\n",
    "#    f.write(cap.stdout)"
   ]
  },
  {
   "cell_type": "code",
   "execution_count": 13,
   "metadata": {
    "execution": {
     "iopub.execute_input": "2020-12-25T14:01:56.162296Z",
     "iopub.status.busy": "2020-12-25T14:01:56.161167Z",
     "iopub.status.idle": "2020-12-25T14:01:56.192758Z",
     "shell.execute_reply": "2020-12-25T14:01:56.193263Z"
    },
    "jupyter": {
     "source_hidden": true
    },
    "papermill": {
     "duration": 0.060713,
     "end_time": "2020-12-25T14:01:56.193495",
     "exception": false,
     "start_time": "2020-12-25T14:01:56.132782",
     "status": "completed"
    },
    "tags": []
   },
   "outputs": [
    {
     "data": {
      "text/plain": [
       "<sqlalchemy.engine.result.ResultProxy at 0x7f42733a04d0>"
      ]
     },
     "execution_count": 13,
     "metadata": {},
     "output_type": "execute_result"
    }
   ],
   "source": [
    "cnx.execute(\"\"\"\n",
    "    INSERT INTO ml.accuracies (ml_id, ml_date, accuracy) VALUES ('{0}', '{1}', {2}) \n",
    "    ON CONFLICT (ml_id, ml_date) \n",
    "    DO\n",
    "        UPDATE SET accuracy = {2};\n",
    "    \"\"\".format(ml_id, ml_date, np.sqrt(mean_squared_error(y_test, pred))))"
   ]
  }
 ],
 "metadata": {
  "kernelspec": {
   "display_name": "Python 3",
   "language": "python",
   "name": "python3"
  },
  "language_info": {
   "codemirror_mode": {
    "name": "ipython",
    "version": 3
   },
   "file_extension": ".py",
   "mimetype": "text/x-python",
   "name": "python",
   "nbconvert_exporter": "python",
   "pygments_lexer": "ipython3",
   "version": "3.7.9"
  },
  "papermill": {
   "duration": 25.638071,
   "end_time": "2020-12-25T14:01:57.502805",
   "environment_variables": {},
   "exception": null,
   "input_path": "/usr/local/airflow/include/notebooks/avocado_prediction.ipynb",
   "output_path": "/usr/local/airflow/include/tmp/out-model-avocado-prediction-auto_150.ipynb",
   "parameters": {
    "filepath": "/usr/local/airflow/include/tmp/avocado.csv",
    "max_features": "auto",
    "ml_id": "auto_150",
    "n_estimators": 150
   },
   "start_time": "2020-12-25T14:01:31.864734",
   "version": "2.1.2"
  }
 },
 "nbformat": 4,
 "nbformat_minor": 4
}