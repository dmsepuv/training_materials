{
 "cells": [
  {
   "cell_type": "code",
   "execution_count": 1,
   "metadata": {
    "_cell_guid": "79c7e3d0-c299-4dcb-8224-4455121ee9b0",
    "_uuid": "d629ff2d2480ee46fbb7e2d37f6b5fab8052498a",
    "execution": {
     "iopub.execute_input": "2020-12-15T03:40:41.485807Z",
     "iopub.status.busy": "2020-12-15T03:40:41.485283Z",
     "iopub.status.idle": "2020-12-15T03:40:42.093931Z",
     "shell.execute_reply": "2020-12-15T03:40:42.093530Z"
    },
    "jupyter": {
     "source_hidden": true
    },
    "papermill": {
     "duration": 0.624362,
     "end_time": "2020-12-15T03:40:42.094067",
     "exception": false,
     "start_time": "2020-12-15T03:40:41.469705",
     "status": "completed"
    },
    "tags": []
   },
   "outputs": [],
   "source": [
    "import pandas as pd\n",
    "import numpy as np\n",
    "from sqlalchemy import create_engine\n",
    "from datetime import date\n",
    "from sklearn.metrics import mean_squared_error"
   ]
  },
  {
   "cell_type": "code",
   "execution_count": 2,
   "metadata": {
    "execution": {
     "iopub.execute_input": "2020-12-15T03:40:42.114388Z",
     "iopub.status.busy": "2020-12-15T03:40:42.114013Z",
     "iopub.status.idle": "2020-12-15T03:40:42.164749Z",
     "shell.execute_reply": "2020-12-15T03:40:42.164234Z"
    },
    "jupyter": {
     "source_hidden": true
    },
    "papermill": {
     "duration": 0.062794,
     "end_time": "2020-12-15T03:40:42.164879",
     "exception": false,
     "start_time": "2020-12-15T03:40:42.102085",
     "status": "completed"
    },
    "tags": []
   },
   "outputs": [],
   "source": [
    "# THIS IS PURELY FOR TEST PURPOSE NEVER DO THAT IN PRODUCTION\n",
    "POSTGRES_ADDRESS='postgres'\n",
    "POSTGRES_PORT='5432'\n",
    "POSTGRES_USERNAME='postgres'\n",
    "POSTGRES_PASSWORD='postgres'\n",
    "\n",
    "postgres_conn = 'postgresql://{0}:{1}@{2}:{3}/'.format(POSTGRES_USERNAME, POSTGRES_PASSWORD, POSTGRES_ADDRESS, POSTGRES_PORT)\n",
    "\n",
    "# Create the connection\n",
    "cnx = create_engine(postgres_conn)\n"
   ]
  },
  {
   "cell_type": "markdown",
   "metadata": {
    "_uuid": "1998755ef10683262b29765345cff1c1c7d10b15",
    "papermill": {
     "duration": 0.008894,
     "end_time": "2020-12-15T03:40:42.183902",
     "exception": false,
     "start_time": "2020-12-15T03:40:42.175008",
     "status": "completed"
    },
    "tags": []
   },
   "source": [
    "Read in the Avocado Prices csv file as a DataFrame called df"
   ]
  },
  {
   "cell_type": "code",
   "execution_count": 3,
   "metadata": {
    "execution": {
     "iopub.execute_input": "2020-12-15T03:40:42.204385Z",
     "iopub.status.busy": "2020-12-15T03:40:42.203941Z",
     "iopub.status.idle": "2020-12-15T03:40:42.207110Z",
     "shell.execute_reply": "2020-12-15T03:40:42.206729Z"
    },
    "jupyter": {
     "source_hidden": true
    },
    "papermill": {
     "duration": 0.015047,
     "end_time": "2020-12-15T03:40:42.207201",
     "exception": false,
     "start_time": "2020-12-15T03:40:42.192154",
     "status": "completed"
    },
    "tags": [
     "parameters"
    ]
   },
   "outputs": [],
   "source": [
    "# Parameterized\n",
    "\n",
    "filepath='avocado.csv'\n",
    "ml_id='auto_100'\n",
    "ml_date=date.today()\n",
    "n_estimators = 100\n",
    "max_features = 'auto'"
   ]
  },
  {
   "cell_type": "code",
   "execution_count": 4,
   "metadata": {
    "execution": {
     "iopub.execute_input": "2020-12-15T03:40:42.226782Z",
     "iopub.status.busy": "2020-12-15T03:40:42.226396Z",
     "iopub.status.idle": "2020-12-15T03:40:42.229346Z",
     "shell.execute_reply": "2020-12-15T03:40:42.229020Z"
    },
    "jupyter": {
     "source_hidden": true
    },
    "papermill": {
     "duration": 0.013934,
     "end_time": "2020-12-15T03:40:42.229433",
     "exception": false,
     "start_time": "2020-12-15T03:40:42.215499",
     "status": "completed"
    },
    "tags": [
     "injected-parameters"
    ]
   },
   "outputs": [],
   "source": [
    "# Parameters\n",
    "filepath = \"/tmp/avocado.csv\"\n",
    "n_estimators = 100\n",
    "max_features = \"auto\"\n",
    "ml_id = \"auto_100\"\n"
   ]
  },
  {
   "cell_type": "code",
   "execution_count": 5,
   "metadata": {
    "_uuid": "55d0e719eb8b91d763c1eacaf0f51ee0586486fc",
    "execution": {
     "iopub.execute_input": "2020-12-15T03:40:42.248741Z",
     "iopub.status.busy": "2020-12-15T03:40:42.248358Z",
     "iopub.status.idle": "2020-12-15T03:40:42.273073Z",
     "shell.execute_reply": "2020-12-15T03:40:42.272735Z"
    },
    "jupyter": {
     "source_hidden": true
    },
    "papermill": {
     "duration": 0.035613,
     "end_time": "2020-12-15T03:40:42.273171",
     "exception": false,
     "start_time": "2020-12-15T03:40:42.237558",
     "status": "completed"
    },
    "tags": []
   },
   "outputs": [],
   "source": [
    "df= pd.read_csv(filepath)"
   ]
  },
  {
   "cell_type": "markdown",
   "metadata": {
    "_uuid": "434e0457f550e2200424e5ec26162e1aa5904005",
    "papermill": {
     "duration": 0.008251,
     "end_time": "2020-12-15T03:40:42.289612",
     "exception": false,
     "start_time": "2020-12-15T03:40:42.281361",
     "status": "completed"
    },
    "tags": []
   },
   "source": [
    "The Feature \"Unnamed:0\" is just a representation of the indexes, so it's useless to keep it, lets remove it !"
   ]
  },
  {
   "cell_type": "code",
   "execution_count": 6,
   "metadata": {
    "_uuid": "9875398e37728dc3141fed4228be337a4735beb6",
    "execution": {
     "iopub.execute_input": "2020-12-15T03:40:42.310990Z",
     "iopub.status.busy": "2020-12-15T03:40:42.310606Z",
     "iopub.status.idle": "2020-12-15T03:40:42.314358Z",
     "shell.execute_reply": "2020-12-15T03:40:42.314007Z"
    },
    "jupyter": {
     "source_hidden": true
    },
    "papermill": {
     "duration": 0.016806,
     "end_time": "2020-12-15T03:40:42.314538",
     "exception": false,
     "start_time": "2020-12-15T03:40:42.297732",
     "status": "completed"
    },
    "tags": []
   },
   "outputs": [],
   "source": [
    "df.drop('Unnamed: 0',axis=1,inplace=True)"
   ]
  },
  {
   "cell_type": "markdown",
   "metadata": {
    "_uuid": "12e94ad381e4cb8d2c8a9bbe08ce07ab5d49c040",
    "papermill": {
     "duration": 0.00842,
     "end_time": "2020-12-15T03:40:42.331373",
     "exception": false,
     "start_time": "2020-12-15T03:40:42.322953",
     "status": "completed"
    },
    "tags": []
   },
   "source": [
    "well as a first observation we can see that we are lucky, we dont have any missing values (18249 complete data) and 13 columns.\n",
    "Now let's do some Feature Engineering on the Date Feature so we can be able to use the day and the month columns in building our machine learning model later. ( I didn't mention the year because its already there in data frame)"
   ]
  },
  {
   "cell_type": "code",
   "execution_count": 7,
   "metadata": {
    "_uuid": "f031639ce794656e877484d1c9c356df7028177f",
    "execution": {
     "iopub.execute_input": "2020-12-15T03:40:42.352489Z",
     "iopub.status.busy": "2020-12-15T03:40:42.351990Z",
     "iopub.status.idle": "2020-12-15T03:40:42.461537Z",
     "shell.execute_reply": "2020-12-15T03:40:42.461936Z"
    },
    "jupyter": {
     "source_hidden": true
    },
    "papermill": {
     "duration": 0.122705,
     "end_time": "2020-12-15T03:40:42.462157",
     "exception": false,
     "start_time": "2020-12-15T03:40:42.339452",
     "status": "completed"
    },
    "tags": []
   },
   "outputs": [],
   "source": [
    "df['Date']=pd.to_datetime(df['Date'])\n",
    "df['Month']=df['Date'].apply(lambda x:x.month)\n",
    "df['Day']=df['Date'].apply(lambda x:x.day)"
   ]
  },
  {
   "cell_type": "markdown",
   "metadata": {
    "_uuid": "ebdcac9924ce3e366fd3a75170682f7113385b7a",
    "papermill": {
     "duration": 0.009605,
     "end_time": "2020-12-15T03:40:42.483753",
     "exception": false,
     "start_time": "2020-12-15T03:40:42.474148",
     "status": "completed"
    },
    "tags": []
   },
   "source": [
    "as we can see we have 54 regions and 2 unique types, so it's going to be easy to to transform the type feature to dummies, but for the region its going to be a bit complexe so I decided to drop the entire column.\n",
    "I will drop the Date Feature as well because I already have 3 other columns for the Year, Month and Day."
   ]
  },
  {
   "cell_type": "code",
   "execution_count": 8,
   "metadata": {
    "_uuid": "a798682da34327b731ef262985fd50ba68e06460",
    "execution": {
     "iopub.execute_input": "2020-12-15T03:40:42.507667Z",
     "iopub.status.busy": "2020-12-15T03:40:42.507148Z",
     "iopub.status.idle": "2020-12-15T03:40:42.516614Z",
     "shell.execute_reply": "2020-12-15T03:40:42.516161Z"
    },
    "jupyter": {
     "source_hidden": true
    },
    "papermill": {
     "duration": 0.023834,
     "end_time": "2020-12-15T03:40:42.516721",
     "exception": false,
     "start_time": "2020-12-15T03:40:42.492887",
     "status": "completed"
    },
    "tags": []
   },
   "outputs": [],
   "source": [
    "df_final=pd.get_dummies(df.drop(['region','Date'],axis=1),drop_first=True)"
   ]
  },
  {
   "cell_type": "markdown",
   "metadata": {
    "_uuid": "8b74a6b88cb3e9b3e1d1e987e061048f203c7364",
    "papermill": {
     "duration": 0.009323,
     "end_time": "2020-12-15T03:40:42.535204",
     "exception": false,
     "start_time": "2020-12-15T03:40:42.525881",
     "status": "completed"
    },
    "tags": []
   },
   "source": [
    "Now our data are ready! lets apply our model which is going to be the Linear Regression because our Target variable 'AveragePrice'is continuous.\n",
    "Let's now begin to train out regression model! We will need to first split up our data into an X array that contains the features to train on, and a y array with the target variable"
   ]
  },
  {
   "cell_type": "code",
   "execution_count": 9,
   "metadata": {
    "_uuid": "830591f99de9715241e688bf9ce265e979401ff5",
    "execution": {
     "iopub.execute_input": "2020-12-15T03:40:42.557416Z",
     "iopub.status.busy": "2020-12-15T03:40:42.556929Z",
     "iopub.status.idle": "2020-12-15T03:40:42.566827Z",
     "shell.execute_reply": "2020-12-15T03:40:42.567169Z"
    },
    "jupyter": {
     "source_hidden": true
    },
    "papermill": {
     "duration": 0.02301,
     "end_time": "2020-12-15T03:40:42.567300",
     "exception": false,
     "start_time": "2020-12-15T03:40:42.544290",
     "status": "completed"
    },
    "tags": []
   },
   "outputs": [],
   "source": [
    "X=df_final.iloc[:,1:14]\n",
    "y=df_final['AveragePrice']\n",
    "from sklearn.model_selection import train_test_split\n",
    "X_train,X_test,y_train,y_test=train_test_split(X,y,test_size=0.2,random_state=42)"
   ]
  },
  {
   "cell_type": "markdown",
   "metadata": {
    "_uuid": "ea730c77a31cde9de98263079a189accb8b5772b",
    "papermill": {
     "duration": 0.008793,
     "end_time": "2020-12-15T03:40:42.585212",
     "exception": false,
     "start_time": "2020-12-15T03:40:42.576419",
     "status": "completed"
    },
    "tags": []
   },
   "source": [
    "Creating and Training the Model"
   ]
  },
  {
   "cell_type": "code",
   "execution_count": 10,
   "metadata": {
    "_uuid": "eb37015e78974e5fd2ae7e13d065c8ab0a9c6948",
    "execution": {
     "iopub.execute_input": "2020-12-15T03:40:42.606043Z",
     "iopub.status.busy": "2020-12-15T03:40:42.605666Z",
     "iopub.status.idle": "2020-12-15T03:40:50.621871Z",
     "shell.execute_reply": "2020-12-15T03:40:50.621492Z"
    },
    "jupyter": {
     "source_hidden": true
    },
    "papermill": {
     "duration": 8.028371,
     "end_time": "2020-12-15T03:40:50.621978",
     "exception": false,
     "start_time": "2020-12-15T03:40:42.593607",
     "status": "completed"
    },
    "tags": []
   },
   "outputs": [],
   "source": [
    "from sklearn.ensemble import RandomForestRegressor\n",
    "rdr = RandomForestRegressor(\n",
    "    n_estimators=n_estimators,\n",
    "    max_features=max_features\n",
    ")\n",
    "rdr.fit(X_train,y_train)\n",
    "pred=rdr.predict(X_test)"
   ]
  },
  {
   "cell_type": "code",
   "execution_count": 11,
   "metadata": {
    "_uuid": "7ed5b8d4e8abb44a4b548c13ac9fb2d65227d1c5",
    "execution": {
     "iopub.execute_input": "2020-12-15T03:40:50.643046Z",
     "iopub.status.busy": "2020-12-15T03:40:50.642617Z",
     "iopub.status.idle": "2020-12-15T03:40:50.646031Z",
     "shell.execute_reply": "2020-12-15T03:40:50.645632Z"
    },
    "jupyter": {
     "source_hidden": true
    },
    "papermill": {
     "duration": 0.015011,
     "end_time": "2020-12-15T03:40:50.646135",
     "exception": false,
     "start_time": "2020-12-15T03:40:50.631124",
     "status": "completed"
    },
    "tags": []
   },
   "outputs": [],
   "source": [
    "#%%capture cap --no-stderr\n",
    "#print(np.sqrt(mean_squared_error(y_test, pred)))"
   ]
  },
  {
   "cell_type": "code",
   "execution_count": 12,
   "metadata": {
    "execution": {
     "iopub.execute_input": "2020-12-15T03:40:50.666605Z",
     "iopub.status.busy": "2020-12-15T03:40:50.666226Z",
     "iopub.status.idle": "2020-12-15T03:40:50.668794Z",
     "shell.execute_reply": "2020-12-15T03:40:50.668457Z"
    },
    "jupyter": {
     "source_hidden": true
    },
    "papermill": {
     "duration": 0.013671,
     "end_time": "2020-12-15T03:40:50.668878",
     "exception": false,
     "start_time": "2020-12-15T03:40:50.655207",
     "status": "completed"
    },
    "tags": []
   },
   "outputs": [],
   "source": [
    "#with open(output_rmse, 'w') as f:\n",
    "#    f.write(cap.stdout)"
   ]
  },
  {
   "cell_type": "code",
   "execution_count": 13,
   "metadata": {
    "execution": {
     "iopub.execute_input": "2020-12-15T03:40:50.690553Z",
     "iopub.status.busy": "2020-12-15T03:40:50.690020Z",
     "iopub.status.idle": "2020-12-15T03:40:50.705984Z",
     "shell.execute_reply": "2020-12-15T03:40:50.706416Z"
    },
    "jupyter": {
     "source_hidden": true
    },
    "papermill": {
     "duration": 0.029073,
     "end_time": "2020-12-15T03:40:50.706525",
     "exception": false,
     "start_time": "2020-12-15T03:40:50.677452",
     "status": "completed"
    },
    "tags": []
   },
   "outputs": [
    {
     "data": {
      "text/plain": [
       "<sqlalchemy.engine.result.ResultProxy at 0x7f295789f250>"
      ]
     },
     "execution_count": 13,
     "metadata": {},
     "output_type": "execute_result"
    }
   ],
   "source": [
    "cnx.execute(\"\"\"\n",
    "    INSERT INTO ml.accuracies (ml_id, ml_date, accuracy) VALUES ('{0}', '{1}', {2}) \n",
    "    ON CONFLICT (ml_id, ml_date) \n",
    "    DO\n",
    "        UPDATE SET accuracy = {2};\n",
    "    \"\"\".format(ml_id, ml_date, np.sqrt(mean_squared_error(y_test, pred))))"
   ]
  }
 ],
 "metadata": {
  "kernelspec": {
   "display_name": "Python 3",
   "language": "python",
   "name": "python3"
  },
  "language_info": {
   "codemirror_mode": {
    "name": "ipython",
    "version": 3
   },
   "file_extension": ".py",
   "mimetype": "text/x-python",
   "name": "python",
   "nbconvert_exporter": "python",
   "pygments_lexer": "ipython3",
   "version": "3.7.9"
  },
  "papermill": {
   "duration": 10.676502,
   "end_time": "2020-12-15T03:40:51.125355",
   "environment_variables": {},
   "exception": null,
   "input_path": "/usr/local/airflow/include/notebooks/avocado_prediction.ipynb",
   "output_path": "/tmp/out-model-avocado-prediction-auto_100.ipynb",
   "parameters": {
    "filepath": "/tmp/avocado.csv",
    "max_features": "auto",
    "ml_id": "auto_100",
    "n_estimators": 100
   },
   "start_time": "2020-12-15T03:40:40.448853",
   "version": "2.1.2"
  }
 },
 "nbformat": 4,
 "nbformat_minor": 4
}