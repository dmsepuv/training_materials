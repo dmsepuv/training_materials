{
 "cells": [
  {
   "cell_type": "code",
   "execution_count": 1,
   "metadata": {
    "_cell_guid": "79c7e3d0-c299-4dcb-8224-4455121ee9b0",
    "_uuid": "d629ff2d2480ee46fbb7e2d37f6b5fab8052498a",
    "execution": {
     "iopub.execute_input": "2020-12-15T04:30:40.307861Z",
     "iopub.status.busy": "2020-12-15T04:30:40.307314Z",
     "iopub.status.idle": "2020-12-15T04:30:40.882861Z",
     "shell.execute_reply": "2020-12-15T04:30:40.883474Z"
    },
    "jupyter": {
     "source_hidden": true
    },
    "papermill": {
     "duration": 0.595573,
     "end_time": "2020-12-15T04:30:40.883688",
     "exception": false,
     "start_time": "2020-12-15T04:30:40.288115",
     "status": "completed"
    },
    "tags": []
   },
   "outputs": [],
   "source": [
    "import pandas as pd\n",
    "import numpy as np\n",
    "from sqlalchemy import create_engine\n",
    "from datetime import date\n",
    "from sklearn.metrics import mean_squared_error"
   ]
  },
  {
   "cell_type": "code",
   "execution_count": 2,
   "metadata": {
    "execution": {
     "iopub.execute_input": "2020-12-15T04:30:40.903301Z",
     "iopub.status.busy": "2020-12-15T04:30:40.902828Z",
     "iopub.status.idle": "2020-12-15T04:30:40.961585Z",
     "shell.execute_reply": "2020-12-15T04:30:40.962063Z"
    },
    "jupyter": {
     "source_hidden": true
    },
    "papermill": {
     "duration": 0.070652,
     "end_time": "2020-12-15T04:30:40.962203",
     "exception": false,
     "start_time": "2020-12-15T04:30:40.891551",
     "status": "completed"
    },
    "tags": []
   },
   "outputs": [],
   "source": [
    "# THIS IS PURELY FOR TEST PURPOSE NEVER DO THAT IN PRODUCTION\n",
    "POSTGRES_ADDRESS='postgres'\n",
    "POSTGRES_PORT='5432'\n",
    "POSTGRES_USERNAME='postgres'\n",
    "POSTGRES_PASSWORD='postgres'\n",
    "\n",
    "postgres_conn = 'postgresql://{0}:{1}@{2}:{3}/'.format(POSTGRES_USERNAME, POSTGRES_PASSWORD, POSTGRES_ADDRESS, POSTGRES_PORT)\n",
    "\n",
    "# Create the connection\n",
    "cnx = create_engine(postgres_conn)\n"
   ]
  },
  {
   "cell_type": "markdown",
   "metadata": {
    "_uuid": "1998755ef10683262b29765345cff1c1c7d10b15",
    "papermill": {
     "duration": 0.009092,
     "end_time": "2020-12-15T04:30:40.980249",
     "exception": false,
     "start_time": "2020-12-15T04:30:40.971157",
     "status": "completed"
    },
    "tags": []
   },
   "source": [
    "Read in the Avocado Prices csv file as a DataFrame called df"
   ]
  },
  {
   "cell_type": "code",
   "execution_count": 3,
   "metadata": {
    "execution": {
     "iopub.execute_input": "2020-12-15T04:30:40.999721Z",
     "iopub.status.busy": "2020-12-15T04:30:40.999277Z",
     "iopub.status.idle": "2020-12-15T04:30:41.002300Z",
     "shell.execute_reply": "2020-12-15T04:30:41.002708Z"
    },
    "jupyter": {
     "source_hidden": true
    },
    "papermill": {
     "duration": 0.01408,
     "end_time": "2020-12-15T04:30:41.002826",
     "exception": false,
     "start_time": "2020-12-15T04:30:40.988746",
     "status": "completed"
    },
    "tags": [
     "parameters"
    ]
   },
   "outputs": [],
   "source": [
    "# Parameterized\n",
    "\n",
    "filepath='avocado.csv'\n",
    "ml_id='auto_100'\n",
    "ml_date=date.today()\n",
    "n_estimators = 100\n",
    "max_features = 'auto'"
   ]
  },
  {
   "cell_type": "code",
   "execution_count": 4,
   "metadata": {
    "execution": {
     "iopub.execute_input": "2020-12-15T04:30:41.022229Z",
     "iopub.status.busy": "2020-12-15T04:30:41.021754Z",
     "iopub.status.idle": "2020-12-15T04:30:41.024699Z",
     "shell.execute_reply": "2020-12-15T04:30:41.025164Z"
    },
    "jupyter": {
     "source_hidden": true
    },
    "papermill": {
     "duration": 0.013937,
     "end_time": "2020-12-15T04:30:41.025284",
     "exception": false,
     "start_time": "2020-12-15T04:30:41.011347",
     "status": "completed"
    },
    "tags": [
     "injected-parameters"
    ]
   },
   "outputs": [],
   "source": [
    "# Parameters\n",
    "filepath = \"/tmp/avocado.csv\"\n",
    "n_estimators = 100\n",
    "max_features = \"auto\"\n",
    "ml_id = \"auto_100\"\n"
   ]
  },
  {
   "cell_type": "code",
   "execution_count": 5,
   "metadata": {
    "_uuid": "55d0e719eb8b91d763c1eacaf0f51ee0586486fc",
    "execution": {
     "iopub.execute_input": "2020-12-15T04:30:41.044538Z",
     "iopub.status.busy": "2020-12-15T04:30:41.044157Z",
     "iopub.status.idle": "2020-12-15T04:30:41.069310Z",
     "shell.execute_reply": "2020-12-15T04:30:41.069611Z"
    },
    "jupyter": {
     "source_hidden": true
    },
    "papermill": {
     "duration": 0.036113,
     "end_time": "2020-12-15T04:30:41.069730",
     "exception": false,
     "start_time": "2020-12-15T04:30:41.033617",
     "status": "completed"
    },
    "tags": []
   },
   "outputs": [],
   "source": [
    "df= pd.read_csv(filepath)"
   ]
  },
  {
   "cell_type": "markdown",
   "metadata": {
    "_uuid": "434e0457f550e2200424e5ec26162e1aa5904005",
    "papermill": {
     "duration": 0.008103,
     "end_time": "2020-12-15T04:30:41.086041",
     "exception": false,
     "start_time": "2020-12-15T04:30:41.077938",
     "status": "completed"
    },
    "tags": []
   },
   "source": [
    "The Feature \"Unnamed:0\" is just a representation of the indexes, so it's useless to keep it, lets remove it !"
   ]
  },
  {
   "cell_type": "code",
   "execution_count": 6,
   "metadata": {
    "_uuid": "9875398e37728dc3141fed4228be337a4735beb6",
    "execution": {
     "iopub.execute_input": "2020-12-15T04:30:41.105429Z",
     "iopub.status.busy": "2020-12-15T04:30:41.104568Z",
     "iopub.status.idle": "2020-12-15T04:30:41.109747Z",
     "shell.execute_reply": "2020-12-15T04:30:41.110038Z"
    },
    "jupyter": {
     "source_hidden": true
    },
    "papermill": {
     "duration": 0.016115,
     "end_time": "2020-12-15T04:30:41.110209",
     "exception": false,
     "start_time": "2020-12-15T04:30:41.094094",
     "status": "completed"
    },
    "tags": []
   },
   "outputs": [],
   "source": [
    "df.drop('Unnamed: 0',axis=1,inplace=True)"
   ]
  },
  {
   "cell_type": "markdown",
   "metadata": {
    "_uuid": "12e94ad381e4cb8d2c8a9bbe08ce07ab5d49c040",
    "papermill": {
     "duration": 0.008638,
     "end_time": "2020-12-15T04:30:41.128990",
     "exception": false,
     "start_time": "2020-12-15T04:30:41.120352",
     "status": "completed"
    },
    "tags": []
   },
   "source": [
    "well as a first observation we can see that we are lucky, we dont have any missing values (18249 complete data) and 13 columns.\n",
    "Now let's do some Feature Engineering on the Date Feature so we can be able to use the day and the month columns in building our machine learning model later. ( I didn't mention the year because its already there in data frame)"
   ]
  },
  {
   "cell_type": "code",
   "execution_count": 7,
   "metadata": {
    "_uuid": "f031639ce794656e877484d1c9c356df7028177f",
    "execution": {
     "iopub.execute_input": "2020-12-15T04:30:41.147910Z",
     "iopub.status.busy": "2020-12-15T04:30:41.147525Z",
     "iopub.status.idle": "2020-12-15T04:30:41.256612Z",
     "shell.execute_reply": "2020-12-15T04:30:41.256915Z"
    },
    "jupyter": {
     "source_hidden": true
    },
    "papermill": {
     "duration": 0.119457,
     "end_time": "2020-12-15T04:30:41.257035",
     "exception": false,
     "start_time": "2020-12-15T04:30:41.137578",
     "status": "completed"
    },
    "tags": []
   },
   "outputs": [],
   "source": [
    "df['Date']=pd.to_datetime(df['Date'])\n",
    "df['Month']=df['Date'].apply(lambda x:x.month)\n",
    "df['Day']=df['Date'].apply(lambda x:x.day)"
   ]
  },
  {
   "cell_type": "markdown",
   "metadata": {
    "_uuid": "ebdcac9924ce3e366fd3a75170682f7113385b7a",
    "papermill": {
     "duration": 0.00948,
     "end_time": "2020-12-15T04:30:41.275747",
     "exception": false,
     "start_time": "2020-12-15T04:30:41.266267",
     "status": "completed"
    },
    "tags": []
   },
   "source": [
    "as we can see we have 54 regions and 2 unique types, so it's going to be easy to to transform the type feature to dummies, but for the region its going to be a bit complexe so I decided to drop the entire column.\n",
    "I will drop the Date Feature as well because I already have 3 other columns for the Year, Month and Day."
   ]
  },
  {
   "cell_type": "code",
   "execution_count": 8,
   "metadata": {
    "_uuid": "a798682da34327b731ef262985fd50ba68e06460",
    "execution": {
     "iopub.execute_input": "2020-12-15T04:30:41.295232Z",
     "iopub.status.busy": "2020-12-15T04:30:41.294751Z",
     "iopub.status.idle": "2020-12-15T04:30:41.303704Z",
     "shell.execute_reply": "2020-12-15T04:30:41.304002Z"
    },
    "jupyter": {
     "source_hidden": true
    },
    "papermill": {
     "duration": 0.019663,
     "end_time": "2020-12-15T04:30:41.304117",
     "exception": false,
     "start_time": "2020-12-15T04:30:41.284454",
     "status": "completed"
    },
    "tags": []
   },
   "outputs": [],
   "source": [
    "df_final=pd.get_dummies(df.drop(['region','Date'],axis=1),drop_first=True)"
   ]
  },
  {
   "cell_type": "markdown",
   "metadata": {
    "_uuid": "8b74a6b88cb3e9b3e1d1e987e061048f203c7364",
    "papermill": {
     "duration": 0.009031,
     "end_time": "2020-12-15T04:30:41.321817",
     "exception": false,
     "start_time": "2020-12-15T04:30:41.312786",
     "status": "completed"
    },
    "tags": []
   },
   "source": [
    "Now our data are ready! lets apply our model which is going to be the Linear Regression because our Target variable 'AveragePrice'is continuous.\n",
    "Let's now begin to train out regression model! We will need to first split up our data into an X array that contains the features to train on, and a y array with the target variable"
   ]
  },
  {
   "cell_type": "code",
   "execution_count": 9,
   "metadata": {
    "_uuid": "830591f99de9715241e688bf9ce265e979401ff5",
    "execution": {
     "iopub.execute_input": "2020-12-15T04:30:41.340978Z",
     "iopub.status.busy": "2020-12-15T04:30:41.340608Z",
     "iopub.status.idle": "2020-12-15T04:30:41.350676Z",
     "shell.execute_reply": "2020-12-15T04:30:41.350968Z"
    },
    "jupyter": {
     "source_hidden": true
    },
    "papermill": {
     "duration": 0.020815,
     "end_time": "2020-12-15T04:30:41.351087",
     "exception": false,
     "start_time": "2020-12-15T04:30:41.330272",
     "status": "completed"
    },
    "tags": []
   },
   "outputs": [],
   "source": [
    "X=df_final.iloc[:,1:14]\n",
    "y=df_final['AveragePrice']\n",
    "from sklearn.model_selection import train_test_split\n",
    "X_train,X_test,y_train,y_test=train_test_split(X,y,test_size=0.2,random_state=42)"
   ]
  },
  {
   "cell_type": "markdown",
   "metadata": {
    "_uuid": "ea730c77a31cde9de98263079a189accb8b5772b",
    "papermill": {
     "duration": 0.008504,
     "end_time": "2020-12-15T04:30:41.368253",
     "exception": false,
     "start_time": "2020-12-15T04:30:41.359749",
     "status": "completed"
    },
    "tags": []
   },
   "source": [
    "Creating and Training the Model"
   ]
  },
  {
   "cell_type": "code",
   "execution_count": 10,
   "metadata": {
    "_uuid": "eb37015e78974e5fd2ae7e13d065c8ab0a9c6948",
    "execution": {
     "iopub.execute_input": "2020-12-15T04:30:41.387154Z",
     "iopub.status.busy": "2020-12-15T04:30:41.386673Z",
     "iopub.status.idle": "2020-12-15T04:30:49.314843Z",
     "shell.execute_reply": "2020-12-15T04:30:49.315228Z"
    },
    "jupyter": {
     "source_hidden": true
    },
    "papermill": {
     "duration": 7.938827,
     "end_time": "2020-12-15T04:30:49.315362",
     "exception": false,
     "start_time": "2020-12-15T04:30:41.376535",
     "status": "completed"
    },
    "tags": []
   },
   "outputs": [],
   "source": [
    "from sklearn.ensemble import RandomForestRegressor\n",
    "rdr = RandomForestRegressor(\n",
    "    n_estimators=n_estimators,\n",
    "    max_features=max_features\n",
    ")\n",
    "rdr.fit(X_train,y_train)\n",
    "pred=rdr.predict(X_test)"
   ]
  },
  {
   "cell_type": "code",
   "execution_count": 11,
   "metadata": {
    "_uuid": "7ed5b8d4e8abb44a4b548c13ac9fb2d65227d1c5",
    "execution": {
     "iopub.execute_input": "2020-12-15T04:30:49.336330Z",
     "iopub.status.busy": "2020-12-15T04:30:49.335843Z",
     "iopub.status.idle": "2020-12-15T04:30:49.338945Z",
     "shell.execute_reply": "2020-12-15T04:30:49.339332Z"
    },
    "jupyter": {
     "source_hidden": true
    },
    "papermill": {
     "duration": 0.014719,
     "end_time": "2020-12-15T04:30:49.339467",
     "exception": false,
     "start_time": "2020-12-15T04:30:49.324748",
     "status": "completed"
    },
    "tags": []
   },
   "outputs": [],
   "source": [
    "#%%capture cap --no-stderr\n",
    "#print(np.sqrt(mean_squared_error(y_test, pred)))"
   ]
  },
  {
   "cell_type": "code",
   "execution_count": 12,
   "metadata": {
    "execution": {
     "iopub.execute_input": "2020-12-15T04:30:49.359819Z",
     "iopub.status.busy": "2020-12-15T04:30:49.359461Z",
     "iopub.status.idle": "2020-12-15T04:30:49.362277Z",
     "shell.execute_reply": "2020-12-15T04:30:49.362582Z"
    },
    "jupyter": {
     "source_hidden": true
    },
    "papermill": {
     "duration": 0.013972,
     "end_time": "2020-12-15T04:30:49.362705",
     "exception": false,
     "start_time": "2020-12-15T04:30:49.348733",
     "status": "completed"
    },
    "tags": []
   },
   "outputs": [],
   "source": [
    "#with open(output_rmse, 'w') as f:\n",
    "#    f.write(cap.stdout)"
   ]
  },
  {
   "cell_type": "code",
   "execution_count": 13,
   "metadata": {
    "execution": {
     "iopub.execute_input": "2020-12-15T04:30:49.382823Z",
     "iopub.status.busy": "2020-12-15T04:30:49.382439Z",
     "iopub.status.idle": "2020-12-15T04:30:49.400143Z",
     "shell.execute_reply": "2020-12-15T04:30:49.400436Z"
    },
    "jupyter": {
     "source_hidden": true
    },
    "papermill": {
     "duration": 0.028927,
     "end_time": "2020-12-15T04:30:49.400551",
     "exception": false,
     "start_time": "2020-12-15T04:30:49.371624",
     "status": "completed"
    },
    "tags": []
   },
   "outputs": [
    {
     "data": {
      "text/plain": [
       "<sqlalchemy.engine.result.ResultProxy at 0x7ffb2d8108d0>"
      ]
     },
     "execution_count": 13,
     "metadata": {},
     "output_type": "execute_result"
    }
   ],
   "source": [
    "cnx.execute(\"\"\"\n",
    "    INSERT INTO ml.accuracies (ml_id, ml_date, accuracy) VALUES ('{0}', '{1}', {2}) \n",
    "    ON CONFLICT (ml_id, ml_date) \n",
    "    DO\n",
    "        UPDATE SET accuracy = {2};\n",
    "    \"\"\".format(ml_id, ml_date, np.sqrt(mean_squared_error(y_test, pred))))"
   ]
  }
 ],
 "metadata": {
  "kernelspec": {
   "display_name": "Python 3",
   "language": "python",
   "name": "python3"
  },
  "language_info": {
   "codemirror_mode": {
    "name": "ipython",
    "version": 3
   },
   "file_extension": ".py",
   "mimetype": "text/x-python",
   "name": "python",
   "nbconvert_exporter": "python",
   "pygments_lexer": "ipython3",
   "version": "3.7.9"
  },
  "papermill": {
   "duration": 10.552555,
   "end_time": "2020-12-15T04:30:49.824438",
   "environment_variables": {},
   "exception": null,
   "input_path": "/usr/local/airflow/include/notebooks/avocado_prediction.ipynb",
   "output_path": "/tmp/out-model-avocado-prediction-auto_100.ipynb",
   "parameters": {
    "filepath": "/tmp/avocado.csv",
    "max_features": "auto",
    "ml_id": "auto_100",
    "n_estimators": 100
   },
   "start_time": "2020-12-15T04:30:39.271883",
   "version": "2.1.2"
  }
 },
 "nbformat": 4,
 "nbformat_minor": 4
}