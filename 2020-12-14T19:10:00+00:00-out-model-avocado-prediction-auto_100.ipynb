{
 "cells": [
  {
   "cell_type": "code",
   "execution_count": 1,
   "metadata": {
    "_cell_guid": "79c7e3d0-c299-4dcb-8224-4455121ee9b0",
    "_uuid": "d629ff2d2480ee46fbb7e2d37f6b5fab8052498a",
    "execution": {
     "iopub.execute_input": "2020-12-14T19:20:40.682521Z",
     "iopub.status.busy": "2020-12-14T19:20:40.682059Z",
     "iopub.status.idle": "2020-12-14T19:20:41.260264Z",
     "shell.execute_reply": "2020-12-14T19:20:41.259876Z"
    },
    "jupyter": {
     "source_hidden": true
    },
    "papermill": {
     "duration": 0.593335,
     "end_time": "2020-12-14T19:20:41.260397",
     "exception": false,
     "start_time": "2020-12-14T19:20:40.667062",
     "status": "completed"
    },
    "tags": []
   },
   "outputs": [],
   "source": [
    "import pandas as pd\n",
    "import numpy as np\n",
    "from sqlalchemy import create_engine\n",
    "from datetime import date\n",
    "from sklearn.metrics import mean_squared_error"
   ]
  },
  {
   "cell_type": "code",
   "execution_count": 2,
   "metadata": {
    "execution": {
     "iopub.execute_input": "2020-12-14T19:20:41.288100Z",
     "iopub.status.busy": "2020-12-14T19:20:41.287287Z",
     "iopub.status.idle": "2020-12-14T19:20:41.341909Z",
     "shell.execute_reply": "2020-12-14T19:20:41.342265Z"
    },
    "jupyter": {
     "source_hidden": true
    },
    "papermill": {
     "duration": 0.072395,
     "end_time": "2020-12-14T19:20:41.342397",
     "exception": false,
     "start_time": "2020-12-14T19:20:41.270002",
     "status": "completed"
    },
    "tags": []
   },
   "outputs": [],
   "source": [
    "# THIS IS PURELY FOR TEST PURPOSE NEVER DO THAT IN PRODUCTION\n",
    "POSTGRES_ADDRESS='postgres'\n",
    "POSTGRES_PORT='5432'\n",
    "POSTGRES_USERNAME='postgres'\n",
    "POSTGRES_PASSWORD='postgres'\n",
    "\n",
    "postgres_conn = 'postgresql://{0}:{1}@{2}:{3}/'.format(POSTGRES_USERNAME, POSTGRES_PASSWORD, POSTGRES_ADDRESS, POSTGRES_PORT)\n",
    "\n",
    "# Create the connection\n",
    "cnx = create_engine(postgres_conn)\n"
   ]
  },
  {
   "cell_type": "markdown",
   "metadata": {
    "_uuid": "1998755ef10683262b29765345cff1c1c7d10b15",
    "papermill": {
     "duration": 0.008592,
     "end_time": "2020-12-14T19:20:41.359419",
     "exception": false,
     "start_time": "2020-12-14T19:20:41.350827",
     "status": "completed"
    },
    "tags": []
   },
   "source": [
    "Read in the Avocado Prices csv file as a DataFrame called df"
   ]
  },
  {
   "cell_type": "code",
   "execution_count": 3,
   "metadata": {
    "execution": {
     "iopub.execute_input": "2020-12-14T19:20:41.380283Z",
     "iopub.status.busy": "2020-12-14T19:20:41.379844Z",
     "iopub.status.idle": "2020-12-14T19:20:41.382565Z",
     "shell.execute_reply": "2020-12-14T19:20:41.382937Z"
    },
    "jupyter": {
     "source_hidden": true
    },
    "papermill": {
     "duration": 0.015278,
     "end_time": "2020-12-14T19:20:41.383056",
     "exception": false,
     "start_time": "2020-12-14T19:20:41.367778",
     "status": "completed"
    },
    "tags": [
     "parameters"
    ]
   },
   "outputs": [],
   "source": [
    "# Parameterized\n",
    "\n",
    "filepath='avocado.csv'\n",
    "ml_id='auto_100'\n",
    "ml_date=date.today()\n",
    "n_estimators = 100\n",
    "max_features = 'auto'"
   ]
  },
  {
   "cell_type": "code",
   "execution_count": 4,
   "metadata": {
    "execution": {
     "iopub.execute_input": "2020-12-14T19:20:41.403236Z",
     "iopub.status.busy": "2020-12-14T19:20:41.402850Z",
     "iopub.status.idle": "2020-12-14T19:20:41.405717Z",
     "shell.execute_reply": "2020-12-14T19:20:41.405230Z"
    },
    "jupyter": {
     "source_hidden": true
    },
    "papermill": {
     "duration": 0.014154,
     "end_time": "2020-12-14T19:20:41.405799",
     "exception": false,
     "start_time": "2020-12-14T19:20:41.391645",
     "status": "completed"
    },
    "tags": [
     "injected-parameters"
    ]
   },
   "outputs": [],
   "source": [
    "# Parameters\n",
    "filepath = \"/tmp/avocado.csv\"\n",
    "n_estimators = 100\n",
    "max_features = \"auto\"\n",
    "ml_id = \"auto_100\"\n"
   ]
  },
  {
   "cell_type": "code",
   "execution_count": 5,
   "metadata": {
    "_uuid": "55d0e719eb8b91d763c1eacaf0f51ee0586486fc",
    "execution": {
     "iopub.execute_input": "2020-12-14T19:20:41.424521Z",
     "iopub.status.busy": "2020-12-14T19:20:41.424139Z",
     "iopub.status.idle": "2020-12-14T19:20:41.448875Z",
     "shell.execute_reply": "2020-12-14T19:20:41.448405Z"
    },
    "jupyter": {
     "source_hidden": true
    },
    "papermill": {
     "duration": 0.035482,
     "end_time": "2020-12-14T19:20:41.448971",
     "exception": false,
     "start_time": "2020-12-14T19:20:41.413489",
     "status": "completed"
    },
    "tags": []
   },
   "outputs": [],
   "source": [
    "df= pd.read_csv(filepath)"
   ]
  },
  {
   "cell_type": "markdown",
   "metadata": {
    "_uuid": "434e0457f550e2200424e5ec26162e1aa5904005",
    "papermill": {
     "duration": 0.00798,
     "end_time": "2020-12-14T19:20:41.465020",
     "exception": false,
     "start_time": "2020-12-14T19:20:41.457040",
     "status": "completed"
    },
    "tags": []
   },
   "source": [
    "The Feature \"Unnamed:0\" is just a representation of the indexes, so it's useless to keep it, lets remove it !"
   ]
  },
  {
   "cell_type": "code",
   "execution_count": 6,
   "metadata": {
    "_uuid": "9875398e37728dc3141fed4228be337a4735beb6",
    "execution": {
     "iopub.execute_input": "2020-12-14T19:20:41.486006Z",
     "iopub.status.busy": "2020-12-14T19:20:41.484337Z",
     "iopub.status.idle": "2020-12-14T19:20:41.488818Z",
     "shell.execute_reply": "2020-12-14T19:20:41.488403Z"
    },
    "jupyter": {
     "source_hidden": true
    },
    "papermill": {
     "duration": 0.01594,
     "end_time": "2020-12-14T19:20:41.488906",
     "exception": false,
     "start_time": "2020-12-14T19:20:41.472966",
     "status": "completed"
    },
    "tags": []
   },
   "outputs": [],
   "source": [
    "df.drop('Unnamed: 0',axis=1,inplace=True)"
   ]
  },
  {
   "cell_type": "markdown",
   "metadata": {
    "_uuid": "12e94ad381e4cb8d2c8a9bbe08ce07ab5d49c040",
    "papermill": {
     "duration": 0.008355,
     "end_time": "2020-12-14T19:20:41.505416",
     "exception": false,
     "start_time": "2020-12-14T19:20:41.497061",
     "status": "completed"
    },
    "tags": []
   },
   "source": [
    "well as a first observation we can see that we are lucky, we dont have any missing values (18249 complete data) and 13 columns.\n",
    "Now let's do some Feature Engineering on the Date Feature so we can be able to use the day and the month columns in building our machine learning model later. ( I didn't mention the year because its already there in data frame)"
   ]
  },
  {
   "cell_type": "code",
   "execution_count": 7,
   "metadata": {
    "_uuid": "f031639ce794656e877484d1c9c356df7028177f",
    "execution": {
     "iopub.execute_input": "2020-12-14T19:20:41.526144Z",
     "iopub.status.busy": "2020-12-14T19:20:41.525710Z",
     "iopub.status.idle": "2020-12-14T19:20:41.634057Z",
     "shell.execute_reply": "2020-12-14T19:20:41.633624Z"
    },
    "jupyter": {
     "source_hidden": true
    },
    "papermill": {
     "duration": 0.120634,
     "end_time": "2020-12-14T19:20:41.634152",
     "exception": false,
     "start_time": "2020-12-14T19:20:41.513518",
     "status": "completed"
    },
    "tags": []
   },
   "outputs": [],
   "source": [
    "df['Date']=pd.to_datetime(df['Date'])\n",
    "df['Month']=df['Date'].apply(lambda x:x.month)\n",
    "df['Day']=df['Date'].apply(lambda x:x.day)"
   ]
  },
  {
   "cell_type": "markdown",
   "metadata": {
    "_uuid": "ebdcac9924ce3e366fd3a75170682f7113385b7a",
    "papermill": {
     "duration": 0.00837,
     "end_time": "2020-12-14T19:20:41.650845",
     "exception": false,
     "start_time": "2020-12-14T19:20:41.642475",
     "status": "completed"
    },
    "tags": []
   },
   "source": [
    "as we can see we have 54 regions and 2 unique types, so it's going to be easy to to transform the type feature to dummies, but for the region its going to be a bit complexe so I decided to drop the entire column.\n",
    "I will drop the Date Feature as well because I already have 3 other columns for the Year, Month and Day."
   ]
  },
  {
   "cell_type": "code",
   "execution_count": 8,
   "metadata": {
    "_uuid": "a798682da34327b731ef262985fd50ba68e06460",
    "execution": {
     "iopub.execute_input": "2020-12-14T19:20:41.672690Z",
     "iopub.status.busy": "2020-12-14T19:20:41.672188Z",
     "iopub.status.idle": "2020-12-14T19:20:41.680921Z",
     "shell.execute_reply": "2020-12-14T19:20:41.680488Z"
    },
    "jupyter": {
     "source_hidden": true
    },
    "papermill": {
     "duration": 0.021753,
     "end_time": "2020-12-14T19:20:41.681009",
     "exception": false,
     "start_time": "2020-12-14T19:20:41.659256",
     "status": "completed"
    },
    "tags": []
   },
   "outputs": [],
   "source": [
    "df_final=pd.get_dummies(df.drop(['region','Date'],axis=1),drop_first=True)"
   ]
  },
  {
   "cell_type": "markdown",
   "metadata": {
    "_uuid": "8b74a6b88cb3e9b3e1d1e987e061048f203c7364",
    "papermill": {
     "duration": 0.008579,
     "end_time": "2020-12-14T19:20:41.697879",
     "exception": false,
     "start_time": "2020-12-14T19:20:41.689300",
     "status": "completed"
    },
    "tags": []
   },
   "source": [
    "Now our data are ready! lets apply our model which is going to be the Linear Regression because our Target variable 'AveragePrice'is continuous.\n",
    "Let's now begin to train out regression model! We will need to first split up our data into an X array that contains the features to train on, and a y array with the target variable"
   ]
  },
  {
   "cell_type": "code",
   "execution_count": 9,
   "metadata": {
    "_uuid": "830591f99de9715241e688bf9ce265e979401ff5",
    "execution": {
     "iopub.execute_input": "2020-12-14T19:20:41.719464Z",
     "iopub.status.busy": "2020-12-14T19:20:41.719087Z",
     "iopub.status.idle": "2020-12-14T19:20:41.728879Z",
     "shell.execute_reply": "2020-12-14T19:20:41.728444Z"
    },
    "jupyter": {
     "source_hidden": true
    },
    "papermill": {
     "duration": 0.022734,
     "end_time": "2020-12-14T19:20:41.728974",
     "exception": false,
     "start_time": "2020-12-14T19:20:41.706240",
     "status": "completed"
    },
    "tags": []
   },
   "outputs": [],
   "source": [
    "X=df_final.iloc[:,1:14]\n",
    "y=df_final['AveragePrice']\n",
    "from sklearn.model_selection import train_test_split\n",
    "X_train,X_test,y_train,y_test=train_test_split(X,y,test_size=0.2,random_state=42)"
   ]
  },
  {
   "cell_type": "markdown",
   "metadata": {
    "_uuid": "ea730c77a31cde9de98263079a189accb8b5772b",
    "papermill": {
     "duration": 0.008357,
     "end_time": "2020-12-14T19:20:41.745674",
     "exception": false,
     "start_time": "2020-12-14T19:20:41.737317",
     "status": "completed"
    },
    "tags": []
   },
   "source": [
    "Creating and Training the Model"
   ]
  },
  {
   "cell_type": "code",
   "execution_count": 10,
   "metadata": {
    "_uuid": "eb37015e78974e5fd2ae7e13d065c8ab0a9c6948",
    "execution": {
     "iopub.execute_input": "2020-12-14T19:20:41.765501Z",
     "iopub.status.busy": "2020-12-14T19:20:41.765119Z",
     "iopub.status.idle": "2020-12-14T19:20:49.687485Z",
     "shell.execute_reply": "2020-12-14T19:20:49.687099Z"
    },
    "jupyter": {
     "source_hidden": true
    },
    "papermill": {
     "duration": 7.933765,
     "end_time": "2020-12-14T19:20:49.687593",
     "exception": false,
     "start_time": "2020-12-14T19:20:41.753828",
     "status": "completed"
    },
    "tags": []
   },
   "outputs": [],
   "source": [
    "from sklearn.ensemble import RandomForestRegressor\n",
    "rdr = RandomForestRegressor(\n",
    "    n_estimators=n_estimators,\n",
    "    max_features=max_features\n",
    ")\n",
    "rdr.fit(X_train,y_train)\n",
    "pred=rdr.predict(X_test)"
   ]
  },
  {
   "cell_type": "code",
   "execution_count": 11,
   "metadata": {
    "_uuid": "7ed5b8d4e8abb44a4b548c13ac9fb2d65227d1c5",
    "execution": {
     "iopub.execute_input": "2020-12-14T19:20:49.708946Z",
     "iopub.status.busy": "2020-12-14T19:20:49.708449Z",
     "iopub.status.idle": "2020-12-14T19:20:49.711962Z",
     "shell.execute_reply": "2020-12-14T19:20:49.712318Z"
    },
    "jupyter": {
     "source_hidden": true
    },
    "papermill": {
     "duration": 0.015485,
     "end_time": "2020-12-14T19:20:49.712446",
     "exception": false,
     "start_time": "2020-12-14T19:20:49.696961",
     "status": "completed"
    },
    "tags": []
   },
   "outputs": [],
   "source": [
    "#%%capture cap --no-stderr\n",
    "#print(np.sqrt(mean_squared_error(y_test, pred)))"
   ]
  },
  {
   "cell_type": "code",
   "execution_count": 12,
   "metadata": {
    "execution": {
     "iopub.execute_input": "2020-12-14T19:20:49.732892Z",
     "iopub.status.busy": "2020-12-14T19:20:49.732501Z",
     "iopub.status.idle": "2020-12-14T19:20:49.735367Z",
     "shell.execute_reply": "2020-12-14T19:20:49.734979Z"
    },
    "jupyter": {
     "source_hidden": true
    },
    "papermill": {
     "duration": 0.013771,
     "end_time": "2020-12-14T19:20:49.735450",
     "exception": false,
     "start_time": "2020-12-14T19:20:49.721679",
     "status": "completed"
    },
    "tags": []
   },
   "outputs": [],
   "source": [
    "#with open(output_rmse, 'w') as f:\n",
    "#    f.write(cap.stdout)"
   ]
  },
  {
   "cell_type": "code",
   "execution_count": 13,
   "metadata": {
    "execution": {
     "iopub.execute_input": "2020-12-14T19:20:49.757542Z",
     "iopub.status.busy": "2020-12-14T19:20:49.756949Z",
     "iopub.status.idle": "2020-12-14T19:20:49.773188Z",
     "shell.execute_reply": "2020-12-14T19:20:49.773526Z"
    },
    "jupyter": {
     "source_hidden": true
    },
    "papermill": {
     "duration": 0.029395,
     "end_time": "2020-12-14T19:20:49.773636",
     "exception": false,
     "start_time": "2020-12-14T19:20:49.744241",
     "status": "completed"
    },
    "tags": []
   },
   "outputs": [
    {
     "data": {
      "text/plain": [
       "<sqlalchemy.engine.result.ResultProxy at 0x7f79f0c80ad0>"
      ]
     },
     "execution_count": 13,
     "metadata": {},
     "output_type": "execute_result"
    }
   ],
   "source": [
    "cnx.execute(\"\"\"\n",
    "    INSERT INTO ml.accuracies (ml_id, ml_date, accuracy) VALUES ('{0}', '{1}', {2}) \n",
    "    ON CONFLICT (ml_id, ml_date) \n",
    "    DO\n",
    "        UPDATE SET accuracy = {2};\n",
    "    \"\"\".format(ml_id, ml_date, np.sqrt(mean_squared_error(y_test, pred))))"
   ]
  }
 ],
 "metadata": {
  "kernelspec": {
   "display_name": "Python 3",
   "language": "python",
   "name": "python3"
  },
  "language_info": {
   "codemirror_mode": {
    "name": "ipython",
    "version": 3
   },
   "file_extension": ".py",
   "mimetype": "text/x-python",
   "name": "python",
   "nbconvert_exporter": "python",
   "pygments_lexer": "ipython3",
   "version": "3.7.9"
  },
  "papermill": {
   "duration": 10.53151,
   "end_time": "2020-12-14T19:20:50.196830",
   "environment_variables": {},
   "exception": null,
   "input_path": "/usr/local/airflow/include/notebooks/avocado_prediction.ipynb",
   "output_path": "/tmp/out-model-avocado-prediction-auto_100.ipynb",
   "parameters": {
    "filepath": "/tmp/avocado.csv",
    "max_features": "auto",
    "ml_id": "auto_100",
    "n_estimators": 100
   },
   "start_time": "2020-12-14T19:20:39.665320",
   "version": "2.1.2"
  }
 },
 "nbformat": 4,
 "nbformat_minor": 4
}