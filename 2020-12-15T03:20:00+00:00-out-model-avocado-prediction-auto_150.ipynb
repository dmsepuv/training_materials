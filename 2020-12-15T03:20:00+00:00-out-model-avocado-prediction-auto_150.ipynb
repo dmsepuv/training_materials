{
 "cells": [
  {
   "cell_type": "code",
   "execution_count": 1,
   "metadata": {
    "_cell_guid": "79c7e3d0-c299-4dcb-8224-4455121ee9b0",
    "_uuid": "d629ff2d2480ee46fbb7e2d37f6b5fab8052498a",
    "execution": {
     "iopub.execute_input": "2020-12-15T03:31:00.522259Z",
     "iopub.status.busy": "2020-12-15T03:31:00.521669Z",
     "iopub.status.idle": "2020-12-15T03:31:01.128564Z",
     "shell.execute_reply": "2020-12-15T03:31:01.128873Z"
    },
    "jupyter": {
     "source_hidden": true
    },
    "papermill": {
     "duration": 0.625301,
     "end_time": "2020-12-15T03:31:01.129190",
     "exception": false,
     "start_time": "2020-12-15T03:31:00.503889",
     "status": "completed"
    },
    "tags": []
   },
   "outputs": [],
   "source": [
    "import pandas as pd\n",
    "import numpy as np\n",
    "from sqlalchemy import create_engine\n",
    "from datetime import date\n",
    "from sklearn.metrics import mean_squared_error"
   ]
  },
  {
   "cell_type": "code",
   "execution_count": 2,
   "metadata": {
    "execution": {
     "iopub.execute_input": "2020-12-15T03:31:01.149643Z",
     "iopub.status.busy": "2020-12-15T03:31:01.149257Z",
     "iopub.status.idle": "2020-12-15T03:31:01.198527Z",
     "shell.execute_reply": "2020-12-15T03:31:01.198062Z"
    },
    "jupyter": {
     "source_hidden": true
    },
    "papermill": {
     "duration": 0.061462,
     "end_time": "2020-12-15T03:31:01.198632",
     "exception": false,
     "start_time": "2020-12-15T03:31:01.137170",
     "status": "completed"
    },
    "tags": []
   },
   "outputs": [],
   "source": [
    "# THIS IS PURELY FOR TEST PURPOSE NEVER DO THAT IN PRODUCTION\n",
    "POSTGRES_ADDRESS='postgres'\n",
    "POSTGRES_PORT='5432'\n",
    "POSTGRES_USERNAME='postgres'\n",
    "POSTGRES_PASSWORD='postgres'\n",
    "\n",
    "postgres_conn = 'postgresql://{0}:{1}@{2}:{3}/'.format(POSTGRES_USERNAME, POSTGRES_PASSWORD, POSTGRES_ADDRESS, POSTGRES_PORT)\n",
    "\n",
    "# Create the connection\n",
    "cnx = create_engine(postgres_conn)\n"
   ]
  },
  {
   "cell_type": "markdown",
   "metadata": {
    "_uuid": "1998755ef10683262b29765345cff1c1c7d10b15",
    "papermill": {
     "duration": 0.009052,
     "end_time": "2020-12-15T03:31:01.216324",
     "exception": false,
     "start_time": "2020-12-15T03:31:01.207272",
     "status": "completed"
    },
    "tags": []
   },
   "source": [
    "Read in the Avocado Prices csv file as a DataFrame called df"
   ]
  },
  {
   "cell_type": "code",
   "execution_count": 3,
   "metadata": {
    "execution": {
     "iopub.execute_input": "2020-12-15T03:31:01.237297Z",
     "iopub.status.busy": "2020-12-15T03:31:01.236835Z",
     "iopub.status.idle": "2020-12-15T03:31:01.239873Z",
     "shell.execute_reply": "2020-12-15T03:31:01.239471Z"
    },
    "jupyter": {
     "source_hidden": true
    },
    "papermill": {
     "duration": 0.01486,
     "end_time": "2020-12-15T03:31:01.239978",
     "exception": false,
     "start_time": "2020-12-15T03:31:01.225118",
     "status": "completed"
    },
    "tags": [
     "parameters"
    ]
   },
   "outputs": [],
   "source": [
    "# Parameterized\n",
    "\n",
    "filepath='avocado.csv'\n",
    "ml_id='auto_100'\n",
    "ml_date=date.today()\n",
    "n_estimators = 100\n",
    "max_features = 'auto'"
   ]
  },
  {
   "cell_type": "code",
   "execution_count": 4,
   "metadata": {
    "execution": {
     "iopub.execute_input": "2020-12-15T03:31:01.260805Z",
     "iopub.status.busy": "2020-12-15T03:31:01.260338Z",
     "iopub.status.idle": "2020-12-15T03:31:01.263533Z",
     "shell.execute_reply": "2020-12-15T03:31:01.262963Z"
    },
    "jupyter": {
     "source_hidden": true
    },
    "papermill": {
     "duration": 0.015016,
     "end_time": "2020-12-15T03:31:01.263623",
     "exception": false,
     "start_time": "2020-12-15T03:31:01.248607",
     "status": "completed"
    },
    "tags": [
     "injected-parameters"
    ]
   },
   "outputs": [],
   "source": [
    "# Parameters\n",
    "filepath = \"/tmp/avocado.csv\"\n",
    "n_estimators = 150\n",
    "max_features = \"auto\"\n",
    "ml_id = \"auto_150\"\n"
   ]
  },
  {
   "cell_type": "code",
   "execution_count": 5,
   "metadata": {
    "_uuid": "55d0e719eb8b91d763c1eacaf0f51ee0586486fc",
    "execution": {
     "iopub.execute_input": "2020-12-15T03:31:01.283093Z",
     "iopub.status.busy": "2020-12-15T03:31:01.282636Z",
     "iopub.status.idle": "2020-12-15T03:31:01.307714Z",
     "shell.execute_reply": "2020-12-15T03:31:01.307382Z"
    },
    "jupyter": {
     "source_hidden": true
    },
    "papermill": {
     "duration": 0.036235,
     "end_time": "2020-12-15T03:31:01.307810",
     "exception": false,
     "start_time": "2020-12-15T03:31:01.271575",
     "status": "completed"
    },
    "tags": []
   },
   "outputs": [],
   "source": [
    "df= pd.read_csv(filepath)"
   ]
  },
  {
   "cell_type": "markdown",
   "metadata": {
    "_uuid": "434e0457f550e2200424e5ec26162e1aa5904005",
    "papermill": {
     "duration": 0.008095,
     "end_time": "2020-12-15T03:31:01.324239",
     "exception": false,
     "start_time": "2020-12-15T03:31:01.316144",
     "status": "completed"
    },
    "tags": []
   },
   "source": [
    "The Feature \"Unnamed:0\" is just a representation of the indexes, so it's useless to keep it, lets remove it !"
   ]
  },
  {
   "cell_type": "code",
   "execution_count": 6,
   "metadata": {
    "_uuid": "9875398e37728dc3141fed4228be337a4735beb6",
    "execution": {
     "iopub.execute_input": "2020-12-15T03:31:01.345297Z",
     "iopub.status.busy": "2020-12-15T03:31:01.344030Z",
     "iopub.status.idle": "2020-12-15T03:31:01.348103Z",
     "shell.execute_reply": "2020-12-15T03:31:01.347680Z"
    },
    "jupyter": {
     "source_hidden": true
    },
    "papermill": {
     "duration": 0.015907,
     "end_time": "2020-12-15T03:31:01.348193",
     "exception": false,
     "start_time": "2020-12-15T03:31:01.332286",
     "status": "completed"
    },
    "tags": []
   },
   "outputs": [],
   "source": [
    "df.drop('Unnamed: 0',axis=1,inplace=True)"
   ]
  },
  {
   "cell_type": "markdown",
   "metadata": {
    "_uuid": "12e94ad381e4cb8d2c8a9bbe08ce07ab5d49c040",
    "papermill": {
     "duration": 0.008231,
     "end_time": "2020-12-15T03:31:01.364713",
     "exception": false,
     "start_time": "2020-12-15T03:31:01.356482",
     "status": "completed"
    },
    "tags": []
   },
   "source": [
    "well as a first observation we can see that we are lucky, we dont have any missing values (18249 complete data) and 13 columns.\n",
    "Now let's do some Feature Engineering on the Date Feature so we can be able to use the day and the month columns in building our machine learning model later. ( I didn't mention the year because its already there in data frame)"
   ]
  },
  {
   "cell_type": "code",
   "execution_count": 7,
   "metadata": {
    "_uuid": "f031639ce794656e877484d1c9c356df7028177f",
    "execution": {
     "iopub.execute_input": "2020-12-15T03:31:01.385863Z",
     "iopub.status.busy": "2020-12-15T03:31:01.385496Z",
     "iopub.status.idle": "2020-12-15T03:31:01.496728Z",
     "shell.execute_reply": "2020-12-15T03:31:01.496400Z"
    },
    "jupyter": {
     "source_hidden": true
    },
    "papermill": {
     "duration": 0.123743,
     "end_time": "2020-12-15T03:31:01.496824",
     "exception": false,
     "start_time": "2020-12-15T03:31:01.373081",
     "status": "completed"
    },
    "tags": []
   },
   "outputs": [],
   "source": [
    "df['Date']=pd.to_datetime(df['Date'])\n",
    "df['Month']=df['Date'].apply(lambda x:x.month)\n",
    "df['Day']=df['Date'].apply(lambda x:x.day)"
   ]
  },
  {
   "cell_type": "markdown",
   "metadata": {
    "_uuid": "ebdcac9924ce3e366fd3a75170682f7113385b7a",
    "papermill": {
     "duration": 0.008292,
     "end_time": "2020-12-15T03:31:01.513679",
     "exception": false,
     "start_time": "2020-12-15T03:31:01.505387",
     "status": "completed"
    },
    "tags": []
   },
   "source": [
    "as we can see we have 54 regions and 2 unique types, so it's going to be easy to to transform the type feature to dummies, but for the region its going to be a bit complexe so I decided to drop the entire column.\n",
    "I will drop the Date Feature as well because I already have 3 other columns for the Year, Month and Day."
   ]
  },
  {
   "cell_type": "code",
   "execution_count": 8,
   "metadata": {
    "_uuid": "a798682da34327b731ef262985fd50ba68e06460",
    "execution": {
     "iopub.execute_input": "2020-12-15T03:31:01.533777Z",
     "iopub.status.busy": "2020-12-15T03:31:01.533413Z",
     "iopub.status.idle": "2020-12-15T03:31:01.543411Z",
     "shell.execute_reply": "2020-12-15T03:31:01.542989Z"
    },
    "jupyter": {
     "source_hidden": true
    },
    "papermill": {
     "duration": 0.021491,
     "end_time": "2020-12-15T03:31:01.543512",
     "exception": false,
     "start_time": "2020-12-15T03:31:01.522021",
     "status": "completed"
    },
    "tags": []
   },
   "outputs": [],
   "source": [
    "df_final=pd.get_dummies(df.drop(['region','Date'],axis=1),drop_first=True)"
   ]
  },
  {
   "cell_type": "markdown",
   "metadata": {
    "_uuid": "8b74a6b88cb3e9b3e1d1e987e061048f203c7364",
    "papermill": {
     "duration": 0.008324,
     "end_time": "2020-12-15T03:31:01.560434",
     "exception": false,
     "start_time": "2020-12-15T03:31:01.552110",
     "status": "completed"
    },
    "tags": []
   },
   "source": [
    "Now our data are ready! lets apply our model which is going to be the Linear Regression because our Target variable 'AveragePrice'is continuous.\n",
    "Let's now begin to train out regression model! We will need to first split up our data into an X array that contains the features to train on, and a y array with the target variable"
   ]
  },
  {
   "cell_type": "code",
   "execution_count": 9,
   "metadata": {
    "_uuid": "830591f99de9715241e688bf9ce265e979401ff5",
    "execution": {
     "iopub.execute_input": "2020-12-15T03:31:01.581846Z",
     "iopub.status.busy": "2020-12-15T03:31:01.581475Z",
     "iopub.status.idle": "2020-12-15T03:31:01.590591Z",
     "shell.execute_reply": "2020-12-15T03:31:01.590258Z"
    },
    "jupyter": {
     "source_hidden": true
    },
    "papermill": {
     "duration": 0.021691,
     "end_time": "2020-12-15T03:31:01.590688",
     "exception": false,
     "start_time": "2020-12-15T03:31:01.568997",
     "status": "completed"
    },
    "tags": []
   },
   "outputs": [],
   "source": [
    "X=df_final.iloc[:,1:14]\n",
    "y=df_final['AveragePrice']\n",
    "from sklearn.model_selection import train_test_split\n",
    "X_train,X_test,y_train,y_test=train_test_split(X,y,test_size=0.2,random_state=42)"
   ]
  },
  {
   "cell_type": "markdown",
   "metadata": {
    "_uuid": "ea730c77a31cde9de98263079a189accb8b5772b",
    "papermill": {
     "duration": 0.008366,
     "end_time": "2020-12-15T03:31:01.607549",
     "exception": false,
     "start_time": "2020-12-15T03:31:01.599183",
     "status": "completed"
    },
    "tags": []
   },
   "source": [
    "Creating and Training the Model"
   ]
  },
  {
   "cell_type": "code",
   "execution_count": 10,
   "metadata": {
    "_uuid": "eb37015e78974e5fd2ae7e13d065c8ab0a9c6948",
    "execution": {
     "iopub.execute_input": "2020-12-15T03:31:01.627847Z",
     "iopub.status.busy": "2020-12-15T03:31:01.627461Z",
     "iopub.status.idle": "2020-12-15T03:31:13.537931Z",
     "shell.execute_reply": "2020-12-15T03:31:13.537547Z"
    },
    "jupyter": {
     "source_hidden": true
    },
    "papermill": {
     "duration": 11.922137,
     "end_time": "2020-12-15T03:31:13.538039",
     "exception": false,
     "start_time": "2020-12-15T03:31:01.615902",
     "status": "completed"
    },
    "tags": []
   },
   "outputs": [],
   "source": [
    "from sklearn.ensemble import RandomForestRegressor\n",
    "rdr = RandomForestRegressor(\n",
    "    n_estimators=n_estimators,\n",
    "    max_features=max_features\n",
    ")\n",
    "rdr.fit(X_train,y_train)\n",
    "pred=rdr.predict(X_test)"
   ]
  },
  {
   "cell_type": "code",
   "execution_count": 11,
   "metadata": {
    "_uuid": "7ed5b8d4e8abb44a4b548c13ac9fb2d65227d1c5",
    "execution": {
     "iopub.execute_input": "2020-12-15T03:31:13.559554Z",
     "iopub.status.busy": "2020-12-15T03:31:13.559083Z",
     "iopub.status.idle": "2020-12-15T03:31:13.561948Z",
     "shell.execute_reply": "2020-12-15T03:31:13.561596Z"
    },
    "jupyter": {
     "source_hidden": true
    },
    "papermill": {
     "duration": 0.014613,
     "end_time": "2020-12-15T03:31:13.562059",
     "exception": false,
     "start_time": "2020-12-15T03:31:13.547446",
     "status": "completed"
    },
    "tags": []
   },
   "outputs": [],
   "source": [
    "#%%capture cap --no-stderr\n",
    "#print(np.sqrt(mean_squared_error(y_test, pred)))"
   ]
  },
  {
   "cell_type": "code",
   "execution_count": 12,
   "metadata": {
    "execution": {
     "iopub.execute_input": "2020-12-15T03:31:13.582452Z",
     "iopub.status.busy": "2020-12-15T03:31:13.581968Z",
     "iopub.status.idle": "2020-12-15T03:31:13.584848Z",
     "shell.execute_reply": "2020-12-15T03:31:13.584523Z"
    },
    "jupyter": {
     "source_hidden": true
    },
    "papermill": {
     "duration": 0.014109,
     "end_time": "2020-12-15T03:31:13.584929",
     "exception": false,
     "start_time": "2020-12-15T03:31:13.570820",
     "status": "completed"
    },
    "tags": []
   },
   "outputs": [],
   "source": [
    "#with open(output_rmse, 'w') as f:\n",
    "#    f.write(cap.stdout)"
   ]
  },
  {
   "cell_type": "code",
   "execution_count": 13,
   "metadata": {
    "execution": {
     "iopub.execute_input": "2020-12-15T03:31:13.607528Z",
     "iopub.status.busy": "2020-12-15T03:31:13.606808Z",
     "iopub.status.idle": "2020-12-15T03:31:13.624488Z",
     "shell.execute_reply": "2020-12-15T03:31:13.624016Z"
    },
    "jupyter": {
     "source_hidden": true
    },
    "papermill": {
     "duration": 0.030569,
     "end_time": "2020-12-15T03:31:13.624592",
     "exception": false,
     "start_time": "2020-12-15T03:31:13.594023",
     "status": "completed"
    },
    "tags": []
   },
   "outputs": [
    {
     "data": {
      "text/plain": [
       "<sqlalchemy.engine.result.ResultProxy at 0x7f76a6e1f5d0>"
      ]
     },
     "execution_count": 13,
     "metadata": {},
     "output_type": "execute_result"
    }
   ],
   "source": [
    "cnx.execute(\"\"\"\n",
    "    INSERT INTO ml.accuracies (ml_id, ml_date, accuracy) VALUES ('{0}', '{1}', {2}) \n",
    "    ON CONFLICT (ml_id, ml_date) \n",
    "    DO\n",
    "        UPDATE SET accuracy = {2};\n",
    "    \"\"\".format(ml_id, ml_date, np.sqrt(mean_squared_error(y_test, pred))))"
   ]
  }
 ],
 "metadata": {
  "kernelspec": {
   "display_name": "Python 3",
   "language": "python",
   "name": "python3"
  },
  "language_info": {
   "codemirror_mode": {
    "name": "ipython",
    "version": 3
   },
   "file_extension": ".py",
   "mimetype": "text/x-python",
   "name": "python",
   "nbconvert_exporter": "python",
   "pygments_lexer": "ipython3",
   "version": "3.7.9"
  },
  "papermill": {
   "duration": 14.558592,
   "end_time": "2020-12-15T03:31:14.050309",
   "environment_variables": {},
   "exception": null,
   "input_path": "/usr/local/airflow/include/notebooks/avocado_prediction.ipynb",
   "output_path": "/tmp/out-model-avocado-prediction-auto_150.ipynb",
   "parameters": {
    "filepath": "/tmp/avocado.csv",
    "max_features": "auto",
    "ml_id": "auto_150",
    "n_estimators": 150
   },
   "start_time": "2020-12-15T03:30:59.491717",
   "version": "2.1.2"
  }
 },
 "nbformat": 4,
 "nbformat_minor": 4
}