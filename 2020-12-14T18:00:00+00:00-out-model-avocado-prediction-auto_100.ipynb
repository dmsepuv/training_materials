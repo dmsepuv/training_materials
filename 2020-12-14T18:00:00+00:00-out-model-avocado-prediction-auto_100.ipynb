{
 "cells": [
  {
   "cell_type": "code",
   "execution_count": 1,
   "metadata": {
    "_cell_guid": "79c7e3d0-c299-4dcb-8224-4455121ee9b0",
    "_uuid": "d629ff2d2480ee46fbb7e2d37f6b5fab8052498a",
    "execution": {
     "iopub.execute_input": "2020-12-14T18:20:42.917630Z",
     "iopub.status.busy": "2020-12-14T18:20:42.917153Z",
     "iopub.status.idle": "2020-12-14T18:20:43.608238Z",
     "shell.execute_reply": "2020-12-14T18:20:43.607462Z"
    },
    "jupyter": {
     "source_hidden": true
    },
    "papermill": {
     "duration": 0.704778,
     "end_time": "2020-12-14T18:20:43.608416",
     "exception": false,
     "start_time": "2020-12-14T18:20:42.903638",
     "status": "completed"
    },
    "tags": []
   },
   "outputs": [],
   "source": [
    "import pandas as pd\n",
    "import numpy as np\n",
    "from sqlalchemy import create_engine\n",
    "from datetime import date\n",
    "from sklearn.metrics import mean_squared_error"
   ]
  },
  {
   "cell_type": "code",
   "execution_count": 2,
   "metadata": {
    "execution": {
     "iopub.execute_input": "2020-12-14T18:20:43.631885Z",
     "iopub.status.busy": "2020-12-14T18:20:43.631428Z",
     "iopub.status.idle": "2020-12-14T18:20:43.687380Z",
     "shell.execute_reply": "2020-12-14T18:20:43.686743Z"
    },
    "jupyter": {
     "source_hidden": true
    },
    "papermill": {
     "duration": 0.070028,
     "end_time": "2020-12-14T18:20:43.687513",
     "exception": false,
     "start_time": "2020-12-14T18:20:43.617485",
     "status": "completed"
    },
    "tags": []
   },
   "outputs": [],
   "source": [
    "# THIS IS PURELY FOR TEST PURPOSE NEVER DO THAT IN PRODUCTION\n",
    "POSTGRES_ADDRESS='postgres'\n",
    "POSTGRES_PORT='5432'\n",
    "POSTGRES_USERNAME='postgres'\n",
    "POSTGRES_PASSWORD='postgres'\n",
    "\n",
    "postgres_conn = 'postgresql://{0}:{1}@{2}:{3}/'.format(POSTGRES_USERNAME, POSTGRES_PASSWORD, POSTGRES_ADDRESS, POSTGRES_PORT)\n",
    "\n",
    "# Create the connection\n",
    "cnx = create_engine(postgres_conn)\n"
   ]
  },
  {
   "cell_type": "markdown",
   "metadata": {
    "_uuid": "1998755ef10683262b29765345cff1c1c7d10b15",
    "papermill": {
     "duration": 0.009262,
     "end_time": "2020-12-14T18:20:43.707420",
     "exception": false,
     "start_time": "2020-12-14T18:20:43.698158",
     "status": "completed"
    },
    "tags": []
   },
   "source": [
    "Read in the Avocado Prices csv file as a DataFrame called df"
   ]
  },
  {
   "cell_type": "code",
   "execution_count": 3,
   "metadata": {
    "execution": {
     "iopub.execute_input": "2020-12-14T18:20:43.729166Z",
     "iopub.status.busy": "2020-12-14T18:20:43.728700Z",
     "iopub.status.idle": "2020-12-14T18:20:43.731713Z",
     "shell.execute_reply": "2020-12-14T18:20:43.732060Z"
    },
    "jupyter": {
     "source_hidden": true
    },
    "papermill": {
     "duration": 0.015831,
     "end_time": "2020-12-14T18:20:43.732237",
     "exception": false,
     "start_time": "2020-12-14T18:20:43.716406",
     "status": "completed"
    },
    "tags": [
     "parameters"
    ]
   },
   "outputs": [],
   "source": [
    "# Parameterized\n",
    "\n",
    "filepath='avocado.csv'\n",
    "ml_id='auto_100'\n",
    "ml_date=date.today()\n",
    "n_estimators = 100\n",
    "max_features = 'auto'"
   ]
  },
  {
   "cell_type": "code",
   "execution_count": 4,
   "metadata": {
    "execution": {
     "iopub.execute_input": "2020-12-14T18:20:43.753764Z",
     "iopub.status.busy": "2020-12-14T18:20:43.753303Z",
     "iopub.status.idle": "2020-12-14T18:20:43.755853Z",
     "shell.execute_reply": "2020-12-14T18:20:43.755498Z"
    },
    "jupyter": {
     "source_hidden": true
    },
    "papermill": {
     "duration": 0.014556,
     "end_time": "2020-12-14T18:20:43.755954",
     "exception": false,
     "start_time": "2020-12-14T18:20:43.741398",
     "status": "completed"
    },
    "tags": [
     "injected-parameters"
    ]
   },
   "outputs": [],
   "source": [
    "# Parameters\n",
    "filepath = \"/tmp/avocado.csv\"\n",
    "n_estimators = 100\n",
    "max_features = \"auto\"\n",
    "ml_id = \"auto_100\"\n"
   ]
  },
  {
   "cell_type": "code",
   "execution_count": 5,
   "metadata": {
    "_uuid": "55d0e719eb8b91d763c1eacaf0f51ee0586486fc",
    "execution": {
     "iopub.execute_input": "2020-12-14T18:20:43.776929Z",
     "iopub.status.busy": "2020-12-14T18:20:43.776494Z",
     "iopub.status.idle": "2020-12-14T18:20:43.803803Z",
     "shell.execute_reply": "2020-12-14T18:20:43.803283Z"
    },
    "jupyter": {
     "source_hidden": true
    },
    "papermill": {
     "duration": 0.03921,
     "end_time": "2020-12-14T18:20:43.803946",
     "exception": false,
     "start_time": "2020-12-14T18:20:43.764736",
     "status": "completed"
    },
    "tags": []
   },
   "outputs": [],
   "source": [
    "df= pd.read_csv(filepath)"
   ]
  },
  {
   "cell_type": "markdown",
   "metadata": {
    "_uuid": "434e0457f550e2200424e5ec26162e1aa5904005",
    "papermill": {
     "duration": 0.008579,
     "end_time": "2020-12-14T18:20:43.821674",
     "exception": false,
     "start_time": "2020-12-14T18:20:43.813095",
     "status": "completed"
    },
    "tags": []
   },
   "source": [
    "The Feature \"Unnamed:0\" is just a representation of the indexes, so it's useless to keep it, lets remove it !"
   ]
  },
  {
   "cell_type": "code",
   "execution_count": 6,
   "metadata": {
    "_uuid": "9875398e37728dc3141fed4228be337a4735beb6",
    "execution": {
     "iopub.execute_input": "2020-12-14T18:20:43.844496Z",
     "iopub.status.busy": "2020-12-14T18:20:43.843319Z",
     "iopub.status.idle": "2020-12-14T18:20:43.847252Z",
     "shell.execute_reply": "2020-12-14T18:20:43.846773Z"
    },
    "jupyter": {
     "source_hidden": true
    },
    "papermill": {
     "duration": 0.017251,
     "end_time": "2020-12-14T18:20:43.847345",
     "exception": false,
     "start_time": "2020-12-14T18:20:43.830094",
     "status": "completed"
    },
    "tags": []
   },
   "outputs": [],
   "source": [
    "df.drop('Unnamed: 0',axis=1,inplace=True)"
   ]
  },
  {
   "cell_type": "markdown",
   "metadata": {
    "_uuid": "12e94ad381e4cb8d2c8a9bbe08ce07ab5d49c040",
    "papermill": {
     "duration": 0.00841,
     "end_time": "2020-12-14T18:20:43.864229",
     "exception": false,
     "start_time": "2020-12-14T18:20:43.855819",
     "status": "completed"
    },
    "tags": []
   },
   "source": [
    "well as a first observation we can see that we are lucky, we dont have any missing values (18249 complete data) and 13 columns.\n",
    "Now let's do some Feature Engineering on the Date Feature so we can be able to use the day and the month columns in building our machine learning model later. ( I didn't mention the year because its already there in data frame)"
   ]
  },
  {
   "cell_type": "code",
   "execution_count": 7,
   "metadata": {
    "_uuid": "f031639ce794656e877484d1c9c356df7028177f",
    "execution": {
     "iopub.execute_input": "2020-12-14T18:20:43.886992Z",
     "iopub.status.busy": "2020-12-14T18:20:43.886489Z",
     "iopub.status.idle": "2020-12-14T18:20:44.014828Z",
     "shell.execute_reply": "2020-12-14T18:20:44.014447Z"
    },
    "jupyter": {
     "source_hidden": true
    },
    "papermill": {
     "duration": 0.14172,
     "end_time": "2020-12-14T18:20:44.014939",
     "exception": false,
     "start_time": "2020-12-14T18:20:43.873219",
     "status": "completed"
    },
    "tags": []
   },
   "outputs": [],
   "source": [
    "df['Date']=pd.to_datetime(df['Date'])\n",
    "df['Month']=df['Date'].apply(lambda x:x.month)\n",
    "df['Day']=df['Date'].apply(lambda x:x.day)"
   ]
  },
  {
   "cell_type": "markdown",
   "metadata": {
    "_uuid": "ebdcac9924ce3e366fd3a75170682f7113385b7a",
    "papermill": {
     "duration": 0.009212,
     "end_time": "2020-12-14T18:20:44.033754",
     "exception": false,
     "start_time": "2020-12-14T18:20:44.024542",
     "status": "completed"
    },
    "tags": []
   },
   "source": [
    "as we can see we have 54 regions and 2 unique types, so it's going to be easy to to transform the type feature to dummies, but for the region its going to be a bit complexe so I decided to drop the entire column.\n",
    "I will drop the Date Feature as well because I already have 3 other columns for the Year, Month and Day."
   ]
  },
  {
   "cell_type": "code",
   "execution_count": 8,
   "metadata": {
    "_uuid": "a798682da34327b731ef262985fd50ba68e06460",
    "execution": {
     "iopub.execute_input": "2020-12-14T18:20:44.056328Z",
     "iopub.status.busy": "2020-12-14T18:20:44.055812Z",
     "iopub.status.idle": "2020-12-14T18:20:44.065990Z",
     "shell.execute_reply": "2020-12-14T18:20:44.065517Z"
    },
    "jupyter": {
     "source_hidden": true
    },
    "papermill": {
     "duration": 0.023087,
     "end_time": "2020-12-14T18:20:44.066110",
     "exception": false,
     "start_time": "2020-12-14T18:20:44.043023",
     "status": "completed"
    },
    "tags": []
   },
   "outputs": [],
   "source": [
    "df_final=pd.get_dummies(df.drop(['region','Date'],axis=1),drop_first=True)"
   ]
  },
  {
   "cell_type": "markdown",
   "metadata": {
    "_uuid": "8b74a6b88cb3e9b3e1d1e987e061048f203c7364",
    "papermill": {
     "duration": 0.010078,
     "end_time": "2020-12-14T18:20:44.085459",
     "exception": false,
     "start_time": "2020-12-14T18:20:44.075381",
     "status": "completed"
    },
    "tags": []
   },
   "source": [
    "Now our data are ready! lets apply our model which is going to be the Linear Regression because our Target variable 'AveragePrice'is continuous.\n",
    "Let's now begin to train out regression model! We will need to first split up our data into an X array that contains the features to train on, and a y array with the target variable"
   ]
  },
  {
   "cell_type": "code",
   "execution_count": 9,
   "metadata": {
    "_uuid": "830591f99de9715241e688bf9ce265e979401ff5",
    "execution": {
     "iopub.execute_input": "2020-12-14T18:20:44.108810Z",
     "iopub.status.busy": "2020-12-14T18:20:44.108349Z",
     "iopub.status.idle": "2020-12-14T18:20:44.119093Z",
     "shell.execute_reply": "2020-12-14T18:20:44.118695Z"
    },
    "jupyter": {
     "source_hidden": true
    },
    "papermill": {
     "duration": 0.024228,
     "end_time": "2020-12-14T18:20:44.119199",
     "exception": false,
     "start_time": "2020-12-14T18:20:44.094971",
     "status": "completed"
    },
    "tags": []
   },
   "outputs": [],
   "source": [
    "X=df_final.iloc[:,1:14]\n",
    "y=df_final['AveragePrice']\n",
    "from sklearn.model_selection import train_test_split\n",
    "X_train,X_test,y_train,y_test=train_test_split(X,y,test_size=0.2,random_state=42)"
   ]
  },
  {
   "cell_type": "markdown",
   "metadata": {
    "_uuid": "ea730c77a31cde9de98263079a189accb8b5772b",
    "papermill": {
     "duration": 0.011218,
     "end_time": "2020-12-14T18:20:44.139853",
     "exception": false,
     "start_time": "2020-12-14T18:20:44.128635",
     "status": "completed"
    },
    "tags": []
   },
   "source": [
    "Creating and Training the Model"
   ]
  },
  {
   "cell_type": "code",
   "execution_count": 10,
   "metadata": {
    "_uuid": "eb37015e78974e5fd2ae7e13d065c8ab0a9c6948",
    "execution": {
     "iopub.execute_input": "2020-12-14T18:20:44.164478Z",
     "iopub.status.busy": "2020-12-14T18:20:44.163968Z",
     "iopub.status.idle": "2020-12-14T18:20:52.929038Z",
     "shell.execute_reply": "2020-12-14T18:20:52.928652Z"
    },
    "jupyter": {
     "source_hidden": true
    },
    "papermill": {
     "duration": 8.778625,
     "end_time": "2020-12-14T18:20:52.929150",
     "exception": false,
     "start_time": "2020-12-14T18:20:44.150525",
     "status": "completed"
    },
    "tags": []
   },
   "outputs": [],
   "source": [
    "from sklearn.ensemble import RandomForestRegressor\n",
    "rdr = RandomForestRegressor(\n",
    "    n_estimators=n_estimators,\n",
    "    max_features=max_features\n",
    ")\n",
    "rdr.fit(X_train,y_train)\n",
    "pred=rdr.predict(X_test)"
   ]
  },
  {
   "cell_type": "code",
   "execution_count": 11,
   "metadata": {
    "_uuid": "7ed5b8d4e8abb44a4b548c13ac9fb2d65227d1c5",
    "execution": {
     "iopub.execute_input": "2020-12-14T18:20:52.952030Z",
     "iopub.status.busy": "2020-12-14T18:20:52.951592Z",
     "iopub.status.idle": "2020-12-14T18:20:52.954446Z",
     "shell.execute_reply": "2020-12-14T18:20:52.953998Z"
    },
    "jupyter": {
     "source_hidden": true
    },
    "papermill": {
     "duration": 0.01545,
     "end_time": "2020-12-14T18:20:52.954555",
     "exception": false,
     "start_time": "2020-12-14T18:20:52.939105",
     "status": "completed"
    },
    "tags": []
   },
   "outputs": [],
   "source": [
    "#%%capture cap --no-stderr\n",
    "#print(np.sqrt(mean_squared_error(y_test, pred)))"
   ]
  },
  {
   "cell_type": "code",
   "execution_count": 12,
   "metadata": {
    "execution": {
     "iopub.execute_input": "2020-12-14T18:20:52.977780Z",
     "iopub.status.busy": "2020-12-14T18:20:52.977321Z",
     "iopub.status.idle": "2020-12-14T18:20:52.980006Z",
     "shell.execute_reply": "2020-12-14T18:20:52.980464Z"
    },
    "jupyter": {
     "source_hidden": true
    },
    "papermill": {
     "duration": 0.016695,
     "end_time": "2020-12-14T18:20:52.980583",
     "exception": false,
     "start_time": "2020-12-14T18:20:52.963888",
     "status": "completed"
    },
    "tags": []
   },
   "outputs": [],
   "source": [
    "#with open(output_rmse, 'w') as f:\n",
    "#    f.write(cap.stdout)"
   ]
  },
  {
   "cell_type": "code",
   "execution_count": 13,
   "metadata": {
    "execution": {
     "iopub.execute_input": "2020-12-14T18:20:53.006768Z",
     "iopub.status.busy": "2020-12-14T18:20:53.006107Z",
     "iopub.status.idle": "2020-12-14T18:20:53.024517Z",
     "shell.execute_reply": "2020-12-14T18:20:53.023999Z"
    },
    "jupyter": {
     "source_hidden": true
    },
    "papermill": {
     "duration": 0.034054,
     "end_time": "2020-12-14T18:20:53.024629",
     "exception": false,
     "start_time": "2020-12-14T18:20:52.990575",
     "status": "completed"
    },
    "tags": []
   },
   "outputs": [
    {
     "data": {
      "text/plain": [
       "<sqlalchemy.engine.result.ResultProxy at 0x7f0a4c7acb10>"
      ]
     },
     "execution_count": 13,
     "metadata": {},
     "output_type": "execute_result"
    }
   ],
   "source": [
    "cnx.execute(\"\"\"\n",
    "    INSERT INTO ml.accuracies (ml_id, ml_date, accuracy) VALUES ('{0}', '{1}', {2}) \n",
    "    ON CONFLICT (ml_id, ml_date) \n",
    "    DO\n",
    "        UPDATE SET accuracy = {2};\n",
    "    \"\"\".format(ml_id, ml_date, np.sqrt(mean_squared_error(y_test, pred))))"
   ]
  }
 ],
 "metadata": {
  "kernelspec": {
   "display_name": "Python 3",
   "language": "python",
   "name": "python3"
  },
  "language_info": {
   "codemirror_mode": {
    "name": "ipython",
    "version": 3
   },
   "file_extension": ".py",
   "mimetype": "text/x-python",
   "name": "python",
   "nbconvert_exporter": "python",
   "pygments_lexer": "ipython3",
   "version": "3.7.9"
  },
  "papermill": {
   "duration": 11.62414,
   "end_time": "2020-12-14T18:20:53.444313",
   "environment_variables": {},
   "exception": null,
   "input_path": "/usr/local/airflow/include/notebooks/avocado_prediction.ipynb",
   "output_path": "/tmp/out-model-avocado-prediction-auto_100.ipynb",
   "parameters": {
    "filepath": "/tmp/avocado.csv",
    "max_features": "auto",
    "ml_id": "auto_100",
    "n_estimators": 100
   },
   "start_time": "2020-12-14T18:20:41.820173",
   "version": "2.1.2"
  }
 },
 "nbformat": 4,
 "nbformat_minor": 4
}