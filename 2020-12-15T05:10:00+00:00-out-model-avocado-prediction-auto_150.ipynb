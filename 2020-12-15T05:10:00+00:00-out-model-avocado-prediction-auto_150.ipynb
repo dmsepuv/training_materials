{
 "cells": [
  {
   "cell_type": "code",
   "execution_count": 1,
   "metadata": {
    "_cell_guid": "79c7e3d0-c299-4dcb-8224-4455121ee9b0",
    "_uuid": "d629ff2d2480ee46fbb7e2d37f6b5fab8052498a",
    "execution": {
     "iopub.execute_input": "2020-12-15T05:21:00.954582Z",
     "iopub.status.busy": "2020-12-15T05:21:00.953950Z",
     "iopub.status.idle": "2020-12-15T05:21:01.551780Z",
     "shell.execute_reply": "2020-12-15T05:21:01.551284Z"
    },
    "jupyter": {
     "source_hidden": true
    },
    "papermill": {
     "duration": 0.615487,
     "end_time": "2020-12-15T05:21:01.551928",
     "exception": false,
     "start_time": "2020-12-15T05:21:00.936441",
     "status": "completed"
    },
    "tags": []
   },
   "outputs": [],
   "source": [
    "import pandas as pd\n",
    "import numpy as np\n",
    "from sqlalchemy import create_engine\n",
    "from datetime import date\n",
    "from sklearn.metrics import mean_squared_error"
   ]
  },
  {
   "cell_type": "code",
   "execution_count": 2,
   "metadata": {
    "execution": {
     "iopub.execute_input": "2020-12-15T05:21:01.572078Z",
     "iopub.status.busy": "2020-12-15T05:21:01.571705Z",
     "iopub.status.idle": "2020-12-15T05:21:01.624122Z",
     "shell.execute_reply": "2020-12-15T05:21:01.623648Z"
    },
    "jupyter": {
     "source_hidden": true
    },
    "papermill": {
     "duration": 0.0644,
     "end_time": "2020-12-15T05:21:01.624254",
     "exception": false,
     "start_time": "2020-12-15T05:21:01.559854",
     "status": "completed"
    },
    "tags": []
   },
   "outputs": [],
   "source": [
    "# THIS IS PURELY FOR TEST PURPOSE NEVER DO THAT IN PRODUCTION\n",
    "POSTGRES_ADDRESS='postgres'\n",
    "POSTGRES_PORT='5432'\n",
    "POSTGRES_USERNAME='postgres'\n",
    "POSTGRES_PASSWORD='postgres'\n",
    "\n",
    "postgres_conn = 'postgresql://{0}:{1}@{2}:{3}/'.format(POSTGRES_USERNAME, POSTGRES_PASSWORD, POSTGRES_ADDRESS, POSTGRES_PORT)\n",
    "\n",
    "# Create the connection\n",
    "cnx = create_engine(postgres_conn)\n"
   ]
  },
  {
   "cell_type": "markdown",
   "metadata": {
    "_uuid": "1998755ef10683262b29765345cff1c1c7d10b15",
    "papermill": {
     "duration": 0.009096,
     "end_time": "2020-12-15T05:21:01.643782",
     "exception": false,
     "start_time": "2020-12-15T05:21:01.634686",
     "status": "completed"
    },
    "tags": []
   },
   "source": [
    "Read in the Avocado Prices csv file as a DataFrame called df"
   ]
  },
  {
   "cell_type": "code",
   "execution_count": 3,
   "metadata": {
    "execution": {
     "iopub.execute_input": "2020-12-15T05:21:01.664651Z",
     "iopub.status.busy": "2020-12-15T05:21:01.664165Z",
     "iopub.status.idle": "2020-12-15T05:21:01.667460Z",
     "shell.execute_reply": "2020-12-15T05:21:01.667029Z"
    },
    "jupyter": {
     "source_hidden": true
    },
    "papermill": {
     "duration": 0.015409,
     "end_time": "2020-12-15T05:21:01.667564",
     "exception": false,
     "start_time": "2020-12-15T05:21:01.652155",
     "status": "completed"
    },
    "tags": [
     "parameters"
    ]
   },
   "outputs": [],
   "source": [
    "# Parameterized\n",
    "\n",
    "filepath='avocado.csv'\n",
    "ml_id='auto_100'\n",
    "ml_date=date.today()\n",
    "n_estimators = 100\n",
    "max_features = 'auto'"
   ]
  },
  {
   "cell_type": "code",
   "execution_count": 4,
   "metadata": {
    "execution": {
     "iopub.execute_input": "2020-12-15T05:21:01.688934Z",
     "iopub.status.busy": "2020-12-15T05:21:01.688552Z",
     "iopub.status.idle": "2020-12-15T05:21:01.691069Z",
     "shell.execute_reply": "2020-12-15T05:21:01.690691Z"
    },
    "jupyter": {
     "source_hidden": true
    },
    "papermill": {
     "duration": 0.015108,
     "end_time": "2020-12-15T05:21:01.691152",
     "exception": false,
     "start_time": "2020-12-15T05:21:01.676044",
     "status": "completed"
    },
    "tags": [
     "injected-parameters"
    ]
   },
   "outputs": [],
   "source": [
    "# Parameters\n",
    "filepath = \"/tmp/avocado.csv\"\n",
    "n_estimators = 150\n",
    "max_features = \"auto\"\n",
    "ml_id = \"auto_150\"\n"
   ]
  },
  {
   "cell_type": "code",
   "execution_count": 5,
   "metadata": {
    "_uuid": "55d0e719eb8b91d763c1eacaf0f51ee0586486fc",
    "execution": {
     "iopub.execute_input": "2020-12-15T05:21:01.709617Z",
     "iopub.status.busy": "2020-12-15T05:21:01.709206Z",
     "iopub.status.idle": "2020-12-15T05:21:01.733964Z",
     "shell.execute_reply": "2020-12-15T05:21:01.733630Z"
    },
    "jupyter": {
     "source_hidden": true
    },
    "papermill": {
     "duration": 0.035134,
     "end_time": "2020-12-15T05:21:01.734061",
     "exception": false,
     "start_time": "2020-12-15T05:21:01.698927",
     "status": "completed"
    },
    "tags": []
   },
   "outputs": [],
   "source": [
    "df= pd.read_csv(filepath)"
   ]
  },
  {
   "cell_type": "markdown",
   "metadata": {
    "_uuid": "434e0457f550e2200424e5ec26162e1aa5904005",
    "papermill": {
     "duration": 0.008137,
     "end_time": "2020-12-15T05:21:01.750351",
     "exception": false,
     "start_time": "2020-12-15T05:21:01.742214",
     "status": "completed"
    },
    "tags": []
   },
   "source": [
    "The Feature \"Unnamed:0\" is just a representation of the indexes, so it's useless to keep it, lets remove it !"
   ]
  },
  {
   "cell_type": "code",
   "execution_count": 6,
   "metadata": {
    "_uuid": "9875398e37728dc3141fed4228be337a4735beb6",
    "execution": {
     "iopub.execute_input": "2020-12-15T05:21:01.770246Z",
     "iopub.status.busy": "2020-12-15T05:21:01.769866Z",
     "iopub.status.idle": "2020-12-15T05:21:01.774090Z",
     "shell.execute_reply": "2020-12-15T05:21:01.773681Z"
    },
    "jupyter": {
     "source_hidden": true
    },
    "papermill": {
     "duration": 0.015802,
     "end_time": "2020-12-15T05:21:01.774185",
     "exception": false,
     "start_time": "2020-12-15T05:21:01.758383",
     "status": "completed"
    },
    "tags": []
   },
   "outputs": [],
   "source": [
    "df.drop('Unnamed: 0',axis=1,inplace=True)"
   ]
  },
  {
   "cell_type": "markdown",
   "metadata": {
    "_uuid": "12e94ad381e4cb8d2c8a9bbe08ce07ab5d49c040",
    "papermill": {
     "duration": 0.008551,
     "end_time": "2020-12-15T05:21:01.791455",
     "exception": false,
     "start_time": "2020-12-15T05:21:01.782904",
     "status": "completed"
    },
    "tags": []
   },
   "source": [
    "well as a first observation we can see that we are lucky, we dont have any missing values (18249 complete data) and 13 columns.\n",
    "Now let's do some Feature Engineering on the Date Feature so we can be able to use the day and the month columns in building our machine learning model later. ( I didn't mention the year because its already there in data frame)"
   ]
  },
  {
   "cell_type": "code",
   "execution_count": 7,
   "metadata": {
    "_uuid": "f031639ce794656e877484d1c9c356df7028177f",
    "execution": {
     "iopub.execute_input": "2020-12-15T05:21:01.814564Z",
     "iopub.status.busy": "2020-12-15T05:21:01.813512Z",
     "iopub.status.idle": "2020-12-15T05:21:01.923641Z",
     "shell.execute_reply": "2020-12-15T05:21:01.923195Z"
    },
    "jupyter": {
     "source_hidden": true
    },
    "papermill": {
     "duration": 0.124043,
     "end_time": "2020-12-15T05:21:01.923740",
     "exception": false,
     "start_time": "2020-12-15T05:21:01.799697",
     "status": "completed"
    },
    "tags": []
   },
   "outputs": [],
   "source": [
    "df['Date']=pd.to_datetime(df['Date'])\n",
    "df['Month']=df['Date'].apply(lambda x:x.month)\n",
    "df['Day']=df['Date'].apply(lambda x:x.day)"
   ]
  },
  {
   "cell_type": "markdown",
   "metadata": {
    "_uuid": "ebdcac9924ce3e366fd3a75170682f7113385b7a",
    "papermill": {
     "duration": 0.008249,
     "end_time": "2020-12-15T05:21:01.940640",
     "exception": false,
     "start_time": "2020-12-15T05:21:01.932391",
     "status": "completed"
    },
    "tags": []
   },
   "source": [
    "as we can see we have 54 regions and 2 unique types, so it's going to be easy to to transform the type feature to dummies, but for the region its going to be a bit complexe so I decided to drop the entire column.\n",
    "I will drop the Date Feature as well because I already have 3 other columns for the Year, Month and Day."
   ]
  },
  {
   "cell_type": "code",
   "execution_count": 8,
   "metadata": {
    "_uuid": "a798682da34327b731ef262985fd50ba68e06460",
    "execution": {
     "iopub.execute_input": "2020-12-15T05:21:01.963693Z",
     "iopub.status.busy": "2020-12-15T05:21:01.961324Z",
     "iopub.status.idle": "2020-12-15T05:21:01.977860Z",
     "shell.execute_reply": "2020-12-15T05:21:01.977341Z"
    },
    "jupyter": {
     "source_hidden": true
    },
    "papermill": {
     "duration": 0.028216,
     "end_time": "2020-12-15T05:21:01.978023",
     "exception": false,
     "start_time": "2020-12-15T05:21:01.949807",
     "status": "completed"
    },
    "tags": []
   },
   "outputs": [],
   "source": [
    "df_final=pd.get_dummies(df.drop(['region','Date'],axis=1),drop_first=True)"
   ]
  },
  {
   "cell_type": "markdown",
   "metadata": {
    "_uuid": "8b74a6b88cb3e9b3e1d1e987e061048f203c7364",
    "papermill": {
     "duration": 0.009788,
     "end_time": "2020-12-15T05:21:01.999869",
     "exception": false,
     "start_time": "2020-12-15T05:21:01.990081",
     "status": "completed"
    },
    "tags": []
   },
   "source": [
    "Now our data are ready! lets apply our model which is going to be the Linear Regression because our Target variable 'AveragePrice'is continuous.\n",
    "Let's now begin to train out regression model! We will need to first split up our data into an X array that contains the features to train on, and a y array with the target variable"
   ]
  },
  {
   "cell_type": "code",
   "execution_count": 9,
   "metadata": {
    "_uuid": "830591f99de9715241e688bf9ce265e979401ff5",
    "execution": {
     "iopub.execute_input": "2020-12-15T05:21:02.023649Z",
     "iopub.status.busy": "2020-12-15T05:21:02.023139Z",
     "iopub.status.idle": "2020-12-15T05:21:02.033251Z",
     "shell.execute_reply": "2020-12-15T05:21:02.033642Z"
    },
    "jupyter": {
     "source_hidden": true
    },
    "papermill": {
     "duration": 0.024914,
     "end_time": "2020-12-15T05:21:02.033781",
     "exception": false,
     "start_time": "2020-12-15T05:21:02.008867",
     "status": "completed"
    },
    "tags": []
   },
   "outputs": [],
   "source": [
    "X=df_final.iloc[:,1:14]\n",
    "y=df_final['AveragePrice']\n",
    "from sklearn.model_selection import train_test_split\n",
    "X_train,X_test,y_train,y_test=train_test_split(X,y,test_size=0.2,random_state=42)"
   ]
  },
  {
   "cell_type": "markdown",
   "metadata": {
    "_uuid": "ea730c77a31cde9de98263079a189accb8b5772b",
    "papermill": {
     "duration": 0.008896,
     "end_time": "2020-12-15T05:21:02.051806",
     "exception": false,
     "start_time": "2020-12-15T05:21:02.042910",
     "status": "completed"
    },
    "tags": []
   },
   "source": [
    "Creating and Training the Model"
   ]
  },
  {
   "cell_type": "code",
   "execution_count": 10,
   "metadata": {
    "_uuid": "eb37015e78974e5fd2ae7e13d065c8ab0a9c6948",
    "execution": {
     "iopub.execute_input": "2020-12-15T05:21:02.073226Z",
     "iopub.status.busy": "2020-12-15T05:21:02.072823Z",
     "iopub.status.idle": "2020-12-15T05:21:13.951388Z",
     "shell.execute_reply": "2020-12-15T05:21:13.951732Z"
    },
    "jupyter": {
     "source_hidden": true
    },
    "papermill": {
     "duration": 11.891651,
     "end_time": "2020-12-15T05:21:13.951867",
     "exception": false,
     "start_time": "2020-12-15T05:21:02.060216",
     "status": "completed"
    },
    "tags": []
   },
   "outputs": [],
   "source": [
    "from sklearn.ensemble import RandomForestRegressor\n",
    "rdr = RandomForestRegressor(\n",
    "    n_estimators=n_estimators,\n",
    "    max_features=max_features\n",
    ")\n",
    "rdr.fit(X_train,y_train)\n",
    "pred=rdr.predict(X_test)"
   ]
  },
  {
   "cell_type": "code",
   "execution_count": 11,
   "metadata": {
    "_uuid": "7ed5b8d4e8abb44a4b548c13ac9fb2d65227d1c5",
    "execution": {
     "iopub.execute_input": "2020-12-15T05:21:13.973364Z",
     "iopub.status.busy": "2020-12-15T05:21:13.972888Z",
     "iopub.status.idle": "2020-12-15T05:21:13.976040Z",
     "shell.execute_reply": "2020-12-15T05:21:13.975662Z"
    },
    "jupyter": {
     "source_hidden": true
    },
    "papermill": {
     "duration": 0.015028,
     "end_time": "2020-12-15T05:21:13.976137",
     "exception": false,
     "start_time": "2020-12-15T05:21:13.961109",
     "status": "completed"
    },
    "tags": []
   },
   "outputs": [],
   "source": [
    "#%%capture cap --no-stderr\n",
    "#print(np.sqrt(mean_squared_error(y_test, pred)))"
   ]
  },
  {
   "cell_type": "code",
   "execution_count": 12,
   "metadata": {
    "execution": {
     "iopub.execute_input": "2020-12-15T05:21:13.996281Z",
     "iopub.status.busy": "2020-12-15T05:21:13.995787Z",
     "iopub.status.idle": "2020-12-15T05:21:13.998544Z",
     "shell.execute_reply": "2020-12-15T05:21:13.998215Z"
    },
    "jupyter": {
     "source_hidden": true
    },
    "papermill": {
     "duration": 0.013545,
     "end_time": "2020-12-15T05:21:13.998626",
     "exception": false,
     "start_time": "2020-12-15T05:21:13.985081",
     "status": "completed"
    },
    "tags": []
   },
   "outputs": [],
   "source": [
    "#with open(output_rmse, 'w') as f:\n",
    "#    f.write(cap.stdout)"
   ]
  },
  {
   "cell_type": "code",
   "execution_count": 13,
   "metadata": {
    "execution": {
     "iopub.execute_input": "2020-12-15T05:21:14.021568Z",
     "iopub.status.busy": "2020-12-15T05:21:14.020933Z",
     "iopub.status.idle": "2020-12-15T05:21:14.039051Z",
     "shell.execute_reply": "2020-12-15T05:21:14.038656Z"
    },
    "jupyter": {
     "source_hidden": true
    },
    "papermill": {
     "duration": 0.031379,
     "end_time": "2020-12-15T05:21:14.039147",
     "exception": false,
     "start_time": "2020-12-15T05:21:14.007768",
     "status": "completed"
    },
    "tags": []
   },
   "outputs": [
    {
     "data": {
      "text/plain": [
       "<sqlalchemy.engine.result.ResultProxy at 0x7fa5a308c950>"
      ]
     },
     "execution_count": 13,
     "metadata": {},
     "output_type": "execute_result"
    }
   ],
   "source": [
    "cnx.execute(\"\"\"\n",
    "    INSERT INTO ml.accuracies (ml_id, ml_date, accuracy) VALUES ('{0}', '{1}', {2}) \n",
    "    ON CONFLICT (ml_id, ml_date) \n",
    "    DO\n",
    "        UPDATE SET accuracy = {2};\n",
    "    \"\"\".format(ml_id, ml_date, np.sqrt(mean_squared_error(y_test, pred))))"
   ]
  }
 ],
 "metadata": {
  "kernelspec": {
   "display_name": "Python 3",
   "language": "python",
   "name": "python3"
  },
  "language_info": {
   "codemirror_mode": {
    "name": "ipython",
    "version": 3
   },
   "file_extension": ".py",
   "mimetype": "text/x-python",
   "name": "python",
   "nbconvert_exporter": "python",
   "pygments_lexer": "ipython3",
   "version": "3.7.9"
  },
  "papermill": {
   "duration": 14.555506,
   "end_time": "2020-12-15T05:21:14.462706",
   "environment_variables": {},
   "exception": null,
   "input_path": "/usr/local/airflow/include/notebooks/avocado_prediction.ipynb",
   "output_path": "/tmp/out-model-avocado-prediction-auto_150.ipynb",
   "parameters": {
    "filepath": "/tmp/avocado.csv",
    "max_features": "auto",
    "ml_id": "auto_150",
    "n_estimators": 150
   },
   "start_time": "2020-12-15T05:20:59.907200",
   "version": "2.1.2"
  }
 },
 "nbformat": 4,
 "nbformat_minor": 4
}